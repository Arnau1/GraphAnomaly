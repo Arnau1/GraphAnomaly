{
 "cells": [
  {
   "cell_type": "markdown",
   "metadata": {},
   "source": [
    "# Eploring data splits\n"
   ]
  },
  {
   "cell_type": "markdown",
   "metadata": {},
   "source": [
    "## Load different data splits"
   ]
  },
  {
   "cell_type": "code",
   "execution_count": 15,
   "metadata": {},
   "outputs": [],
   "source": [
    "# Set path\n",
    "path = 'C:/Users/User/Desktop/Assignatures/Synthesis project/GraphAnomaly/dades_arnau/'"
   ]
  },
  {
   "cell_type": "code",
   "execution_count": 16,
   "metadata": {},
   "outputs": [],
   "source": [
    "import pickle\n",
    "\n",
    "# Load datasets. Both train and test sets are on the same file, stored as a tuple\n",
    "with open(path + 'originals.pkl', 'rb') as f:\n",
    "    originals = pickle.load(f)\n",
    "with open(path + 'originalb.pkl', 'rb') as f:\n",
    "    originalb = pickle.load(f)\n",
    "with open(path + 'nodes.pkl', 'rb') as f:\n",
    "    originali = pickle.load(f)"
   ]
  },
  {
   "cell_type": "code",
   "execution_count": 17,
   "metadata": {},
   "outputs": [],
   "source": [
    "from sklearn.model_selection import train_test_split\n",
    "\n",
    "originali = originali.loc[originali['class'].isin([0, 1])] # Drop unknown\n",
    "y_traini = list(originali['class'])\n",
    "X_traini = originali.drop(columns=['class'])\n",
    "\n",
    "isolated = train_test_split(X_traini, y_traini, test_size=0.2, random_state=42)"
   ]
  },
  {
   "cell_type": "markdown",
   "metadata": {},
   "source": [
    "## Testing"
   ]
  },
  {
   "cell_type": "code",
   "execution_count": 18,
   "metadata": {},
   "outputs": [],
   "source": [
    "from sklearn.metrics import *\n",
    "\n",
    "def metrics(name, y_test, y_pred, df_results):    \n",
    "    # Except for the accuracy, the others compute the metric for the ilicit class    \n",
    "    accuracy = round(accuracy_score(y_test, y_pred) * 100, 4)    \n",
    "    precision = round(precision_score(y_test, y_pred, pos_label=0) * 100, 4)    \n",
    "    recall = round(recall_score(y_test, y_pred, pos_label=0) * 100, 4)    \n",
    "    f1 = round(f1_score(y_test, y_pred, pos_label=0) * 100,4)\n",
    "\n",
    "    df_results.loc[len(df_results)] = [name, accuracy, precision, recall, f1] \n",
    "    return df_results   \n",
    "    "
   ]
  },
  {
   "cell_type": "code",
   "execution_count": 19,
   "metadata": {},
   "outputs": [],
   "source": [
    "from Helper import separate_labels\n",
    "\n",
    "def test_split(name, split, model, df_results):\n",
    "    # Split labels\n",
    "    if not name=='Isolated':\n",
    "        X_train, y_train, X_test, y_test = separate_labels(split[0], split[1])\n",
    "    else:\n",
    "        X_train, X_test, y_train, y_test = isolated\n",
    "    # Feed data into model\n",
    "    model.fit(X_train, y_train)\n",
    "    y_pred = model.predict(X_test)    \n",
    "    df_results = metrics(name, y_test, y_pred, df_results)\n",
    "    return df_results"
   ]
  },
  {
   "cell_type": "code",
   "execution_count": 21,
   "metadata": {},
   "outputs": [
    {
     "data": {
      "text/html": [
       "<div>\n",
       "<style scoped>\n",
       "    .dataframe tbody tr th:only-of-type {\n",
       "        vertical-align: middle;\n",
       "    }\n",
       "\n",
       "    .dataframe tbody tr th {\n",
       "        vertical-align: top;\n",
       "    }\n",
       "\n",
       "    .dataframe thead th {\n",
       "        text-align: right;\n",
       "    }\n",
       "</style>\n",
       "<table border=\"1\" class=\"dataframe\">\n",
       "  <thead>\n",
       "    <tr style=\"text-align: right;\">\n",
       "      <th></th>\n",
       "      <th>Split</th>\n",
       "      <th>Accuracy</th>\n",
       "      <th>Precision</th>\n",
       "      <th>Recall</th>\n",
       "      <th>F1 score</th>\n",
       "    </tr>\n",
       "  </thead>\n",
       "  <tbody>\n",
       "    <tr>\n",
       "      <th>0</th>\n",
       "      <td>Sequential</td>\n",
       "      <td>97.9712</td>\n",
       "      <td>98.0456</td>\n",
       "      <td>66.8147</td>\n",
       "      <td>79.4719</td>\n",
       "    </tr>\n",
       "    <tr>\n",
       "      <th>1</th>\n",
       "      <td>Balanced</td>\n",
       "      <td>98.2366</td>\n",
       "      <td>99.3590</td>\n",
       "      <td>86.7684</td>\n",
       "      <td>92.6379</td>\n",
       "    </tr>\n",
       "    <tr>\n",
       "      <th>2</th>\n",
       "      <td>Isolated</td>\n",
       "      <td>98.8725</td>\n",
       "      <td>99.6250</td>\n",
       "      <td>88.6541</td>\n",
       "      <td>93.8199</td>\n",
       "    </tr>\n",
       "  </tbody>\n",
       "</table>\n",
       "</div>"
      ],
      "text/plain": [
       "        Split  Accuracy  Precision   Recall  F1 score\n",
       "0  Sequential   97.9712    98.0456  66.8147   79.4719\n",
       "1    Balanced   98.2366    99.3590  86.7684   92.6379\n",
       "2    Isolated   98.8725    99.6250  88.6541   93.8199"
      ]
     },
     "execution_count": 21,
     "metadata": {},
     "output_type": "execute_result"
    }
   ],
   "source": [
    "import pandas as pd\n",
    "from sklearn.ensemble import *\n",
    "\n",
    "df_results = pd.DataFrame(columns=[\"Split\", \"Accuracy\", \"Precision\", \"Recall\", \"F1 score\"])\n",
    "splits = [originals, originalb, isolated]\n",
    "names = ['Sequential', 'Balanced', 'Isolated']\n",
    "\n",
    "# We use random forest since it is the best performing ML method\n",
    "for name, split in zip(names, splits):\n",
    "    df_results = test_split(name, split, RandomForestClassifier(), df_results)\n",
    "\n",
    "df_results"
   ]
  }
 ],
 "metadata": {
  "kernelspec": {
   "display_name": "base",
   "language": "python",
   "name": "python3"
  },
  "language_info": {
   "codemirror_mode": {
    "name": "ipython",
    "version": 3
   },
   "file_extension": ".py",
   "mimetype": "text/x-python",
   "name": "python",
   "nbconvert_exporter": "python",
   "pygments_lexer": "ipython3",
   "version": "3.11.9"
  }
 },
 "nbformat": 4,
 "nbformat_minor": 2
}
