{
 "cells": [
  {
   "cell_type": "markdown",
   "id": "6d0195ef-52db-415d-8c27-1d73052baa49",
   "metadata": {
    "tags": []
   },
   "source": [
    "# Graph Anomaly Detection\n"
   ]
  },
  {
   "cell_type": "markdown",
   "id": "bb6611c5-9d2b-4804-be59-390630832b45",
   "metadata": {
    "jp-MarkdownHeadingCollapsed": true,
    "tags": []
   },
   "source": [
    "### Load data"
   ]
  },
  {
   "cell_type": "code",
   "execution_count": 2,
   "id": "62935a85-ffc1-477d-9997-c6d4c0e34c90",
   "metadata": {
    "tags": []
   },
   "outputs": [],
   "source": [
    "# Import packages\n",
    "import numpy as np\n",
    "import pandas as pd\n",
    "import matplotlib.pyplot as plt\n",
    "import seaborn as sns\n",
    "import networkx as nx\n",
    "import pickle as pkl"
   ]
  },
  {
   "cell_type": "code",
   "execution_count": 3,
   "id": "41f0c835-44bb-4cde-8ad1-a8c0eec58f74",
   "metadata": {
    "tags": []
   },
   "outputs": [],
   "source": [
    "# Read files\n",
    "path = \"dades_arnau/\"\n",
    "df = pd.read_csv(path + \"train_set.csv\")\n",
    "with open(path + \"TrainSet_Grpah.pkl\", 'rb') as f:    \n",
    "    G = pkl.load(f)\n"
   ]
  },
  {
   "cell_type": "markdown",
   "id": "51834107-67b8-4579-b8bb-5c10f894c1ad",
   "metadata": {
    "tags": []
   },
   "source": [
    "## Graph analysis"
   ]
  },
  {
   "cell_type": "markdown",
   "id": "f48d55df-abe3-4765-8c46-8eb8b2474443",
   "metadata": {
    "tags": []
   },
   "source": [
    "#### Working with timesteps"
   ]
  },
  {
   "cell_type": "markdown",
   "id": "d7951d07-86f9-456d-9424-6cc580e778c8",
   "metadata": {},
   "source": [
    "We will use the subgraph of the time step 29 to make our first analysis, since it is a time step with a good amount of both licit and ilicit transactions."
   ]
  },
  {
   "cell_type": "code",
   "execution_count": 9,
   "id": "7acb7a9e",
   "metadata": {},
   "outputs": [],
   "source": [
    "# Create a subgraph for the chosen time step\n",
    "desired_nodes = [node for node, data in G.nodes(data=True) if data.get('Time Step') == 29]\n",
    "G_29 = G.subgraph(desired_nodes)"
   ]
  },
  {
   "cell_type": "code",
   "execution_count": 10,
   "id": "fd998173",
   "metadata": {},
   "outputs": [
    {
     "name": "stdout",
     "output_type": "stream",
     "text": [
      "ilicit: 329\n",
      "licit: 845\n",
      "unknown: 3101\n"
     ]
    }
   ],
   "source": [
    "ilicit_nodes = [node for node, data in G_29.nodes(data=True) if data['class'] == 1]\n",
    "licit_nodes = [node for node, data in G_29.nodes(data=True) if data['class'] == 2]\n",
    "unknown_nodes = [node for node, data in G_29.nodes(data=True) if data['class'] == 3]\n",
    "print(\"ilicit:\",len(ilicit_nodes))\n",
    "print(\"licit:\",len(licit_nodes))\n",
    "print(\"unknown:\",len(unknown_nodes))"
   ]
  },
  {
   "cell_type": "code",
   "execution_count": null,
   "id": "beea0782",
   "metadata": {},
   "outputs": [],
   "source": []
  }
 ],
 "metadata": {
  "kernelspec": {
   "display_name": "Python 3 (ipykernel)",
   "language": "python",
   "name": "python3"
  },
  "language_info": {
   "codemirror_mode": {
    "name": "ipython",
    "version": 3
   },
   "file_extension": ".py",
   "mimetype": "text/x-python",
   "name": "python",
   "nbconvert_exporter": "python",
   "pygments_lexer": "ipython3",
   "version": "3.11.5"
  }
 },
 "nbformat": 4,
 "nbformat_minor": 5
}
