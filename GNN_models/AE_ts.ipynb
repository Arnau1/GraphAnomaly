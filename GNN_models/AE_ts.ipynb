{
 "cells": [
  {
   "cell_type": "code",
   "execution_count": 44,
   "metadata": {},
   "outputs": [],
   "source": [
    "# Import packages\n",
    "import numpy as np\n",
    "import pandas as pd\n",
    "import matplotlib.pyplot as plt\n",
    "import seaborn as sns\n",
    "import networkx as nx\n",
    "import pickle as pkl\n",
    "import sys\n",
    "\n",
    "from sklearn.decomposition import PCA\n",
    "from sklearn.preprocessing import StandardScaler\n",
    "\n",
    "from sklearn.model_selection import train_test_split\n",
    "from sklearn.preprocessing import StandardScaler\n",
    "from sklearn.linear_model import LogisticRegression\n",
    "from sklearn.metrics import *\n",
    "\n",
    "import torch.utils.data as data \n",
    "import torch\n",
    "from torch_geometric.data import Data\n",
    "from torch.nn import Linear\n",
    "from torch_geometric.nn import GCNConv\n",
    "from torch.utils.data import Dataset, DataLoader\n",
    "\n",
    "import os\n",
    "import torch\n",
    "import torch.nn.functional as F\n",
    "from tqdm import tqdm\n",
    "from torch_geometric.loader import NeighborLoader\n",
    "from torch.optim.lr_scheduler import ReduceLROnPlateau\n",
    "from torch_geometric.nn import MessagePassing, SAGEConv\n",
    "from ogb.nodeproppred import Evaluator #PygNodePropPredDatase\n",
    "\n",
    "from IPython.display import clear_output\n",
    "\n",
    "\n",
    "from sklearn import preprocessing\n",
    "\n",
    "import torch\n",
    "import torch.nn as nn\n",
    "import torch.nn.functional as F\n",
    "\n"
   ]
  },
  {
   "cell_type": "code",
   "execution_count": 45,
   "metadata": {},
   "outputs": [],
   "source": [
    "# Read files\n",
    "path = \"C:/Users/gsamp/OneDrive/Documents/AI-3/2n Semestre/Projecte de Síntesi 2/GraphAnomaly/dades_guillem/\"\n",
    "df_train_init = pd.read_csv(path + \"train_set.csv\") \n",
    "df_test_init = pd.read_csv(path + \"test_set.csv\")\n",
    "# df_train_edges = pd.read_csv(path + \"train_edges.csv\")\n",
    "# df_test_edges = pd.read_csv(path + \"test_edges.csv\")"
   ]
  },
  {
   "cell_type": "code",
   "execution_count": 46,
   "metadata": {},
   "outputs": [],
   "source": [
    "# AIXO JA NO HAURIA DE CALDRE, ESTA AL DATA SPLIT\n",
    "path = \"C:/Users/gsamp/OneDrive/Documents/AI-3/2n Semestre/Projecte de Síntesi 2/GraphAnomaly/dades_guillem/\"\n",
    "df_classes = pd.read_csv(path + \"elliptic_txs_classes.csv\") # Nodes' labels\n",
    "df_edges_init = pd.read_csv(path + \"elliptic_txs_edgelist.csv\") # Edges\n",
    "df_features = pd.read_csv(path + \"elliptic_txs_features.csv\", header=None) # Nodes' features\n",
    "\n",
    "# Change column names of df_features\n",
    "colNames1 = {'0': 'txId', 1: \"Time step\"}\n",
    "colNames2 = {str(ii+2): \"Local_feature_\" + str(ii+1) for ii in range(93)}\n",
    "colNames3 = {str(ii+95): \"Aggregate_feature_\" + str(ii+1) for ii in range(72)}\n",
    "\n",
    "colNames = dict(colNames1, **colNames2, **colNames3 )\n",
    "colNames = {int(jj): item_kk for jj,item_kk in colNames.items()}\n",
    "\n",
    "df_features = df_features.rename(columns=colNames)"
   ]
  },
  {
   "cell_type": "code",
   "execution_count": 47,
   "metadata": {},
   "outputs": [
    {
     "name": "stdout",
     "output_type": "stream",
     "text": [
      "contador de valors per classe: \n",
      " class\n",
      "3    123281\n",
      "1     34654\n",
      "0      2672\n",
      "Name: count, dtype: int64\n",
      "\n",
      "contador de valors per classe: \n",
      " class\n",
      "3    33924\n",
      "1     7365\n",
      "0     1873\n",
      "Name: count, dtype: int64\n",
      "\n"
     ]
    }
   ],
   "source": [
    "def prep_df(feats: pd.DataFrame, edges: pd.DataFrame):\n",
    "    #1 és la classe illicit, 2 la  licit\n",
    "    df_feats = feats.loc[feats['class'].isin([1, 2, 3])]\n",
    "    df_feats['class'] = df_feats['class'].replace({1: 0, 2: 1})\n",
    "    df_feats = df_feats.reset_index(drop=True)\n",
    "\n",
    "    #ens quedem només amb els edges que apareixen en el nodes que estan en el dataset\n",
    "    df_edges = edges.loc[((edges['txId1'].isin(df_feats['txId'])) & (df_edges_init['txId2'].isin(df_feats['txId'])))]\n",
    "    df_edges = df_edges.reset_index(drop=True)\n",
    "    print(f\"contador de valors per classe: \\n {df_feats['class'].value_counts()}\\n\")\n",
    "    return  df_feats, df_edges\n",
    "\n",
    "df_train, df_edges_train = prep_df(df_train_init, df_edges_init)\n",
    "df_test, df_edges_test = prep_df(df_test_init, df_edges_init)"
   ]
  },
  {
   "cell_type": "code",
   "execution_count": 48,
   "metadata": {},
   "outputs": [],
   "source": [
    "def map_idx(feats: pd.DataFrame, edges: pd.DataFrame, save = True, loading_dir = \"a\"):\n",
    "    mapping_txid = dict(zip(feats['txId'], list(feats.index)))\n",
    "    dir = 'dades_guillem/' + str(loading_dir) + '.pkl'\n",
    "    if save:\n",
    "        df_edges_mapped = edges.replace({'txId1': mapping_txid, 'txId2': mapping_txid})\n",
    "        \n",
    "        df_edges_mapped.to_pickle(loading_dir)\n",
    "    else:\n",
    "        df_edges_mapped = pd.read_pickle(loading_dir)\n",
    "    return df_edges_mapped\n",
    "\n",
    "df_edges_mapped_train = map_idx(feats = df_train, edges = df_edges_train, save = True, loading_dir='train')\n",
    "df_edges_mapped_test = map_idx(feats = df_test, edges = df_edges_test, save = True, loading_dir='test')\n"
   ]
  },
  {
   "cell_type": "code",
   "execution_count": 49,
   "metadata": {},
   "outputs": [],
   "source": [
    "def get_data(feats: pd.DataFrame, edges:pd.DataFrame):\n",
    "    x = torch.tensor(feats.drop(columns=['class', 'Time Step', 'txId']).values, dtype=torch.float)\n",
    "    edge_index = torch.tensor(edges.values, dtype=torch.long).T\n",
    "    y = torch.tensor(feats['class'].values)\n",
    "    time = torch.tensor(feats['Time Step'].values)\n",
    "    data = Data(x=x, edge_index=edge_index, y=y, time=time)\n",
    "    return data\n",
    "\n",
    "\n",
    "train_data = get_data(df_train, df_edges_mapped_train)\n",
    "test_data = get_data(df_test, df_edges_mapped_test)"
   ]
  },
  {
   "cell_type": "markdown",
   "metadata": {},
   "source": [
    "Prepare data for the AE case"
   ]
  },
  {
   "cell_type": "code",
   "execution_count": 50,
   "metadata": {},
   "outputs": [],
   "source": [
    "#separate illicit and licit data\n",
    "def separate_data(feats):\n",
    "    licit_x = torch.tensor(feats.loc[feats['class'] == 1].drop(columns=['class', 'Time Step']).values, dtype=torch.float)\n",
    "    licit_y = torch.tensor(feats.loc[feats['class'] == 1]['class'].values)\n",
    "    licit_data = Data(x=licit_x, y=licit_y)\n",
    "\n",
    "    illicit_x = torch.tensor(feats.loc[feats['class'] == 0].drop(columns=['class', 'Time Step']).values, dtype=torch.float)\n",
    "    illicit_y = torch.tensor(feats.loc[feats['class'] == 0]['class'].values)\n",
    "    illicit_data = Data(x=illicit_x, y=illicit_y)\n",
    "    return licit_data, illicit_data\n",
    "\n",
    "train_licit, train_illicit = separate_data(df_train)\n",
    "test_licit, test_illicit = separate_data(df_test)    "
   ]
  },
  {
   "cell_type": "code",
   "execution_count": 51,
   "metadata": {},
   "outputs": [],
   "source": [
    "unk_x = torch.tensor(df_test.loc[df_test['class'] == 3].drop(columns=['class', 'Time Step']).values, dtype=torch.float)\n",
    "unk_y = torch.tensor(df_test.loc[df_test['class'] == 3]['class'].values)\n",
    "unk_data = Data(x=unk_x, y=unk_y)\n",
    "# unk_data"
   ]
  },
  {
   "cell_type": "code",
   "execution_count": 52,
   "metadata": {},
   "outputs": [],
   "source": [
    "class CustomDataset(Dataset):\n",
    "    def __init__(self, data):\n",
    "        self.data = data\n",
    "\n",
    "    def __len__(self):\n",
    "        return len(self.data)\n",
    "\n",
    "    def __getitem__(self, idx):\n",
    "        sample = self.data[idx]\n",
    "        return torch.tensor(sample, dtype=torch.float32), torch.tensor(sample, dtype=torch.float32)"
   ]
  },
  {
   "cell_type": "code",
   "execution_count": 53,
   "metadata": {},
   "outputs": [],
   "source": [
    "class Autoencoder(nn.Module):\n",
    "    def __init__(self, input_dim, encoding_dim=50):\n",
    "        super(Autoencoder, self).__init__()\n",
    "        self.encoder = nn.Sequential(\n",
    "            nn.Linear(input_dim, 100),\n",
    "            nn.Tanh(),\n",
    "            nn.Linear(100, encoding_dim),\n",
    "            nn.Tanh(),\n",
    "            nn.Linear(encoding_dim, encoding_dim),\n",
    "            nn.ReLU()\n",
    "        )\n",
    "        self.decoder = nn.Sequential(\n",
    "            nn.Linear(encoding_dim, encoding_dim),\n",
    "            nn.Tanh(),\n",
    "            nn.Linear(encoding_dim, 100),\n",
    "            nn.Tanh(),\n",
    "            nn.Linear(100, input_dim),\n",
    "            nn.ReLU()\n",
    "        )\n",
    "        \n",
    "    def forward(self, x):\n",
    "        encoded = self.encoder(x)\n",
    "        decoded = self.decoder(encoded)\n",
    "        return decoded"
   ]
  },
  {
   "cell_type": "code",
   "execution_count": 54,
   "metadata": {},
   "outputs": [],
   "source": [
    "def train_ae(autoencoder, data_loader, criterion, optimizer, val_loader, num_epochs=10, learning_rate=0.001):   \n",
    "    total_train_loss = [] \n",
    "    total_validation_loss = []\n",
    "    for epoch in range(num_epochs):\n",
    "        autoencoder.train()\n",
    "        running_loss = 0.0\n",
    "        for inputs, targets in data_loader:\n",
    "            optimizer.zero_grad()\n",
    "            \n",
    "            # Forward pass\n",
    "            outputs = autoencoder(inputs)\n",
    "            \n",
    "            # Compute the loss\n",
    "            loss = criterion(outputs, targets)\n",
    "            \n",
    "            # Backward pass and optimization\n",
    "            loss.backward()\n",
    "            optimizer.step()\n",
    "            \n",
    "            running_loss += loss.item() * inputs.size(0)\n",
    "        \n",
    "        train_loss = running_loss / len(data_loader.dataset)\n",
    "        print(f\"Epoch [{epoch+1}/{num_epochs}], Training Loss: {train_loss:.4f}\")\n",
    "        total_train_loss.append(train_loss)\n",
    "        \n",
    "        #validació dins del mateix train loop\n",
    "        validation_loss = val_ae(autoencoder=autoencoder, data_loader=val_loader, criterion=criterion)\n",
    "        print(f\"Validation Loss: {validation_loss:.4f}\")\n",
    "        total_validation_loss.append(validation_loss)\n",
    "    return total_train_loss, total_validation_loss\n",
    "\n",
    "def val_ae(autoencoder, data_loader, criterion):\n",
    "    autoencoder.eval()\n",
    "    val_loss = 0.0\n",
    "    with torch.no_grad():\n",
    "        for inputs, targets in data_loader:\n",
    "            outputs = autoencoder(inputs)\n",
    "            loss = criterion(outputs, targets)\n",
    "            val_loss += loss.item() * inputs.size(0)\n",
    "    epoch_loss = val_loss / len(data_loader.dataset)\n",
    "    return epoch_loss\n"
   ]
  },
  {
   "cell_type": "code",
   "execution_count": 55,
   "metadata": {},
   "outputs": [
    {
     "name": "stdout",
     "output_type": "stream",
     "text": [
      "torch.Size([34654, 165])\n"
     ]
    }
   ],
   "source": [
    "batch_size = 128\n",
    "\n",
    "x_train = torch.tensor(df_train.loc[df_train[\"class\"] == 1].drop(columns=['class', 'txId', 'Time Step']).values)\n",
    "x_val = torch.tensor(df_test.loc[df_test[\"class\"] == 1].drop(columns=['class', 'txId', 'Time Step']).values)\n",
    "print(x_train.shape)\n",
    "\n",
    "train_data = preprocessing.MinMaxScaler().fit_transform(x_train)\n",
    "val_data = preprocessing.MinMaxScaler().fit_transform(x_val)\n",
    "\n",
    "train_dataset = CustomDataset(train_data)\n",
    "train_loader = DataLoader(train_dataset, batch_size=batch_size, shuffle=True)\n",
    "\n",
    "val_dataset = CustomDataset(val_data)\n",
    "val_loader = DataLoader(val_dataset, batch_size=batch_size, shuffle=True)"
   ]
  },
  {
   "cell_type": "code",
   "execution_count": 56,
   "metadata": {},
   "outputs": [],
   "source": [
    "#hiperparàmetres\n",
    "lr = 0.001\n",
    "EPOCHS = 250\n",
    "\n",
    "input_dim = x_train.shape[1]\n",
    "model = Autoencoder(input_dim=input_dim,encoding_dim=50)\n",
    "criterion = nn.MSELoss()  # Mean Squared Error loss\n",
    "optimizer = torch.optim.Adadelta(model.parameters(), lr=lr)\n",
    "\n",
    "\n",
    "\n",
    "# training_loss, validation_loss = train_ae(autoencoder=model, data_loader=train_loader, criterion=criterion, \n",
    "#                                           optimizer=optimizer, val_loader=val_loader, num_epochs=EPOCHS, learning_rate=lr)\n",
    "# torch.save(model.state_dict(), 'C:/Users/gsamp/OneDrive/Documents/AI-3/2n Semestre/Projecte de Síntesi 2/GraphAnomaly/GNN_models/trained_models/ae_second_train.pth')"
   ]
  },
  {
   "cell_type": "markdown",
   "metadata": {},
   "source": [
    "Error de recunstrucció"
   ]
  },
  {
   "cell_type": "code",
   "execution_count": 57,
   "metadata": {},
   "outputs": [
    {
     "data": {
      "text/plain": [
       "torch.Size([33924, 165])"
      ]
     },
     "execution_count": 57,
     "metadata": {},
     "output_type": "execute_result"
    }
   ],
   "source": [
    "torch.tensor(df_test.loc[df_test[\"class\"] == 3].drop(columns=['class', 'txId', 'Time Step']).values).shape"
   ]
  },
  {
   "cell_type": "code",
   "execution_count": 58,
   "metadata": {},
   "outputs": [],
   "source": [
    "# # Define the path to the saved model\n",
    "# model_path = \"C:/Users/gsamp/OneDrive/Documents/AI-3/2n Semestre/Projecte de Síntesi 2/GraphAnomaly/GNN_models/trained_models/ae_new_data.pth\"\n",
    "\n",
    "# # Create an instance of your model\n",
    "# model = Autoencoder(input_dim)\n",
    "\n",
    "# # Load the state_dict into the model\n",
    "# model.load_state_dict(torch.load(model_path))\n",
    "\n",
    "# # Set the model to evaluation mode\n",
    "# model.eval()\n",
    "\n",
    "\n",
    "# ilicit_data = torch.tensor(df_test.loc[df_test[\"class\"] == 0].drop(columns=['class', 'txId', 'Time Step']).values)\n",
    "# # ilicit_data = preprocessing.MinMaxScaler().fit_transform(ilicit_data)\n",
    "# ilicit_dataset = CustomDataset(ilicit_data)\n",
    "# ilicit_loader = DataLoader(ilicit_dataset, batch_size=batch_size, shuffle=True)\n",
    "\n",
    "# unk_data = torch.tensor(df_test.loc[df_test[\"class\"] == 3].drop(columns=['class', 'txId', 'Time Step']).values)\n",
    "# # unk_data = preprocessing.MinMaxScaler().fit_transform(unk_data)\n",
    "# unk_dataset = CustomDataset(unk_data)\n",
    "# unk_loader = DataLoader(unk_dataset, batch_size=batch_size, shuffle=True)\n",
    "\n",
    "# # Initialize variables for storing reconstruction error\n",
    "# total_licit_loss = 0\n",
    "# total_ilicit_loss = 0\n",
    "# total_unk_loss = 0\n",
    "\n",
    "# num_batches = 0\n",
    "\n",
    "# licit_loss_history = []\n",
    "# ilicit_loss_history = []\n",
    "# unk_loss_history = []\n",
    "\n",
    "# # Iterate through the validation dataset\n",
    "# with torch.no_grad():\n",
    "#     # for seen, unseen, unk in zip(val_loader, ilicit_loader, unk_loader):\n",
    "#     for unseen in ilicit_loader:   \n",
    "#         # seen_inputs, _ = seen\n",
    "#         unseen_inputs, _ = unseen\n",
    "#         # unk_inputs, _ = unk\n",
    "        \n",
    "#         # seen_outputs = model(seen_inputs)\n",
    "#         unseen_outputs = model(unseen_inputs)\n",
    "#         # unk_outputs = model(unk_inputs)\n",
    "        \n",
    "#         # seen_loss = criterion(seen_outputs, seen_inputs)  # Compute reconstruction loss\n",
    "#         unseen_loss = criterion(unseen_outputs, unseen_inputs)\n",
    "#         # unk_loss = criterion(unk_outputs, unk_inputs)\n",
    "        \n",
    "#         licit_loss_history.append(float(seen_loss))\n",
    "#         ilicit_loss_history.append(float(unseen_loss))\n",
    "#         unk_loss_history.append(float(unk_loss))\n",
    "        \n",
    "#         total_licit_loss += seen_loss.item()\n",
    "#         total_ilicit_loss += unseen_loss.item()\n",
    "#         total_unk_loss += unk_loss.item()\n",
    "#         num_batches += 1\n",
    "\n",
    "# # Compute average reconstruction error for both seen and unseen classes\n",
    "# average_licit_loss = total_licit_loss / num_batches\n",
    "# average_ilicit_loss = total_ilicit_loss / num_batches\n",
    "# average_unk_loss = total_unk_loss / num_batches\n",
    "\n",
    "# print(\"Average Reconstruction Error for Licit Class:\", average_licit_loss)\n",
    "# print(\"Average Reconstruction Error for Illicit Class:\", average_ilicit_loss)\n",
    "# print(\"Average Reconstruction Error for Unk Class:\", average_unk_loss)\n",
    "\n",
    "# # You can return ilicit_loss_history if you want to analyze it further\n"
   ]
  },
  {
   "cell_type": "code",
   "execution_count": 59,
   "metadata": {},
   "outputs": [],
   "source": [
    "def infer_AE(loader, model):\n",
    "\n",
    "    total_loss = 0\n",
    "    num_batches = 0\n",
    "\n",
    "    loss_history = []\n",
    "\n",
    "    # Iterate through the validation dataset\n",
    "    with torch.no_grad():\n",
    "        for input in loader:\n",
    "            \n",
    "            inputs, _ = input\n",
    "            \n",
    "            outputs = model(inputs)\n",
    "            \n",
    "            loss = criterion(outputs, inputs)  # Compute reconstruction loss\n",
    "            \n",
    "            loss_history.append(float(loss))\n",
    "            \n",
    "            total_loss += loss.item()\n",
    "            num_batches += 1\n",
    "            \n",
    "            #avergade loss, loss_history\n",
    "    average_loss = total_loss / num_batches\n",
    "    return average_loss, loss_history\n",
    "\n",
    "# Define the path to the saved model\n",
    "model_path = \"C:/Users/gsamp/OneDrive/Documents/AI-3/2n Semestre/Projecte de Síntesi 2/GraphAnomaly/GNN_models/trained_models/ae_second_train.pth\"\n",
    "\n",
    "# Create an instance of your model\n",
    "model = Autoencoder(input_dim)\n",
    "\n",
    "# Load the state_dict into the model\n",
    "model.load_state_dict(torch.load(model_path))\n",
    "\n",
    "# Set the model to evaluation mode\n",
    "model.eval()\n",
    "\n",
    "ilicit_data = torch.tensor(df_test.loc[df_test[\"class\"] == 0].drop(columns=['class', 'txId', 'Time Step']).values)\n",
    "ilicit_data = preprocessing.MinMaxScaler().fit_transform(ilicit_data)\n",
    "ilicit_dataset = CustomDataset(ilicit_data)\n",
    "ilicit_loader = DataLoader(ilicit_dataset, batch_size=batch_size, shuffle=True)\n",
    "\n",
    "unk_data = torch.tensor(df_test.loc[df_test[\"class\"] == 3].drop(columns=['class', 'txId', 'Time Step']).values)\n",
    "unk_data = preprocessing.MinMaxScaler().fit_transform(unk_data)\n",
    "unk_dataset = CustomDataset(unk_data)\n",
    "unk_loader = DataLoader(unk_dataset, batch_size=batch_size, shuffle=True)\n",
    "\n",
    "unk_avg_loss, unk_loss_history = infer_AE(unk_loader, model)\n",
    "val_avg_loss, licit_loss_history = infer_AE(val_loader, model)\n",
    "ilicit_avg_loss, ilicit_loss_history = infer_AE(ilicit_loader, model)"
   ]
  },
  {
   "cell_type": "code",
   "execution_count": 60,
   "metadata": {},
   "outputs": [
    {
     "data": {
      "image/png": "[encoded data removed]",
      "text/plain": [
       "<Figure size 640x480 with 1 Axes>"
      ]
     },
     "metadata": {},
     "output_type": "display_data"
    }
   ],
   "source": [
    "import matplotlib.pyplot as plt\n",
    "\n",
    "# Determine the range of values in both lists\n",
    "min_value = min(min(licit_loss_history), min(ilicit_loss_history), min(unk_loss_history))\n",
    "max_value = max(max(licit_loss_history), max(ilicit_loss_history), max(unk_loss_history))\n",
    "\n",
    "# Plot histograms for both lists with 10 bins\n",
    "plt.hist(licit_loss_history, bins=len(licit_loss_history), alpha=0.5, label='Licit nodes', range=(min_value, max_value))\n",
    "plt.hist(ilicit_loss_history, bins=len(ilicit_loss_history), alpha=0.5, label='Ilicit nodes', range=(min_value, max_value))\n",
    "plt.hist(unk_loss_history, bins=len(unk_loss_history), alpha=0.5, label='Unknown nodes', range=(min_value, max_value))\n",
    "\n",
    "# Add labels and title\n",
    "plt.xlabel('Values')\n",
    "plt.ylabel('Frequency')\n",
    "plt.title('Reconstruction Error plot')\n",
    "\n",
    "# Add legend\n",
    "plt.legend()\n",
    "\n",
    "# Show the plot\n",
    "plt.show()\n"
   ]
  }
 ],
 "metadata": {
  "kernelspec": {
   "display_name": "visionEnv",
   "language": "python",
   "name": "python3"
  },
  "language_info": {
   "codemirror_mode": {
    "name": "ipython",
    "version": 3
   },
   "file_extension": ".py",
   "mimetype": "text/x-python",
   "name": "python",
   "nbconvert_exporter": "python",
   "pygments_lexer": "ipython3",
   "version": "3.11.8"
  }
 },
 "nbformat": 4,
 "nbformat_minor": 2
}
