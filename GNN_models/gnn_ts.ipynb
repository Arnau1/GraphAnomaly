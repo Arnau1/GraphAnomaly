{
 "cells": [
  {
   "cell_type": "code",
   "execution_count": 1,
   "metadata": {},
   "outputs": [],
   "source": [
    "# Import packages\n",
    "import numpy as np\n",
    "import pandas as pd\n",
    "import matplotlib.pyplot as plt\n",
    "import seaborn as sns\n",
    "import networkx as nx\n",
    "import pickle as pkl\n",
    "import sys\n",
    "\n",
    "from sklearn.decomposition import PCA\n",
    "from sklearn.preprocessing import StandardScaler\n",
    "\n",
    "from sklearn.model_selection import train_test_split\n",
    "from sklearn.preprocessing import StandardScaler\n",
    "from sklearn.linear_model import LogisticRegression\n",
    "from sklearn.metrics import *\n",
    "\n",
    "import torch.utils.data as data\n",
    "import torch\n",
    "from torch_geometric.data import Data\n",
    "from torch.nn import Linear\n",
    "from torch_geometric.nn import GCNConv\n",
    "from torch.utils.data import Dataset\n",
    "\n",
    "import os\n",
    "import torch\n",
    "import torch.nn.functional as F\n",
    "from tqdm import tqdm\n",
    "from torch_geometric.loader import NeighborLoader\n",
    "from torch.optim.lr_scheduler import ReduceLROnPlateau\n",
    "from torch_geometric.nn import MessagePassing, SAGEConv\n",
    "from ogb.nodeproppred import Evaluator #PygNodePropPredDatase\n",
    "\n",
    "from IPython.display import clear_output\n",
    "import wandb"
   ]
  },
  {
   "cell_type": "code",
   "execution_count": 2,
   "metadata": {},
   "outputs": [],
   "source": [
    "# Read files\n",
    "path = \"C:/Users/gsamp/OneDrive/Documents/AI-3/2n Semestre/Projecte de Síntesi 2/GraphAnomaly/dades_guillem/\"\n",
    "df_train = pd.read_csv(path + \"train_set.csv\") \n",
    "df_test = pd.read_csv(path + \"test_set.csv\")\n",
    "df_train_edges = pd.read_csv(path + \"train_edges.csv\")\n",
    "df_test_edges = pd.read_csv(path + \"test_edges.csv\")"
   ]
  },
  {
   "cell_type": "code",
   "execution_count": 3,
   "metadata": {},
   "outputs": [],
   "source": [
    "# AIXO JA NO HAURIA DE CALDRE, ESTA AL DATA SPLIT\n",
    "# path = \"C:/Users/gsamp/OneDrive/Documents/AI-3/2n Semestre/Projecte de Síntesi 2/GraphAnomaly/dades_guillem/\"\n",
    "# df_classes = pd.read_csv(path + \"elliptic_txs_classes.csv\") # Nodes' labels\n",
    "# df_edges_init = pd.read_csv(path + \"elliptic_txs_edgelist.csv\") # Edges\n",
    "# df_features = pd.read_csv(path + \"elliptic_txs_features.csv\", header=None) # Nodes' features\n",
    "\n",
    "# # Change column names of df_features\n",
    "# colNames1 = {'0': 'txId', 1: \"Time step\"}\n",
    "# colNames2 = {str(ii+2): \"Local_feature_\" + str(ii+1) for ii in range(93)}\n",
    "# colNames3 = {str(ii+95): \"Aggregate_feature_\" + str(ii+1) for ii in range(72)}\n",
    "\n",
    "# colNames = dict(colNames1, **colNames2, **colNames3 )\n",
    "# colNames = {int(jj): item_kk for jj,item_kk in colNames.items()}\n",
    "\n",
    "# df_features = df_features.rename(columns=colNames)"
   ]
  },
  {
   "cell_type": "code",
   "execution_count": 4,
   "metadata": {},
   "outputs": [
    {
     "name": "stdout",
     "output_type": "stream",
     "text": [
      "contador de valors per classe: \n",
      " class\n",
      "1    34654\n",
      "0     2672\n",
      "Name: count, dtype: int64\n",
      "\n",
      "contador de valors per classe: \n",
      " class\n",
      "1    7365\n",
      "0    1873\n",
      "Name: count, dtype: int64\n",
      "\n"
     ]
    },
    {
     "name": "stderr",
     "output_type": "stream",
     "text": [
      "C:\\Users\\gsamp\\AppData\\Local\\Temp\\ipykernel_924\\1761167425.py:4: SettingWithCopyWarning: \n",
      "A value is trying to be set on a copy of a slice from a DataFrame.\n",
      "Try using .loc[row_indexer,col_indexer] = value instead\n",
      "\n",
      "See the caveats in the documentation: https://pandas.pydata.org/pandas-docs/stable/user_guide/indexing.html#returning-a-view-versus-a-copy\n",
      "  df_feats['class'] = df_feats['class'].replace({1: 0, 2: 1})\n"
     ]
    }
   ],
   "source": [
    "# AIXO JA NO HAURIA DE CALDRE, ESTA AL DATA SPLIT\n",
    "#  def prep_df(feats: pd.DataFrame, edges: pd.DataFrame):\n",
    "#     #1 és la classe illicit, 2 la  licit\n",
    "#     df_feats = feats.loc[feats['class'].isin([1, 2])]\n",
    "#     df_feats['class'] = df_feats['class'].replace({1: 0, 2: 1})\n",
    "#     df_feats = df_feats.reset_index(drop=True)\n",
    "\n",
    "#     #ens quedem només amb els edges que apareixen en el nodes d'entrenament\n",
    "#     df_edges = edges.loc[((edges['txId1'].isin(df_feats['txId'])) & (df_edges_init['txId2'].isin(df_feats['txId'])))]\n",
    "#     df_edges = df_edges.reset_index(drop=True)\n",
    "#     print(f\"contador de valors per classe: \\n {df_feats['class'].value_counts()}\\n\")\n",
    "#     return  df_feats, df_edges\n",
    "\n",
    "# df_train, df_edges_train = prep_df(df_train_init, df_edges_init)\n",
    "# df_test, df_edges_test = prep_df(df_test_init, df_edges_init)"
   ]
  },
  {
   "cell_type": "code",
   "execution_count": 5,
   "metadata": {},
   "outputs": [],
   "source": [
    "def map_idx(feats: pd.DataFrame, edges: pd.DataFrame, save = True, loading_dir = \"a\"):\n",
    "    mapping_txid = dict(zip(feats['txId'], list(feats.index)))\n",
    "    dir = 'dades_guillem/' + str(loading_dir) + '.pkl'\n",
    "    if save:\n",
    "        df_edges_mapped = edges.replace({'txId1': mapping_txid, 'txId2': mapping_txid})\n",
    "        \n",
    "        df_edges_mapped.to_pickle(loading_dir)\n",
    "    else:\n",
    "        df_edges_mapped = pd.read_pickle(loading_dir)\n",
    "    return df_edges_mapped\n",
    "\n",
    "df_edges_mapped_train = map_idx(feats = df_train, edges = df_train_edges, save = True, loading_dir='train')\n",
    "df_edges_mapped_test = map_idx(feats = df_test, edges = df_test_edges, save = True, loading_dir='train') # Això no hauria de ser test?\n"
   ]
  },
  {
   "cell_type": "code",
   "execution_count": 6,
   "metadata": {},
   "outputs": [],
   "source": [
    "def get_data(feats: pd.DataFrame, edges:pd.DataFrame):\n",
    "    x = torch.tensor(feats.drop(columns=['class', 'Time Step', 'txId']).values, dtype=torch.float)\n",
    "    edge_index = torch.tensor(edges.values, dtype=torch.long).T\n",
    "    y = torch.tensor(feats['class'].values)\n",
    "    time = torch.tensor(feats['Time Step'].values)\n",
    "    data = Data(x=x, edge_index=edge_index, y=y, time=time)\n",
    "    return data\n",
    "\n",
    "\n",
    "train_data = get_data(df_train, df_edges_mapped_train)\n",
    "test_data = get_data(df_test, df_edges_mapped_test)"
   ]
  },
  {
   "cell_type": "code",
   "execution_count": 7,
   "metadata": {},
   "outputs": [],
   "source": [
    "class SAGE(torch.nn.Module):\n",
    "    def __init__(self, in_channels,\n",
    "                 hidden_channels, out_channels,\n",
    "                 n_layers=2):\n",
    "        \n",
    "        super(SAGE, self).__init__()\n",
    "        self.n_layers = n_layers\n",
    "        self.layers = torch.nn.ModuleList()\n",
    "        self.layers_bn = torch.nn.ModuleList()\n",
    "        if n_layers == 1:\n",
    "            self.layers.append(SAGEConv(in_channels, out_channels,   normalize=False))\n",
    "        elif n_layers == 2:\n",
    "            self.layers.append(SAGEConv(in_channels, hidden_channels, normalize=False))\n",
    "            self.layers_bn.append(torch.nn.BatchNorm1d(hidden_channels))\n",
    "            # self.layers.append(SAGEConv(hidden_channels, out_channels, normalize=False))\n",
    "        else:\n",
    "            self.layers.append(SAGEConv(in_channels, hidden_channels, normalize=False))\n",
    "            # self.layers_bn.append(torch.nn.BatchNorm1d(hidden_channels))\n",
    "        for _ in range(n_layers - 2):\n",
    "            self.layers.append(SAGEConv(hidden_channels,  hidden_channels, normalize=False))\n",
    "            self.layers_bn.append(torch.nn.BatchNorm1d(hidden_channels))\n",
    "                    \n",
    "                \n",
    "        if n_layers != 1:\n",
    "            self.layers.append(SAGEConv(hidden_channels, out_channels, normalize=False))\n",
    "        \n",
    "        for layer in self.layers:\n",
    "            layer.reset_parameters()\n",
    "            \n",
    "            \n",
    "            \n",
    "    def forward(self, x, edge_index):\n",
    "        if len(self.layers) > 1:\n",
    "            looper = self.layers[:-1]\n",
    "        else:\n",
    "            looper = self.layers\n",
    "        \n",
    "        for i, layer in enumerate(looper):\n",
    "            x = layer(x, edge_index)\n",
    "            # print(f\"SHAPE: {x.shape}, step: {i}\")\n",
    "            # print(f\"Step: {i}\")\n",
    "            try:\n",
    "                x = self.layers_bn[i](x)\n",
    "            except Exception as e:\n",
    "                abs(1)\n",
    "            finally:\n",
    "                x = F.relu(x)\n",
    "                x = F.dropout(x, p=0.5, training=self.training)\n",
    "        \n",
    "        if len(self.layers) > 1:\n",
    "            x = self.layers[-1](x, edge_index)\n",
    "        return F.log_softmax(x, dim=-1), torch.var(x)\n",
    "    \n",
    "    def inference(self, total_loader, device):\n",
    "        xs = []\n",
    "        var_ = []\n",
    "        for batch in total_loader:\n",
    "            out, var = self.forward(batch.x.to(device), batch.edge_index.to(device))\n",
    "            out = out[:batch.batch_size]\n",
    "            xs.append(out.cpu())\n",
    "            var_.append(var.item())\n",
    "        \n",
    "        out_all = torch.cat(xs, dim=0)\n",
    "        \n",
    "        return out_all, var_"
   ]
  },
  {
   "cell_type": "code",
   "execution_count": 8,
   "metadata": {},
   "outputs": [
    {
     "name": "stderr",
     "output_type": "stream",
     "text": [
      "Failed to detect the name of this notebook, you can set it manually with the WANDB_NOTEBOOK_NAME environment variable to enable code saving.\n",
      "\u001b[34m\u001b[1mwandb\u001b[0m: Currently logged in as: \u001b[33mgsamper\u001b[0m. Use \u001b[1m`wandb login --relogin`\u001b[0m to force relogin\n"
     ]
    },
    {
     "data": {
      "text/html": [
       "wandb version 0.17.0 is available!  To upgrade, please run:\n",
       " $ pip install wandb --upgrade"
      ],
      "text/plain": [
       "<IPython.core.display.HTML object>"
      ]
     },
     "metadata": {},
     "output_type": "display_data"
    },
    {
     "data": {
      "text/html": [
       "Tracking run with wandb version 0.16.6"
      ],
      "text/plain": [
       "<IPython.core.display.HTML object>"
      ]
     },
     "metadata": {},
     "output_type": "display_data"
    },
    {
     "data": {
      "text/html": [
       "Run data is saved locally in <code>c:\\Users\\gsamp\\OneDrive\\Documents\\AI-3\\2n Semestre\\Projecte de Síntesi 2\\GraphAnomaly\\GNN_models\\wandb\\run-20240512_164827-m16i8sn7</code>"
      ],
      "text/plain": [
       "<IPython.core.display.HTML object>"
      ]
     },
     "metadata": {},
     "output_type": "display_data"
    },
    {
     "data": {
      "text/html": [
       "Syncing run <strong><a href='https://wandb.ai/gsamper/GraphAnomaly/runs/m16i8sn7' target=\"_blank\">2_SAGE - n_layers: 4</a></strong> to <a href='https://wandb.ai/gsamper/GraphAnomaly' target=\"_blank\">Weights & Biases</a> (<a href='https://wandb.me/run' target=\"_blank\">docs</a>)<br/>"
      ],
      "text/plain": [
       "<IPython.core.display.HTML object>"
      ]
     },
     "metadata": {},
     "output_type": "display_data"
    },
    {
     "data": {
      "text/html": [
       " View project at <a href='https://wandb.ai/gsamper/GraphAnomaly' target=\"_blank\">https://wandb.ai/gsamper/GraphAnomaly</a>"
      ],
      "text/plain": [
       "<IPython.core.display.HTML object>"
      ]
     },
     "metadata": {},
     "output_type": "display_data"
    },
    {
     "data": {
      "text/html": [
       " View run at <a href='https://wandb.ai/gsamper/GraphAnomaly/runs/m16i8sn7' target=\"_blank\">https://wandb.ai/gsamper/GraphAnomaly/runs/m16i8sn7</a>"
      ],
      "text/plain": [
       "<IPython.core.display.HTML object>"
      ]
     },
     "metadata": {},
     "output_type": "display_data"
    },
    {
     "name": "stdout",
     "output_type": "stream",
     "text": [
      "Nodes classified as fraud: 12192, \n",
      "                nodes classified as licit: 25134\n",
      "Epoch: 0, \n",
      "            Training Loss: 0.7475, Training Accuracy: 0.6355\n",
      "            Test Loss: 16.7325, Test Accuracy: 0.7973\n",
      "            \n",
      "Precision: [0.         0.79725049], Recall: [0. 1.], F1 Score: [0.         0.88718906] \n",
      "\n",
      "---------------------------------------------------------------------------------\n"
     ]
    },
    {
     "name": "stderr",
     "output_type": "stream",
     "text": [
      "c:\\Users\\gsamp\\anaconda3\\envs\\visionEnv\\Lib\\site-packages\\sklearn\\metrics\\_classification.py:1509: UndefinedMetricWarning: Precision is ill-defined and being set to 0.0 in labels with no predicted samples. Use `zero_division` parameter to control this behavior.\n",
      "  _warn_prf(average, modifier, f\"{metric.capitalize()} is\", len(result))\n",
      "c:\\Users\\gsamp\\anaconda3\\envs\\visionEnv\\Lib\\site-packages\\sklearn\\metrics\\_classification.py:1509: UndefinedMetricWarning: Precision is ill-defined and being set to 0.0 in labels with no predicted samples. Use `zero_division` parameter to control this behavior.\n",
      "  _warn_prf(average, modifier, f\"{metric.capitalize()} is\", len(result))\n",
      "c:\\Users\\gsamp\\anaconda3\\envs\\visionEnv\\Lib\\site-packages\\sklearn\\metrics\\_classification.py:1509: UndefinedMetricWarning: Precision is ill-defined and being set to 0.0 in labels with no predicted samples. Use `zero_division` parameter to control this behavior.\n",
      "  _warn_prf(average, modifier, f\"{metric.capitalize()} is\", len(result))\n",
      "c:\\Users\\gsamp\\anaconda3\\envs\\visionEnv\\Lib\\site-packages\\sklearn\\metrics\\_classification.py:1509: UndefinedMetricWarning: Precision is ill-defined and being set to 0.0 in labels with no predicted samples. Use `zero_division` parameter to control this behavior.\n",
      "  _warn_prf(average, modifier, f\"{metric.capitalize()} is\", len(result))\n"
     ]
    },
    {
     "name": "stdout",
     "output_type": "stream",
     "text": [
      "Nodes classified as fraud: 3514, \n",
      "                nodes classified as licit: 33812\n",
      "Epoch: 5, \n",
      "            Training Loss: 0.6259, Training Accuracy: 0.8432\n",
      "            Test Loss: 0.9246, Test Accuracy: 0.7973\n",
      "            \n",
      "Precision: [0.         0.79725049], Recall: [0. 1.], F1 Score: [0.         0.88718906] \n",
      "\n",
      "---------------------------------------------------------------------------------\n"
     ]
    },
    {
     "name": "stderr",
     "output_type": "stream",
     "text": [
      "c:\\Users\\gsamp\\anaconda3\\envs\\visionEnv\\Lib\\site-packages\\sklearn\\metrics\\_classification.py:1509: UndefinedMetricWarning: Precision is ill-defined and being set to 0.0 in labels with no predicted samples. Use `zero_division` parameter to control this behavior.\n",
      "  _warn_prf(average, modifier, f\"{metric.capitalize()} is\", len(result))\n",
      "c:\\Users\\gsamp\\anaconda3\\envs\\visionEnv\\Lib\\site-packages\\sklearn\\metrics\\_classification.py:1509: UndefinedMetricWarning: Precision is ill-defined and being set to 0.0 in labels with no predicted samples. Use `zero_division` parameter to control this behavior.\n",
      "  _warn_prf(average, modifier, f\"{metric.capitalize()} is\", len(result))\n",
      "c:\\Users\\gsamp\\anaconda3\\envs\\visionEnv\\Lib\\site-packages\\sklearn\\metrics\\_classification.py:1509: UndefinedMetricWarning: Precision is ill-defined and being set to 0.0 in labels with no predicted samples. Use `zero_division` parameter to control this behavior.\n",
      "  _warn_prf(average, modifier, f\"{metric.capitalize()} is\", len(result))\n",
      "c:\\Users\\gsamp\\anaconda3\\envs\\visionEnv\\Lib\\site-packages\\sklearn\\metrics\\_classification.py:1509: UndefinedMetricWarning: Precision is ill-defined and being set to 0.0 in labels with no predicted samples. Use `zero_division` parameter to control this behavior.\n",
      "  _warn_prf(average, modifier, f\"{metric.capitalize()} is\", len(result))\n",
      "c:\\Users\\gsamp\\anaconda3\\envs\\visionEnv\\Lib\\site-packages\\sklearn\\metrics\\_classification.py:1509: UndefinedMetricWarning: Precision is ill-defined and being set to 0.0 in labels with no predicted samples. Use `zero_division` parameter to control this behavior.\n",
      "  _warn_prf(average, modifier, f\"{metric.capitalize()} is\", len(result))\n"
     ]
    },
    {
     "name": "stdout",
     "output_type": "stream",
     "text": [
      "Nodes classified as fraud: 0, \n",
      "                nodes classified as licit: 37326\n",
      "Epoch: 10, \n",
      "            Training Loss: 0.2455, Training Accuracy: 0.9284\n",
      "            Test Loss: 0.5334, Test Accuracy: 0.7973\n",
      "            \n",
      "Precision: [0.         0.79725049], Recall: [0. 1.], F1 Score: [0.         0.88718906] \n",
      "\n",
      "---------------------------------------------------------------------------------\n"
     ]
    },
    {
     "name": "stderr",
     "output_type": "stream",
     "text": [
      "c:\\Users\\gsamp\\anaconda3\\envs\\visionEnv\\Lib\\site-packages\\sklearn\\metrics\\_classification.py:1509: UndefinedMetricWarning: Precision is ill-defined and being set to 0.0 in labels with no predicted samples. Use `zero_division` parameter to control this behavior.\n",
      "  _warn_prf(average, modifier, f\"{metric.capitalize()} is\", len(result))\n",
      "c:\\Users\\gsamp\\anaconda3\\envs\\visionEnv\\Lib\\site-packages\\sklearn\\metrics\\_classification.py:1509: UndefinedMetricWarning: Precision is ill-defined and being set to 0.0 in labels with no predicted samples. Use `zero_division` parameter to control this behavior.\n",
      "  _warn_prf(average, modifier, f\"{metric.capitalize()} is\", len(result))\n",
      "c:\\Users\\gsamp\\anaconda3\\envs\\visionEnv\\Lib\\site-packages\\sklearn\\metrics\\_classification.py:1509: UndefinedMetricWarning: Precision is ill-defined and being set to 0.0 in labels with no predicted samples. Use `zero_division` parameter to control this behavior.\n",
      "  _warn_prf(average, modifier, f\"{metric.capitalize()} is\", len(result))\n",
      "c:\\Users\\gsamp\\anaconda3\\envs\\visionEnv\\Lib\\site-packages\\sklearn\\metrics\\_classification.py:1509: UndefinedMetricWarning: Precision is ill-defined and being set to 0.0 in labels with no predicted samples. Use `zero_division` parameter to control this behavior.\n",
      "  _warn_prf(average, modifier, f\"{metric.capitalize()} is\", len(result))\n",
      "c:\\Users\\gsamp\\anaconda3\\envs\\visionEnv\\Lib\\site-packages\\sklearn\\metrics\\_classification.py:1509: UndefinedMetricWarning: Precision is ill-defined and being set to 0.0 in labels with no predicted samples. Use `zero_division` parameter to control this behavior.\n",
      "  _warn_prf(average, modifier, f\"{metric.capitalize()} is\", len(result))\n"
     ]
    },
    {
     "name": "stdout",
     "output_type": "stream",
     "text": [
      "Nodes classified as fraud: 0, \n",
      "                nodes classified as licit: 37326\n",
      "Epoch: 15, \n",
      "            Training Loss: 0.2296, Training Accuracy: 0.9284\n",
      "            Test Loss: 0.5024, Test Accuracy: 0.7973\n",
      "            \n",
      "Precision: [0.         0.79725049], Recall: [0. 1.], F1 Score: [0.         0.88718906] \n",
      "\n",
      "---------------------------------------------------------------------------------\n"
     ]
    },
    {
     "name": "stderr",
     "output_type": "stream",
     "text": [
      "c:\\Users\\gsamp\\anaconda3\\envs\\visionEnv\\Lib\\site-packages\\sklearn\\metrics\\_classification.py:1509: UndefinedMetricWarning: Precision is ill-defined and being set to 0.0 in labels with no predicted samples. Use `zero_division` parameter to control this behavior.\n",
      "  _warn_prf(average, modifier, f\"{metric.capitalize()} is\", len(result))\n",
      "c:\\Users\\gsamp\\anaconda3\\envs\\visionEnv\\Lib\\site-packages\\sklearn\\metrics\\_classification.py:1509: UndefinedMetricWarning: Precision is ill-defined and being set to 0.0 in labels with no predicted samples. Use `zero_division` parameter to control this behavior.\n",
      "  _warn_prf(average, modifier, f\"{metric.capitalize()} is\", len(result))\n",
      "c:\\Users\\gsamp\\anaconda3\\envs\\visionEnv\\Lib\\site-packages\\sklearn\\metrics\\_classification.py:1509: UndefinedMetricWarning: Precision is ill-defined and being set to 0.0 in labels with no predicted samples. Use `zero_division` parameter to control this behavior.\n",
      "  _warn_prf(average, modifier, f\"{metric.capitalize()} is\", len(result))\n",
      "c:\\Users\\gsamp\\anaconda3\\envs\\visionEnv\\Lib\\site-packages\\sklearn\\metrics\\_classification.py:1509: UndefinedMetricWarning: Precision is ill-defined and being set to 0.0 in labels with no predicted samples. Use `zero_division` parameter to control this behavior.\n",
      "  _warn_prf(average, modifier, f\"{metric.capitalize()} is\", len(result))\n",
      "c:\\Users\\gsamp\\anaconda3\\envs\\visionEnv\\Lib\\site-packages\\sklearn\\metrics\\_classification.py:1509: UndefinedMetricWarning: Precision is ill-defined and being set to 0.0 in labels with no predicted samples. Use `zero_division` parameter to control this behavior.\n",
      "  _warn_prf(average, modifier, f\"{metric.capitalize()} is\", len(result))\n"
     ]
    },
    {
     "name": "stdout",
     "output_type": "stream",
     "text": [
      "Nodes classified as fraud: 0, \n",
      "                nodes classified as licit: 37326\n",
      "Epoch: 20, \n",
      "            Training Loss: 0.2062, Training Accuracy: 0.9284\n",
      "            Test Loss: 0.5046, Test Accuracy: 0.7973\n",
      "            \n",
      "Precision: [0.         0.79725049], Recall: [0. 1.], F1 Score: [0.         0.88718906] \n",
      "\n",
      "---------------------------------------------------------------------------------\n"
     ]
    },
    {
     "name": "stderr",
     "output_type": "stream",
     "text": [
      "c:\\Users\\gsamp\\anaconda3\\envs\\visionEnv\\Lib\\site-packages\\sklearn\\metrics\\_classification.py:1509: UndefinedMetricWarning: Precision is ill-defined and being set to 0.0 in labels with no predicted samples. Use `zero_division` parameter to control this behavior.\n",
      "  _warn_prf(average, modifier, f\"{metric.capitalize()} is\", len(result))\n",
      "c:\\Users\\gsamp\\anaconda3\\envs\\visionEnv\\Lib\\site-packages\\sklearn\\metrics\\_classification.py:1509: UndefinedMetricWarning: Precision is ill-defined and being set to 0.0 in labels with no predicted samples. Use `zero_division` parameter to control this behavior.\n",
      "  _warn_prf(average, modifier, f\"{metric.capitalize()} is\", len(result))\n",
      "c:\\Users\\gsamp\\anaconda3\\envs\\visionEnv\\Lib\\site-packages\\sklearn\\metrics\\_classification.py:1509: UndefinedMetricWarning: Precision is ill-defined and being set to 0.0 in labels with no predicted samples. Use `zero_division` parameter to control this behavior.\n",
      "  _warn_prf(average, modifier, f\"{metric.capitalize()} is\", len(result))\n",
      "c:\\Users\\gsamp\\anaconda3\\envs\\visionEnv\\Lib\\site-packages\\sklearn\\metrics\\_classification.py:1509: UndefinedMetricWarning: Precision is ill-defined and being set to 0.0 in labels with no predicted samples. Use `zero_division` parameter to control this behavior.\n",
      "  _warn_prf(average, modifier, f\"{metric.capitalize()} is\", len(result))\n",
      "c:\\Users\\gsamp\\anaconda3\\envs\\visionEnv\\Lib\\site-packages\\sklearn\\metrics\\_classification.py:1509: UndefinedMetricWarning: Precision is ill-defined and being set to 0.0 in labels with no predicted samples. Use `zero_division` parameter to control this behavior.\n",
      "  _warn_prf(average, modifier, f\"{metric.capitalize()} is\", len(result))\n"
     ]
    },
    {
     "name": "stdout",
     "output_type": "stream",
     "text": [
      "Nodes classified as fraud: 0, \n",
      "                nodes classified as licit: 37326\n",
      "Epoch: 25, \n",
      "            Training Loss: 0.1872, Training Accuracy: 0.9284\n",
      "            Test Loss: 0.4440, Test Accuracy: 0.7973\n",
      "            \n",
      "Precision: [0.         0.79725049], Recall: [0. 1.], F1 Score: [0.         0.88718906] \n",
      "\n",
      "---------------------------------------------------------------------------------\n"
     ]
    },
    {
     "name": "stderr",
     "output_type": "stream",
     "text": [
      "c:\\Users\\gsamp\\anaconda3\\envs\\visionEnv\\Lib\\site-packages\\sklearn\\metrics\\_classification.py:1509: UndefinedMetricWarning: Precision is ill-defined and being set to 0.0 in labels with no predicted samples. Use `zero_division` parameter to control this behavior.\n",
      "  _warn_prf(average, modifier, f\"{metric.capitalize()} is\", len(result))\n",
      "c:\\Users\\gsamp\\anaconda3\\envs\\visionEnv\\Lib\\site-packages\\sklearn\\metrics\\_classification.py:1509: UndefinedMetricWarning: Precision is ill-defined and being set to 0.0 in labels with no predicted samples. Use `zero_division` parameter to control this behavior.\n",
      "  _warn_prf(average, modifier, f\"{metric.capitalize()} is\", len(result))\n",
      "c:\\Users\\gsamp\\anaconda3\\envs\\visionEnv\\Lib\\site-packages\\sklearn\\metrics\\_classification.py:1509: UndefinedMetricWarning: Precision is ill-defined and being set to 0.0 in labels with no predicted samples. Use `zero_division` parameter to control this behavior.\n",
      "  _warn_prf(average, modifier, f\"{metric.capitalize()} is\", len(result))\n",
      "c:\\Users\\gsamp\\anaconda3\\envs\\visionEnv\\Lib\\site-packages\\sklearn\\metrics\\_classification.py:1509: UndefinedMetricWarning: Precision is ill-defined and being set to 0.0 in labels with no predicted samples. Use `zero_division` parameter to control this behavior.\n",
      "  _warn_prf(average, modifier, f\"{metric.capitalize()} is\", len(result))\n",
      "c:\\Users\\gsamp\\anaconda3\\envs\\visionEnv\\Lib\\site-packages\\sklearn\\metrics\\_classification.py:1509: UndefinedMetricWarning: Precision is ill-defined and being set to 0.0 in labels with no predicted samples. Use `zero_division` parameter to control this behavior.\n",
      "  _warn_prf(average, modifier, f\"{metric.capitalize()} is\", len(result))\n"
     ]
    },
    {
     "name": "stdout",
     "output_type": "stream",
     "text": [
      "Nodes classified as fraud: 0, \n",
      "                nodes classified as licit: 37326\n",
      "Epoch: 30, \n",
      "            Training Loss: 0.1747, Training Accuracy: 0.9284\n",
      "            Test Loss: 0.4244, Test Accuracy: 0.7973\n",
      "            \n",
      "Precision: [0.         0.79725049], Recall: [0. 1.], F1 Score: [0.         0.88718906] \n",
      "\n",
      "---------------------------------------------------------------------------------\n"
     ]
    },
    {
     "name": "stderr",
     "output_type": "stream",
     "text": [
      "c:\\Users\\gsamp\\anaconda3\\envs\\visionEnv\\Lib\\site-packages\\sklearn\\metrics\\_classification.py:1509: UndefinedMetricWarning: Precision is ill-defined and being set to 0.0 in labels with no predicted samples. Use `zero_division` parameter to control this behavior.\n",
      "  _warn_prf(average, modifier, f\"{metric.capitalize()} is\", len(result))\n",
      "c:\\Users\\gsamp\\anaconda3\\envs\\visionEnv\\Lib\\site-packages\\sklearn\\metrics\\_classification.py:1509: UndefinedMetricWarning: Precision is ill-defined and being set to 0.0 in labels with no predicted samples. Use `zero_division` parameter to control this behavior.\n",
      "  _warn_prf(average, modifier, f\"{metric.capitalize()} is\", len(result))\n",
      "c:\\Users\\gsamp\\anaconda3\\envs\\visionEnv\\Lib\\site-packages\\sklearn\\metrics\\_classification.py:1509: UndefinedMetricWarning: Precision is ill-defined and being set to 0.0 in labels with no predicted samples. Use `zero_division` parameter to control this behavior.\n",
      "  _warn_prf(average, modifier, f\"{metric.capitalize()} is\", len(result))\n",
      "c:\\Users\\gsamp\\anaconda3\\envs\\visionEnv\\Lib\\site-packages\\sklearn\\metrics\\_classification.py:1509: UndefinedMetricWarning: Precision is ill-defined and being set to 0.0 in labels with no predicted samples. Use `zero_division` parameter to control this behavior.\n",
      "  _warn_prf(average, modifier, f\"{metric.capitalize()} is\", len(result))\n",
      "c:\\Users\\gsamp\\anaconda3\\envs\\visionEnv\\Lib\\site-packages\\sklearn\\metrics\\_classification.py:1509: UndefinedMetricWarning: Precision is ill-defined and being set to 0.0 in labels with no predicted samples. Use `zero_division` parameter to control this behavior.\n",
      "  _warn_prf(average, modifier, f\"{metric.capitalize()} is\", len(result))\n"
     ]
    },
    {
     "name": "stdout",
     "output_type": "stream",
     "text": [
      "Nodes classified as fraud: 0, \n",
      "                nodes classified as licit: 37326\n",
      "Epoch: 35, \n",
      "            Training Loss: 0.1636, Training Accuracy: 0.9284\n",
      "            Test Loss: 0.4138, Test Accuracy: 0.7973\n",
      "            \n",
      "Precision: [0.         0.79725049], Recall: [0. 1.], F1 Score: [0.         0.88718906] \n",
      "\n",
      "---------------------------------------------------------------------------------\n"
     ]
    },
    {
     "name": "stderr",
     "output_type": "stream",
     "text": [
      "c:\\Users\\gsamp\\anaconda3\\envs\\visionEnv\\Lib\\site-packages\\sklearn\\metrics\\_classification.py:1509: UndefinedMetricWarning: Precision is ill-defined and being set to 0.0 in labels with no predicted samples. Use `zero_division` parameter to control this behavior.\n",
      "  _warn_prf(average, modifier, f\"{metric.capitalize()} is\", len(result))\n",
      "c:\\Users\\gsamp\\anaconda3\\envs\\visionEnv\\Lib\\site-packages\\sklearn\\metrics\\_classification.py:1509: UndefinedMetricWarning: Precision is ill-defined and being set to 0.0 in labels with no predicted samples. Use `zero_division` parameter to control this behavior.\n",
      "  _warn_prf(average, modifier, f\"{metric.capitalize()} is\", len(result))\n",
      "c:\\Users\\gsamp\\anaconda3\\envs\\visionEnv\\Lib\\site-packages\\sklearn\\metrics\\_classification.py:1509: UndefinedMetricWarning: Precision is ill-defined and being set to 0.0 in labels with no predicted samples. Use `zero_division` parameter to control this behavior.\n",
      "  _warn_prf(average, modifier, f\"{metric.capitalize()} is\", len(result))\n",
      "c:\\Users\\gsamp\\anaconda3\\envs\\visionEnv\\Lib\\site-packages\\sklearn\\metrics\\_classification.py:1509: UndefinedMetricWarning: Precision is ill-defined and being set to 0.0 in labels with no predicted samples. Use `zero_division` parameter to control this behavior.\n",
      "  _warn_prf(average, modifier, f\"{metric.capitalize()} is\", len(result))\n",
      "c:\\Users\\gsamp\\anaconda3\\envs\\visionEnv\\Lib\\site-packages\\sklearn\\metrics\\_classification.py:1509: UndefinedMetricWarning: Precision is ill-defined and being set to 0.0 in labels with no predicted samples. Use `zero_division` parameter to control this behavior.\n",
      "  _warn_prf(average, modifier, f\"{metric.capitalize()} is\", len(result))\n"
     ]
    },
    {
     "name": "stdout",
     "output_type": "stream",
     "text": [
      "Nodes classified as fraud: 0, \n",
      "                nodes classified as licit: 37326\n",
      "Epoch: 40, \n",
      "            Training Loss: 0.1529, Training Accuracy: 0.9284\n",
      "            Test Loss: 0.4148, Test Accuracy: 0.7973\n",
      "            \n",
      "Precision: [0.         0.79725049], Recall: [0. 1.], F1 Score: [0.         0.88718906] \n",
      "\n",
      "---------------------------------------------------------------------------------\n"
     ]
    },
    {
     "name": "stderr",
     "output_type": "stream",
     "text": [
      "c:\\Users\\gsamp\\anaconda3\\envs\\visionEnv\\Lib\\site-packages\\sklearn\\metrics\\_classification.py:1509: UndefinedMetricWarning: Precision is ill-defined and being set to 0.0 in labels with no predicted samples. Use `zero_division` parameter to control this behavior.\n",
      "  _warn_prf(average, modifier, f\"{metric.capitalize()} is\", len(result))\n",
      "c:\\Users\\gsamp\\anaconda3\\envs\\visionEnv\\Lib\\site-packages\\sklearn\\metrics\\_classification.py:1509: UndefinedMetricWarning: Precision is ill-defined and being set to 0.0 in labels with no predicted samples. Use `zero_division` parameter to control this behavior.\n",
      "  _warn_prf(average, modifier, f\"{metric.capitalize()} is\", len(result))\n",
      "c:\\Users\\gsamp\\anaconda3\\envs\\visionEnv\\Lib\\site-packages\\sklearn\\metrics\\_classification.py:1509: UndefinedMetricWarning: Precision is ill-defined and being set to 0.0 in labels with no predicted samples. Use `zero_division` parameter to control this behavior.\n",
      "  _warn_prf(average, modifier, f\"{metric.capitalize()} is\", len(result))\n",
      "c:\\Users\\gsamp\\anaconda3\\envs\\visionEnv\\Lib\\site-packages\\sklearn\\metrics\\_classification.py:1509: UndefinedMetricWarning: Precision is ill-defined and being set to 0.0 in labels with no predicted samples. Use `zero_division` parameter to control this behavior.\n",
      "  _warn_prf(average, modifier, f\"{metric.capitalize()} is\", len(result))\n",
      "c:\\Users\\gsamp\\anaconda3\\envs\\visionEnv\\Lib\\site-packages\\sklearn\\metrics\\_classification.py:1509: UndefinedMetricWarning: Precision is ill-defined and being set to 0.0 in labels with no predicted samples. Use `zero_division` parameter to control this behavior.\n",
      "  _warn_prf(average, modifier, f\"{metric.capitalize()} is\", len(result))\n"
     ]
    },
    {
     "name": "stdout",
     "output_type": "stream",
     "text": [
      "Nodes classified as fraud: 0, \n",
      "                nodes classified as licit: 37326\n",
      "Epoch: 45, \n",
      "            Training Loss: 0.1431, Training Accuracy: 0.9284\n",
      "            Test Loss: 0.4149, Test Accuracy: 0.7973\n",
      "            \n",
      "Precision: [0.         0.79725049], Recall: [0. 1.], F1 Score: [0.         0.88718906] \n",
      "\n",
      "---------------------------------------------------------------------------------\n"
     ]
    },
    {
     "name": "stderr",
     "output_type": "stream",
     "text": [
      "c:\\Users\\gsamp\\anaconda3\\envs\\visionEnv\\Lib\\site-packages\\sklearn\\metrics\\_classification.py:1509: UndefinedMetricWarning: Precision is ill-defined and being set to 0.0 in labels with no predicted samples. Use `zero_division` parameter to control this behavior.\n",
      "  _warn_prf(average, modifier, f\"{metric.capitalize()} is\", len(result))\n",
      "c:\\Users\\gsamp\\anaconda3\\envs\\visionEnv\\Lib\\site-packages\\sklearn\\metrics\\_classification.py:1509: UndefinedMetricWarning: Precision is ill-defined and being set to 0.0 in labels with no predicted samples. Use `zero_division` parameter to control this behavior.\n",
      "  _warn_prf(average, modifier, f\"{metric.capitalize()} is\", len(result))\n",
      "c:\\Users\\gsamp\\anaconda3\\envs\\visionEnv\\Lib\\site-packages\\sklearn\\metrics\\_classification.py:1509: UndefinedMetricWarning: Precision is ill-defined and being set to 0.0 in labels with no predicted samples. Use `zero_division` parameter to control this behavior.\n",
      "  _warn_prf(average, modifier, f\"{metric.capitalize()} is\", len(result))\n",
      "c:\\Users\\gsamp\\anaconda3\\envs\\visionEnv\\Lib\\site-packages\\sklearn\\metrics\\_classification.py:1509: UndefinedMetricWarning: Precision is ill-defined and being set to 0.0 in labels with no predicted samples. Use `zero_division` parameter to control this behavior.\n",
      "  _warn_prf(average, modifier, f\"{metric.capitalize()} is\", len(result))\n",
      "c:\\Users\\gsamp\\anaconda3\\envs\\visionEnv\\Lib\\site-packages\\sklearn\\metrics\\_classification.py:1509: UndefinedMetricWarning: Precision is ill-defined and being set to 0.0 in labels with no predicted samples. Use `zero_division` parameter to control this behavior.\n",
      "  _warn_prf(average, modifier, f\"{metric.capitalize()} is\", len(result))\n"
     ]
    },
    {
     "name": "stdout",
     "output_type": "stream",
     "text": [
      "Nodes classified as fraud: 0, \n",
      "                nodes classified as licit: 37326\n",
      "Epoch: 50, \n",
      "            Training Loss: 0.1348, Training Accuracy: 0.9284\n",
      "            Test Loss: 0.4177, Test Accuracy: 0.7973\n",
      "            \n",
      "Precision: [0.         0.79725049], Recall: [0. 1.], F1 Score: [0.         0.88718906] \n",
      "\n",
      "---------------------------------------------------------------------------------\n"
     ]
    },
    {
     "name": "stderr",
     "output_type": "stream",
     "text": [
      "c:\\Users\\gsamp\\anaconda3\\envs\\visionEnv\\Lib\\site-packages\\sklearn\\metrics\\_classification.py:1509: UndefinedMetricWarning: Precision is ill-defined and being set to 0.0 in labels with no predicted samples. Use `zero_division` parameter to control this behavior.\n",
      "  _warn_prf(average, modifier, f\"{metric.capitalize()} is\", len(result))\n",
      "c:\\Users\\gsamp\\anaconda3\\envs\\visionEnv\\Lib\\site-packages\\sklearn\\metrics\\_classification.py:1509: UndefinedMetricWarning: Precision is ill-defined and being set to 0.0 in labels with no predicted samples. Use `zero_division` parameter to control this behavior.\n",
      "  _warn_prf(average, modifier, f\"{metric.capitalize()} is\", len(result))\n",
      "c:\\Users\\gsamp\\anaconda3\\envs\\visionEnv\\Lib\\site-packages\\sklearn\\metrics\\_classification.py:1509: UndefinedMetricWarning: Precision is ill-defined and being set to 0.0 in labels with no predicted samples. Use `zero_division` parameter to control this behavior.\n",
      "  _warn_prf(average, modifier, f\"{metric.capitalize()} is\", len(result))\n",
      "c:\\Users\\gsamp\\anaconda3\\envs\\visionEnv\\Lib\\site-packages\\sklearn\\metrics\\_classification.py:1509: UndefinedMetricWarning: Precision is ill-defined and being set to 0.0 in labels with no predicted samples. Use `zero_division` parameter to control this behavior.\n",
      "  _warn_prf(average, modifier, f\"{metric.capitalize()} is\", len(result))\n",
      "c:\\Users\\gsamp\\anaconda3\\envs\\visionEnv\\Lib\\site-packages\\sklearn\\metrics\\_classification.py:1509: UndefinedMetricWarning: Precision is ill-defined and being set to 0.0 in labels with no predicted samples. Use `zero_division` parameter to control this behavior.\n",
      "  _warn_prf(average, modifier, f\"{metric.capitalize()} is\", len(result))\n"
     ]
    },
    {
     "name": "stdout",
     "output_type": "stream",
     "text": [
      "Nodes classified as fraud: 0, \n",
      "                nodes classified as licit: 37326\n",
      "Epoch: 55, \n",
      "            Training Loss: 0.1270, Training Accuracy: 0.9284\n",
      "            Test Loss: 0.4041, Test Accuracy: 0.7973\n",
      "            \n",
      "Precision: [0.         0.79725049], Recall: [0. 1.], F1 Score: [0.         0.88718906] \n",
      "\n",
      "---------------------------------------------------------------------------------\n"
     ]
    },
    {
     "name": "stderr",
     "output_type": "stream",
     "text": [
      "c:\\Users\\gsamp\\anaconda3\\envs\\visionEnv\\Lib\\site-packages\\sklearn\\metrics\\_classification.py:1509: UndefinedMetricWarning: Precision is ill-defined and being set to 0.0 in labels with no predicted samples. Use `zero_division` parameter to control this behavior.\n",
      "  _warn_prf(average, modifier, f\"{metric.capitalize()} is\", len(result))\n",
      "c:\\Users\\gsamp\\anaconda3\\envs\\visionEnv\\Lib\\site-packages\\sklearn\\metrics\\_classification.py:1509: UndefinedMetricWarning: Precision is ill-defined and being set to 0.0 in labels with no predicted samples. Use `zero_division` parameter to control this behavior.\n",
      "  _warn_prf(average, modifier, f\"{metric.capitalize()} is\", len(result))\n",
      "c:\\Users\\gsamp\\anaconda3\\envs\\visionEnv\\Lib\\site-packages\\sklearn\\metrics\\_classification.py:1509: UndefinedMetricWarning: Precision is ill-defined and being set to 0.0 in labels with no predicted samples. Use `zero_division` parameter to control this behavior.\n",
      "  _warn_prf(average, modifier, f\"{metric.capitalize()} is\", len(result))\n",
      "c:\\Users\\gsamp\\anaconda3\\envs\\visionEnv\\Lib\\site-packages\\sklearn\\metrics\\_classification.py:1509: UndefinedMetricWarning: Precision is ill-defined and being set to 0.0 in labels with no predicted samples. Use `zero_division` parameter to control this behavior.\n",
      "  _warn_prf(average, modifier, f\"{metric.capitalize()} is\", len(result))\n",
      "c:\\Users\\gsamp\\anaconda3\\envs\\visionEnv\\Lib\\site-packages\\sklearn\\metrics\\_classification.py:1509: UndefinedMetricWarning: Precision is ill-defined and being set to 0.0 in labels with no predicted samples. Use `zero_division` parameter to control this behavior.\n",
      "  _warn_prf(average, modifier, f\"{metric.capitalize()} is\", len(result))\n"
     ]
    },
    {
     "name": "stdout",
     "output_type": "stream",
     "text": [
      "Nodes classified as fraud: 0, \n",
      "                nodes classified as licit: 37326\n",
      "Epoch: 60, \n",
      "            Training Loss: 0.1181, Training Accuracy: 0.9284\n",
      "            Test Loss: 0.4134, Test Accuracy: 0.7973\n",
      "            \n",
      "Precision: [0.         0.79725049], Recall: [0. 1.], F1 Score: [0.         0.88718906] \n",
      "\n",
      "---------------------------------------------------------------------------------\n"
     ]
    },
    {
     "name": "stderr",
     "output_type": "stream",
     "text": [
      "c:\\Users\\gsamp\\anaconda3\\envs\\visionEnv\\Lib\\site-packages\\sklearn\\metrics\\_classification.py:1509: UndefinedMetricWarning: Precision is ill-defined and being set to 0.0 in labels with no predicted samples. Use `zero_division` parameter to control this behavior.\n",
      "  _warn_prf(average, modifier, f\"{metric.capitalize()} is\", len(result))\n",
      "c:\\Users\\gsamp\\anaconda3\\envs\\visionEnv\\Lib\\site-packages\\sklearn\\metrics\\_classification.py:1509: UndefinedMetricWarning: Precision is ill-defined and being set to 0.0 in labels with no predicted samples. Use `zero_division` parameter to control this behavior.\n",
      "  _warn_prf(average, modifier, f\"{metric.capitalize()} is\", len(result))\n",
      "c:\\Users\\gsamp\\anaconda3\\envs\\visionEnv\\Lib\\site-packages\\sklearn\\metrics\\_classification.py:1509: UndefinedMetricWarning: Precision is ill-defined and being set to 0.0 in labels with no predicted samples. Use `zero_division` parameter to control this behavior.\n",
      "  _warn_prf(average, modifier, f\"{metric.capitalize()} is\", len(result))\n"
     ]
    },
    {
     "name": "stdout",
     "output_type": "stream",
     "text": [
      "Nodes classified as fraud: 1827, \n",
      "                nodes classified as licit: 35499\n",
      "Epoch: 65, \n",
      "            Training Loss: 0.1092, Training Accuracy: 0.9639\n",
      "            Test Loss: 0.4209, Test Accuracy: 0.9100\n",
      "            \n",
      "Precision: [0.87973761 0.91533181], Recall: [0.64442072 0.97759674], F1 Score: [0.74391371 0.94544022] \n",
      "\n",
      "---------------------------------------------------------------------------------\n",
      "Nodes classified as fraud: 1762, \n",
      "                nodes classified as licit: 35564\n",
      "Epoch: 70, \n",
      "            Training Loss: 0.1007, Training Accuracy: 0.9658\n",
      "            Test Loss: 0.4061, Test Accuracy: 0.9102\n",
      "            \n",
      "Precision: [0.86647927 0.91810621], Recall: [0.65830219 0.97420231], F1 Score: [0.74817961 0.94532279] \n",
      "\n",
      "---------------------------------------------------------------------------------\n",
      "Nodes classified as fraud: 2093, \n",
      "                nodes classified as licit: 35233\n",
      "Epoch: 75, \n",
      "            Training Loss: 0.0945, Training Accuracy: 0.9655\n",
      "            Test Loss: 0.4339, Test Accuracy: 0.9004\n",
      "            \n",
      "Precision: [0.86795367 0.90570313], Recall: [0.60010678 0.97678208], F1 Score: [0.70959596 0.93990071] \n",
      "\n",
      "---------------------------------------------------------------------------------\n",
      "Nodes classified as fraud: 2188, \n",
      "                nodes classified as licit: 35138\n",
      "Epoch: 80, \n",
      "            Training Loss: 0.0906, Training Accuracy: 0.9647\n",
      "            Test Loss: 0.4487, Test Accuracy: 0.9085\n",
      "            \n",
      "Precision: [0.85253772 0.91902314], Recall: [0.66364122 0.97080788], F1 Score: [0.74632243 0.94420601] \n",
      "\n",
      "---------------------------------------------------------------------------------\n",
      "Nodes classified as fraud: 2035, \n",
      "                nodes classified as licit: 35291\n",
      "Epoch: 85, \n",
      "            Training Loss: 0.0826, Training Accuracy: 0.9664\n",
      "            Test Loss: 0.4383, Test Accuracy: 0.9100\n",
      "            \n",
      "Precision: [0.86281337 0.91873878], Recall: [0.66150561 0.97325187], F1 Score: [0.74886673 0.94521   ] \n",
      "\n",
      "---------------------------------------------------------------------------------\n",
      "Nodes classified as fraud: 2093, \n",
      "                nodes classified as licit: 35233\n",
      "Epoch: 90, \n",
      "            Training Loss: 0.0683, Training Accuracy: 0.9698\n",
      "            Test Loss: 0.4193, Test Accuracy: 0.9119\n",
      "            \n",
      "Precision: [0.862423   0.92117783], Recall: [0.67271757 0.97270876], F1 Score: [0.75584883 0.94624224] \n",
      "\n",
      "---------------------------------------------------------------------------------\n",
      "Nodes classified as fraud: 2807, \n",
      "                nodes classified as licit: 34519\n",
      "Epoch: 95, \n",
      "            Training Loss: 0.0508, Training Accuracy: 0.9801\n",
      "            Test Loss: 0.4215, Test Accuracy: 0.9192\n",
      "            \n",
      "Precision: [0.8438072  0.93551783], Recall: [0.73838761 0.965241  ], F1 Score: [0.78758542 0.95014702] \n",
      "\n",
      "---------------------------------------------------------------------------------\n",
      "Nodes classified as fraud: 2906, \n",
      "                nodes classified as licit: 34420\n",
      "Epoch: 100, \n",
      "            Training Loss: 0.0423, Training Accuracy: 0.9834\n",
      "            Test Loss: 0.4464, Test Accuracy: 0.9280\n",
      "            \n",
      "Precision: [0.85034803 0.94583444], Recall: [0.78270155 0.96496945], F1 Score: [0.81512371 0.95530614] \n",
      "\n",
      "---------------------------------------------------------------------------------\n"
     ]
    },
    {
     "data": {
      "text/html": [
       "Finishing last run (ID:m16i8sn7) before initializing another..."
      ],
      "text/plain": [
       "<IPython.core.display.HTML object>"
      ]
     },
     "metadata": {},
     "output_type": "display_data"
    },
    {
     "data": {
      "text/html": [
       "<style>\n",
       "    table.wandb td:nth-child(1) { padding: 0 10px; text-align: left ; width: auto;} td:nth-child(2) {text-align: left ; width: 100%}\n",
       "    .wandb-row { display: flex; flex-direction: row; flex-wrap: wrap; justify-content: flex-start; width: 100% }\n",
       "    .wandb-col { display: flex; flex-direction: column; flex-basis: 100%; flex: 1; padding: 10px; }\n",
       "    </style>\n",
       "<div class=\"wandb-row\"><div class=\"wandb-col\"><h3>Run history:</h3><br/><table class=\"wandb\"><tr><td>epoch</td><td>▁▁▁▁▂▂▂▂▂▃▃▃▃▃▃▄▄▄▄▄▅▅▅▅▅▅▆▆▆▆▆▇▇▇▇▇▇███</td></tr><tr><td>test_accuracy</td><td>▁▁▁▁▁▁▁▁▁▁▁▁▁▁▁▁▁▁▁▁▁▁▁▁▁▇▆▇▇▇▇▇▇▇▇▇▇███</td></tr><tr><td>test_f1_score_class_0</td><td>▁▁▁▁▁▁▁▁▁▁▁▁▁▁▁▁▁▁▁▁▁▁▁▁▁▇▇▇▇▇▇▇▇▇▇▇████</td></tr><tr><td>test_f1_score_class_1</td><td>▁▁▁▁▁▁▁▁▁▁▁▁▁▁▁▁▁▁▁▁▁▁▁▁▁▇▆▇▆▇▆▇▇▇▇▇▇███</td></tr><tr><td>test_loss</td><td>█▁▁▁▁▁▁▁▁▁▁▁▁▁▁▁▁▁▁▁▁▁▁▁▁▁▁▁▁▁▁▁▁▁▁▁▁▁▁▁</td></tr><tr><td>test_precision_class_0</td><td>▁▁▁▁▁▁▁▁▁▁▁▁▁▁▁▁▁▁▁▁▁▁▁▁▁████▇▇▇██████▇█</td></tr><tr><td>test_precision_class_1</td><td>▁▁▁▁▁▁▁▁▁▁▁▁▁▁▁▁▁▁▁▁▁▁▁▁▁▆▆▆▆▇▇▇▇▇▇▇▇███</td></tr><tr><td>test_recall_class_0</td><td>▁▁▁▁▁▁▁▁▁▁▁▁▁▁▁▁▁▁▁▁▁▁▁▁▁▇▆▆▆▇▇▇▇▇▇▇▇███</td></tr><tr><td>test_recall_class_1</td><td>█████████████████████████▄▅▅▄▃▁▂▃▄▄▄▃▂▂▂</td></tr><tr><td>train_accuracy</td><td>▁▇▅▇▇▇▇▇▇▇▇▇▇▇▇▇▇▇▇▇▇▇▇▇▇███████████████</td></tr><tr><td>train_loss</td><td>█▄▇▅▃▃▃▃▃▃▂▂▂▂▂▂▂▂▂▂▂▂▂▂▂▂▂▂▂▂▂▂▁▁▁▁▁▁▁▁</td></tr></table><br/></div><div class=\"wandb-col\"><h3>Run summary:</h3><br/><table class=\"wandb\"><tr><td>epoch</td><td>100</td></tr><tr><td>test_accuracy</td><td>0.92801</td></tr><tr><td>test_f1_score_class_0</td><td>0.81512</td></tr><tr><td>test_f1_score_class_1</td><td>0.95531</td></tr><tr><td>test_loss</td><td>0.44644</td></tr><tr><td>test_precision_class_0</td><td>0.85035</td></tr><tr><td>test_precision_class_1</td><td>0.94583</td></tr><tr><td>test_recall_class_0</td><td>0.7827</td></tr><tr><td>test_recall_class_1</td><td>0.96497</td></tr><tr><td>train_accuracy</td><td>0.98344</td></tr><tr><td>train_loss</td><td>0.04235</td></tr></table><br/></div></div>"
      ],
      "text/plain": [
       "<IPython.core.display.HTML object>"
      ]
     },
     "metadata": {},
     "output_type": "display_data"
    },
    {
     "data": {
      "text/html": [
       " View run <strong style=\"color:#cdcd00\">2_SAGE - n_layers: 4</strong> at: <a href='https://wandb.ai/gsamper/GraphAnomaly/runs/m16i8sn7' target=\"_blank\">https://wandb.ai/gsamper/GraphAnomaly/runs/m16i8sn7</a><br/> View project at: <a href='https://wandb.ai/gsamper/GraphAnomaly' target=\"_blank\">https://wandb.ai/gsamper/GraphAnomaly</a><br/>Synced 5 W&B file(s), 0 media file(s), 0 artifact file(s) and 0 other file(s)"
      ],
      "text/plain": [
       "<IPython.core.display.HTML object>"
      ]
     },
     "metadata": {},
     "output_type": "display_data"
    },
    {
     "data": {
      "text/html": [
       "Find logs at: <code>.\\wandb\\run-20240512_164827-m16i8sn7\\logs</code>"
      ],
      "text/plain": [
       "<IPython.core.display.HTML object>"
      ]
     },
     "metadata": {},
     "output_type": "display_data"
    },
    {
     "data": {
      "text/html": [
       "Successfully finished last run (ID:m16i8sn7). Initializing new run:<br/>"
      ],
      "text/plain": [
       "<IPython.core.display.HTML object>"
      ]
     },
     "metadata": {},
     "output_type": "display_data"
    },
    {
     "data": {
      "text/html": [
       "wandb version 0.17.0 is available!  To upgrade, please run:\n",
       " $ pip install wandb --upgrade"
      ],
      "text/plain": [
       "<IPython.core.display.HTML object>"
      ]
     },
     "metadata": {},
     "output_type": "display_data"
    },
    {
     "data": {
      "text/html": [
       "Tracking run with wandb version 0.16.6"
      ],
      "text/plain": [
       "<IPython.core.display.HTML object>"
      ]
     },
     "metadata": {},
     "output_type": "display_data"
    },
    {
     "data": {
      "text/html": [
       "Run data is saved locally in <code>c:\\Users\\gsamp\\OneDrive\\Documents\\AI-3\\2n Semestre\\Projecte de Síntesi 2\\GraphAnomaly\\GNN_models\\wandb\\run-20240512_165022-8eknbvd5</code>"
      ],
      "text/plain": [
       "<IPython.core.display.HTML object>"
      ]
     },
     "metadata": {},
     "output_type": "display_data"
    },
    {
     "data": {
      "text/html": [
       "Syncing run <strong><a href='https://wandb.ai/gsamper/GraphAnomaly/runs/8eknbvd5' target=\"_blank\">2_SAGE - n_layers: 5</a></strong> to <a href='https://wandb.ai/gsamper/GraphAnomaly' target=\"_blank\">Weights & Biases</a> (<a href='https://wandb.me/run' target=\"_blank\">docs</a>)<br/>"
      ],
      "text/plain": [
       "<IPython.core.display.HTML object>"
      ]
     },
     "metadata": {},
     "output_type": "display_data"
    },
    {
     "data": {
      "text/html": [
       " View project at <a href='https://wandb.ai/gsamper/GraphAnomaly' target=\"_blank\">https://wandb.ai/gsamper/GraphAnomaly</a>"
      ],
      "text/plain": [
       "<IPython.core.display.HTML object>"
      ]
     },
     "metadata": {},
     "output_type": "display_data"
    },
    {
     "data": {
      "text/html": [
       " View run at <a href='https://wandb.ai/gsamper/GraphAnomaly/runs/8eknbvd5' target=\"_blank\">https://wandb.ai/gsamper/GraphAnomaly/runs/8eknbvd5</a>"
      ],
      "text/plain": [
       "<IPython.core.display.HTML object>"
      ]
     },
     "metadata": {},
     "output_type": "display_data"
    },
    {
     "name": "stdout",
     "output_type": "stream",
     "text": [
      "Nodes classified as fraud: 16220, \n",
      "                nodes classified as licit: 21106\n",
      "Epoch: 0, \n",
      "            Training Loss: 0.7189, Training Accuracy: 0.5536\n",
      "            Test Loss: 24.9634, Test Accuracy: 0.7973\n",
      "            \n",
      "Precision: [0.         0.79725049], Recall: [0. 1.], F1 Score: [0.         0.88718906] \n",
      "\n",
      "---------------------------------------------------------------------------------\n"
     ]
    },
    {
     "name": "stderr",
     "output_type": "stream",
     "text": [
      "c:\\Users\\gsamp\\anaconda3\\envs\\visionEnv\\Lib\\site-packages\\sklearn\\metrics\\_classification.py:1509: UndefinedMetricWarning: Precision is ill-defined and being set to 0.0 in labels with no predicted samples. Use `zero_division` parameter to control this behavior.\n",
      "  _warn_prf(average, modifier, f\"{metric.capitalize()} is\", len(result))\n",
      "c:\\Users\\gsamp\\anaconda3\\envs\\visionEnv\\Lib\\site-packages\\sklearn\\metrics\\_classification.py:1509: UndefinedMetricWarning: Precision is ill-defined and being set to 0.0 in labels with no predicted samples. Use `zero_division` parameter to control this behavior.\n",
      "  _warn_prf(average, modifier, f\"{metric.capitalize()} is\", len(result))\n",
      "c:\\Users\\gsamp\\anaconda3\\envs\\visionEnv\\Lib\\site-packages\\sklearn\\metrics\\_classification.py:1509: UndefinedMetricWarning: Precision is ill-defined and being set to 0.0 in labels with no predicted samples. Use `zero_division` parameter to control this behavior.\n",
      "  _warn_prf(average, modifier, f\"{metric.capitalize()} is\", len(result))\n",
      "c:\\Users\\gsamp\\anaconda3\\envs\\visionEnv\\Lib\\site-packages\\sklearn\\metrics\\_classification.py:1509: UndefinedMetricWarning: Precision is ill-defined and being set to 0.0 in labels with no predicted samples. Use `zero_division` parameter to control this behavior.\n",
      "  _warn_prf(average, modifier, f\"{metric.capitalize()} is\", len(result))\n"
     ]
    },
    {
     "name": "stdout",
     "output_type": "stream",
     "text": [
      "Nodes classified as fraud: 0, \n",
      "                nodes classified as licit: 37326\n",
      "Epoch: 5, \n",
      "            Training Loss: 0.3256, Training Accuracy: 0.9284\n",
      "            Test Loss: 0.7002, Test Accuracy: 0.7973\n",
      "            \n",
      "Precision: [0.         0.79725049], Recall: [0. 1.], F1 Score: [0.         0.88718906] \n",
      "\n",
      "---------------------------------------------------------------------------------\n"
     ]
    },
    {
     "name": "stderr",
     "output_type": "stream",
     "text": [
      "c:\\Users\\gsamp\\anaconda3\\envs\\visionEnv\\Lib\\site-packages\\sklearn\\metrics\\_classification.py:1509: UndefinedMetricWarning: Precision is ill-defined and being set to 0.0 in labels with no predicted samples. Use `zero_division` parameter to control this behavior.\n",
      "  _warn_prf(average, modifier, f\"{metric.capitalize()} is\", len(result))\n",
      "c:\\Users\\gsamp\\anaconda3\\envs\\visionEnv\\Lib\\site-packages\\sklearn\\metrics\\_classification.py:1509: UndefinedMetricWarning: Precision is ill-defined and being set to 0.0 in labels with no predicted samples. Use `zero_division` parameter to control this behavior.\n",
      "  _warn_prf(average, modifier, f\"{metric.capitalize()} is\", len(result))\n",
      "c:\\Users\\gsamp\\anaconda3\\envs\\visionEnv\\Lib\\site-packages\\sklearn\\metrics\\_classification.py:1509: UndefinedMetricWarning: Precision is ill-defined and being set to 0.0 in labels with no predicted samples. Use `zero_division` parameter to control this behavior.\n",
      "  _warn_prf(average, modifier, f\"{metric.capitalize()} is\", len(result))\n",
      "c:\\Users\\gsamp\\anaconda3\\envs\\visionEnv\\Lib\\site-packages\\sklearn\\metrics\\_classification.py:1509: UndefinedMetricWarning: Precision is ill-defined and being set to 0.0 in labels with no predicted samples. Use `zero_division` parameter to control this behavior.\n",
      "  _warn_prf(average, modifier, f\"{metric.capitalize()} is\", len(result))\n",
      "c:\\Users\\gsamp\\anaconda3\\envs\\visionEnv\\Lib\\site-packages\\sklearn\\metrics\\_classification.py:1509: UndefinedMetricWarning: Precision is ill-defined and being set to 0.0 in labels with no predicted samples. Use `zero_division` parameter to control this behavior.\n",
      "  _warn_prf(average, modifier, f\"{metric.capitalize()} is\", len(result))\n"
     ]
    },
    {
     "name": "stdout",
     "output_type": "stream",
     "text": [
      "Nodes classified as fraud: 0, \n",
      "                nodes classified as licit: 37326\n",
      "Epoch: 10, \n",
      "            Training Loss: 0.2941, Training Accuracy: 0.9284\n",
      "            Test Loss: 0.4446, Test Accuracy: 0.7973\n",
      "            \n",
      "Precision: [0.         0.79725049], Recall: [0. 1.], F1 Score: [0.         0.88718906] \n",
      "\n",
      "---------------------------------------------------------------------------------\n"
     ]
    },
    {
     "name": "stderr",
     "output_type": "stream",
     "text": [
      "c:\\Users\\gsamp\\anaconda3\\envs\\visionEnv\\Lib\\site-packages\\sklearn\\metrics\\_classification.py:1509: UndefinedMetricWarning: Precision is ill-defined and being set to 0.0 in labels with no predicted samples. Use `zero_division` parameter to control this behavior.\n",
      "  _warn_prf(average, modifier, f\"{metric.capitalize()} is\", len(result))\n",
      "c:\\Users\\gsamp\\anaconda3\\envs\\visionEnv\\Lib\\site-packages\\sklearn\\metrics\\_classification.py:1509: UndefinedMetricWarning: Precision is ill-defined and being set to 0.0 in labels with no predicted samples. Use `zero_division` parameter to control this behavior.\n",
      "  _warn_prf(average, modifier, f\"{metric.capitalize()} is\", len(result))\n",
      "c:\\Users\\gsamp\\anaconda3\\envs\\visionEnv\\Lib\\site-packages\\sklearn\\metrics\\_classification.py:1509: UndefinedMetricWarning: Precision is ill-defined and being set to 0.0 in labels with no predicted samples. Use `zero_division` parameter to control this behavior.\n",
      "  _warn_prf(average, modifier, f\"{metric.capitalize()} is\", len(result))\n",
      "c:\\Users\\gsamp\\anaconda3\\envs\\visionEnv\\Lib\\site-packages\\sklearn\\metrics\\_classification.py:1509: UndefinedMetricWarning: Precision is ill-defined and being set to 0.0 in labels with no predicted samples. Use `zero_division` parameter to control this behavior.\n",
      "  _warn_prf(average, modifier, f\"{metric.capitalize()} is\", len(result))\n",
      "c:\\Users\\gsamp\\anaconda3\\envs\\visionEnv\\Lib\\site-packages\\sklearn\\metrics\\_classification.py:1509: UndefinedMetricWarning: Precision is ill-defined and being set to 0.0 in labels with no predicted samples. Use `zero_division` parameter to control this behavior.\n",
      "  _warn_prf(average, modifier, f\"{metric.capitalize()} is\", len(result))\n"
     ]
    },
    {
     "name": "stdout",
     "output_type": "stream",
     "text": [
      "Nodes classified as fraud: 0, \n",
      "                nodes classified as licit: 37326\n",
      "Epoch: 15, \n",
      "            Training Loss: 0.1867, Training Accuracy: 0.9284\n",
      "            Test Loss: 0.4615, Test Accuracy: 0.7973\n",
      "            \n",
      "Precision: [0.         0.79725049], Recall: [0. 1.], F1 Score: [0.         0.88718906] \n",
      "\n",
      "---------------------------------------------------------------------------------\n"
     ]
    },
    {
     "name": "stderr",
     "output_type": "stream",
     "text": [
      "c:\\Users\\gsamp\\anaconda3\\envs\\visionEnv\\Lib\\site-packages\\sklearn\\metrics\\_classification.py:1509: UndefinedMetricWarning: Precision is ill-defined and being set to 0.0 in labels with no predicted samples. Use `zero_division` parameter to control this behavior.\n",
      "  _warn_prf(average, modifier, f\"{metric.capitalize()} is\", len(result))\n",
      "c:\\Users\\gsamp\\anaconda3\\envs\\visionEnv\\Lib\\site-packages\\sklearn\\metrics\\_classification.py:1509: UndefinedMetricWarning: Precision is ill-defined and being set to 0.0 in labels with no predicted samples. Use `zero_division` parameter to control this behavior.\n",
      "  _warn_prf(average, modifier, f\"{metric.capitalize()} is\", len(result))\n",
      "c:\\Users\\gsamp\\anaconda3\\envs\\visionEnv\\Lib\\site-packages\\sklearn\\metrics\\_classification.py:1509: UndefinedMetricWarning: Precision is ill-defined and being set to 0.0 in labels with no predicted samples. Use `zero_division` parameter to control this behavior.\n",
      "  _warn_prf(average, modifier, f\"{metric.capitalize()} is\", len(result))\n",
      "c:\\Users\\gsamp\\anaconda3\\envs\\visionEnv\\Lib\\site-packages\\sklearn\\metrics\\_classification.py:1509: UndefinedMetricWarning: Precision is ill-defined and being set to 0.0 in labels with no predicted samples. Use `zero_division` parameter to control this behavior.\n",
      "  _warn_prf(average, modifier, f\"{metric.capitalize()} is\", len(result))\n",
      "c:\\Users\\gsamp\\anaconda3\\envs\\visionEnv\\Lib\\site-packages\\sklearn\\metrics\\_classification.py:1509: UndefinedMetricWarning: Precision is ill-defined and being set to 0.0 in labels with no predicted samples. Use `zero_division` parameter to control this behavior.\n",
      "  _warn_prf(average, modifier, f\"{metric.capitalize()} is\", len(result))\n"
     ]
    },
    {
     "name": "stdout",
     "output_type": "stream",
     "text": [
      "Nodes classified as fraud: 0, \n",
      "                nodes classified as licit: 37326\n",
      "Epoch: 20, \n",
      "            Training Loss: 0.1694, Training Accuracy: 0.9284\n",
      "            Test Loss: 0.4494, Test Accuracy: 0.7973\n",
      "            \n",
      "Precision: [0.         0.79725049], Recall: [0. 1.], F1 Score: [0.         0.88718906] \n",
      "\n",
      "---------------------------------------------------------------------------------\n"
     ]
    },
    {
     "name": "stderr",
     "output_type": "stream",
     "text": [
      "c:\\Users\\gsamp\\anaconda3\\envs\\visionEnv\\Lib\\site-packages\\sklearn\\metrics\\_classification.py:1509: UndefinedMetricWarning: Precision is ill-defined and being set to 0.0 in labels with no predicted samples. Use `zero_division` parameter to control this behavior.\n",
      "  _warn_prf(average, modifier, f\"{metric.capitalize()} is\", len(result))\n",
      "c:\\Users\\gsamp\\anaconda3\\envs\\visionEnv\\Lib\\site-packages\\sklearn\\metrics\\_classification.py:1509: UndefinedMetricWarning: Precision is ill-defined and being set to 0.0 in labels with no predicted samples. Use `zero_division` parameter to control this behavior.\n",
      "  _warn_prf(average, modifier, f\"{metric.capitalize()} is\", len(result))\n",
      "c:\\Users\\gsamp\\anaconda3\\envs\\visionEnv\\Lib\\site-packages\\sklearn\\metrics\\_classification.py:1509: UndefinedMetricWarning: Precision is ill-defined and being set to 0.0 in labels with no predicted samples. Use `zero_division` parameter to control this behavior.\n",
      "  _warn_prf(average, modifier, f\"{metric.capitalize()} is\", len(result))\n",
      "c:\\Users\\gsamp\\anaconda3\\envs\\visionEnv\\Lib\\site-packages\\sklearn\\metrics\\_classification.py:1509: UndefinedMetricWarning: Precision is ill-defined and being set to 0.0 in labels with no predicted samples. Use `zero_division` parameter to control this behavior.\n",
      "  _warn_prf(average, modifier, f\"{metric.capitalize()} is\", len(result))\n",
      "c:\\Users\\gsamp\\anaconda3\\envs\\visionEnv\\Lib\\site-packages\\sklearn\\metrics\\_classification.py:1509: UndefinedMetricWarning: Precision is ill-defined and being set to 0.0 in labels with no predicted samples. Use `zero_division` parameter to control this behavior.\n",
      "  _warn_prf(average, modifier, f\"{metric.capitalize()} is\", len(result))\n"
     ]
    },
    {
     "name": "stdout",
     "output_type": "stream",
     "text": [
      "Nodes classified as fraud: 0, \n",
      "                nodes classified as licit: 37326\n",
      "Epoch: 25, \n",
      "            Training Loss: 0.1587, Training Accuracy: 0.9284\n",
      "            Test Loss: 0.4180, Test Accuracy: 0.7973\n",
      "            \n",
      "Precision: [0.         0.79725049], Recall: [0. 1.], F1 Score: [0.         0.88718906] \n",
      "\n",
      "---------------------------------------------------------------------------------\n"
     ]
    },
    {
     "name": "stderr",
     "output_type": "stream",
     "text": [
      "c:\\Users\\gsamp\\anaconda3\\envs\\visionEnv\\Lib\\site-packages\\sklearn\\metrics\\_classification.py:1509: UndefinedMetricWarning: Precision is ill-defined and being set to 0.0 in labels with no predicted samples. Use `zero_division` parameter to control this behavior.\n",
      "  _warn_prf(average, modifier, f\"{metric.capitalize()} is\", len(result))\n",
      "c:\\Users\\gsamp\\anaconda3\\envs\\visionEnv\\Lib\\site-packages\\sklearn\\metrics\\_classification.py:1509: UndefinedMetricWarning: Precision is ill-defined and being set to 0.0 in labels with no predicted samples. Use `zero_division` parameter to control this behavior.\n",
      "  _warn_prf(average, modifier, f\"{metric.capitalize()} is\", len(result))\n",
      "c:\\Users\\gsamp\\anaconda3\\envs\\visionEnv\\Lib\\site-packages\\sklearn\\metrics\\_classification.py:1509: UndefinedMetricWarning: Precision is ill-defined and being set to 0.0 in labels with no predicted samples. Use `zero_division` parameter to control this behavior.\n",
      "  _warn_prf(average, modifier, f\"{metric.capitalize()} is\", len(result))\n",
      "c:\\Users\\gsamp\\anaconda3\\envs\\visionEnv\\Lib\\site-packages\\sklearn\\metrics\\_classification.py:1509: UndefinedMetricWarning: Precision is ill-defined and being set to 0.0 in labels with no predicted samples. Use `zero_division` parameter to control this behavior.\n",
      "  _warn_prf(average, modifier, f\"{metric.capitalize()} is\", len(result))\n",
      "c:\\Users\\gsamp\\anaconda3\\envs\\visionEnv\\Lib\\site-packages\\sklearn\\metrics\\_classification.py:1509: UndefinedMetricWarning: Precision is ill-defined and being set to 0.0 in labels with no predicted samples. Use `zero_division` parameter to control this behavior.\n",
      "  _warn_prf(average, modifier, f\"{metric.capitalize()} is\", len(result))\n"
     ]
    },
    {
     "name": "stdout",
     "output_type": "stream",
     "text": [
      "Nodes classified as fraud: 0, \n",
      "                nodes classified as licit: 37326\n",
      "Epoch: 30, \n",
      "            Training Loss: 0.1485, Training Accuracy: 0.9284\n",
      "            Test Loss: 0.4195, Test Accuracy: 0.7973\n",
      "            \n",
      "Precision: [0.         0.79725049], Recall: [0. 1.], F1 Score: [0.         0.88718906] \n",
      "\n",
      "---------------------------------------------------------------------------------\n"
     ]
    },
    {
     "name": "stderr",
     "output_type": "stream",
     "text": [
      "c:\\Users\\gsamp\\anaconda3\\envs\\visionEnv\\Lib\\site-packages\\sklearn\\metrics\\_classification.py:1509: UndefinedMetricWarning: Precision is ill-defined and being set to 0.0 in labels with no predicted samples. Use `zero_division` parameter to control this behavior.\n",
      "  _warn_prf(average, modifier, f\"{metric.capitalize()} is\", len(result))\n",
      "c:\\Users\\gsamp\\anaconda3\\envs\\visionEnv\\Lib\\site-packages\\sklearn\\metrics\\_classification.py:1509: UndefinedMetricWarning: Precision is ill-defined and being set to 0.0 in labels with no predicted samples. Use `zero_division` parameter to control this behavior.\n",
      "  _warn_prf(average, modifier, f\"{metric.capitalize()} is\", len(result))\n",
      "c:\\Users\\gsamp\\anaconda3\\envs\\visionEnv\\Lib\\site-packages\\sklearn\\metrics\\_classification.py:1509: UndefinedMetricWarning: Precision is ill-defined and being set to 0.0 in labels with no predicted samples. Use `zero_division` parameter to control this behavior.\n",
      "  _warn_prf(average, modifier, f\"{metric.capitalize()} is\", len(result))\n",
      "c:\\Users\\gsamp\\anaconda3\\envs\\visionEnv\\Lib\\site-packages\\sklearn\\metrics\\_classification.py:1509: UndefinedMetricWarning: Precision is ill-defined and being set to 0.0 in labels with no predicted samples. Use `zero_division` parameter to control this behavior.\n",
      "  _warn_prf(average, modifier, f\"{metric.capitalize()} is\", len(result))\n",
      "c:\\Users\\gsamp\\anaconda3\\envs\\visionEnv\\Lib\\site-packages\\sklearn\\metrics\\_classification.py:1509: UndefinedMetricWarning: Precision is ill-defined and being set to 0.0 in labels with no predicted samples. Use `zero_division` parameter to control this behavior.\n",
      "  _warn_prf(average, modifier, f\"{metric.capitalize()} is\", len(result))\n"
     ]
    },
    {
     "name": "stdout",
     "output_type": "stream",
     "text": [
      "Nodes classified as fraud: 0, \n",
      "                nodes classified as licit: 37326\n",
      "Epoch: 35, \n",
      "            Training Loss: 0.1405, Training Accuracy: 0.9284\n",
      "            Test Loss: 0.4714, Test Accuracy: 0.7973\n",
      "            \n",
      "Precision: [0.         0.79725049], Recall: [0. 1.], F1 Score: [0.         0.88718906] \n",
      "\n",
      "---------------------------------------------------------------------------------\n"
     ]
    },
    {
     "name": "stderr",
     "output_type": "stream",
     "text": [
      "c:\\Users\\gsamp\\anaconda3\\envs\\visionEnv\\Lib\\site-packages\\sklearn\\metrics\\_classification.py:1509: UndefinedMetricWarning: Precision is ill-defined and being set to 0.0 in labels with no predicted samples. Use `zero_division` parameter to control this behavior.\n",
      "  _warn_prf(average, modifier, f\"{metric.capitalize()} is\", len(result))\n",
      "c:\\Users\\gsamp\\anaconda3\\envs\\visionEnv\\Lib\\site-packages\\sklearn\\metrics\\_classification.py:1509: UndefinedMetricWarning: Precision is ill-defined and being set to 0.0 in labels with no predicted samples. Use `zero_division` parameter to control this behavior.\n",
      "  _warn_prf(average, modifier, f\"{metric.capitalize()} is\", len(result))\n",
      "c:\\Users\\gsamp\\anaconda3\\envs\\visionEnv\\Lib\\site-packages\\sklearn\\metrics\\_classification.py:1509: UndefinedMetricWarning: Precision is ill-defined and being set to 0.0 in labels with no predicted samples. Use `zero_division` parameter to control this behavior.\n",
      "  _warn_prf(average, modifier, f\"{metric.capitalize()} is\", len(result))\n",
      "c:\\Users\\gsamp\\anaconda3\\envs\\visionEnv\\Lib\\site-packages\\sklearn\\metrics\\_classification.py:1509: UndefinedMetricWarning: Precision is ill-defined and being set to 0.0 in labels with no predicted samples. Use `zero_division` parameter to control this behavior.\n",
      "  _warn_prf(average, modifier, f\"{metric.capitalize()} is\", len(result))\n",
      "c:\\Users\\gsamp\\anaconda3\\envs\\visionEnv\\Lib\\site-packages\\sklearn\\metrics\\_classification.py:1509: UndefinedMetricWarning: Precision is ill-defined and being set to 0.0 in labels with no predicted samples. Use `zero_division` parameter to control this behavior.\n",
      "  _warn_prf(average, modifier, f\"{metric.capitalize()} is\", len(result))\n"
     ]
    },
    {
     "name": "stdout",
     "output_type": "stream",
     "text": [
      "Nodes classified as fraud: 0, \n",
      "                nodes classified as licit: 37326\n",
      "Epoch: 40, \n",
      "            Training Loss: 0.1316, Training Accuracy: 0.9284\n",
      "            Test Loss: 0.4777, Test Accuracy: 0.7973\n",
      "            \n",
      "Precision: [0.         0.79725049], Recall: [0. 1.], F1 Score: [0.         0.88718906] \n",
      "\n",
      "---------------------------------------------------------------------------------\n"
     ]
    },
    {
     "name": "stderr",
     "output_type": "stream",
     "text": [
      "c:\\Users\\gsamp\\anaconda3\\envs\\visionEnv\\Lib\\site-packages\\sklearn\\metrics\\_classification.py:1509: UndefinedMetricWarning: Precision is ill-defined and being set to 0.0 in labels with no predicted samples. Use `zero_division` parameter to control this behavior.\n",
      "  _warn_prf(average, modifier, f\"{metric.capitalize()} is\", len(result))\n"
     ]
    },
    {
     "name": "stdout",
     "output_type": "stream",
     "text": [
      "Nodes classified as fraud: 18, \n",
      "                nodes classified as licit: 37308\n",
      "Epoch: 45, \n",
      "            Training Loss: 0.1236, Training Accuracy: 0.9286\n",
      "            Test Loss: 0.4818, Test Accuracy: 0.7980\n",
      "            \n",
      "Precision: [0.70588235 0.79817807], Recall: [0.00640683 0.99932111], F1 Score: [0.01269841 0.88749548] \n",
      "\n",
      "---------------------------------------------------------------------------------\n",
      "Nodes classified as fraud: 72, \n",
      "                nodes classified as licit: 37254\n",
      "Epoch: 50, \n",
      "            Training Loss: 0.1176, Training Accuracy: 0.9295\n",
      "            Test Loss: 0.5355, Test Accuracy: 0.7997\n",
      "            \n",
      "Precision: [0.82857143 0.79963056], Recall: [0.01548318 0.99918534], F1 Score: [0.03039832 0.88833897] \n",
      "\n",
      "---------------------------------------------------------------------------------\n",
      "Nodes classified as fraud: 93, \n",
      "                nodes classified as licit: 37233\n",
      "Epoch: 55, \n",
      "            Training Loss: 0.1119, Training Accuracy: 0.9302\n",
      "            Test Loss: 0.5668, Test Accuracy: 0.8002\n",
      "            \n",
      "Precision: [0.75471698 0.80043549], Recall: [0.02135611 0.99823489], F1 Score: [0.04153686 0.88845921] \n",
      "\n",
      "---------------------------------------------------------------------------------\n",
      "Nodes classified as fraud: 1904, \n",
      "                nodes classified as licit: 35422\n",
      "Epoch: 60, \n",
      "            Training Loss: 0.1071, Training Accuracy: 0.9707\n",
      "            Test Loss: 0.5582, Test Accuracy: 0.9265\n",
      "            \n",
      "Precision: [0.89276316 0.9331433 ], Recall: [0.72450614 0.9778683 ], F1 Score: [0.79988211 0.95498243] \n",
      "\n",
      "---------------------------------------------------------------------------------\n",
      "Nodes classified as fraud: 2091, \n",
      "                nodes classified as licit: 35235\n",
      "Epoch: 65, \n",
      "            Training Loss: 0.1024, Training Accuracy: 0.9747\n",
      "            Test Loss: 0.5359, Test Accuracy: 0.9276\n",
      "            \n",
      "Precision: [0.91632089 0.92967146], Recall: [0.70742125 0.98357094], F1 Score: [0.79843326 0.95586198] \n",
      "\n",
      "---------------------------------------------------------------------------------\n",
      "Nodes classified as fraud: 2195, \n",
      "                nodes classified as licit: 35131\n",
      "Epoch: 70, \n",
      "            Training Loss: 0.0966, Training Accuracy: 0.9765\n",
      "            Test Loss: 0.5574, Test Accuracy: 0.9289\n",
      "            \n",
      "Precision: [0.9075067  0.93299768], Recall: [0.72290443 0.98126273], F1 Score: [0.80475483 0.95652174] \n",
      "\n",
      "---------------------------------------------------------------------------------\n",
      "Nodes classified as fraud: 2231, \n",
      "                nodes classified as licit: 35095\n",
      "Epoch: 75, \n",
      "            Training Loss: 0.0924, Training Accuracy: 0.9771\n",
      "            Test Loss: 0.6408, Test Accuracy: 0.9290\n",
      "            \n",
      "Precision: [0.92169092 0.93033996], Recall: [0.71009076 0.98465716], F1 Score: [0.80217129 0.95672823] \n",
      "\n",
      "---------------------------------------------------------------------------------\n",
      "Nodes classified as fraud: 2057, \n",
      "                nodes classified as licit: 35269\n",
      "Epoch: 80, \n",
      "            Training Loss: 0.0895, Training Accuracy: 0.9775\n",
      "            Test Loss: 0.6773, Test Accuracy: 0.9317\n",
      "            \n",
      "Precision: [0.91344874 0.93523785], Recall: [0.73251468 0.98234895], F1 Score: [0.81303704 0.95821469] \n",
      "\n",
      "---------------------------------------------------------------------------------\n",
      "Nodes classified as fraud: 2167, \n",
      "                nodes classified as licit: 35159\n",
      "Epoch: 85, \n",
      "            Training Loss: 0.0849, Training Accuracy: 0.9792\n",
      "            Test Loss: 0.6770, Test Accuracy: 0.9296\n",
      "            \n",
      "Precision: [0.88825397 0.93814433], Recall: [0.74693006 0.97610319], F1 Score: [0.81148492 0.9567474 ] \n",
      "\n",
      "---------------------------------------------------------------------------------\n",
      "Nodes classified as fraud: 2237, \n",
      "                nodes classified as licit: 35089\n",
      "Epoch: 90, \n",
      "            Training Loss: 0.0883, Training Accuracy: 0.9758\n",
      "            Test Loss: 0.5354, Test Accuracy: 0.9263\n",
      "            \n",
      "Precision: [0.85903614 0.94101346], Recall: [0.76134544 0.96822811], F1 Score: [0.80724597 0.95442682] \n",
      "\n",
      "---------------------------------------------------------------------------------\n",
      "Nodes classified as fraud: 2298, \n",
      "                nodes classified as licit: 35028\n",
      "Epoch: 95, \n",
      "            Training Loss: 1.5932, Training Accuracy: 0.9767\n",
      "            Test Loss: 0.5991, Test Accuracy: 0.9294\n",
      "            \n",
      "Precision: [0.9083612  0.93348831], Recall: [0.72504004 0.98139851], F1 Score: [0.8064133  0.95684406] \n",
      "\n",
      "---------------------------------------------------------------------------------\n",
      "Nodes classified as fraud: 2218, \n",
      "                nodes classified as licit: 35108\n",
      "Epoch: 100, \n",
      "            Training Loss: 0.2344, Training Accuracy: 0.9779\n",
      "            Test Loss: 0.4736, Test Accuracy: 0.9227\n",
      "            \n",
      "Precision: [0.87411233 0.93250098], Recall: [0.72290443 0.97352342], F1 Score: [0.79135009 0.95257075] \n",
      "\n",
      "---------------------------------------------------------------------------------\n"
     ]
    }
   ],
   "source": [
    "EPOCHS = 101\n",
    "layers_list = [4, 5]\n",
    "# layers_list = [4]\n",
    "wb = True\n",
    "for LAYERS in layers_list:\n",
    "    model = SAGE(train_data.x.shape[1], 256, torch.unique(train_data.y).size(0), n_layers=LAYERS)\n",
    "\n",
    "    optimizer = torch.optim.Adam(model.parameters(), lr=0.03)\n",
    "    scheduler = ReduceLROnPlateau(optimizer, 'max', patience=7)\n",
    "    criterion = torch.nn.CrossEntropyLoss()\n",
    "    if wb:\n",
    "        wandb.init(\n",
    "            # set the wandb project where this run will be logged\n",
    "            project=\"GraphAnomaly\",\n",
    "            name = f\"2_SAGE - n_layers: {LAYERS}\",\n",
    "            # track hyperparameters and run metadata\n",
    "            config={\n",
    "            \"architecture\": \"SAGE_3\",\n",
    "            \"dataset\": \"Time Steps elliptic\",\n",
    "            \"epochs\": EPOCHS,\n",
    "            \"layers\": LAYERS\n",
    "            }\n",
    "        )\n",
    "\n",
    "    def train(data, epoch):\n",
    "        optimizer.zero_grad()  # Clear gradients.\n",
    "        out, h = model(data.x, data.edge_index)  # Perform a single forward pass.\n",
    "        pred = out.argmax(dim=1)\n",
    "        loss = criterion(out, data.y)  # Compute the loss solely based on the training nodes.\n",
    "        loss.backward()  # Derive gradients.\n",
    "        optimizer.step()  # Update parameters based on gradients.\n",
    "        \n",
    "        # Calculate accuracy\n",
    "        correct = pred.eq(data.y).sum().item()\n",
    "        total = len(data.y)\n",
    "        accuracy = correct / total\n",
    "        \n",
    "        if wb:\n",
    "            wandb.log({\n",
    "                \"epoch\": epoch,\n",
    "                \"train_loss\": loss,\n",
    "                \"train_accuracy\": accuracy,\n",
    "            })\n",
    "        if epoch%5 == 0:\n",
    "            max_value = torch.max(pred)\n",
    "            counts = torch.bincount(pred, minlength=max_value.item() + 1)\n",
    "            print(f\"\"\"Nodes classified as fraud: {counts[0]}, \n",
    "                nodes classified as licit: {counts[1]}\"\"\")\n",
    "            \n",
    "            \n",
    "        return loss, accuracy\n",
    "\n",
    "    def test(data, epoch):\n",
    "        model.eval()  # Set the model to evaluation mode.\n",
    "        with torch.no_grad():\n",
    "            out, _ = model(data.x, data.edge_index)  # Perform a forward pass.\n",
    "            loss = criterion(out, data.y)\n",
    "            \n",
    "            pred = out.argmax(dim=1)  # Get the predicted labels by selecting the class with the highest probability.\n",
    "            # Calculate accuracy\n",
    "            correct = pred.eq(data.y).sum().item()\n",
    "            total = len(data.y)\n",
    "            accuracy = correct / total\n",
    "            \n",
    "            #precision, recall, f1 score\n",
    "            precision = precision_score(data.y.cpu().numpy(), pred.cpu().numpy(), average=None)\n",
    "            recall = recall_score(data.y.cpu().numpy(), pred.cpu().numpy(), average=None)\n",
    "            f1 = f1_score(data.y.cpu().numpy(), pred.cpu().numpy(), average=None)\n",
    "            \n",
    "            other_metrics = [precision, recall, f1]\n",
    "            if wb:\n",
    "                wandb.log({\n",
    "                \"epoch\": epoch,\n",
    "                \"test_loss\": loss,\n",
    "                \"test_accuracy\": accuracy,\n",
    "                \"test_precision_class_0\": precision[0],\n",
    "                \"test_precision_class_1\": precision[1],\n",
    "                \"test_recall_class_0\": recall[0],\n",
    "                \"test_recall_class_1\": recall[1],\n",
    "                \"test_f1_score_class_0\": f1[0],\n",
    "                \"test_f1_score_class_1\": f1[1]\n",
    "            })\n",
    "            \n",
    "        return loss, accuracy, other_metrics\n",
    "            \n",
    "        \n",
    "        \n",
    "    train_loss_history = []\n",
    "    test_loss_history = []\n",
    "    train_acc_hist = []\n",
    "    test_acc_hist = []\n",
    "\n",
    "    for epoch in range(EPOCHS):\n",
    "        train_loss, train_acc = train(train_data, epoch)\n",
    "        train_loss_history.append(train_loss.detach().numpy())\n",
    "        train_acc_hist.append(train_acc)\n",
    "        \n",
    "        test_loss, test_acc, metrics = test(test_data, epoch)\n",
    "        test_loss_history.append(test_loss.detach().numpy())\n",
    "        test_acc_hist.append(test_acc)\n",
    "        \n",
    "        if epoch%5 == 0:\n",
    "            print(f\"\"\"Epoch: {epoch}, \n",
    "            Training Loss: {train_loss:.4f}, Training Accuracy: {train_acc:.4f}\n",
    "            Test Loss: {test_loss:.4f}, Test Accuracy: {test_acc:.4f}\n",
    "            \"\"\")\n",
    "            \n",
    "            print(f\"Precision: {metrics[0]}, Recall: {metrics[1]}, F1 Score: {metrics[2]} \\n\")\n",
    "            print(\"---------------------------------------------------------------------------------\")\n",
    "        "
   ]
  },
  {
   "cell_type": "code",
   "execution_count": 9,
   "metadata": {},
   "outputs": [
    {
     "data": {
      "image/png": "[encoded data removed]",
      "text/plain": [
       "<Figure size 640x480 with 1 Axes>"
      ]
     },
     "metadata": {},
     "output_type": "display_data"
    }
   ],
   "source": [
    "plt.plot([e for e in range(EPOCHS)], train_loss_history, label='Training Loss')\n",
    "plt.plot([e for e in range(EPOCHS)], test_loss_history, label='Testing Loss')\n",
    "\n",
    "\n",
    "plt.xlabel('Epoch')\n",
    "plt.ylabel('Value')\n",
    "plt.title('Training and Testing LOSS Metrics')\n",
    "plt.legend()\n",
    "plt.grid(True)\n",
    "plt.show()"
   ]
  },
  {
   "cell_type": "code",
   "execution_count": 10,
   "metadata": {},
   "outputs": [
    {
     "data": {
      "image/png": "[encoded data removed]",
      "text/plain": [
       "<Figure size 640x480 with 1 Axes>"
      ]
     },
     "metadata": {},
     "output_type": "display_data"
    }
   ],
   "source": [
    "plt.plot([e for e in range(EPOCHS)], train_acc_hist, label='Training Accuracy')\n",
    "plt.plot([e for e in range(EPOCHS)], test_acc_hist, label='Testing Accuracy')\n",
    "\n",
    "plt.xlabel('Epoch')\n",
    "plt.ylabel('Value')\n",
    "plt.title('Training and Testing ACCURACY Metrics')\n",
    "plt.legend()\n",
    "plt.grid(True)\n",
    "plt.show()"
   ]
  }
 ],
 "metadata": {
  "kernelspec": {
   "display_name": "visionEnv",
   "language": "python",
   "name": "python3"
  },
  "language_info": {
   "codemirror_mode": {
    "name": "ipython",
    "version": 3
   },
   "file_extension": ".py",
   "mimetype": "text/x-python",
   "name": "python",
   "nbconvert_exporter": "python",
   "pygments_lexer": "ipython3",
   "version": "3.11.8"
  }
 },
 "nbformat": 4,
 "nbformat_minor": 2
}
