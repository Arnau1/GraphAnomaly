{
 "cells": [
  {
   "cell_type": "code",
   "execution_count": 1,
   "metadata": {},
   "outputs": [],
   "source": [
    "# Import packages\n",
    "import numpy as np\n",
    "import pandas as pd\n",
    "import matplotlib.pyplot as plt\n",
    "import seaborn as sns\n",
    "import networkx as nx\n",
    "import pickle as pkl\n",
    "import sys\n",
    "\n",
    "from sklearn.decomposition import PCA\n",
    "from sklearn.preprocessing import StandardScaler\n",
    "\n",
    "from sklearn.model_selection import train_test_split\n",
    "from sklearn.preprocessing import StandardScaler\n",
    "from sklearn.linear_model import LogisticRegression\n",
    "from sklearn.metrics import *\n",
    "\n",
    "import torch.utils.data as data\n",
    "import torch\n",
    "from torch_geometric.data import Data\n",
    "from torch.nn import Linear\n",
    "from torch_geometric.nn import GCNConv\n",
    "from torch.utils.data import Dataset\n",
    "\n",
    "import os\n",
    "import torch\n",
    "import torch.nn.functional as F\n",
    "from tqdm import tqdm\n",
    "from torch_geometric.loader import NeighborLoader\n",
    "from torch.optim.lr_scheduler import ReduceLROnPlateau\n",
    "from torch_geometric.nn import MessagePassing, SAGEConv\n",
    "from ogb.nodeproppred import Evaluator #PygNodePropPredDatase\n",
    "\n",
    "from IPython.display import clear_output\n",
    "import wandb"
   ]
  },
  {
   "cell_type": "code",
   "execution_count": 2,
   "metadata": {},
   "outputs": [],
   "source": [
    "# Read files\n",
    "path = \"dades_guillem/\"\n",
    "df_train_init = pd.read_csv(path + \"train_set.csv\") \n",
    "df_test_init = pd.read_csv(path + \"test_set.csv\")"
   ]
  },
  {
   "cell_type": "code",
   "execution_count": 3,
   "metadata": {},
   "outputs": [],
   "source": [
    "path = \"C:/Users/gsamp/OneDrive/Documents/AI-3/2n Semestre/Projecte de Síntesi 2/GraphAnomaly/dades_guillem/\"\n",
    "df_classes = pd.read_csv(path + \"elliptic_txs_classes.csv\") # Nodes' labels\n",
    "df_edges_init = pd.read_csv(path + \"elliptic_txs_edgelist.csv\") # Edges\n",
    "df_features = pd.read_csv(path + \"elliptic_txs_features.csv\", header=None) # Nodes' features\n",
    "\n",
    "# Change column names of df_features\n",
    "colNames1 = {'0': 'txId', 1: \"Time step\"}\n",
    "colNames2 = {str(ii+2): \"Local_feature_\" + str(ii+1) for ii in range(93)}\n",
    "colNames3 = {str(ii+95): \"Aggregate_feature_\" + str(ii+1) for ii in range(72)}\n",
    "\n",
    "colNames = dict(colNames1, **colNames2, **colNames3 )\n",
    "colNames = {int(jj): item_kk for jj,item_kk in colNames.items()}\n",
    "\n",
    "df_features = df_features.rename(columns=colNames)"
   ]
  },
  {
   "cell_type": "code",
   "execution_count": 4,
   "metadata": {},
   "outputs": [
    {
     "name": "stdout",
     "output_type": "stream",
     "text": [
      "contador de valors per classe: \n",
      " class\n",
      "1    34654\n",
      "0     2672\n",
      "Name: count, dtype: int64\n",
      "\n",
      "contador de valors per classe: \n",
      " class\n",
      "1    7365\n",
      "0    1873\n",
      "Name: count, dtype: int64\n",
      "\n"
     ]
    },
    {
     "name": "stderr",
     "output_type": "stream",
     "text": [
      "C:\\Users\\gsamp\\AppData\\Local\\Temp\\ipykernel_24396\\1761167425.py:4: SettingWithCopyWarning: \n",
      "A value is trying to be set on a copy of a slice from a DataFrame.\n",
      "Try using .loc[row_indexer,col_indexer] = value instead\n",
      "\n",
      "See the caveats in the documentation: https://pandas.pydata.org/pandas-docs/stable/user_guide/indexing.html#returning-a-view-versus-a-copy\n",
      "  df_feats['class'] = df_feats['class'].replace({1: 0, 2: 1})\n"
     ]
    }
   ],
   "source": [
    "def prep_df(feats: pd.DataFrame, edges: pd.DataFrame):\n",
    "    #1 és la classe illicit, 2 la  licit\n",
    "    df_feats = feats.loc[feats['class'].isin([1, 2])]\n",
    "    df_feats['class'] = df_feats['class'].replace({1: 0, 2: 1})\n",
    "    df_feats = df_feats.reset_index(drop=True)\n",
    "\n",
    "    #ens quedem només amb els edges que apareixen en el nodes d'entrenament\n",
    "    df_edges = edges.loc[((edges['txId1'].isin(df_feats['txId'])) & (df_edges_init['txId2'].isin(df_feats['txId'])))]\n",
    "    df_edges = df_edges.reset_index(drop=True)\n",
    "    print(f\"contador de valors per classe: \\n {df_feats['class'].value_counts()}\\n\")\n",
    "    return  df_feats, df_edges\n",
    "\n",
    "df_train, df_edges_train = prep_df(df_train_init, df_edges_init)\n",
    "df_test, df_edges_test = prep_df(df_test_init, df_edges_init)"
   ]
  },
  {
   "cell_type": "code",
   "execution_count": 5,
   "metadata": {},
   "outputs": [],
   "source": [
    "def map_idx(feats: pd.DataFrame, edges: pd.DataFrame, save = True, loading_dir = \"a\"):\n",
    "    mapping_txid = dict(zip(feats['txId'], list(feats.index)))\n",
    "    dir = 'dades_guillem/' + str(loading_dir) + '.pkl'\n",
    "    if save:\n",
    "        df_edges_mapped = edges.replace({'txId1': mapping_txid, 'txId2': mapping_txid})\n",
    "        \n",
    "        df_edges_mapped.to_pickle(loading_dir)\n",
    "    else:\n",
    "        df_edges_mapped = pd.read_pickle(loading_dir)\n",
    "    return df_edges_mapped\n",
    "\n",
    "df_edges_mapped_train = map_idx(feats = df_train, edges = df_edges_train, save = True, loading_dir='train')\n",
    "df_edges_mapped_test = map_idx(feats = df_test, edges = df_edges_test, save = True, loading_dir='train')\n"
   ]
  },
  {
   "cell_type": "code",
   "execution_count": 6,
   "metadata": {},
   "outputs": [],
   "source": [
    "def get_data(feats: pd.DataFrame, edges:pd.DataFrame):\n",
    "    x = torch.tensor(feats.drop(columns=['class', 'Time Step', 'txId']).values, dtype=torch.float)\n",
    "    edge_index = torch.tensor(edges.values, dtype=torch.long).T\n",
    "    y = torch.tensor(feats['class'].values)\n",
    "    time = torch.tensor(feats['Time Step'].values)\n",
    "    data = Data(x=x, edge_index=edge_index, y=y, time=time)\n",
    "    return data\n",
    "\n",
    "\n",
    "train_data = get_data(df_train, df_edges_mapped_train)\n",
    "test_data = get_data(df_test, df_edges_mapped_test)"
   ]
  },
  {
   "cell_type": "code",
   "execution_count": 7,
   "metadata": {},
   "outputs": [],
   "source": [
    "class SAGE(torch.nn.Module):\n",
    "    def __init__(self, in_channels,\n",
    "                 hidden_channels, out_channels,\n",
    "                 n_layers=2):\n",
    "        \n",
    "        super(SAGE, self).__init__()\n",
    "        self.n_layers = n_layers\n",
    "        self.layers = torch.nn.ModuleList()\n",
    "        self.layers_bn = torch.nn.ModuleList()\n",
    "        if n_layers == 1:\n",
    "            self.layers.append(SAGEConv(in_channels, out_channels,   normalize=False))\n",
    "        elif n_layers == 2:\n",
    "            self.layers.append(SAGEConv(in_channels, hidden_channels, normalize=False))\n",
    "            self.layers_bn.append(torch.nn.BatchNorm1d(hidden_channels))\n",
    "            # self.layers.append(SAGEConv(hidden_channels, out_channels, normalize=False))\n",
    "        else:\n",
    "            self.layers.append(SAGEConv(in_channels, hidden_channels, normalize=False))\n",
    "            # self.layers_bn.append(torch.nn.BatchNorm1d(hidden_channels))\n",
    "        for _ in range(n_layers - 2):\n",
    "            self.layers.append(SAGEConv(hidden_channels,  hidden_channels, normalize=False))\n",
    "            self.layers_bn.append(torch.nn.BatchNorm1d(hidden_channels))\n",
    "                    \n",
    "                \n",
    "        if n_layers != 1:\n",
    "            self.layers.append(SAGEConv(hidden_channels, out_channels, normalize=False))\n",
    "        \n",
    "        for layer in self.layers:\n",
    "            layer.reset_parameters()\n",
    "            \n",
    "            \n",
    "            \n",
    "    def forward(self, x, edge_index):\n",
    "        if len(self.layers) > 1:\n",
    "            looper = self.layers[:-1]\n",
    "        else:\n",
    "            looper = self.layers\n",
    "        \n",
    "        for i, layer in enumerate(looper):\n",
    "            x = layer(x, edge_index)\n",
    "            # print(f\"SHAPE: {x.shape}, step: {i}\")\n",
    "            # print(f\"Step: {i}\")\n",
    "            try:\n",
    "                x = self.layers_bn[i](x)\n",
    "            except Exception as e:\n",
    "                abs(1)\n",
    "            finally:\n",
    "                x = F.relu(x)\n",
    "                x = F.dropout(x, p=0.5, training=self.training)\n",
    "        \n",
    "        if len(self.layers) > 1:\n",
    "            x = self.layers[-1](x, edge_index)\n",
    "        return F.log_softmax(x, dim=-1), torch.var(x)\n",
    "    \n",
    "    def inference(self, total_loader, device):\n",
    "        xs = []\n",
    "        var_ = []\n",
    "        for batch in total_loader:\n",
    "            out, var = self.forward(batch.x.to(device), batch.edge_index.to(device))\n",
    "            out = out[:batch.batch_size]\n",
    "            xs.append(out.cpu())\n",
    "            var_.append(var.item())\n",
    "        \n",
    "        out_all = torch.cat(xs, dim=0)\n",
    "        \n",
    "        return out_all, var_"
   ]
  },
  {
   "cell_type": "code",
   "execution_count": 8,
   "metadata": {},
   "outputs": [
    {
     "name": "stderr",
     "output_type": "stream",
     "text": [
      "Failed to detect the name of this notebook, you can set it manually with the WANDB_NOTEBOOK_NAME environment variable to enable code saving.\n",
      "\u001b[34m\u001b[1mwandb\u001b[0m: Currently logged in as: \u001b[33mgsamper\u001b[0m. Use \u001b[1m`wandb login --relogin`\u001b[0m to force relogin\n"
     ]
    },
    {
     "data": {
      "text/html": [
       "Tracking run with wandb version 0.16.6"
      ],
      "text/plain": [
       "<IPython.core.display.HTML object>"
      ]
     },
     "metadata": {},
     "output_type": "display_data"
    },
    {
     "data": {
      "text/html": [
       "Run data is saved locally in <code>c:\\Users\\gsamp\\OneDrive\\Documents\\AI-3\\2n Semestre\\Projecte de Síntesi 2\\GraphAnomaly\\wandb\\run-20240429_172344-kdvzgru7</code>"
      ],
      "text/plain": [
       "<IPython.core.display.HTML object>"
      ]
     },
     "metadata": {},
     "output_type": "display_data"
    },
    {
     "data": {
      "text/html": [
       "Syncing run <strong><a href='https://wandb.ai/gsamper/GraphAnomaly/runs/kdvzgru7' target=\"_blank\">2_SAGE - n_layers: 1</a></strong> to <a href='https://wandb.ai/gsamper/GraphAnomaly' target=\"_blank\">Weights & Biases</a> (<a href='https://wandb.me/run' target=\"_blank\">docs</a>)<br/>"
      ],
      "text/plain": [
       "<IPython.core.display.HTML object>"
      ]
     },
     "metadata": {},
     "output_type": "display_data"
    },
    {
     "data": {
      "text/html": [
       " View project at <a href='https://wandb.ai/gsamper/GraphAnomaly' target=\"_blank\">https://wandb.ai/gsamper/GraphAnomaly</a>"
      ],
      "text/plain": [
       "<IPython.core.display.HTML object>"
      ]
     },
     "metadata": {},
     "output_type": "display_data"
    },
    {
     "data": {
      "text/html": [
       " View run at <a href='https://wandb.ai/gsamper/GraphAnomaly/runs/kdvzgru7' target=\"_blank\">https://wandb.ai/gsamper/GraphAnomaly/runs/kdvzgru7</a>"
      ],
      "text/plain": [
       "<IPython.core.display.HTML object>"
      ]
     },
     "metadata": {},
     "output_type": "display_data"
    },
    {
     "name": "stdout",
     "output_type": "stream",
     "text": [
      "Nodes classified as fraud: 29078, \n",
      "                nodes classified as licit: 8248\n",
      "Epoch: 0, \n",
      "            Training Loss: 0.8061, Training Accuracy: 0.2753\n",
      "            Test Loss: 0.6227, Test Accuracy: 0.5211\n",
      "            \n",
      "Precision: [0.28012412 0.92784405], Recall: [0.8675921  0.43299389], F1 Score: [0.42350795 0.59044621] \n",
      "\n",
      "---------------------------------------------------------------------------------\n",
      "Nodes classified as fraud: 13986, \n",
      "                nodes classified as licit: 23340\n",
      "Epoch: 5, \n",
      "            Training Loss: 0.3825, Training Accuracy: 0.6693\n",
      "            Test Loss: 0.4706, Test Accuracy: 0.6559\n",
      "            \n",
      "Precision: [0.36064874 0.95979789], Recall: [0.90229578 0.59321113], F1 Score: [0.51532246 0.73323823] \n",
      "\n",
      "---------------------------------------------------------------------------------\n",
      "Nodes classified as fraud: 12737, \n",
      "                nodes classified as licit: 24589\n",
      "Epoch: 10, \n",
      "            Training Loss: 0.3355, Training Accuracy: 0.7086\n",
      "            Test Loss: 0.4276, Test Accuracy: 0.7021\n",
      "            \n",
      "Precision: [0.39724106 0.96492643], Recall: [0.90710091 0.64996606], F1 Score: [0.55252033 0.77673211] \n",
      "\n",
      "---------------------------------------------------------------------------------\n",
      "Nodes classified as fraud: 11067, \n",
      "                nodes classified as licit: 26259\n",
      "Epoch: 15, \n",
      "            Training Loss: 0.2953, Training Accuracy: 0.7532\n",
      "            Test Loss: 0.3955, Test Accuracy: 0.7411\n",
      "            \n",
      "Precision: [0.43391902 0.96817925], Recall: [0.90977042 0.69816701], F1 Score: [0.58758621 0.81129694] \n",
      "\n",
      "---------------------------------------------------------------------------------\n",
      "Nodes classified as fraud: 9762, \n",
      "                nodes classified as licit: 27564\n",
      "Epoch: 20, \n",
      "            Training Loss: 0.2639, Training Accuracy: 0.7884\n",
      "            Test Loss: 0.3747, Test Accuracy: 0.7692\n",
      "            \n",
      "Precision: [0.46464646 0.96932735], Recall: [0.90870262 0.73374067], F1 Score: [0.61488439 0.83523957] \n",
      "\n",
      "---------------------------------------------------------------------------------\n",
      "Nodes classified as fraud: 8696, \n",
      "                nodes classified as licit: 28630\n",
      "Epoch: 25, \n",
      "            Training Loss: 0.2404, Training Accuracy: 0.8141\n",
      "            Test Loss: 0.3543, Test Accuracy: 0.7947\n",
      "            \n",
      "Precision: [0.49647266 0.96847156], Recall: [0.90176188 0.76741344], F1 Score: [0.64037915 0.85629877] \n",
      "\n",
      "---------------------------------------------------------------------------------\n",
      "Nodes classified as fraud: 7933, \n",
      "                nodes classified as licit: 29393\n",
      "Epoch: 30, \n",
      "            Training Loss: 0.2242, Training Accuracy: 0.8331\n",
      "            Test Loss: 0.3349, Test Accuracy: 0.8146\n",
      "            \n",
      "Precision: [0.525      0.96803577], Recall: [0.89695675 0.79361847], F1 Score: [0.66232998 0.87219279] \n",
      "\n",
      "---------------------------------------------------------------------------------\n",
      "Nodes classified as fraud: 7476, \n",
      "                nodes classified as licit: 29850\n",
      "Epoch: 35, \n",
      "            Training Loss: 0.2114, Training Accuracy: 0.8443\n",
      "            Test Loss: 0.3177, Test Accuracy: 0.8223\n",
      "            \n",
      "Precision: [0.53736655 0.96551163], Recall: [0.8868126  0.80583842], F1 Score: [0.66921837 0.87847839] \n",
      "\n",
      "---------------------------------------------------------------------------------\n",
      "Nodes classified as fraud: 7102, \n",
      "                nodes classified as licit: 30224\n",
      "Epoch: 40, \n",
      "            Training Loss: 0.2013, Training Accuracy: 0.8530\n",
      "            Test Loss: 0.3062, Test Accuracy: 0.8296\n",
      "            \n",
      "Precision: [0.54975042 0.96454356], Recall: [0.88200747 0.81629328], F1 Score: [0.67732677 0.88424768] \n",
      "\n",
      "---------------------------------------------------------------------------------\n",
      "Nodes classified as fraud: 6733, \n",
      "                nodes classified as licit: 30593\n",
      "Epoch: 45, \n",
      "            Training Loss: 0.1930, Training Accuracy: 0.8623\n",
      "            Test Loss: 0.2977, Test Accuracy: 0.8399\n",
      "            \n",
      "Precision: [0.56859331 0.96229972], Recall: [0.87186332 0.83177189], F1 Score: [0.68830348 0.89228752] \n",
      "\n",
      "---------------------------------------------------------------------------------\n",
      "Nodes classified as fraud: 6393, \n",
      "                nodes classified as licit: 30933\n",
      "Epoch: 50, \n",
      "            Training Loss: 0.1863, Training Accuracy: 0.8708\n",
      "            Test Loss: 0.2894, Test Accuracy: 0.8481\n",
      "            \n",
      "Precision: [0.58502171 0.96045721], Recall: [0.86332088 0.84426341], F1 Score: [0.69743369 0.89861984] \n",
      "\n",
      "---------------------------------------------------------------------------------\n",
      "Nodes classified as fraud: 6040, \n",
      "                nodes classified as licit: 31286\n",
      "Epoch: 55, \n",
      "            Training Loss: 0.1796, Training Accuracy: 0.8793\n",
      "            Test Loss: 0.2839, Test Accuracy: 0.8569\n",
      "            \n",
      "Precision: [0.60431655 0.95801122], Recall: [0.85210892 0.8581127 ], F1 Score: [0.70713336 0.90531442] \n",
      "\n",
      "---------------------------------------------------------------------------------\n",
      "Nodes classified as fraud: 5664, \n",
      "                nodes classified as licit: 31662\n",
      "Epoch: 60, \n",
      "            Training Loss: 0.1734, Training Accuracy: 0.8875\n",
      "            Test Loss: 0.2796, Test Accuracy: 0.8654\n",
      "            \n",
      "Precision: [0.62539809 0.95509961], Recall: [0.83876135 0.87223354], F1 Score: [0.71653364 0.91178767] \n",
      "\n",
      "---------------------------------------------------------------------------------\n",
      "Nodes classified as fraud: 5340, \n",
      "                nodes classified as licit: 31986\n",
      "Epoch: 65, \n",
      "            Training Loss: 0.1676, Training Accuracy: 0.8948\n",
      "            Test Loss: 0.2739, Test Accuracy: 0.8741\n",
      "            \n",
      "Precision: [0.64645215 0.95509246], Recall: [0.83662573 0.88363883], F1 Score: [0.72934606 0.91797729] \n",
      "\n",
      "---------------------------------------------------------------------------------\n",
      "Nodes classified as fraud: 4969, \n",
      "                nodes classified as licit: 32357\n",
      "Epoch: 70, \n",
      "            Training Loss: 0.1620, Training Accuracy: 0.9027\n",
      "            Test Loss: 0.2687, Test Accuracy: 0.8804\n",
      "            \n",
      "Precision: [0.66724739 0.95087871], Recall: [0.81793914 0.89626612], F1 Score: [0.73494843 0.92276508] \n",
      "\n",
      "---------------------------------------------------------------------------------\n",
      "Nodes classified as fraud: 4708, \n",
      "                nodes classified as licit: 32618\n",
      "Epoch: 75, \n",
      "            Training Loss: 0.1571, Training Accuracy: 0.9080\n",
      "            Test Loss: 0.2644, Test Accuracy: 0.8821\n",
      "            \n",
      "Precision: [0.67721519 0.94662681], Recall: [0.79978644 0.90305499], F1 Score: [0.73341493 0.9243277 ] \n",
      "\n",
      "---------------------------------------------------------------------------------\n",
      "Nodes classified as fraud: 4388, \n",
      "                nodes classified as licit: 32938\n",
      "Epoch: 80, \n",
      "            Training Loss: 0.1526, Training Accuracy: 0.9139\n",
      "            Test Loss: 0.2630, Test Accuracy: 0.8830\n",
      "            \n",
      "Precision: [0.6875     0.94092057], Recall: [0.77522691 0.91038697], F1 Score: [0.72873275 0.92540197] \n",
      "\n",
      "---------------------------------------------------------------------------------\n",
      "Nodes classified as fraud: 4105, \n",
      "                nodes classified as licit: 33221\n",
      "Epoch: 85, \n",
      "            Training Loss: 0.1489, Training Accuracy: 0.9183\n",
      "            Test Loss: 0.2610, Test Accuracy: 0.8809\n",
      "            \n",
      "Precision: [0.69315342 0.9328451 ], Recall: [0.74052322 0.91663272], F1 Score: [0.71605576 0.92466785] \n",
      "\n",
      "---------------------------------------------------------------------------------\n",
      "Nodes classified as fraud: 3926, \n",
      "                nodes classified as licit: 33400\n",
      "Epoch: 90, \n",
      "            Training Loss: 0.1459, Training Accuracy: 0.9219\n",
      "            Test Loss: 0.2583, Test Accuracy: 0.8832\n",
      "            \n",
      "Precision: [0.70317298 0.93149368], Recall: [0.73358249 0.92124915], F1 Score: [0.71805592 0.9263431 ] \n",
      "\n",
      "---------------------------------------------------------------------------------\n",
      "Nodes classified as fraud: 3761, \n",
      "                nodes classified as licit: 33565\n",
      "Epoch: 95, \n",
      "            Training Loss: 0.1429, Training Accuracy: 0.9257\n",
      "            Test Loss: 0.2569, Test Accuracy: 0.8834\n",
      "            \n",
      "Precision: [0.70991561 0.92822119], Recall: [0.71863321 0.92532247], F1 Score: [0.71424781 0.92676957] \n",
      "\n",
      "---------------------------------------------------------------------------------\n",
      "Nodes classified as fraud: 3620, \n",
      "                nodes classified as licit: 33706\n",
      "Epoch: 100, \n",
      "            Training Loss: 0.1401, Training Accuracy: 0.9282\n",
      "            Test Loss: 0.2561, Test Accuracy: 0.8827\n",
      "            \n",
      "Precision: [0.71428571 0.92456401], Recall: [0.70208222 0.92858113], F1 Score: [0.70813139 0.92656822] \n",
      "\n",
      "---------------------------------------------------------------------------------\n"
     ]
    },
    {
     "data": {
      "text/html": [
       "Finishing last run (ID:kdvzgru7) before initializing another..."
      ],
      "text/plain": [
       "<IPython.core.display.HTML object>"
      ]
     },
     "metadata": {},
     "output_type": "display_data"
    },
    {
     "data": {
      "text/html": [
       "<style>\n",
       "    table.wandb td:nth-child(1) { padding: 0 10px; text-align: left ; width: auto;} td:nth-child(2) {text-align: left ; width: 100%}\n",
       "    .wandb-row { display: flex; flex-direction: row; flex-wrap: wrap; justify-content: flex-start; width: 100% }\n",
       "    .wandb-col { display: flex; flex-direction: column; flex-basis: 100%; flex: 1; padding: 10px; }\n",
       "    </style>\n",
       "<div class=\"wandb-row\"><div class=\"wandb-col\"><h3>Run history:</h3><br/><table class=\"wandb\"><tr><td>epoch</td><td>▁▁▁▁▂▂▂▂▂▃▃▃▃▃▃▄▄▄▄▄▅▅▅▅▅▅▆▆▆▆▆▇▇▇▇▇▇███</td></tr><tr><td>test_accuracy</td><td>▁▂▄▄▄▅▅▅▆▆▆▇▇▇▇▇▇▇▇▇▇▇██████████████████</td></tr><tr><td>test_f1_score_class_0</td><td>▁▂▃▃▄▄▅▅▅▆▆▆▆▇▇▇▇▇▇▇▇▇▇▇█████████████▇▇▇</td></tr><tr><td>test_f1_score_class_1</td><td>▁▃▄▄▅▅▆▆▆▆▇▇▇▇▇▇▇▇▇▇▇███████████████████</td></tr><tr><td>test_loss</td><td>█▆▅▅▄▄▄▃▃▃▃▃▃▂▂▂▂▂▂▂▂▂▂▁▁▁▁▁▁▁▁▁▁▁▁▁▁▁▁▁</td></tr><tr><td>test_precision_class_0</td><td>▁▂▂▂▃▃▃▄▄▄▄▅▅▅▅▅▅▅▆▆▆▆▆▆▇▇▇▇▇▇▇█████████</td></tr><tr><td>test_precision_class_1</td><td>▂▃▇▆▇█████████▇▇▇▇▇▇▇▆▆▆▆▆▆▅▅▅▄▄▃▃▂▂▂▂▁▁</td></tr><tr><td>test_recall_class_0</td><td>▆▆█▇████████▇▇▇▇▇▇▇▆▆▆▆▆▅▅▅▅▅▄▄▄▃▂▂▂▂▂▁▁</td></tr><tr><td>test_recall_class_1</td><td>▁▂▃▄▄▄▅▅▅▆▆▆▆▆▆▆▆▇▇▇▇▇▇▇▇▇▇█████████████</td></tr><tr><td>train_accuracy</td><td>▁▅▅▅▆▆▆▆▇▇▇▇▇▇▇▇▇▇▇▇▇▇▇█████████████████</td></tr><tr><td>train_loss</td><td>█▅▄▃▃▃▃▂▂▂▂▂▂▂▂▂▂▂▂▂▁▁▁▁▁▁▁▁▁▁▁▁▁▁▁▁▁▁▁▁</td></tr></table><br/></div><div class=\"wandb-col\"><h3>Run summary:</h3><br/><table class=\"wandb\"><tr><td>epoch</td><td>100</td></tr><tr><td>test_accuracy</td><td>0.88266</td></tr><tr><td>test_f1_score_class_0</td><td>0.70813</td></tr><tr><td>test_f1_score_class_1</td><td>0.92657</td></tr><tr><td>test_loss</td><td>0.25613</td></tr><tr><td>test_precision_class_0</td><td>0.71429</td></tr><tr><td>test_precision_class_1</td><td>0.92456</td></tr><tr><td>test_recall_class_0</td><td>0.70208</td></tr><tr><td>test_recall_class_1</td><td>0.92858</td></tr><tr><td>train_accuracy</td><td>0.9282</td></tr><tr><td>train_loss</td><td>0.14007</td></tr></table><br/></div></div>"
      ],
      "text/plain": [
       "<IPython.core.display.HTML object>"
      ]
     },
     "metadata": {},
     "output_type": "display_data"
    },
    {
     "data": {
      "text/html": [
       " View run <strong style=\"color:#cdcd00\">2_SAGE - n_layers: 1</strong> at: <a href='https://wandb.ai/gsamper/GraphAnomaly/runs/kdvzgru7' target=\"_blank\">https://wandb.ai/gsamper/GraphAnomaly/runs/kdvzgru7</a><br/> View project at: <a href='https://wandb.ai/gsamper/GraphAnomaly' target=\"_blank\">https://wandb.ai/gsamper/GraphAnomaly</a><br/>Synced 5 W&B file(s), 0 media file(s), 0 artifact file(s) and 0 other file(s)"
      ],
      "text/plain": [
       "<IPython.core.display.HTML object>"
      ]
     },
     "metadata": {},
     "output_type": "display_data"
    },
    {
     "data": {
      "text/html": [
       "Find logs at: <code>.\\wandb\\run-20240429_172344-kdvzgru7\\logs</code>"
      ],
      "text/plain": [
       "<IPython.core.display.HTML object>"
      ]
     },
     "metadata": {},
     "output_type": "display_data"
    },
    {
     "data": {
      "text/html": [
       "Successfully finished last run (ID:kdvzgru7). Initializing new run:<br/>"
      ],
      "text/plain": [
       "<IPython.core.display.HTML object>"
      ]
     },
     "metadata": {},
     "output_type": "display_data"
    },
    {
     "data": {
      "text/html": [
       "Tracking run with wandb version 0.16.6"
      ],
      "text/plain": [
       "<IPython.core.display.HTML object>"
      ]
     },
     "metadata": {},
     "output_type": "display_data"
    },
    {
     "data": {
      "text/html": [
       "Run data is saved locally in <code>c:\\Users\\gsamp\\OneDrive\\Documents\\AI-3\\2n Semestre\\Projecte de Síntesi 2\\GraphAnomaly\\wandb\\run-20240429_172355-icivywyq</code>"
      ],
      "text/plain": [
       "<IPython.core.display.HTML object>"
      ]
     },
     "metadata": {},
     "output_type": "display_data"
    },
    {
     "data": {
      "text/html": [
       "Syncing run <strong><a href='https://wandb.ai/gsamper/GraphAnomaly/runs/icivywyq' target=\"_blank\">2_SAGE - n_layers: 2</a></strong> to <a href='https://wandb.ai/gsamper/GraphAnomaly' target=\"_blank\">Weights & Biases</a> (<a href='https://wandb.me/run' target=\"_blank\">docs</a>)<br/>"
      ],
      "text/plain": [
       "<IPython.core.display.HTML object>"
      ]
     },
     "metadata": {},
     "output_type": "display_data"
    },
    {
     "data": {
      "text/html": [
       " View project at <a href='https://wandb.ai/gsamper/GraphAnomaly' target=\"_blank\">https://wandb.ai/gsamper/GraphAnomaly</a>"
      ],
      "text/plain": [
       "<IPython.core.display.HTML object>"
      ]
     },
     "metadata": {},
     "output_type": "display_data"
    },
    {
     "data": {
      "text/html": [
       " View run at <a href='https://wandb.ai/gsamper/GraphAnomaly/runs/icivywyq' target=\"_blank\">https://wandb.ai/gsamper/GraphAnomaly/runs/icivywyq</a>"
      ],
      "text/plain": [
       "<IPython.core.display.HTML object>"
      ]
     },
     "metadata": {},
     "output_type": "display_data"
    },
    {
     "name": "stdout",
     "output_type": "stream",
     "text": [
      "Nodes classified as fraud: 21585, \n",
      "                nodes classified as licit: 15741\n",
      "Epoch: 0, \n",
      "            Training Loss: 0.8231, Training Accuracy: 0.4280\n",
      "            Test Loss: 1.2208, Test Accuracy: 0.7973\n",
      "            \n",
      "Precision: [0.         0.79725049], Recall: [0. 1.], F1 Score: [0.         0.88718906] \n",
      "\n",
      "---------------------------------------------------------------------------------\n"
     ]
    },
    {
     "name": "stderr",
     "output_type": "stream",
     "text": [
      "c:\\Users\\gsamp\\anaconda3\\envs\\visionEnv\\Lib\\site-packages\\sklearn\\metrics\\_classification.py:1509: UndefinedMetricWarning: Precision is ill-defined and being set to 0.0 in labels with no predicted samples. Use `zero_division` parameter to control this behavior.\n",
      "  _warn_prf(average, modifier, f\"{metric.capitalize()} is\", len(result))\n",
      "c:\\Users\\gsamp\\anaconda3\\envs\\visionEnv\\Lib\\site-packages\\sklearn\\metrics\\_classification.py:1509: UndefinedMetricWarning: Precision is ill-defined and being set to 0.0 in labels with no predicted samples. Use `zero_division` parameter to control this behavior.\n",
      "  _warn_prf(average, modifier, f\"{metric.capitalize()} is\", len(result))\n",
      "c:\\Users\\gsamp\\anaconda3\\envs\\visionEnv\\Lib\\site-packages\\sklearn\\metrics\\_classification.py:1509: UndefinedMetricWarning: Precision is ill-defined and being set to 0.0 in labels with no predicted samples. Use `zero_division` parameter to control this behavior.\n",
      "  _warn_prf(average, modifier, f\"{metric.capitalize()} is\", len(result))\n",
      "c:\\Users\\gsamp\\anaconda3\\envs\\visionEnv\\Lib\\site-packages\\sklearn\\metrics\\_classification.py:1509: UndefinedMetricWarning: Precision is ill-defined and being set to 0.0 in labels with no predicted samples. Use `zero_division` parameter to control this behavior.\n",
      "  _warn_prf(average, modifier, f\"{metric.capitalize()} is\", len(result))\n"
     ]
    },
    {
     "name": "stdout",
     "output_type": "stream",
     "text": [
      "Nodes classified as fraud: 1367, \n",
      "                nodes classified as licit: 35959\n",
      "Epoch: 5, \n",
      "            Training Loss: 0.3708, Training Accuracy: 0.9382\n",
      "            Test Loss: 0.9237, Test Accuracy: 0.8742\n",
      "            \n",
      "Precision: [0.70874927 0.91161248], Recall: [0.64442072 0.93265445], F1 Score: [0.67505593 0.92201342] \n",
      "\n",
      "---------------------------------------------------------------------------------\n",
      "Nodes classified as fraud: 1952, \n",
      "                nodes classified as licit: 35374\n",
      "Epoch: 10, \n",
      "            Training Loss: 0.2314, Training Accuracy: 0.9495\n",
      "            Test Loss: 0.7157, Test Accuracy: 0.9051\n",
      "            \n",
      "Precision: [0.84016393 0.9172884 ], Recall: [0.65670048 0.96822811], F1 Score: [0.73718909 0.94207015] \n",
      "\n",
      "---------------------------------------------------------------------------------\n",
      "Nodes classified as fraud: 2048, \n",
      "                nodes classified as licit: 35278\n",
      "Epoch: 15, \n",
      "            Training Loss: 0.1473, Training Accuracy: 0.9611\n",
      "            Test Loss: 0.5309, Test Accuracy: 0.9189\n",
      "            \n",
      "Precision: [0.86493506 0.92972201], Recall: [0.71115857 0.97175832], F1 Score: [0.78054498 0.95027551] \n",
      "\n",
      "---------------------------------------------------------------------------------\n",
      "Nodes classified as fraud: 2413, \n",
      "                nodes classified as licit: 34913\n",
      "Epoch: 20, \n",
      "            Training Loss: 0.1047, Training Accuracy: 0.9711\n",
      "            Test Loss: 0.4012, Test Accuracy: 0.9264\n",
      "            \n",
      "Precision: [0.87304565 0.93755727], Recall: [0.74532835 0.9724372 ], F1 Score: [0.80414747 0.95467875] \n",
      "\n",
      "---------------------------------------------------------------------------------\n",
      "Nodes classified as fraud: 2408, \n",
      "                nodes classified as licit: 34918\n",
      "Epoch: 25, \n",
      "            Training Loss: 0.0780, Training Accuracy: 0.9748\n",
      "            Test Loss: 0.3094, Test Accuracy: 0.9430\n",
      "            \n",
      "Precision: [0.89916963 0.95272775], Recall: [0.80939669 0.97691785], F1 Score: [0.8519247  0.96467118] \n",
      "\n",
      "---------------------------------------------------------------------------------\n",
      "Nodes classified as fraud: 2325, \n",
      "                nodes classified as licit: 35001\n",
      "Epoch: 30, \n",
      "            Training Loss: 0.0660, Training Accuracy: 0.9784\n",
      "            Test Loss: 0.2613, Test Accuracy: 0.9444\n",
      "            \n",
      "Precision: [0.90713002 0.95256969], Recall: [0.80832888 0.97895451], F1 Score: [0.85488425 0.96558189] \n",
      "\n",
      "---------------------------------------------------------------------------------\n",
      "Nodes classified as fraud: 2373, \n",
      "                nodes classified as licit: 34953\n",
      "Epoch: 35, \n",
      "            Training Loss: 0.0548, Training Accuracy: 0.9812\n",
      "            Test Loss: 0.2449, Test Accuracy: 0.9505\n",
      "            \n",
      "Precision: [0.91549296 0.958455  ], Recall: [0.83288841 0.98044807], F1 Score: [0.87223931 0.9693268 ] \n",
      "\n",
      "---------------------------------------------------------------------------------\n",
      "Nodes classified as fraud: 2401, \n",
      "                nodes classified as licit: 34925\n",
      "Epoch: 40, \n",
      "            Training Loss: 0.0481, Training Accuracy: 0.9839\n",
      "            Test Loss: 0.2374, Test Accuracy: 0.9515\n",
      "            \n",
      "Precision: [0.91985857 0.95862618], Recall: [0.83342232 0.98153428], F1 Score: [0.8745098  0.96994499] \n",
      "\n",
      "---------------------------------------------------------------------------------\n",
      "Nodes classified as fraud: 2440, \n",
      "                nodes classified as licit: 34886\n",
      "Epoch: 45, \n",
      "            Training Loss: 0.0421, Training Accuracy: 0.9857\n",
      "            Test Loss: 0.2306, Test Accuracy: 0.9535\n",
      "            \n",
      "Precision: [0.92119089 0.96079734], Recall: [0.84249867 0.98167006], F1 Score: [0.88008924 0.97112156] \n",
      "\n",
      "---------------------------------------------------------------------------------\n",
      "Nodes classified as fraud: 2516, \n",
      "                nodes classified as licit: 34810\n",
      "Epoch: 50, \n",
      "            Training Loss: 0.0373, Training Accuracy: 0.9879\n",
      "            Test Loss: 0.2341, Test Accuracy: 0.9544\n",
      "            \n",
      "Precision: [0.91916859 0.96256328], Recall: [0.8499733  0.98099117], F1 Score: [0.88321775 0.97168987] \n",
      "\n",
      "---------------------------------------------------------------------------------\n",
      "Nodes classified as fraud: 2527, \n",
      "                nodes classified as licit: 34799\n",
      "Epoch: 55, \n",
      "            Training Loss: 0.0331, Training Accuracy: 0.9892\n",
      "            Test Loss: 0.2349, Test Accuracy: 0.9570\n",
      "            \n",
      "Precision: [0.92560554 0.96428571], Recall: [0.85691404 0.98248473], F1 Score: [0.88993624 0.97330015] \n",
      "\n",
      "---------------------------------------------------------------------------------\n",
      "Nodes classified as fraud: 2557, \n",
      "                nodes classified as licit: 34769\n",
      "Epoch: 60, \n",
      "            Training Loss: 0.0294, Training Accuracy: 0.9905\n",
      "            Test Loss: 0.2396, Test Accuracy: 0.9580\n",
      "            \n",
      "Precision: [0.92993631 0.96445214], Recall: [0.85744794 0.98357094], F1 Score: [0.89222222 0.97391772] \n",
      "\n",
      "---------------------------------------------------------------------------------\n",
      "Nodes classified as fraud: 2578, \n",
      "                nodes classified as licit: 34748\n",
      "Epoch: 65, \n",
      "            Training Loss: 0.0262, Training Accuracy: 0.9917\n",
      "            Test Loss: 0.2424, Test Accuracy: 0.9578\n",
      "            \n",
      "Precision: [0.92836511 0.9645664 ], Recall: [0.85798185 0.98316361], F1 Score: [0.8917869  0.97377622] \n",
      "\n",
      "---------------------------------------------------------------------------------\n",
      "Nodes classified as fraud: 2594, \n",
      "                nodes classified as licit: 34732\n",
      "Epoch: 70, \n",
      "            Training Loss: 0.0234, Training Accuracy: 0.9930\n",
      "            Test Loss: 0.2478, Test Accuracy: 0.9569\n",
      "            \n",
      "Precision: [0.9280325  0.96353959], Recall: [0.85371062 0.98316361], F1 Score: [0.88932147 0.97325269] \n",
      "\n",
      "---------------------------------------------------------------------------------\n",
      "Nodes classified as fraud: 2613, \n",
      "                nodes classified as licit: 34713\n",
      "Epoch: 75, \n",
      "            Training Loss: 0.0210, Training Accuracy: 0.9940\n",
      "            Test Loss: 0.2543, Test Accuracy: 0.9581\n",
      "            \n",
      "Precision: [0.92947977 0.96470432], Recall: [0.85851575 0.98343517], F1 Score: [0.89258951 0.97397969] \n",
      "\n",
      "---------------------------------------------------------------------------------\n",
      "Nodes classified as fraud: 2616, \n",
      "                nodes classified as licit: 34710\n",
      "Epoch: 80, \n",
      "            Training Loss: 0.0188, Training Accuracy: 0.9946\n",
      "            Test Loss: 0.2616, Test Accuracy: 0.9584\n",
      "            \n",
      "Precision: [0.93009821 0.96496603], Recall: [0.85958356 0.98357094], F1 Score: [0.89345172 0.97417967] \n",
      "\n",
      "---------------------------------------------------------------------------------\n",
      "Nodes classified as fraud: 2628, \n",
      "                nodes classified as licit: 34698\n",
      "Epoch: 85, \n",
      "            Training Loss: 0.0170, Training Accuracy: 0.9953\n",
      "            Test Loss: 0.2678, Test Accuracy: 0.9584\n",
      "            \n",
      "Precision: [0.92960185 0.96508994], Recall: [0.86011746 0.98343517], F1 Score: [0.89351082 0.97417619] \n",
      "\n",
      "---------------------------------------------------------------------------------\n",
      "Nodes classified as fraud: 2644, \n",
      "                nodes classified as licit: 34682\n",
      "Epoch: 90, \n",
      "            Training Loss: 0.0154, Training Accuracy: 0.9959\n",
      "            Test Loss: 0.2761, Test Accuracy: 0.9583\n",
      "            \n",
      "Precision: [0.92906574 0.96508529], Recall: [0.86011746 0.98329939], F1 Score: [0.8932631 0.9741072] \n",
      "\n",
      "---------------------------------------------------------------------------------\n",
      "Nodes classified as fraud: 2651, \n",
      "                nodes classified as licit: 34675\n",
      "Epoch: 95, \n",
      "            Training Loss: 0.0140, Training Accuracy: 0.9963\n",
      "            Test Loss: 0.2842, Test Accuracy: 0.9578\n",
      "            \n",
      "Precision: [0.92935727 0.964319  ], Recall: [0.85691404 0.98343517], F1 Score: [0.89166667 0.97378328] \n",
      "\n",
      "---------------------------------------------------------------------------------\n",
      "Nodes classified as fraud: 2658, \n",
      "                nodes classified as licit: 34668\n",
      "Epoch: 100, \n",
      "            Training Loss: 0.0127, Training Accuracy: 0.9966\n",
      "            Test Loss: 0.2937, Test Accuracy: 0.9574\n",
      "            \n",
      "Precision: [0.92720971 0.96429999], Recall: [0.85691404 0.98289206], F1 Score: [0.89067703 0.97350726] \n",
      "\n",
      "---------------------------------------------------------------------------------\n"
     ]
    },
    {
     "data": {
      "text/html": [
       "Finishing last run (ID:icivywyq) before initializing another..."
      ],
      "text/plain": [
       "<IPython.core.display.HTML object>"
      ]
     },
     "metadata": {},
     "output_type": "display_data"
    },
    {
     "data": {
      "text/html": [
       "<style>\n",
       "    table.wandb td:nth-child(1) { padding: 0 10px; text-align: left ; width: auto;} td:nth-child(2) {text-align: left ; width: 100%}\n",
       "    .wandb-row { display: flex; flex-direction: row; flex-wrap: wrap; justify-content: flex-start; width: 100% }\n",
       "    .wandb-col { display: flex; flex-direction: column; flex-basis: 100%; flex: 1; padding: 10px; }\n",
       "    </style>\n",
       "<div class=\"wandb-row\"><div class=\"wandb-col\"><h3>Run history:</h3><br/><table class=\"wandb\"><tr><td>epoch</td><td>▁▁▁▁▂▂▂▂▂▃▃▃▃▃▃▄▄▄▄▄▅▅▅▅▅▅▆▆▆▆▆▇▇▇▇▇▇███</td></tr><tr><td>test_accuracy</td><td>▁▁▄▅▆▆▆▆▇▇▇▇▇███████████████████████████</td></tr><tr><td>test_f1_score_class_0</td><td>▁▁▆▇▇▇▇▇▇▇██████████████████████████████</td></tr><tr><td>test_f1_score_class_1</td><td>▁▁▄▄▅▆▆▆▆▇▇▇▇▇██████████████████████████</td></tr><tr><td>test_loss</td><td>██▆▅▄▄▃▃▂▂▂▁▁▁▁▁▁▁▁▁▁▁▁▁▁▁▁▁▁▁▁▁▁▁▁▁▁▁▁▁</td></tr><tr><td>test_precision_class_0</td><td>▁▁▆▇▇▇██████████████████████████████████</td></tr><tr><td>test_precision_class_1</td><td>▁▁▆▆▆▆▇▇▇▇▇▇▇███████████████████████████</td></tr><tr><td>test_recall_class_0</td><td>▁▁▆▇▆▇▇▇▇▇██████████████████████████████</td></tr><tr><td>test_recall_class_1</td><td>██▁▁▅▄▅▅▅▅▆▆▆▆▆▆▆▆▆▆▆▆▆▆▆▆▆▆▆▆▆▆▆▆▆▆▆▆▆▆</td></tr><tr><td>train_accuracy</td><td>▁▇▇▇▇▇██████████████████████████████████</td></tr><tr><td>train_loss</td><td>█▅▄▄▃▃▂▂▂▂▂▁▁▁▁▁▁▁▁▁▁▁▁▁▁▁▁▁▁▁▁▁▁▁▁▁▁▁▁▁</td></tr></table><br/></div><div class=\"wandb-col\"><h3>Run summary:</h3><br/><table class=\"wandb\"><tr><td>epoch</td><td>100</td></tr><tr><td>test_accuracy</td><td>0.95735</td></tr><tr><td>test_f1_score_class_0</td><td>0.89068</td></tr><tr><td>test_f1_score_class_1</td><td>0.97351</td></tr><tr><td>test_loss</td><td>0.29365</td></tr><tr><td>test_precision_class_0</td><td>0.92721</td></tr><tr><td>test_precision_class_1</td><td>0.9643</td></tr><tr><td>test_recall_class_0</td><td>0.85691</td></tr><tr><td>test_recall_class_1</td><td>0.98289</td></tr><tr><td>train_accuracy</td><td>0.99662</td></tr><tr><td>train_loss</td><td>0.0127</td></tr></table><br/></div></div>"
      ],
      "text/plain": [
       "<IPython.core.display.HTML object>"
      ]
     },
     "metadata": {},
     "output_type": "display_data"
    },
    {
     "data": {
      "text/html": [
       " View run <strong style=\"color:#cdcd00\">2_SAGE - n_layers: 2</strong> at: <a href='https://wandb.ai/gsamper/GraphAnomaly/runs/icivywyq' target=\"_blank\">https://wandb.ai/gsamper/GraphAnomaly/runs/icivywyq</a><br/> View project at: <a href='https://wandb.ai/gsamper/GraphAnomaly' target=\"_blank\">https://wandb.ai/gsamper/GraphAnomaly</a><br/>Synced 5 W&B file(s), 0 media file(s), 0 artifact file(s) and 0 other file(s)"
      ],
      "text/plain": [
       "<IPython.core.display.HTML object>"
      ]
     },
     "metadata": {},
     "output_type": "display_data"
    },
    {
     "data": {
      "text/html": [
       "Find logs at: <code>.\\wandb\\run-20240429_172355-icivywyq\\logs</code>"
      ],
      "text/plain": [
       "<IPython.core.display.HTML object>"
      ]
     },
     "metadata": {},
     "output_type": "display_data"
    },
    {
     "data": {
      "text/html": [
       "Successfully finished last run (ID:icivywyq). Initializing new run:<br/>"
      ],
      "text/plain": [
       "<IPython.core.display.HTML object>"
      ]
     },
     "metadata": {},
     "output_type": "display_data"
    },
    {
     "data": {
      "text/html": [
       "Tracking run with wandb version 0.16.6"
      ],
      "text/plain": [
       "<IPython.core.display.HTML object>"
      ]
     },
     "metadata": {},
     "output_type": "display_data"
    },
    {
     "data": {
      "text/html": [
       "Run data is saved locally in <code>c:\\Users\\gsamp\\OneDrive\\Documents\\AI-3\\2n Semestre\\Projecte de Síntesi 2\\GraphAnomaly\\wandb\\run-20240429_172446-b3swribj</code>"
      ],
      "text/plain": [
       "<IPython.core.display.HTML object>"
      ]
     },
     "metadata": {},
     "output_type": "display_data"
    },
    {
     "data": {
      "text/html": [
       "Syncing run <strong><a href='https://wandb.ai/gsamper/GraphAnomaly/runs/b3swribj' target=\"_blank\">2_SAGE - n_layers: 3</a></strong> to <a href='https://wandb.ai/gsamper/GraphAnomaly' target=\"_blank\">Weights & Biases</a> (<a href='https://wandb.me/run' target=\"_blank\">docs</a>)<br/>"
      ],
      "text/plain": [
       "<IPython.core.display.HTML object>"
      ]
     },
     "metadata": {},
     "output_type": "display_data"
    },
    {
     "data": {
      "text/html": [
       " View project at <a href='https://wandb.ai/gsamper/GraphAnomaly' target=\"_blank\">https://wandb.ai/gsamper/GraphAnomaly</a>"
      ],
      "text/plain": [
       "<IPython.core.display.HTML object>"
      ]
     },
     "metadata": {},
     "output_type": "display_data"
    },
    {
     "data": {
      "text/html": [
       " View run at <a href='https://wandb.ai/gsamper/GraphAnomaly/runs/b3swribj' target=\"_blank\">https://wandb.ai/gsamper/GraphAnomaly/runs/b3swribj</a>"
      ],
      "text/plain": [
       "<IPython.core.display.HTML object>"
      ]
     },
     "metadata": {},
     "output_type": "display_data"
    },
    {
     "name": "stdout",
     "output_type": "stream",
     "text": [
      "Nodes classified as fraud: 18184, \n",
      "                nodes classified as licit: 19142\n",
      "Epoch: 0, \n",
      "            Training Loss: 0.6964, Training Accuracy: 0.5155\n",
      "            Test Loss: 9.4409, Test Accuracy: 0.7973\n",
      "            \n",
      "Precision: [0.         0.79725049], Recall: [0. 1.], F1 Score: [0.         0.88718906] \n",
      "\n",
      "---------------------------------------------------------------------------------\n"
     ]
    },
    {
     "name": "stderr",
     "output_type": "stream",
     "text": [
      "c:\\Users\\gsamp\\anaconda3\\envs\\visionEnv\\Lib\\site-packages\\sklearn\\metrics\\_classification.py:1509: UndefinedMetricWarning: Precision is ill-defined and being set to 0.0 in labels with no predicted samples. Use `zero_division` parameter to control this behavior.\n",
      "  _warn_prf(average, modifier, f\"{metric.capitalize()} is\", len(result))\n",
      "c:\\Users\\gsamp\\anaconda3\\envs\\visionEnv\\Lib\\site-packages\\sklearn\\metrics\\_classification.py:1509: UndefinedMetricWarning: Precision is ill-defined and being set to 0.0 in labels with no predicted samples. Use `zero_division` parameter to control this behavior.\n",
      "  _warn_prf(average, modifier, f\"{metric.capitalize()} is\", len(result))\n",
      "c:\\Users\\gsamp\\anaconda3\\envs\\visionEnv\\Lib\\site-packages\\sklearn\\metrics\\_classification.py:1509: UndefinedMetricWarning: Precision is ill-defined and being set to 0.0 in labels with no predicted samples. Use `zero_division` parameter to control this behavior.\n",
      "  _warn_prf(average, modifier, f\"{metric.capitalize()} is\", len(result))\n",
      "c:\\Users\\gsamp\\anaconda3\\envs\\visionEnv\\Lib\\site-packages\\sklearn\\metrics\\_classification.py:1509: UndefinedMetricWarning: Precision is ill-defined and being set to 0.0 in labels with no predicted samples. Use `zero_division` parameter to control this behavior.\n",
      "  _warn_prf(average, modifier, f\"{metric.capitalize()} is\", len(result))\n"
     ]
    },
    {
     "name": "stdout",
     "output_type": "stream",
     "text": [
      "Nodes classified as fraud: 21561, \n",
      "                nodes classified as licit: 15765\n",
      "Epoch: 5, \n",
      "            Training Loss: 13.7791, Training Accuracy: 0.3749\n",
      "            Test Loss: 0.6442, Test Accuracy: 0.7973\n",
      "            \n",
      "Precision: [0.         0.79725049], Recall: [0. 1.], F1 Score: [0.         0.88718906] \n",
      "\n",
      "---------------------------------------------------------------------------------\n"
     ]
    },
    {
     "name": "stderr",
     "output_type": "stream",
     "text": [
      "c:\\Users\\gsamp\\anaconda3\\envs\\visionEnv\\Lib\\site-packages\\sklearn\\metrics\\_classification.py:1509: UndefinedMetricWarning: Precision is ill-defined and being set to 0.0 in labels with no predicted samples. Use `zero_division` parameter to control this behavior.\n",
      "  _warn_prf(average, modifier, f\"{metric.capitalize()} is\", len(result))\n",
      "c:\\Users\\gsamp\\anaconda3\\envs\\visionEnv\\Lib\\site-packages\\sklearn\\metrics\\_classification.py:1509: UndefinedMetricWarning: Precision is ill-defined and being set to 0.0 in labels with no predicted samples. Use `zero_division` parameter to control this behavior.\n",
      "  _warn_prf(average, modifier, f\"{metric.capitalize()} is\", len(result))\n",
      "c:\\Users\\gsamp\\anaconda3\\envs\\visionEnv\\Lib\\site-packages\\sklearn\\metrics\\_classification.py:1509: UndefinedMetricWarning: Precision is ill-defined and being set to 0.0 in labels with no predicted samples. Use `zero_division` parameter to control this behavior.\n",
      "  _warn_prf(average, modifier, f\"{metric.capitalize()} is\", len(result))\n",
      "c:\\Users\\gsamp\\anaconda3\\envs\\visionEnv\\Lib\\site-packages\\sklearn\\metrics\\_classification.py:1509: UndefinedMetricWarning: Precision is ill-defined and being set to 0.0 in labels with no predicted samples. Use `zero_division` parameter to control this behavior.\n",
      "  _warn_prf(average, modifier, f\"{metric.capitalize()} is\", len(result))\n",
      "c:\\Users\\gsamp\\anaconda3\\envs\\visionEnv\\Lib\\site-packages\\sklearn\\metrics\\_classification.py:1509: UndefinedMetricWarning: Precision is ill-defined and being set to 0.0 in labels with no predicted samples. Use `zero_division` parameter to control this behavior.\n",
      "  _warn_prf(average, modifier, f\"{metric.capitalize()} is\", len(result))\n"
     ]
    },
    {
     "name": "stdout",
     "output_type": "stream",
     "text": [
      "Nodes classified as fraud: 0, \n",
      "                nodes classified as licit: 37326\n",
      "Epoch: 10, \n",
      "            Training Loss: 0.8737, Training Accuracy: 0.9284\n",
      "            Test Loss: 2.7968, Test Accuracy: 0.7973\n",
      "            \n",
      "Precision: [0.         0.79725049], Recall: [0. 1.], F1 Score: [0.         0.88718906] \n",
      "\n",
      "---------------------------------------------------------------------------------\n"
     ]
    },
    {
     "name": "stderr",
     "output_type": "stream",
     "text": [
      "c:\\Users\\gsamp\\anaconda3\\envs\\visionEnv\\Lib\\site-packages\\sklearn\\metrics\\_classification.py:1509: UndefinedMetricWarning: Precision is ill-defined and being set to 0.0 in labels with no predicted samples. Use `zero_division` parameter to control this behavior.\n",
      "  _warn_prf(average, modifier, f\"{metric.capitalize()} is\", len(result))\n",
      "c:\\Users\\gsamp\\anaconda3\\envs\\visionEnv\\Lib\\site-packages\\sklearn\\metrics\\_classification.py:1509: UndefinedMetricWarning: Precision is ill-defined and being set to 0.0 in labels with no predicted samples. Use `zero_division` parameter to control this behavior.\n",
      "  _warn_prf(average, modifier, f\"{metric.capitalize()} is\", len(result))\n",
      "c:\\Users\\gsamp\\anaconda3\\envs\\visionEnv\\Lib\\site-packages\\sklearn\\metrics\\_classification.py:1509: UndefinedMetricWarning: Precision is ill-defined and being set to 0.0 in labels with no predicted samples. Use `zero_division` parameter to control this behavior.\n",
      "  _warn_prf(average, modifier, f\"{metric.capitalize()} is\", len(result))\n",
      "c:\\Users\\gsamp\\anaconda3\\envs\\visionEnv\\Lib\\site-packages\\sklearn\\metrics\\_classification.py:1509: UndefinedMetricWarning: Precision is ill-defined and being set to 0.0 in labels with no predicted samples. Use `zero_division` parameter to control this behavior.\n",
      "  _warn_prf(average, modifier, f\"{metric.capitalize()} is\", len(result))\n",
      "c:\\Users\\gsamp\\anaconda3\\envs\\visionEnv\\Lib\\site-packages\\sklearn\\metrics\\_classification.py:1509: UndefinedMetricWarning: Precision is ill-defined and being set to 0.0 in labels with no predicted samples. Use `zero_division` parameter to control this behavior.\n",
      "  _warn_prf(average, modifier, f\"{metric.capitalize()} is\", len(result))\n"
     ]
    },
    {
     "name": "stdout",
     "output_type": "stream",
     "text": [
      "Nodes classified as fraud: 0, \n",
      "                nodes classified as licit: 37326\n",
      "Epoch: 15, \n",
      "            Training Loss: 0.6359, Training Accuracy: 0.9284\n",
      "            Test Loss: 2.0418, Test Accuracy: 0.7973\n",
      "            \n",
      "Precision: [0.         0.79725049], Recall: [0. 1.], F1 Score: [0.         0.88718906] \n",
      "\n",
      "---------------------------------------------------------------------------------\n"
     ]
    },
    {
     "name": "stderr",
     "output_type": "stream",
     "text": [
      "c:\\Users\\gsamp\\anaconda3\\envs\\visionEnv\\Lib\\site-packages\\sklearn\\metrics\\_classification.py:1509: UndefinedMetricWarning: Precision is ill-defined and being set to 0.0 in labels with no predicted samples. Use `zero_division` parameter to control this behavior.\n",
      "  _warn_prf(average, modifier, f\"{metric.capitalize()} is\", len(result))\n",
      "c:\\Users\\gsamp\\anaconda3\\envs\\visionEnv\\Lib\\site-packages\\sklearn\\metrics\\_classification.py:1509: UndefinedMetricWarning: Precision is ill-defined and being set to 0.0 in labels with no predicted samples. Use `zero_division` parameter to control this behavior.\n",
      "  _warn_prf(average, modifier, f\"{metric.capitalize()} is\", len(result))\n",
      "c:\\Users\\gsamp\\anaconda3\\envs\\visionEnv\\Lib\\site-packages\\sklearn\\metrics\\_classification.py:1509: UndefinedMetricWarning: Precision is ill-defined and being set to 0.0 in labels with no predicted samples. Use `zero_division` parameter to control this behavior.\n",
      "  _warn_prf(average, modifier, f\"{metric.capitalize()} is\", len(result))\n",
      "c:\\Users\\gsamp\\anaconda3\\envs\\visionEnv\\Lib\\site-packages\\sklearn\\metrics\\_classification.py:1509: UndefinedMetricWarning: Precision is ill-defined and being set to 0.0 in labels with no predicted samples. Use `zero_division` parameter to control this behavior.\n",
      "  _warn_prf(average, modifier, f\"{metric.capitalize()} is\", len(result))\n",
      "c:\\Users\\gsamp\\anaconda3\\envs\\visionEnv\\Lib\\site-packages\\sklearn\\metrics\\_classification.py:1509: UndefinedMetricWarning: Precision is ill-defined and being set to 0.0 in labels with no predicted samples. Use `zero_division` parameter to control this behavior.\n",
      "  _warn_prf(average, modifier, f\"{metric.capitalize()} is\", len(result))\n"
     ]
    },
    {
     "name": "stdout",
     "output_type": "stream",
     "text": [
      "Nodes classified as fraud: 0, \n",
      "                nodes classified as licit: 37326\n",
      "Epoch: 20, \n",
      "            Training Loss: 0.3581, Training Accuracy: 0.9284\n",
      "            Test Loss: 1.3712, Test Accuracy: 0.7973\n",
      "            \n",
      "Precision: [0.         0.79725049], Recall: [0. 1.], F1 Score: [0.         0.88718906] \n",
      "\n",
      "---------------------------------------------------------------------------------\n"
     ]
    },
    {
     "name": "stderr",
     "output_type": "stream",
     "text": [
      "c:\\Users\\gsamp\\anaconda3\\envs\\visionEnv\\Lib\\site-packages\\sklearn\\metrics\\_classification.py:1509: UndefinedMetricWarning: Precision is ill-defined and being set to 0.0 in labels with no predicted samples. Use `zero_division` parameter to control this behavior.\n",
      "  _warn_prf(average, modifier, f\"{metric.capitalize()} is\", len(result))\n",
      "c:\\Users\\gsamp\\anaconda3\\envs\\visionEnv\\Lib\\site-packages\\sklearn\\metrics\\_classification.py:1509: UndefinedMetricWarning: Precision is ill-defined and being set to 0.0 in labels with no predicted samples. Use `zero_division` parameter to control this behavior.\n",
      "  _warn_prf(average, modifier, f\"{metric.capitalize()} is\", len(result))\n",
      "c:\\Users\\gsamp\\anaconda3\\envs\\visionEnv\\Lib\\site-packages\\sklearn\\metrics\\_classification.py:1509: UndefinedMetricWarning: Precision is ill-defined and being set to 0.0 in labels with no predicted samples. Use `zero_division` parameter to control this behavior.\n",
      "  _warn_prf(average, modifier, f\"{metric.capitalize()} is\", len(result))\n",
      "c:\\Users\\gsamp\\anaconda3\\envs\\visionEnv\\Lib\\site-packages\\sklearn\\metrics\\_classification.py:1509: UndefinedMetricWarning: Precision is ill-defined and being set to 0.0 in labels with no predicted samples. Use `zero_division` parameter to control this behavior.\n",
      "  _warn_prf(average, modifier, f\"{metric.capitalize()} is\", len(result))\n",
      "c:\\Users\\gsamp\\anaconda3\\envs\\visionEnv\\Lib\\site-packages\\sklearn\\metrics\\_classification.py:1509: UndefinedMetricWarning: Precision is ill-defined and being set to 0.0 in labels with no predicted samples. Use `zero_division` parameter to control this behavior.\n",
      "  _warn_prf(average, modifier, f\"{metric.capitalize()} is\", len(result))\n"
     ]
    },
    {
     "name": "stdout",
     "output_type": "stream",
     "text": [
      "Nodes classified as fraud: 0, \n",
      "                nodes classified as licit: 37326\n",
      "Epoch: 25, \n",
      "            Training Loss: 0.2349, Training Accuracy: 0.9284\n",
      "            Test Loss: 1.1684, Test Accuracy: 0.7973\n",
      "            \n",
      "Precision: [0.         0.79725049], Recall: [0. 1.], F1 Score: [0.         0.88718906] \n",
      "\n",
      "---------------------------------------------------------------------------------\n"
     ]
    },
    {
     "name": "stderr",
     "output_type": "stream",
     "text": [
      "c:\\Users\\gsamp\\anaconda3\\envs\\visionEnv\\Lib\\site-packages\\sklearn\\metrics\\_classification.py:1509: UndefinedMetricWarning: Precision is ill-defined and being set to 0.0 in labels with no predicted samples. Use `zero_division` parameter to control this behavior.\n",
      "  _warn_prf(average, modifier, f\"{metric.capitalize()} is\", len(result))\n",
      "c:\\Users\\gsamp\\anaconda3\\envs\\visionEnv\\Lib\\site-packages\\sklearn\\metrics\\_classification.py:1509: UndefinedMetricWarning: Precision is ill-defined and being set to 0.0 in labels with no predicted samples. Use `zero_division` parameter to control this behavior.\n",
      "  _warn_prf(average, modifier, f\"{metric.capitalize()} is\", len(result))\n",
      "c:\\Users\\gsamp\\anaconda3\\envs\\visionEnv\\Lib\\site-packages\\sklearn\\metrics\\_classification.py:1509: UndefinedMetricWarning: Precision is ill-defined and being set to 0.0 in labels with no predicted samples. Use `zero_division` parameter to control this behavior.\n",
      "  _warn_prf(average, modifier, f\"{metric.capitalize()} is\", len(result))\n",
      "c:\\Users\\gsamp\\anaconda3\\envs\\visionEnv\\Lib\\site-packages\\sklearn\\metrics\\_classification.py:1509: UndefinedMetricWarning: Precision is ill-defined and being set to 0.0 in labels with no predicted samples. Use `zero_division` parameter to control this behavior.\n",
      "  _warn_prf(average, modifier, f\"{metric.capitalize()} is\", len(result))\n",
      "c:\\Users\\gsamp\\anaconda3\\envs\\visionEnv\\Lib\\site-packages\\sklearn\\metrics\\_classification.py:1509: UndefinedMetricWarning: Precision is ill-defined and being set to 0.0 in labels with no predicted samples. Use `zero_division` parameter to control this behavior.\n",
      "  _warn_prf(average, modifier, f\"{metric.capitalize()} is\", len(result))\n"
     ]
    },
    {
     "name": "stdout",
     "output_type": "stream",
     "text": [
      "Nodes classified as fraud: 0, \n",
      "                nodes classified as licit: 37326\n",
      "Epoch: 30, \n",
      "            Training Loss: 0.1761, Training Accuracy: 0.9284\n",
      "            Test Loss: 1.0104, Test Accuracy: 0.7973\n",
      "            \n",
      "Precision: [0.         0.79725049], Recall: [0. 1.], F1 Score: [0.         0.88718906] \n",
      "\n",
      "---------------------------------------------------------------------------------\n"
     ]
    },
    {
     "name": "stderr",
     "output_type": "stream",
     "text": [
      "c:\\Users\\gsamp\\anaconda3\\envs\\visionEnv\\Lib\\site-packages\\sklearn\\metrics\\_classification.py:1509: UndefinedMetricWarning: Precision is ill-defined and being set to 0.0 in labels with no predicted samples. Use `zero_division` parameter to control this behavior.\n",
      "  _warn_prf(average, modifier, f\"{metric.capitalize()} is\", len(result))\n",
      "c:\\Users\\gsamp\\anaconda3\\envs\\visionEnv\\Lib\\site-packages\\sklearn\\metrics\\_classification.py:1509: UndefinedMetricWarning: Precision is ill-defined and being set to 0.0 in labels with no predicted samples. Use `zero_division` parameter to control this behavior.\n",
      "  _warn_prf(average, modifier, f\"{metric.capitalize()} is\", len(result))\n",
      "c:\\Users\\gsamp\\anaconda3\\envs\\visionEnv\\Lib\\site-packages\\sklearn\\metrics\\_classification.py:1509: UndefinedMetricWarning: Precision is ill-defined and being set to 0.0 in labels with no predicted samples. Use `zero_division` parameter to control this behavior.\n",
      "  _warn_prf(average, modifier, f\"{metric.capitalize()} is\", len(result))\n",
      "c:\\Users\\gsamp\\anaconda3\\envs\\visionEnv\\Lib\\site-packages\\sklearn\\metrics\\_classification.py:1509: UndefinedMetricWarning: Precision is ill-defined and being set to 0.0 in labels with no predicted samples. Use `zero_division` parameter to control this behavior.\n",
      "  _warn_prf(average, modifier, f\"{metric.capitalize()} is\", len(result))\n",
      "c:\\Users\\gsamp\\anaconda3\\envs\\visionEnv\\Lib\\site-packages\\sklearn\\metrics\\_classification.py:1509: UndefinedMetricWarning: Precision is ill-defined and being set to 0.0 in labels with no predicted samples. Use `zero_division` parameter to control this behavior.\n",
      "  _warn_prf(average, modifier, f\"{metric.capitalize()} is\", len(result))\n"
     ]
    },
    {
     "name": "stdout",
     "output_type": "stream",
     "text": [
      "Nodes classified as fraud: 0, \n",
      "                nodes classified as licit: 37326\n",
      "Epoch: 35, \n",
      "            Training Loss: 0.1417, Training Accuracy: 0.9284\n",
      "            Test Loss: 0.8365, Test Accuracy: 0.7973\n",
      "            \n",
      "Precision: [0.         0.79725049], Recall: [0. 1.], F1 Score: [0.         0.88718906] \n",
      "\n",
      "---------------------------------------------------------------------------------\n"
     ]
    },
    {
     "name": "stderr",
     "output_type": "stream",
     "text": [
      "c:\\Users\\gsamp\\anaconda3\\envs\\visionEnv\\Lib\\site-packages\\sklearn\\metrics\\_classification.py:1509: UndefinedMetricWarning: Precision is ill-defined and being set to 0.0 in labels with no predicted samples. Use `zero_division` parameter to control this behavior.\n",
      "  _warn_prf(average, modifier, f\"{metric.capitalize()} is\", len(result))\n",
      "c:\\Users\\gsamp\\anaconda3\\envs\\visionEnv\\Lib\\site-packages\\sklearn\\metrics\\_classification.py:1509: UndefinedMetricWarning: Precision is ill-defined and being set to 0.0 in labels with no predicted samples. Use `zero_division` parameter to control this behavior.\n",
      "  _warn_prf(average, modifier, f\"{metric.capitalize()} is\", len(result))\n",
      "c:\\Users\\gsamp\\anaconda3\\envs\\visionEnv\\Lib\\site-packages\\sklearn\\metrics\\_classification.py:1509: UndefinedMetricWarning: Precision is ill-defined and being set to 0.0 in labels with no predicted samples. Use `zero_division` parameter to control this behavior.\n",
      "  _warn_prf(average, modifier, f\"{metric.capitalize()} is\", len(result))\n",
      "c:\\Users\\gsamp\\anaconda3\\envs\\visionEnv\\Lib\\site-packages\\sklearn\\metrics\\_classification.py:1509: UndefinedMetricWarning: Precision is ill-defined and being set to 0.0 in labels with no predicted samples. Use `zero_division` parameter to control this behavior.\n",
      "  _warn_prf(average, modifier, f\"{metric.capitalize()} is\", len(result))\n",
      "c:\\Users\\gsamp\\anaconda3\\envs\\visionEnv\\Lib\\site-packages\\sklearn\\metrics\\_classification.py:1509: UndefinedMetricWarning: Precision is ill-defined and being set to 0.0 in labels with no predicted samples. Use `zero_division` parameter to control this behavior.\n",
      "  _warn_prf(average, modifier, f\"{metric.capitalize()} is\", len(result))\n"
     ]
    },
    {
     "name": "stdout",
     "output_type": "stream",
     "text": [
      "Nodes classified as fraud: 0, \n",
      "                nodes classified as licit: 37326\n",
      "Epoch: 40, \n",
      "            Training Loss: 0.1227, Training Accuracy: 0.9284\n",
      "            Test Loss: 0.6927, Test Accuracy: 0.7968\n",
      "            \n",
      "Precision: [0.16666667 0.79722704], Recall: [5.33902830e-04 9.99321113e-01], F1 Score: [0.0010644  0.88690727] \n",
      "\n",
      "---------------------------------------------------------------------------------\n"
     ]
    },
    {
     "name": "stderr",
     "output_type": "stream",
     "text": [
      "c:\\Users\\gsamp\\anaconda3\\envs\\visionEnv\\Lib\\site-packages\\sklearn\\metrics\\_classification.py:1509: UndefinedMetricWarning: Precision is ill-defined and being set to 0.0 in labels with no predicted samples. Use `zero_division` parameter to control this behavior.\n",
      "  _warn_prf(average, modifier, f\"{metric.capitalize()} is\", len(result))\n",
      "c:\\Users\\gsamp\\anaconda3\\envs\\visionEnv\\Lib\\site-packages\\sklearn\\metrics\\_classification.py:1509: UndefinedMetricWarning: Precision is ill-defined and being set to 0.0 in labels with no predicted samples. Use `zero_division` parameter to control this behavior.\n",
      "  _warn_prf(average, modifier, f\"{metric.capitalize()} is\", len(result))\n"
     ]
    },
    {
     "name": "stdout",
     "output_type": "stream",
     "text": [
      "Nodes classified as fraud: 36, \n",
      "                nodes classified as licit: 37290\n",
      "Epoch: 45, \n",
      "            Training Loss: 0.1106, Training Accuracy: 0.9277\n",
      "            Test Loss: 0.6003, Test Accuracy: 0.7973\n",
      "            \n",
      "Precision: [0.         0.79725049], Recall: [0. 1.], F1 Score: [0.         0.88718906] \n",
      "\n",
      "---------------------------------------------------------------------------------\n"
     ]
    },
    {
     "name": "stderr",
     "output_type": "stream",
     "text": [
      "c:\\Users\\gsamp\\anaconda3\\envs\\visionEnv\\Lib\\site-packages\\sklearn\\metrics\\_classification.py:1509: UndefinedMetricWarning: Precision is ill-defined and being set to 0.0 in labels with no predicted samples. Use `zero_division` parameter to control this behavior.\n",
      "  _warn_prf(average, modifier, f\"{metric.capitalize()} is\", len(result))\n"
     ]
    },
    {
     "name": "stdout",
     "output_type": "stream",
     "text": [
      "Nodes classified as fraud: 1634, \n",
      "                nodes classified as licit: 35692\n",
      "Epoch: 50, \n",
      "            Training Loss: 0.0979, Training Accuracy: 0.9659\n",
      "            Test Loss: 0.5402, Test Accuracy: 0.9021\n",
      "            \n",
      "Precision: [0.93297587 0.89789383], Recall: [0.55739455 0.9898167 ], F1 Score: [0.69786096 0.94161715] \n",
      "\n",
      "---------------------------------------------------------------------------------\n",
      "Nodes classified as fraud: 1984, \n",
      "                nodes classified as licit: 35342\n",
      "Epoch: 55, \n",
      "            Training Loss: 0.0851, Training Accuracy: 0.9710\n",
      "            Test Loss: 0.4922, Test Accuracy: 0.9258\n",
      "            \n",
      "Precision: [0.91135734 0.92853477], Recall: [0.70261612 0.9826205 ], F1 Score: [0.79348809 0.95481232] \n",
      "\n",
      "---------------------------------------------------------------------------------\n",
      "Nodes classified as fraud: 2195, \n",
      "                nodes classified as licit: 35131\n",
      "Epoch: 60, \n",
      "            Training Loss: 0.0717, Training Accuracy: 0.9751\n",
      "            Test Loss: 0.4544, Test Accuracy: 0.9361\n",
      "            \n",
      "Precision: [0.90781945 0.9419439 ], Recall: [0.76241324 0.98031229], F1 Score: [0.828787   0.96074518] \n",
      "\n",
      "---------------------------------------------------------------------------------\n",
      "Nodes classified as fraud: 2418, \n",
      "                nodes classified as licit: 34908\n",
      "Epoch: 65, \n",
      "            Training Loss: 0.0588, Training Accuracy: 0.9794\n",
      "            Test Loss: 0.4255, Test Accuracy: 0.9404\n",
      "            \n",
      "Precision: [0.89628297 0.95006605], Recall: [0.79818473 0.97651052], F1 Score: [0.84439424 0.9631068 ] \n",
      "\n",
      "---------------------------------------------------------------------------------\n",
      "Nodes classified as fraud: 2507, \n",
      "                nodes classified as licit: 34819\n",
      "Epoch: 70, \n",
      "            Training Loss: 0.0483, Training Accuracy: 0.9828\n",
      "            Test Loss: 0.4120, Test Accuracy: 0.9421\n",
      "            \n",
      "Precision: [0.88895349 0.95424315], Recall: [0.81633743 0.97406653], F1 Score: [0.85109936 0.96405295] \n",
      "\n",
      "---------------------------------------------------------------------------------\n",
      "Nodes classified as fraud: 2599, \n",
      "                nodes classified as licit: 34727\n",
      "Epoch: 75, \n",
      "            Training Loss: 0.0395, Training Accuracy: 0.9865\n",
      "            Test Loss: 0.4159, Test Accuracy: 0.9420\n",
      "            \n",
      "Precision: [0.88530259 0.95508463], Recall: [0.82007475 0.97298031], F1 Score: [0.85144124 0.96394942] \n",
      "\n",
      "---------------------------------------------------------------------------------\n",
      "Nodes classified as fraud: 2651, \n",
      "                nodes classified as licit: 34675\n",
      "Epoch: 80, \n",
      "            Training Loss: 0.0319, Training Accuracy: 0.9894\n",
      "            Test Loss: 0.4327, Test Accuracy: 0.9419\n",
      "            \n",
      "Precision: [0.87825595 0.95690578], Recall: [0.82808329 0.97080788], F1 Score: [0.85243199 0.9638067 ] \n",
      "\n",
      "---------------------------------------------------------------------------------\n",
      "Nodes classified as fraud: 2701, \n",
      "                nodes classified as licit: 34625\n",
      "Epoch: 85, \n",
      "            Training Loss: 0.0268, Training Accuracy: 0.9912\n",
      "            Test Loss: 0.4607, Test Accuracy: 0.9400\n",
      "            \n",
      "Precision: [0.87196842 0.95619558], Recall: [0.82541377 0.96917855], F1 Score: [0.84805266 0.96264329] \n",
      "\n",
      "---------------------------------------------------------------------------------\n",
      "Nodes classified as fraud: 2643, \n",
      "                nodes classified as licit: 34683\n",
      "Epoch: 90, \n",
      "            Training Loss: 0.0217, Training Accuracy: 0.9933\n",
      "            Test Loss: 0.4843, Test Accuracy: 0.9419\n",
      "            \n",
      "Precision: [0.88523645 0.95495736], Recall: [0.81954084 0.97298031], F1 Score: [0.85112282 0.96388459] \n",
      "\n",
      "---------------------------------------------------------------------------------\n",
      "Nodes classified as fraud: 2691, \n",
      "                nodes classified as licit: 34635\n",
      "Epoch: 95, \n",
      "            Training Loss: 0.0173, Training Accuracy: 0.9949\n",
      "            Test Loss: 0.5086, Test Accuracy: 0.9448\n",
      "            \n",
      "Precision: [0.89189189 0.95706094], Recall: [0.82808329 0.97447386], F1 Score: [0.85880399 0.96568891] \n",
      "\n",
      "---------------------------------------------------------------------------------\n",
      "Nodes classified as fraud: 2706, \n",
      "                nodes classified as licit: 34620\n",
      "Epoch: 100, \n",
      "            Training Loss: 0.0143, Training Accuracy: 0.9960\n",
      "            Test Loss: 0.5211, Test Accuracy: 0.9475\n",
      "            \n",
      "Precision: [0.89657143 0.95940171], Recall: [0.83769354 0.9754243 ], F1 Score: [0.86613304 0.96734666] \n",
      "\n",
      "---------------------------------------------------------------------------------\n"
     ]
    },
    {
     "data": {
      "text/html": [
       "Finishing last run (ID:b3swribj) before initializing another..."
      ],
      "text/plain": [
       "<IPython.core.display.HTML object>"
      ]
     },
     "metadata": {},
     "output_type": "display_data"
    },
    {
     "data": {
      "text/html": [
       "<style>\n",
       "    table.wandb td:nth-child(1) { padding: 0 10px; text-align: left ; width: auto;} td:nth-child(2) {text-align: left ; width: 100%}\n",
       "    .wandb-row { display: flex; flex-direction: row; flex-wrap: wrap; justify-content: flex-start; width: 100% }\n",
       "    .wandb-col { display: flex; flex-direction: column; flex-basis: 100%; flex: 1; padding: 10px; }\n",
       "    </style>\n",
       "<div class=\"wandb-row\"><div class=\"wandb-col\"><h3>Run history:</h3><br/><table class=\"wandb\"><tr><td>epoch</td><td>▁▁▁▁▂▂▂▂▂▃▃▃▃▃▃▄▄▄▄▄▅▅▅▅▅▅▆▆▆▆▆▇▇▇▇▇▇███</td></tr><tr><td>test_accuracy</td><td>▁▁▁▁▁▁▁▁▁▁▁▁▁▁▁▁▁▁▄▆▆▇▇▇▇███████████████</td></tr><tr><td>test_f1_score_class_0</td><td>▁▁▁▁▁▁▁▁▁▁▁▁▁▁▁▁▁▁▅▆▇▇▇█████████████████</td></tr><tr><td>test_f1_score_class_1</td><td>▁▁▁▁▁▁▁▁▁▁▁▁▁▁▁▁▁▁▄▅▆▇▇▇▇███████████████</td></tr><tr><td>test_loss</td><td>█▂▁▂▃▃▂▂▂▂▂▂▁▁▁▁▁▁▁▁▁▁▁▁▁▁▁▁▁▁▁▁▁▁▁▁▁▁▁▁</td></tr><tr><td>test_precision_class_0</td><td>▁▁▁▁▁▁▁▁▁▁▁▁▁▁▁▁▃▁██████████████▇▇██████</td></tr><tr><td>test_precision_class_1</td><td>▁▁▁▁▁▁▁▁▁▁▁▁▁▁▁▁▁▁▄▅▆▆▇▇▇███████████████</td></tr><tr><td>test_recall_class_0</td><td>▁▁▁▁▁▁▁▁▁▁▁▁▁▁▁▁▁▁▄▅▆▆▇▇▇███████████████</td></tr><tr><td>test_recall_class_1</td><td>██████████████████▇▆▅▅▄▄▃▃▃▂▂▂▂▂▁▁▂▂▂▂▂▂</td></tr><tr><td>train_accuracy</td><td>▃▇▁▇▇▇▇▇▇▇▇▇▇▇▇▇▇▇▇█████████████████████</td></tr><tr><td>train_loss</td><td>▁▁█▁▁▁▁▁▁▁▁▁▁▁▁▁▁▁▁▁▁▁▁▁▁▁▁▁▁▁▁▁▁▁▁▁▁▁▁▁</td></tr></table><br/></div><div class=\"wandb-col\"><h3>Run summary:</h3><br/><table class=\"wandb\"><tr><td>epoch</td><td>100</td></tr><tr><td>test_accuracy</td><td>0.9475</td></tr><tr><td>test_f1_score_class_0</td><td>0.86613</td></tr><tr><td>test_f1_score_class_1</td><td>0.96735</td></tr><tr><td>test_loss</td><td>0.52105</td></tr><tr><td>test_precision_class_0</td><td>0.89657</td></tr><tr><td>test_precision_class_1</td><td>0.9594</td></tr><tr><td>test_recall_class_0</td><td>0.83769</td></tr><tr><td>test_recall_class_1</td><td>0.97542</td></tr><tr><td>train_accuracy</td><td>0.99598</td></tr><tr><td>train_loss</td><td>0.01429</td></tr></table><br/></div></div>"
      ],
      "text/plain": [
       "<IPython.core.display.HTML object>"
      ]
     },
     "metadata": {},
     "output_type": "display_data"
    },
    {
     "data": {
      "text/html": [
       " View run <strong style=\"color:#cdcd00\">2_SAGE - n_layers: 3</strong> at: <a href='https://wandb.ai/gsamper/GraphAnomaly/runs/b3swribj' target=\"_blank\">https://wandb.ai/gsamper/GraphAnomaly/runs/b3swribj</a><br/> View project at: <a href='https://wandb.ai/gsamper/GraphAnomaly' target=\"_blank\">https://wandb.ai/gsamper/GraphAnomaly</a><br/>Synced 5 W&B file(s), 0 media file(s), 0 artifact file(s) and 0 other file(s)"
      ],
      "text/plain": [
       "<IPython.core.display.HTML object>"
      ]
     },
     "metadata": {},
     "output_type": "display_data"
    },
    {
     "data": {
      "text/html": [
       "Find logs at: <code>.\\wandb\\run-20240429_172446-b3swribj\\logs</code>"
      ],
      "text/plain": [
       "<IPython.core.display.HTML object>"
      ]
     },
     "metadata": {},
     "output_type": "display_data"
    },
    {
     "data": {
      "text/html": [
       "Successfully finished last run (ID:b3swribj). Initializing new run:<br/>"
      ],
      "text/plain": [
       "<IPython.core.display.HTML object>"
      ]
     },
     "metadata": {},
     "output_type": "display_data"
    },
    {
     "data": {
      "text/html": [
       "Tracking run with wandb version 0.16.6"
      ],
      "text/plain": [
       "<IPython.core.display.HTML object>"
      ]
     },
     "metadata": {},
     "output_type": "display_data"
    },
    {
     "data": {
      "text/html": [
       "Run data is saved locally in <code>c:\\Users\\gsamp\\OneDrive\\Documents\\AI-3\\2n Semestre\\Projecte de Síntesi 2\\GraphAnomaly\\wandb\\run-20240429_172612-eysbveru</code>"
      ],
      "text/plain": [
       "<IPython.core.display.HTML object>"
      ]
     },
     "metadata": {},
     "output_type": "display_data"
    },
    {
     "data": {
      "text/html": [
       "Syncing run <strong><a href='https://wandb.ai/gsamper/GraphAnomaly/runs/eysbveru' target=\"_blank\">2_SAGE - n_layers: 4</a></strong> to <a href='https://wandb.ai/gsamper/GraphAnomaly' target=\"_blank\">Weights & Biases</a> (<a href='https://wandb.me/run' target=\"_blank\">docs</a>)<br/>"
      ],
      "text/plain": [
       "<IPython.core.display.HTML object>"
      ]
     },
     "metadata": {},
     "output_type": "display_data"
    },
    {
     "data": {
      "text/html": [
       " View project at <a href='https://wandb.ai/gsamper/GraphAnomaly' target=\"_blank\">https://wandb.ai/gsamper/GraphAnomaly</a>"
      ],
      "text/plain": [
       "<IPython.core.display.HTML object>"
      ]
     },
     "metadata": {},
     "output_type": "display_data"
    },
    {
     "data": {
      "text/html": [
       " View run at <a href='https://wandb.ai/gsamper/GraphAnomaly/runs/eysbveru' target=\"_blank\">https://wandb.ai/gsamper/GraphAnomaly/runs/eysbveru</a>"
      ],
      "text/plain": [
       "<IPython.core.display.HTML object>"
      ]
     },
     "metadata": {},
     "output_type": "display_data"
    },
    {
     "name": "stdout",
     "output_type": "stream",
     "text": [
      "Nodes classified as fraud: 16568, \n",
      "                nodes classified as licit: 20758\n",
      "Epoch: 0, \n",
      "            Training Loss: 0.8127, Training Accuracy: 0.5345\n",
      "            Test Loss: 15.2264, Test Accuracy: 0.7973\n",
      "            \n",
      "Precision: [0.         0.79725049], Recall: [0. 1.], F1 Score: [0.         0.88718906] \n",
      "\n",
      "---------------------------------------------------------------------------------\n"
     ]
    },
    {
     "name": "stderr",
     "output_type": "stream",
     "text": [
      "c:\\Users\\gsamp\\anaconda3\\envs\\visionEnv\\Lib\\site-packages\\sklearn\\metrics\\_classification.py:1509: UndefinedMetricWarning: Precision is ill-defined and being set to 0.0 in labels with no predicted samples. Use `zero_division` parameter to control this behavior.\n",
      "  _warn_prf(average, modifier, f\"{metric.capitalize()} is\", len(result))\n",
      "c:\\Users\\gsamp\\anaconda3\\envs\\visionEnv\\Lib\\site-packages\\sklearn\\metrics\\_classification.py:1509: UndefinedMetricWarning: Precision is ill-defined and being set to 0.0 in labels with no predicted samples. Use `zero_division` parameter to control this behavior.\n",
      "  _warn_prf(average, modifier, f\"{metric.capitalize()} is\", len(result))\n",
      "c:\\Users\\gsamp\\anaconda3\\envs\\visionEnv\\Lib\\site-packages\\sklearn\\metrics\\_classification.py:1509: UndefinedMetricWarning: Precision is ill-defined and being set to 0.0 in labels with no predicted samples. Use `zero_division` parameter to control this behavior.\n",
      "  _warn_prf(average, modifier, f\"{metric.capitalize()} is\", len(result))\n",
      "c:\\Users\\gsamp\\anaconda3\\envs\\visionEnv\\Lib\\site-packages\\sklearn\\metrics\\_classification.py:1509: UndefinedMetricWarning: Precision is ill-defined and being set to 0.0 in labels with no predicted samples. Use `zero_division` parameter to control this behavior.\n",
      "  _warn_prf(average, modifier, f\"{metric.capitalize()} is\", len(result))\n",
      "c:\\Users\\gsamp\\anaconda3\\envs\\visionEnv\\Lib\\site-packages\\sklearn\\metrics\\_classification.py:1509: UndefinedMetricWarning: Precision is ill-defined and being set to 0.0 in labels with no predicted samples. Use `zero_division` parameter to control this behavior.\n",
      "  _warn_prf(average, modifier, f\"{metric.capitalize()} is\", len(result))\n"
     ]
    },
    {
     "name": "stdout",
     "output_type": "stream",
     "text": [
      "Nodes classified as fraud: 0, \n",
      "                nodes classified as licit: 37326\n",
      "Epoch: 5, \n",
      "            Training Loss: 0.2139, Training Accuracy: 0.9284\n",
      "            Test Loss: 0.5262, Test Accuracy: 0.7909\n",
      "            \n",
      "Precision: [0.29931973 0.79881201], Recall: [0.02349172 0.98601494], F1 Score: [0.04356436 0.88259601] \n",
      "\n",
      "---------------------------------------------------------------------------------\n"
     ]
    },
    {
     "name": "stderr",
     "output_type": "stream",
     "text": [
      "c:\\Users\\gsamp\\anaconda3\\envs\\visionEnv\\Lib\\site-packages\\sklearn\\metrics\\_classification.py:1509: UndefinedMetricWarning: Precision is ill-defined and being set to 0.0 in labels with no predicted samples. Use `zero_division` parameter to control this behavior.\n",
      "  _warn_prf(average, modifier, f\"{metric.capitalize()} is\", len(result))\n"
     ]
    },
    {
     "name": "stdout",
     "output_type": "stream",
     "text": [
      "Nodes classified as fraud: 0, \n",
      "                nodes classified as licit: 37326\n",
      "Epoch: 10, \n",
      "            Training Loss: 0.2295, Training Accuracy: 0.9284\n",
      "            Test Loss: 0.5166, Test Accuracy: 0.7973\n",
      "            \n",
      "Precision: [0.         0.79725049], Recall: [0. 1.], F1 Score: [0.         0.88718906] \n",
      "\n",
      "---------------------------------------------------------------------------------\n"
     ]
    },
    {
     "name": "stderr",
     "output_type": "stream",
     "text": [
      "c:\\Users\\gsamp\\anaconda3\\envs\\visionEnv\\Lib\\site-packages\\sklearn\\metrics\\_classification.py:1509: UndefinedMetricWarning: Precision is ill-defined and being set to 0.0 in labels with no predicted samples. Use `zero_division` parameter to control this behavior.\n",
      "  _warn_prf(average, modifier, f\"{metric.capitalize()} is\", len(result))\n",
      "c:\\Users\\gsamp\\anaconda3\\envs\\visionEnv\\Lib\\site-packages\\sklearn\\metrics\\_classification.py:1509: UndefinedMetricWarning: Precision is ill-defined and being set to 0.0 in labels with no predicted samples. Use `zero_division` parameter to control this behavior.\n",
      "  _warn_prf(average, modifier, f\"{metric.capitalize()} is\", len(result))\n",
      "c:\\Users\\gsamp\\anaconda3\\envs\\visionEnv\\Lib\\site-packages\\sklearn\\metrics\\_classification.py:1509: UndefinedMetricWarning: Precision is ill-defined and being set to 0.0 in labels with no predicted samples. Use `zero_division` parameter to control this behavior.\n",
      "  _warn_prf(average, modifier, f\"{metric.capitalize()} is\", len(result))\n",
      "c:\\Users\\gsamp\\anaconda3\\envs\\visionEnv\\Lib\\site-packages\\sklearn\\metrics\\_classification.py:1509: UndefinedMetricWarning: Precision is ill-defined and being set to 0.0 in labels with no predicted samples. Use `zero_division` parameter to control this behavior.\n",
      "  _warn_prf(average, modifier, f\"{metric.capitalize()} is\", len(result))\n",
      "c:\\Users\\gsamp\\anaconda3\\envs\\visionEnv\\Lib\\site-packages\\sklearn\\metrics\\_classification.py:1509: UndefinedMetricWarning: Precision is ill-defined and being set to 0.0 in labels with no predicted samples. Use `zero_division` parameter to control this behavior.\n",
      "  _warn_prf(average, modifier, f\"{metric.capitalize()} is\", len(result))\n"
     ]
    },
    {
     "name": "stdout",
     "output_type": "stream",
     "text": [
      "Nodes classified as fraud: 0, \n",
      "                nodes classified as licit: 37326\n",
      "Epoch: 15, \n",
      "            Training Loss: 0.1948, Training Accuracy: 0.9284\n",
      "            Test Loss: 0.3679, Test Accuracy: 0.7973\n",
      "            \n",
      "Precision: [0.         0.79725049], Recall: [0. 1.], F1 Score: [0.         0.88718906] \n",
      "\n",
      "---------------------------------------------------------------------------------\n"
     ]
    },
    {
     "name": "stderr",
     "output_type": "stream",
     "text": [
      "c:\\Users\\gsamp\\anaconda3\\envs\\visionEnv\\Lib\\site-packages\\sklearn\\metrics\\_classification.py:1509: UndefinedMetricWarning: Precision is ill-defined and being set to 0.0 in labels with no predicted samples. Use `zero_division` parameter to control this behavior.\n",
      "  _warn_prf(average, modifier, f\"{metric.capitalize()} is\", len(result))\n",
      "c:\\Users\\gsamp\\anaconda3\\envs\\visionEnv\\Lib\\site-packages\\sklearn\\metrics\\_classification.py:1509: UndefinedMetricWarning: Precision is ill-defined and being set to 0.0 in labels with no predicted samples. Use `zero_division` parameter to control this behavior.\n",
      "  _warn_prf(average, modifier, f\"{metric.capitalize()} is\", len(result))\n",
      "c:\\Users\\gsamp\\anaconda3\\envs\\visionEnv\\Lib\\site-packages\\sklearn\\metrics\\_classification.py:1509: UndefinedMetricWarning: Precision is ill-defined and being set to 0.0 in labels with no predicted samples. Use `zero_division` parameter to control this behavior.\n",
      "  _warn_prf(average, modifier, f\"{metric.capitalize()} is\", len(result))\n",
      "c:\\Users\\gsamp\\anaconda3\\envs\\visionEnv\\Lib\\site-packages\\sklearn\\metrics\\_classification.py:1509: UndefinedMetricWarning: Precision is ill-defined and being set to 0.0 in labels with no predicted samples. Use `zero_division` parameter to control this behavior.\n",
      "  _warn_prf(average, modifier, f\"{metric.capitalize()} is\", len(result))\n",
      "c:\\Users\\gsamp\\anaconda3\\envs\\visionEnv\\Lib\\site-packages\\sklearn\\metrics\\_classification.py:1509: UndefinedMetricWarning: Precision is ill-defined and being set to 0.0 in labels with no predicted samples. Use `zero_division` parameter to control this behavior.\n",
      "  _warn_prf(average, modifier, f\"{metric.capitalize()} is\", len(result))\n"
     ]
    },
    {
     "name": "stdout",
     "output_type": "stream",
     "text": [
      "Nodes classified as fraud: 0, \n",
      "                nodes classified as licit: 37326\n",
      "Epoch: 20, \n",
      "            Training Loss: 0.1637, Training Accuracy: 0.9284\n",
      "            Test Loss: 0.3946, Test Accuracy: 0.7973\n",
      "            \n",
      "Precision: [0.         0.79725049], Recall: [0. 1.], F1 Score: [0.         0.88718906] \n",
      "\n",
      "---------------------------------------------------------------------------------\n"
     ]
    },
    {
     "name": "stderr",
     "output_type": "stream",
     "text": [
      "c:\\Users\\gsamp\\anaconda3\\envs\\visionEnv\\Lib\\site-packages\\sklearn\\metrics\\_classification.py:1509: UndefinedMetricWarning: Precision is ill-defined and being set to 0.0 in labels with no predicted samples. Use `zero_division` parameter to control this behavior.\n",
      "  _warn_prf(average, modifier, f\"{metric.capitalize()} is\", len(result))\n",
      "c:\\Users\\gsamp\\anaconda3\\envs\\visionEnv\\Lib\\site-packages\\sklearn\\metrics\\_classification.py:1509: UndefinedMetricWarning: Precision is ill-defined and being set to 0.0 in labels with no predicted samples. Use `zero_division` parameter to control this behavior.\n",
      "  _warn_prf(average, modifier, f\"{metric.capitalize()} is\", len(result))\n",
      "c:\\Users\\gsamp\\anaconda3\\envs\\visionEnv\\Lib\\site-packages\\sklearn\\metrics\\_classification.py:1509: UndefinedMetricWarning: Precision is ill-defined and being set to 0.0 in labels with no predicted samples. Use `zero_division` parameter to control this behavior.\n",
      "  _warn_prf(average, modifier, f\"{metric.capitalize()} is\", len(result))\n",
      "c:\\Users\\gsamp\\anaconda3\\envs\\visionEnv\\Lib\\site-packages\\sklearn\\metrics\\_classification.py:1509: UndefinedMetricWarning: Precision is ill-defined and being set to 0.0 in labels with no predicted samples. Use `zero_division` parameter to control this behavior.\n",
      "  _warn_prf(average, modifier, f\"{metric.capitalize()} is\", len(result))\n"
     ]
    },
    {
     "name": "stdout",
     "output_type": "stream",
     "text": [
      "Nodes classified as fraud: 3, \n",
      "                nodes classified as licit: 37323\n",
      "Epoch: 25, \n",
      "            Training Loss: 0.1472, Training Accuracy: 0.9284\n",
      "            Test Loss: 0.3474, Test Accuracy: 0.8015\n",
      "            \n",
      "Precision: [0.6969697  0.80260422], Recall: [0.0368393  0.99592668], F1 Score: [0.06997972 0.88887542] \n",
      "\n",
      "---------------------------------------------------------------------------------\n",
      "Nodes classified as fraud: 1987, \n",
      "                nodes classified as licit: 35339\n",
      "Epoch: 30, \n",
      "            Training Loss: 0.1327, Training Accuracy: 0.9547\n",
      "            Test Loss: 0.3141, Test Accuracy: 0.8989\n",
      "            \n",
      "Precision: [0.84803558 0.90759285], Recall: [0.61078484 0.97216565], F1 Score: [0.71011794 0.93877016] \n",
      "\n",
      "---------------------------------------------------------------------------------\n",
      "Nodes classified as fraud: 2144, \n",
      "                nodes classified as licit: 35182\n",
      "Epoch: 35, \n",
      "            Training Loss: 0.1205, Training Accuracy: 0.9598\n",
      "            Test Loss: 0.2640, Test Accuracy: 0.9087\n",
      "            \n",
      "Precision: [0.85273973 0.91925945], Recall: [0.66470902 0.97080788], F1 Score: [0.74707471 0.94433071] \n",
      "\n",
      "---------------------------------------------------------------------------------\n",
      "Nodes classified as fraud: 2212, \n",
      "                nodes classified as licit: 35114\n",
      "Epoch: 40, \n",
      "            Training Loss: 0.1104, Training Accuracy: 0.9643\n",
      "            Test Loss: 0.2524, Test Accuracy: 0.9139\n",
      "            \n",
      "Precision: [0.8696845 0.9222365], Recall: [0.67698879 0.97420231], F1 Score: [0.76133293 0.94750743] \n",
      "\n",
      "---------------------------------------------------------------------------------\n",
      "Nodes classified as fraud: 2186, \n",
      "                nodes classified as licit: 35140\n",
      "Epoch: 45, \n",
      "            Training Loss: 0.0990, Training Accuracy: 0.9683\n",
      "            Test Loss: 0.2419, Test Accuracy: 0.9195\n",
      "            \n",
      "Precision: [0.88690884 0.92556884], Recall: [0.69087026 0.97759674], F1 Score: [0.77671068 0.95087163] \n",
      "\n",
      "---------------------------------------------------------------------------------\n",
      "Nodes classified as fraud: 2217, \n",
      "                nodes classified as licit: 35109\n",
      "Epoch: 50, \n",
      "            Training Loss: 0.0863, Training Accuracy: 0.9713\n",
      "            Test Loss: 0.2422, Test Accuracy: 0.9207\n",
      "            \n",
      "Precision: [0.92284866 0.92027883], Recall: [0.66417512 0.98587916], F1 Score: [0.77243092 0.95195018] \n",
      "\n",
      "---------------------------------------------------------------------------------\n",
      "Nodes classified as fraud: 2185, \n",
      "                nodes classified as licit: 35141\n",
      "Epoch: 55, \n",
      "            Training Loss: 0.0753, Training Accuracy: 0.9761\n",
      "            Test Loss: 0.2050, Test Accuracy: 0.9313\n",
      "            \n",
      "Precision: [0.91655451 0.93408153], Recall: [0.72717565 0.98316361], F1 Score: [0.81095564 0.95799431] \n",
      "\n",
      "---------------------------------------------------------------------------------\n",
      "Nodes classified as fraud: 2196, \n",
      "                nodes classified as licit: 35130\n",
      "Epoch: 60, \n",
      "            Training Loss: 0.0675, Training Accuracy: 0.9788\n",
      "            Test Loss: 0.2091, Test Accuracy: 0.9345\n",
      "            \n",
      "Precision: [0.93188011 0.93500644], Recall: [0.73037907 0.98642227], F1 Score: [0.81891649 0.96002643] \n",
      "\n",
      "---------------------------------------------------------------------------------\n",
      "Nodes classified as fraud: 2272, \n",
      "                nodes classified as licit: 35054\n",
      "Epoch: 65, \n",
      "            Training Loss: 0.0609, Training Accuracy: 0.9811\n",
      "            Test Loss: 0.2062, Test Accuracy: 0.9376\n",
      "            \n",
      "Precision: [0.9165061  0.94193464], Recall: [0.76187934 0.98234895], F1 Score: [0.83206997 0.9617174 ] \n",
      "\n",
      "---------------------------------------------------------------------------------\n",
      "Nodes classified as fraud: 2308, \n",
      "                nodes classified as licit: 35018\n",
      "Epoch: 70, \n",
      "            Training Loss: 0.0547, Training Accuracy: 0.9834\n",
      "            Test Loss: 0.1989, Test Accuracy: 0.9425\n",
      "            \n",
      "Precision: [0.91216216 0.94901445], Recall: [0.7928457  0.98058384], F1 Score: [0.84832905 0.9645409 ] \n",
      "\n",
      "---------------------------------------------------------------------------------\n",
      "Nodes classified as fraud: 2276, \n",
      "                nodes classified as licit: 35050\n",
      "Epoch: 75, \n",
      "            Training Loss: 0.0494, Training Accuracy: 0.9850\n",
      "            Test Loss: 0.2020, Test Accuracy: 0.9409\n",
      "            \n",
      "Precision: [0.92234246 0.94469806], Recall: [0.7736252  0.98343517], F1 Score: [0.84146341 0.96367749] \n",
      "\n",
      "---------------------------------------------------------------------------------\n"
     ]
    }
   ],
   "source": [
    "EPOCHS = 101\n",
    "layers_list = [1, 2, 3, 4, 5]\n",
    "\n",
    "for LAYERS in layers_list:\n",
    "    model = SAGE(train_data.x.shape[1], 256, torch.unique(train_data.y).size(0), n_layers=LAYERS)\n",
    "\n",
    "    optimizer = torch.optim.Adam(model.parameters(), lr=0.03)\n",
    "    scheduler = ReduceLROnPlateau(optimizer, 'max', patience=7)\n",
    "    criterion = torch.nn.CrossEntropyLoss()\n",
    "\n",
    "    wandb.init(\n",
    "        # set the wandb project where this run will be logged\n",
    "        project=\"GraphAnomaly\",\n",
    "        name = f\"2_SAGE - n_layers: {LAYERS}\",\n",
    "        # track hyperparameters and run metadata\n",
    "        config={\n",
    "        \"architecture\": \"SAGE_2\",\n",
    "        \"dataset\": \"Time Steps elliptic\",\n",
    "        \"epochs\": EPOCHS,\n",
    "        \"layers\": LAYERS\n",
    "        }\n",
    "    )\n",
    "\n",
    "    def train(data, epoch):\n",
    "        optimizer.zero_grad()  # Clear gradients.\n",
    "        out, h = model(data.x, data.edge_index)  # Perform a single forward pass.\n",
    "        pred = out.argmax(dim=1)\n",
    "        loss = criterion(out, data.y)  # Compute the loss solely based on the training nodes.\n",
    "        loss.backward()  # Derive gradients.\n",
    "        optimizer.step()  # Update parameters based on gradients.\n",
    "        \n",
    "        # Calculate accuracy\n",
    "        correct = pred.eq(data.y).sum().item()\n",
    "        total = len(data.y)\n",
    "        accuracy = correct / total\n",
    "        \n",
    "        wandb.log({\n",
    "            \"epoch\": epoch,\n",
    "            \"train_loss\": loss,\n",
    "            \"train_accuracy\": accuracy,\n",
    "        })\n",
    "        if epoch%5 == 0:\n",
    "            max_value = torch.max(pred)\n",
    "            counts = torch.bincount(pred, minlength=max_value.item() + 1)\n",
    "            print(f\"\"\"Nodes classified as fraud: {counts[0]}, \n",
    "                nodes classified as licit: {counts[1]}\"\"\")\n",
    "            \n",
    "            \n",
    "        return loss, accuracy\n",
    "\n",
    "    def test(data, epoch):\n",
    "        model.eval()  # Set the model to evaluation mode.\n",
    "        with torch.no_grad():\n",
    "            out, _ = model(data.x, data.edge_index)  # Perform a forward pass.\n",
    "            loss = criterion(out, data.y)\n",
    "            \n",
    "            pred = out.argmax(dim=1)  # Get the predicted labels by selecting the class with the highest probability.\n",
    "            # Calculate accuracy\n",
    "            correct = pred.eq(data.y).sum().item()\n",
    "            total = len(data.y)\n",
    "            accuracy = correct / total\n",
    "            \n",
    "            #precision, recall, f1 score\n",
    "            precision = precision_score(data.y.cpu().numpy(), pred.cpu().numpy(), average=None)\n",
    "            recall = recall_score(data.y.cpu().numpy(), pred.cpu().numpy(), average=None)\n",
    "            f1 = f1_score(data.y.cpu().numpy(), pred.cpu().numpy(), average=None)\n",
    "            \n",
    "            other_metrics = [precision, recall, f1]\n",
    "            \n",
    "            wandb.log({\n",
    "            \"epoch\": epoch,\n",
    "            \"test_loss\": loss,\n",
    "            \"test_accuracy\": accuracy,\n",
    "            \"test_precision_class_0\": precision[0],\n",
    "            \"test_precision_class_1\": precision[1],\n",
    "            \"test_recall_class_0\": recall[0],\n",
    "            \"test_recall_class_1\": recall[1],\n",
    "            \"test_f1_score_class_0\": f1[0],\n",
    "            \"test_f1_score_class_1\": f1[1]\n",
    "        })\n",
    "        return loss, accuracy, other_metrics\n",
    "            \n",
    "        \n",
    "        \n",
    "    train_loss_history = []\n",
    "    test_loss_history = []\n",
    "    train_acc_hist = []\n",
    "    test_acc_hist = []\n",
    "\n",
    "    for epoch in range(EPOCHS):\n",
    "        train_loss, train_acc = train(train_data, epoch)\n",
    "        train_loss_history.append(train_loss.detach().numpy())\n",
    "        train_acc_hist.append(train_acc)\n",
    "        \n",
    "        test_loss, test_acc, metrics = test(test_data, epoch)\n",
    "        test_loss_history.append(test_loss.detach().numpy())\n",
    "        test_acc_hist.append(test_acc)\n",
    "        \n",
    "        if epoch%5 == 0:\n",
    "            print(f\"\"\"Epoch: {epoch}, \n",
    "            Training Loss: {train_loss:.4f}, Training Accuracy: {train_acc:.4f}\n",
    "            Test Loss: {test_loss:.4f}, Test Accuracy: {test_acc:.4f}\n",
    "            \"\"\")\n",
    "            \n",
    "            print(f\"Precision: {metrics[0]}, Recall: {metrics[1]}, F1 Score: {metrics[2]} \\n\")\n",
    "            print(\"---------------------------------------------------------------------------------\")\n",
    "        "
   ]
  },
  {
   "cell_type": "code",
   "execution_count": null,
   "metadata": {},
   "outputs": [
    {
     "data": {
      "image/png": "[encoded data removed]",
      "text/plain": [
       "<Figure size 640x480 with 1 Axes>"
      ]
     },
     "metadata": {},
     "output_type": "display_data"
    }
   ],
   "source": [
    "plt.plot([e for e in range(EPOCHS)], train_loss_history, label='Training Loss')\n",
    "plt.plot([e for e in range(EPOCHS)], test_loss_history, label='Testing Loss')\n",
    "\n",
    "\n",
    "plt.xlabel('Epoch')\n",
    "plt.ylabel('Value')\n",
    "plt.title('Training and Testing LOSS Metrics')\n",
    "plt.legend()\n",
    "plt.grid(True)\n",
    "plt.show()"
   ]
  },
  {
   "cell_type": "code",
   "execution_count": null,
   "metadata": {},
   "outputs": [
    {
     "data": {
      "image/png": "[encoded data removed]",
      "text/plain": [
       "<Figure size 640x480 with 1 Axes>"
      ]
     },
     "metadata": {},
     "output_type": "display_data"
    }
   ],
   "source": [
    "plt.plot([e for e in range(EPOCHS)], train_acc_hist, label='Training Accuracy')\n",
    "plt.plot([e for e in range(EPOCHS)], test_acc_hist, label='Testing Accuracy')\n",
    "\n",
    "plt.xlabel('Epoch')\n",
    "plt.ylabel('Value')\n",
    "plt.title('Training and Testing ACCURACY Metrics')\n",
    "plt.legend()\n",
    "plt.grid(True)\n",
    "plt.show()"
   ]
  }
 ],
 "metadata": {
  "kernelspec": {
   "display_name": "visionEnv",
   "language": "python",
   "name": "python3"
  },
  "language_info": {
   "codemirror_mode": {
    "name": "ipython",
    "version": 3
   },
   "file_extension": ".py",
   "mimetype": "text/x-python",
   "name": "python",
   "nbconvert_exporter": "python",
   "pygments_lexer": "ipython3",
   "version": "3.11.8"
  }
 },
 "nbformat": 4,
 "nbformat_minor": 2
}
