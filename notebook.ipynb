{
 "cells": [
  {
   "cell_type": "code",
   "execution_count": 1,
   "metadata": {},
   "outputs": [],
   "source": [
    "import pandas as pd\n",
    "import networkx as nx\n",
    "import matplotlib.pyplot as plt\n",
    "import scipy as sp\n",
    "import pickle as pkl\n",
    "\n",
    "import community as louvain\n",
    "from networkx.algorithms.community import girvan_newman"
   ]
  },
  {
   "cell_type": "code",
   "execution_count": 2,
   "metadata": {},
   "outputs": [
    {
     "data": {
      "image/png": "[encoded data removed]",
      "text/plain": [
       "<Figure size 640x480 with 1 Axes>"
      ]
     },
     "metadata": {},
     "output_type": "display_data"
    }
   ],
   "source": [
    "import networkx as nx\n",
    "import matplotlib.pyplot as plt\n",
    "\n",
    "# Create an empty graph\n",
    "G = nx.Graph()\n",
    "\n",
    "# Add nodes\n",
    "G.add_node(1)\n",
    "G.add_node(2)\n",
    "G.add_node(3)\n",
    "G.add_node(4)\n",
    "\n",
    "# Add edges\n",
    "G.add_edge(1, 2)\n",
    "G.add_edge(1, 3)\n",
    "G.add_edge(2, 3)\n",
    "G.add_edge(3, 4)\n",
    "\n",
    "# Draw the graph\n",
    "nx.draw(G, with_labels=True, node_color='skyblue', node_size=1000, font_size=12)\n",
    "\n",
    "# Display the graph\n",
    "plt.show()\n"
   ]
  },
  {
   "cell_type": "code",
   "execution_count": 21,
   "metadata": {},
   "outputs": [],
   "source": [
    "def detect_communities(g, method):\n",
    "    if isinstance(g, nx.DiGraph):\n",
    "      g = nx.Graph(g)\n",
    "\n",
    "\n",
    "    if method == 'girvan-newman':\n",
    "      communities_generator = girvan_newman(g)\n",
    "      print(communities_generator)\n",
    "      communities = []\n",
    "      for community in communities_generator:\n",
    "        print(community)\n",
    "        communities.append([list(c) for c in community])\n",
    "\n",
    "      total_modularity = 0\n",
    "      for i in range(len(communities)):\n",
    "        modularity = nx.algorithms.community.modularity(g, communities[i])\n",
    "        total_modularity += modularity\n",
    "\n",
    "      total_modularity /= len(communities)\n",
    "      return communities, total_modularity\n",
    "\n",
    "    elif method == 'louvain':\n",
    "      louvain_community = louvain.best_partition(g)\n",
    "      print(louvain_community)\n",
    "      communities = [[] for _ in range(max(louvain_community.values()) + 1)]\n",
    "      for node, community_id in louvain_community.items():\n",
    "          communities[community_id].append(node)\n",
    "\n",
    "      modularity = nx.algorithms.community.modularity(g, communities)\n",
    "      return communities, modularity\n",
    "\n",
    "    else:\n",
    "      print('Entered an invalid method')\n",
    "      return None"
   ]
  },
  {
   "cell_type": "code",
   "execution_count": 14,
   "metadata": {},
   "outputs": [
    {
     "name": "stdout",
     "output_type": "stream",
     "text": [
      "<generator object girvan_newman at 0x000001EB9C7863E0>\n",
      "({1, 2, 3}, {4})\n",
      "({1}, {2, 3}, {4})\n",
      "({1}, {2}, {3}, {4})\n"
     ]
    }
   ],
   "source": [
    "communities_girvan, modularities = detect_communities(G, method='girvan-newman')"
   ]
  },
  {
   "cell_type": "code",
   "execution_count": 24,
   "metadata": {},
   "outputs": [
    {
     "data": {
      "text/plain": [
       "[[[1, 2, 3], [4]], [[1], [2, 3], [4]], [[1], [2], [3], [4]]]"
      ]
     },
     "execution_count": 24,
     "metadata": {},
     "output_type": "execute_result"
    }
   ],
   "source": [
    "communities_girvan"
   ]
  },
  {
   "cell_type": "code",
   "execution_count": 22,
   "metadata": {},
   "outputs": [
    {
     "name": "stdout",
     "output_type": "stream",
     "text": [
      "{1: 1, 2: 1, 3: 0, 4: 0}\n"
     ]
    }
   ],
   "source": [
    "communities_louvain, modularities = detect_communities(G, method='louvain')"
   ]
  },
  {
   "cell_type": "code",
   "execution_count": 23,
   "metadata": {},
   "outputs": [
    {
     "data": {
      "text/plain": [
       "[[3, 4], [1, 2]]"
      ]
     },
     "execution_count": 23,
     "metadata": {},
     "output_type": "execute_result"
    }
   ],
   "source": [
    "communities_louvain"
   ]
  }
 ],
 "metadata": {
  "kernelspec": {
   "display_name": "graph-anomaly-myenv",
   "language": "python",
   "name": "python3"
  },
  "language_info": {
   "codemirror_mode": {
    "name": "ipython",
    "version": 3
   },
   "file_extension": ".py",
   "mimetype": "text/x-python",
   "name": "python",
   "nbconvert_exporter": "python",
   "pygments_lexer": "ipython3",
   "version": "3.11.8"
  }
 },
 "nbformat": 4,
 "nbformat_minor": 2
}
