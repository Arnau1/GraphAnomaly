{
 "cells": [
  {
   "cell_type": "markdown",
   "id": "6d0195ef-52db-415d-8c27-1d73052baa49",
   "metadata": {
    "tags": []
   },
   "source": [
    "# Graph Anomaly Detection\n"
   ]
  },
  {
   "cell_type": "markdown",
   "id": "5f8d260f-cfe2-4bff-8371-f04ece167377",
   "metadata": {
    "jp-MarkdownHeadingCollapsed": true,
    "tags": []
   },
   "source": [
    "## Pre-processing data"
   ]
  },
  {
   "cell_type": "code",
   "execution_count": 1,
   "id": "62935a85-ffc1-477d-9997-c6d4c0e34c90",
   "metadata": {
    "tags": []
   },
   "outputs": [],
   "source": [
    "# Import packages\n",
    "import numpy as np\n",
    "import pandas as pd\n",
    "import matplotlib.pyplot as plt\n",
    "import seaborn as sns\n",
    "import networkx as nx\n",
    "import pickle as pkl"
   ]
  },
  {
   "cell_type": "markdown",
   "id": "bb6611c5-9d2b-4804-be59-390630832b45",
   "metadata": {
    "jp-MarkdownHeadingCollapsed": true,
    "tags": []
   },
   "source": [
    "### Load data"
   ]
  },
  {
   "cell_type": "code",
   "execution_count": 7,
   "id": "41f0c835-44bb-4cde-8ad1-a8c0eec58f74",
   "metadata": {
    "tags": []
   },
   "outputs": [],
   "source": [
    "# Read files\n",
    "path = \"dades_arnau/\"\n",
    "df = pd.read_csv(path + \"train_set.csv\")\n",
    "with open(path + \"TrainSet_Grpah.pkl\", 'rb') as f:    \n",
    "    G = pkl.load(f)\n"
   ]
  },
  {
   "cell_type": "markdown",
   "id": "51834107-67b8-4579-b8bb-5c10f894c1ad",
   "metadata": {
    "tags": []
   },
   "source": [
    "## Graph analysis"
   ]
  },
  {
   "cell_type": "markdown",
   "id": "f48d55df-abe3-4765-8c46-8eb8b2474443",
   "metadata": {
    "tags": []
   },
   "source": [
    "#### Working with timesteps"
   ]
  },
  {
   "cell_type": "code",
   "execution_count": 8,
   "id": "7acb7a9e",
   "metadata": {},
   "outputs": [],
   "source": [
    "# Create a subgraph for the chosen time step\n",
    "desired_nodes = [node for node, data in G.nodes(data=True) if data.get('Time Step') == 29]\n",
    "G_29 = G.subgraph(desired_nodes)"
   ]
  },
  {
   "cell_type": "markdown",
   "id": "d7951d07-86f9-456d-9424-6cc580e778c8",
   "metadata": {},
   "source": [
    "We will use the subgraph of the time step 29 to make our first analysis, since it is a time step with a good amount of both licit and ilicit transactions."
   ]
  },
  {
   "cell_type": "code",
   "execution_count": 63,
   "id": "205f400c-a613-4106-858f-2e4081063b1e",
   "metadata": {
    "tags": []
   },
   "outputs": [
    {
     "name": "stdout",
     "output_type": "stream",
     "text": [
      "Order: 4275\n",
      "Size: 4541\n",
      "Density: 0.0\n",
      "Average degree: 2.124\n"
     ]
    }
   ],
   "source": [
    "# get the order (number of nodes) of the graph\n",
    "order = nx.number_of_nodes(sub_G_29)\n",
    "\n",
    "# get the size (number of edges) of the graph\n",
    "size = nx.number_of_edges(sub_G_29)\n",
    "\n",
    "# get the density of the graph\n",
    "density = nx.density(sub_G_29)\n",
    "\n",
    "# get the average degree of the nodes in the graph\n",
    "avg_degree = sum(dict(sub_G_29.degree()).values()) / order\n",
    "\n",
    "# print the results\n",
    "print(f\"Order: {order}\")\n",
    "print(f\"Size: {size}\")\n",
    "print(f\"Density: {round(density,3)}\")\n",
    "print(f\"Average degree: {round(avg_degree,3)}\")"
   ]
  },
  {
   "cell_type": "code",
   "execution_count": null,
   "id": "64d8ec53",
   "metadata": {},
   "outputs": [],
   "source": [
    "for node, data in G.nodes(data=True):\n",
    "    print(node, data)\n",
    "    "
   ]
  },
  {
   "cell_type": "code",
   "execution_count": 43,
   "id": "1a374728-dd64-4c1b-be13-1a579c6f6090",
   "metadata": {
    "tags": []
   },
   "outputs": [
    {
     "name": "stdout",
     "output_type": "stream",
     "text": [
      "The graph is connected.\n"
     ]
    }
   ],
   "source": [
    "is_connected = nx.is_connected(sub_G_29)   #This function checks that the graph is connected (that all nodes are reachable from any other node)\n",
    "\n",
    "if is_connected:\n",
    "    print(\"The graph is connected.\")\n",
    "else:\n",
    "    print(\"The graph is not connected.\")"
   ]
  },
  {
   "cell_type": "code",
   "execution_count": 39,
   "id": "224ef80b-2757-469b-b6ae-7a58382bb432",
   "metadata": {
    "tags": []
   },
   "outputs": [
    {
     "name": "stdout",
     "output_type": "stream",
     "text": [
      "Diameter: 110\n",
      "Radius: 55\n",
      "Average network distance: 14.805\n",
      "Clustering coefficient: 0.006\n"
     ]
    }
   ],
   "source": [
    "diameter = nx.diameter(sub_G_29)\n",
    "print(f\"Diameter: {diameter}\")\n",
    "\n",
    "radius = nx.radius(sub_G_29)\n",
    "print(f\"Radius: {radius}\")\n",
    "\n",
    "avg_distance = nx.average_shortest_path_length(sub_G_29)\n",
    "print(f\"Average network distance: {round(avg_distance,3)}\")\n",
    "\n",
    "clustering_coefficient = nx.average_clustering(sub_G_29)\n",
    "print(f\"Clustering coefficient: {round(clustering_coefficient,3)}\")"
   ]
  },
  {
   "cell_type": "code",
   "execution_count": 123,
   "id": "fd998173",
   "metadata": {},
   "outputs": [
    {
     "name": "stdout",
     "output_type": "stream",
     "text": [
      "ilicit: 329\n",
      "licit: 845\n",
      "unknown: 3101\n"
     ]
    }
   ],
   "source": [
    "ilicit_nodes = [node for node, data in sub_G_29.nodes(data=True) if data['class'] == '1']\n",
    "licit_nodes = [node for node, data in sub_G_29.nodes(data=True) if data['class'] == '2']\n",
    "unknown_nodes = [node for node, data in sub_G_29.nodes(data=True) if data['class'] == 3]\n",
    "print(\"ilicit:\",len(ilicit_nodes))\n",
    "print(\"licit:\",len(licit_nodes))\n",
    "print(\"unknown:\",len(unknown_nodes))"
   ]
  },
  {
   "cell_type": "code",
   "execution_count": 139,
   "id": "f8ae2786",
   "metadata": {},
   "outputs": [
    {
     "data": {
      "text/plain": [
       "AtlasView(FilterAtlas({166499589: {}, 163815413: {}}, <function FilterAdjacency.__getitem__.<locals>.new_node_ok at 0x000001252F0E0EA0>))"
      ]
     },
     "execution_count": 139,
     "metadata": {},
     "output_type": "execute_result"
    }
   ],
   "source": [
    "sub_G_29[163815428]"
   ]
  },
  {
   "cell_type": "code",
   "execution_count": 164,
   "id": "baea1955",
   "metadata": {},
   "outputs": [],
   "source": [
    "n = [node for node in licit_nodes if len(sub_G_29[node]) == len([neigh for neigh in sub_G_29[node] if sub_G_29.nodes[neigh]['class'] in ['1',3]])] "
   ]
  },
  {
   "cell_type": "code",
   "execution_count": 165,
   "id": "18701021",
   "metadata": {},
   "outputs": [
    {
     "name": "stdout",
     "output_type": "stream",
     "text": [
      "[1, 6, 1, 1, 1, 1, 1, 2, 1, 1, 1, 1, 2, 1, 1, 1, 1, 1, 1, 1, 2, 1, 1, 1, 3, 3, 1, 1, 1, 1, 2, 1, 2, 3, 1, 1, 1, 1, 1, 1, 1, 1, 1, 2, 1, 1, 1, 1, 1, 1, 1, 1, 1, 2, 1, 1, 1, 1, 1, 1, 1, 3, 2, 1, 1, 2, 1, 1, 1, 1, 1, 1, 1, 1, 1, 2, 1, 1, 1, 1, 1, 2, 2, 2, 1, 1, 5, 1, 1, 1, 1, 1, 1, 1, 34, 2, 1, 3, 1, 1, 1, 1, 1, 1, 1, 1, 1, 1, 1, 1, 1, 1, 2, 1, 1, 1, 2, 1, 1, 1, 1, 1, 1, 1, 1, 1, 2, 18, 2, 1, 1, 1, 2, 1, 1, 1, 2, 1, 2, 1, 1, 1, 1, 1, 1, 1, 1, 3, 1, 1, 1, 1, 2, 1, 1, 1, 1, 1, 2, 1, 1, 1, 1, 1, 1, 1, 1]\n"
     ]
    }
   ],
   "source": [
    "xd =[]\n",
    "for elem in n:\n",
    "    xd.append(len(sub_G_29[elem]))\n",
    "\n",
    "print(xd)"
   ]
  },
  {
   "cell_type": "code",
   "execution_count": null,
   "id": "8317a479",
   "metadata": {},
   "outputs": [],
   "source": [
    "group_class = df_classes.groupby('class').count()\n",
    "plt.barh(['Unknown', 'Ilicit', 'Licit'], group_class['txId'].values, color=['orange', 'r', 'g'] )\n",
    "plt.title(\"Distribution of labels\")\n",
    "plt.ylabel(\"Labels\")\n",
    "plt.xlabel(\"Instances\")\n",
    "plt.show()"
   ]
  },
  {
   "cell_type": "code",
   "execution_count": 55,
   "id": "f292b7a5-9afd-4405-9eba-4e54108207df",
   "metadata": {
    "tags": []
   },
   "outputs": [
    {
     "ename": "KeyboardInterrupt",
     "evalue": "",
     "output_type": "error",
     "traceback": [
      "\u001b[1;31m---------------------------------------------------------------------------\u001b[0m",
      "\u001b[1;31mKeyboardInterrupt\u001b[0m                         Traceback (most recent call last)",
      "Cell \u001b[1;32mIn[55], line 2\u001b[0m\n\u001b[0;32m      1\u001b[0m degree_centrality \u001b[38;5;241m=\u001b[39m nx\u001b[38;5;241m.\u001b[39mdegree_centrality(sub_G_29) \u001b[38;5;66;03m# Degree Centrality\u001b[39;00m\n\u001b[1;32m----> 2\u001b[0m betweenness_centrality \u001b[38;5;241m=\u001b[39m nx\u001b[38;5;241m.\u001b[39mbetweenness_centrality(sub_G_29) \u001b[38;5;66;03m# Betweenness Centrality\u001b[39;00m\n\u001b[0;32m      3\u001b[0m closeness_centrality \u001b[38;5;241m=\u001b[39m nx\u001b[38;5;241m.\u001b[39mcloseness_centrality(sub_G_29) \u001b[38;5;66;03m# Closeness Centrality\u001b[39;00m\n\u001b[0;32m      4\u001b[0m eigen_centrality \u001b[38;5;241m=\u001b[39m nx\u001b[38;5;241m.\u001b[39meigenvector_centrality(sub_G_29)\n",
      "File \u001b[1;32mC:\\ProgramData\\anaconda3\\Lib\\site-packages\\networkx\\classes\\backends.py:148\u001b[0m, in \u001b[0;36m_dispatch.<locals>.wrapper\u001b[1;34m(*args, **kwds)\u001b[0m\n\u001b[0;32m    144\u001b[0m         \u001b[38;5;28;01melse\u001b[39;00m:\n\u001b[0;32m    145\u001b[0m             \u001b[38;5;28;01mraise\u001b[39;00m NetworkXNotImplemented(\n\u001b[0;32m    146\u001b[0m                 \u001b[38;5;124mf\u001b[39m\u001b[38;5;124m\"\u001b[39m\u001b[38;5;124m'\u001b[39m\u001b[38;5;132;01m{\u001b[39;00mname\u001b[38;5;132;01m}\u001b[39;00m\u001b[38;5;124m'\u001b[39m\u001b[38;5;124m not implemented by \u001b[39m\u001b[38;5;132;01m{\u001b[39;00mplugin_name\u001b[38;5;132;01m}\u001b[39;00m\u001b[38;5;124m\"\u001b[39m\n\u001b[0;32m    147\u001b[0m             )\n\u001b[1;32m--> 148\u001b[0m \u001b[38;5;28;01mreturn\u001b[39;00m func(\u001b[38;5;241m*\u001b[39margs, \u001b[38;5;241m*\u001b[39m\u001b[38;5;241m*\u001b[39mkwds)\n",
      "File \u001b[1;32m<class 'networkx.utils.decorators.argmap'> compilation 12:4\u001b[0m, in \u001b[0;36margmap_betweenness_centrality_9\u001b[1;34m(G, k, normalized, weight, endpoints, seed)\u001b[0m\n\u001b[0;32m      2\u001b[0m \u001b[38;5;28;01mimport\u001b[39;00m \u001b[38;5;21;01mcollections\u001b[39;00m\n\u001b[0;32m      3\u001b[0m \u001b[38;5;28;01mimport\u001b[39;00m \u001b[38;5;21;01mgzip\u001b[39;00m\n\u001b[1;32m----> 4\u001b[0m \u001b[38;5;28;01mimport\u001b[39;00m \u001b[38;5;21;01minspect\u001b[39;00m\n\u001b[0;32m      5\u001b[0m \u001b[38;5;28;01mimport\u001b[39;00m \u001b[38;5;21;01mitertools\u001b[39;00m\n\u001b[0;32m      6\u001b[0m \u001b[38;5;28;01mimport\u001b[39;00m \u001b[38;5;21;01mre\u001b[39;00m\n",
      "File \u001b[1;32mC:\\ProgramData\\anaconda3\\Lib\\site-packages\\networkx\\algorithms\\centrality\\betweenness.py:131\u001b[0m, in \u001b[0;36mbetweenness_centrality\u001b[1;34m(G, k, normalized, weight, endpoints, seed)\u001b[0m\n\u001b[0;32m    128\u001b[0m \u001b[38;5;28;01mfor\u001b[39;00m s \u001b[38;5;129;01min\u001b[39;00m nodes:\n\u001b[0;32m    129\u001b[0m     \u001b[38;5;66;03m# single source shortest paths\u001b[39;00m\n\u001b[0;32m    130\u001b[0m     \u001b[38;5;28;01mif\u001b[39;00m weight \u001b[38;5;129;01mis\u001b[39;00m \u001b[38;5;28;01mNone\u001b[39;00m:  \u001b[38;5;66;03m# use BFS\u001b[39;00m\n\u001b[1;32m--> 131\u001b[0m         S, P, sigma, _ \u001b[38;5;241m=\u001b[39m _single_source_shortest_path_basic(G, s)\n\u001b[0;32m    132\u001b[0m     \u001b[38;5;28;01melse\u001b[39;00m:  \u001b[38;5;66;03m# use Dijkstra's algorithm\u001b[39;00m\n\u001b[0;32m    133\u001b[0m         S, P, sigma, _ \u001b[38;5;241m=\u001b[39m _single_source_dijkstra_path_basic(G, s, weight)\n",
      "File \u001b[1;32mC:\\ProgramData\\anaconda3\\Lib\\site-packages\\networkx\\algorithms\\centrality\\betweenness.py:265\u001b[0m, in \u001b[0;36m_single_source_shortest_path_basic\u001b[1;34m(G, s)\u001b[0m\n\u001b[0;32m    263\u001b[0m Dv \u001b[38;5;241m=\u001b[39m D[v]\n\u001b[0;32m    264\u001b[0m sigmav \u001b[38;5;241m=\u001b[39m sigma[v]\n\u001b[1;32m--> 265\u001b[0m \u001b[38;5;28;01mfor\u001b[39;00m w \u001b[38;5;129;01min\u001b[39;00m G[v]:\n\u001b[0;32m    266\u001b[0m     \u001b[38;5;28;01mif\u001b[39;00m w \u001b[38;5;129;01mnot\u001b[39;00m \u001b[38;5;129;01min\u001b[39;00m D:\n\u001b[0;32m    267\u001b[0m         Q\u001b[38;5;241m.\u001b[39mappend(w)\n",
      "File \u001b[1;32mC:\\ProgramData\\anaconda3\\Lib\\site-packages\\networkx\\classes\\graph.py:513\u001b[0m, in \u001b[0;36mGraph.__getitem__\u001b[1;34m(self, n)\u001b[0m\n\u001b[0;32m    489\u001b[0m \u001b[38;5;28;01mdef\u001b[39;00m \u001b[38;5;21m__getitem__\u001b[39m(\u001b[38;5;28mself\u001b[39m, n):\n\u001b[0;32m    490\u001b[0m \u001b[38;5;250m    \u001b[39m\u001b[38;5;124;03m\"\"\"Returns a dict of neighbors of node n.  Use: 'G[n]'.\u001b[39;00m\n\u001b[0;32m    491\u001b[0m \n\u001b[0;32m    492\u001b[0m \u001b[38;5;124;03m    Parameters\u001b[39;00m\n\u001b[1;32m   (...)\u001b[0m\n\u001b[0;32m    511\u001b[0m \u001b[38;5;124;03m    AtlasView({1: {}})\u001b[39;00m\n\u001b[0;32m    512\u001b[0m \u001b[38;5;124;03m    \"\"\"\u001b[39;00m\n\u001b[1;32m--> 513\u001b[0m     \u001b[38;5;28;01mreturn\u001b[39;00m \u001b[38;5;28mself\u001b[39m\u001b[38;5;241m.\u001b[39madj[n]\n",
      "File \u001b[1;32mC:\\ProgramData\\anaconda3\\Lib\\site-packages\\networkx\\classes\\coreviews.py:81\u001b[0m, in \u001b[0;36mAdjacencyView.__getitem__\u001b[1;34m(self, name)\u001b[0m\n\u001b[0;32m     80\u001b[0m \u001b[38;5;28;01mdef\u001b[39;00m \u001b[38;5;21m__getitem__\u001b[39m(\u001b[38;5;28mself\u001b[39m, name):\n\u001b[1;32m---> 81\u001b[0m     \u001b[38;5;28;01mreturn\u001b[39;00m AtlasView(\u001b[38;5;28mself\u001b[39m\u001b[38;5;241m.\u001b[39m_atlas[name])\n",
      "File \u001b[1;32mC:\\ProgramData\\anaconda3\\Lib\\site-packages\\networkx\\classes\\coreviews.py:314\u001b[0m, in \u001b[0;36mFilterAdjacency.__getitem__\u001b[1;34m(self, node)\u001b[0m\n\u001b[0;32m    313\u001b[0m \u001b[38;5;28;01mdef\u001b[39;00m \u001b[38;5;21m__getitem__\u001b[39m(\u001b[38;5;28mself\u001b[39m, node):\n\u001b[1;32m--> 314\u001b[0m     \u001b[38;5;28;01mif\u001b[39;00m node \u001b[38;5;129;01min\u001b[39;00m \u001b[38;5;28mself\u001b[39m\u001b[38;5;241m.\u001b[39m_atlas \u001b[38;5;129;01mand\u001b[39;00m \u001b[38;5;28mself\u001b[39m\u001b[38;5;241m.\u001b[39mNODE_OK(node):\n\u001b[0;32m    316\u001b[0m         \u001b[38;5;28;01mdef\u001b[39;00m \u001b[38;5;21mnew_node_ok\u001b[39m(nbr):\n\u001b[0;32m    317\u001b[0m             \u001b[38;5;28;01mreturn\u001b[39;00m \u001b[38;5;28mself\u001b[39m\u001b[38;5;241m.\u001b[39mNODE_OK(nbr) \u001b[38;5;129;01mand\u001b[39;00m \u001b[38;5;28mself\u001b[39m\u001b[38;5;241m.\u001b[39mEDGE_OK(node, nbr)\n",
      "File \u001b[1;32mC:\\ProgramData\\anaconda3\\Lib\\site-packages\\networkx\\classes\\filters.py:54\u001b[0m, in \u001b[0;36mshow_nodes.__call__\u001b[1;34m(self, node)\u001b[0m\n\u001b[0;32m     51\u001b[0m \u001b[38;5;28;01mdef\u001b[39;00m \u001b[38;5;21m__init__\u001b[39m(\u001b[38;5;28mself\u001b[39m, nodes):\n\u001b[0;32m     52\u001b[0m     \u001b[38;5;28mself\u001b[39m\u001b[38;5;241m.\u001b[39mnodes \u001b[38;5;241m=\u001b[39m \u001b[38;5;28mset\u001b[39m(nodes)\n\u001b[1;32m---> 54\u001b[0m \u001b[38;5;28;01mdef\u001b[39;00m \u001b[38;5;21m__call__\u001b[39m(\u001b[38;5;28mself\u001b[39m, node):\n\u001b[0;32m     55\u001b[0m     \u001b[38;5;28;01mreturn\u001b[39;00m node \u001b[38;5;129;01min\u001b[39;00m \u001b[38;5;28mself\u001b[39m\u001b[38;5;241m.\u001b[39mnodes\n",
      "\u001b[1;31mKeyboardInterrupt\u001b[0m: "
     ]
    }
   ],
   "source": [
    "degree_centrality = nx.degree_centrality(sub_G_29) # Degree Centrality\n",
    "betweenness_centrality = nx.betweenness_centrality(sub_G_29) # Betweenness Centrality\n",
    "closeness_centrality = nx.closeness_centrality(sub_G_29) # Closeness Centrality\n",
    "eigen_centrality = nx.eigenvector_centrality(sub_G_29) # Eigenvalue Centrality\n",
    "#page_rank = nx.pagerank(sub_G_29) # PageRank Score\n",
    "#eccentricity = nx.eccentricity(sub_G_29) # Eccentricity\n",
    "#cflow_b_centrality = nx.current_flow_betweenness_centrality(sub_G_29) # Current flow betweenness centrality\n",
    "#secondord_centrality = nx.second_order_centrality(sub_G_29) # Second order centrality\n",
    "#laplacian_centrality = nx.laplacian_centrality(sub_G_29) # Laplacian centrality"
   ]
  },
  {
   "cell_type": "code",
   "execution_count": null,
   "id": "f7ed3a75-67cd-4efc-b258-eeb7bc7ff91b",
   "metadata": {},
   "outputs": [],
   "source": [
    "degree = dict(sub_G_29.nodes(data=True)) # Nodes' degree\n",
    "for node in sub_G_29:\n",
    "    nx.set_node_attributes(sub_G_29, nx.all_neighbors(sub_G_29, node), 'neighbours')"
   ]
  },
  {
   "cell_type": "code",
   "execution_count": null,
   "id": "81961ef3-d000-485a-9f7e-fee87694dd56",
   "metadata": {
    "tags": []
   },
   "outputs": [],
   "source": [
    "node_data \n",
    "df = pd.DataFrame.from_dict(node_data, orient='index')\n",
    "df.head()"
   ]
  },
  {
   "cell_type": "code",
   "execution_count": null,
   "id": "7b497f74-e56d-4bab-ad3d-912c6bed6d86",
   "metadata": {
    "tags": []
   },
   "outputs": [],
   "source": [
    "degrees = dict(sub_G_29.degree())\n",
    "nx.set_node_attributes(G, degrees, 'degree')"
   ]
  },
  {
   "cell_type": "markdown",
   "id": "8e9a6e98-a45d-4289-8527-1d690cb9f5f1",
   "metadata": {
    "jp-MarkdownHeadingCollapsed": true,
    "tags": []
   },
   "source": [
    "## Others"
   ]
  },
  {
   "cell_type": "code",
   "execution_count": null,
   "id": "c81a1b31-761e-4931-afdb-2dbaaf33ec17",
   "metadata": {
    "tags": []
   },
   "outputs": [],
   "source": [
    "nx.write_graphml_lxml(sub_G_29, \"subgraph29.graphml\")"
   ]
  },
  {
   "cell_type": "code",
   "execution_count": null,
   "id": "75f52230-136f-4d4a-ae04-a3e59e38aa20",
   "metadata": {
    "tags": []
   },
   "outputs": [],
   "source": [
    "nx.draw_networkx(sub_G_29, pos=nx.spring_layout(sub_G_29), with_labels=False, node_size=10)"
   ]
  }
 ],
 "metadata": {
  "kernelspec": {
   "display_name": "Python 3 (ipykernel)",
   "language": "python",
   "name": "python3"
  },
  "language_info": {
   "codemirror_mode": {
    "name": "ipython",
    "version": 3
   },
   "file_extension": ".py",
   "mimetype": "text/x-python",
   "name": "python",
   "nbconvert_exporter": "python",
   "pygments_lexer": "ipython3",
   "version": "3.11.5"
  }
 },
 "nbformat": 4,
 "nbformat_minor": 5
}
