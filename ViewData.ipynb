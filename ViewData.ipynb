{
 "cells": [
  {
   "cell_type": "markdown",
   "id": "6d0195ef-52db-415d-8c27-1d73052baa49",
   "metadata": {},
   "source": [
    "# Graph Anomaly Detection\n"
   ]
  },
  {
   "cell_type": "markdown",
   "id": "5f8d260f-cfe2-4bff-8371-f04ece167377",
   "metadata": {},
   "source": [
    "### Processing and analyzing training data"
   ]
  },
  {
   "cell_type": "markdown",
   "id": "bb6611c5-9d2b-4804-be59-390630832b45",
   "metadata": {
    "tags": []
   },
   "source": [
    "## Load data"
   ]
  },
  {
   "cell_type": "code",
   "execution_count": 1,
   "id": "62935a85-ffc1-477d-9997-c6d4c0e34c90",
   "metadata": {
    "tags": []
   },
   "outputs": [],
   "source": [
    "# Import packages\n",
    "import numpy as np\n",
    "import pandas as pd\n",
    "import matplotlib.pyplot as plt\n",
    "import seaborn as sns\n",
    "import networkx as nx\n",
    "import pickle as pkl"
   ]
  },
  {
   "cell_type": "code",
   "execution_count": 2,
   "id": "41f0c835-44bb-4cde-8ad1-a8c0eec58f74",
   "metadata": {
    "tags": []
   },
   "outputs": [],
   "source": [
    "# Read files\n",
    "path = \"C:/Users/gsamp/OneDrive/Documents/AI-3/2n Semestre/Projecte de Síntesi 2/GraphAnomaly/dades_guillem/\"\n",
    "df_classes = pd.read_csv(path + \"elliptic_txs_classes.csv\") # Nodes' labels\n",
    "df_edges = pd.read_csv(path + \"elliptic_txs_edgelist.csv\") # Edges\n",
    "df_features = pd.read_csv(path + \"elliptic_txs_features.csv\", header=None) # Nodes' features"
   ]
  },
  {
   "cell_type": "code",
   "execution_count": 3,
   "id": "ce855918-d964-42f4-b9f7-c32d9189f415",
   "metadata": {
    "tags": []
   },
   "outputs": [],
   "source": [
    "# Change column names of df_features\n",
    "colNames1 = {'0': 'txId', 1: \"Time step\"}\n",
    "colNames2 = {str(ii+2): \"Local_feature_\" + str(ii+1) for ii in range(93)}\n",
    "colNames3 = {str(ii+95): \"Aggregate_feature_\" + str(ii+1) for ii in range(72)}\n",
    "\n",
    "colNames = dict(colNames1, **colNames2, **colNames3 )\n",
    "colNames = {int(jj): item_kk for jj,item_kk in colNames.items()}\n",
    "\n",
    "df_features = df_features.rename(columns=colNames)"
   ]
  },
  {
   "cell_type": "code",
   "execution_count": 4,
   "id": "664158be-741a-4a8f-baf1-1b7e9dd5dcf1",
   "metadata": {
    "tags": []
   },
   "outputs": [
    {
     "name": "stdout",
     "output_type": "stream",
     "text": [
      "Label 1 belongs to illicit transactions, label 2 to licit transactions and label 3 to unknown transactions.\n",
      "\n",
      "Shape of classes (203769, 2)\n",
      "Shape of edges (234355, 2)\n",
      "Shape of features (203769, 167)\n"
     ]
    }
   ],
   "source": [
    "# Pass unknown to number 3\n",
    "df_classes.loc[df_classes['class'] == 'unknown', 'class'] = 3\n",
    "print('Label 1 belongs to illicit transactions, label 2 to licit transactions and label 3 to unknown transactions.\\n')\n",
    "print('Shape of classes', df_classes.shape)\n",
    "print('Shape of edges', df_edges.shape)\n",
    "print('Shape of features', df_features.shape)"
   ]
  },
  {
   "cell_type": "markdown",
   "id": "436f12c7-602b-4f8c-b02c-5440f50ad329",
   "metadata": {},
   "source": [
    "## Data visualization"
   ]
  },
  {
   "cell_type": "code",
   "execution_count": 5,
   "id": "89baa3ce-89ae-48c5-8180-0837addd98be",
   "metadata": {
    "tags": []
   },
   "outputs": [
    {
     "data": {
      "text/html": [
       "<div>\n",
       "<style scoped>\n",
       "    .dataframe tbody tr th:only-of-type {\n",
       "        vertical-align: middle;\n",
       "    }\n",
       "\n",
       "    .dataframe tbody tr th {\n",
       "        vertical-align: top;\n",
       "    }\n",
       "\n",
       "    .dataframe thead th {\n",
       "        text-align: right;\n",
       "    }\n",
       "</style>\n",
       "<table border=\"1\" class=\"dataframe\">\n",
       "  <thead>\n",
       "    <tr style=\"text-align: right;\">\n",
       "      <th></th>\n",
       "      <th>txId</th>\n",
       "    </tr>\n",
       "    <tr>\n",
       "      <th>class</th>\n",
       "      <th></th>\n",
       "    </tr>\n",
       "  </thead>\n",
       "  <tbody>\n",
       "    <tr>\n",
       "      <th>3</th>\n",
       "      <td>157205</td>\n",
       "    </tr>\n",
       "    <tr>\n",
       "      <th>1</th>\n",
       "      <td>4545</td>\n",
       "    </tr>\n",
       "    <tr>\n",
       "      <th>2</th>\n",
       "      <td>42019</td>\n",
       "    </tr>\n",
       "  </tbody>\n",
       "</table>\n",
       "</div>"
      ],
      "text/plain": [
       "         txId\n",
       "class        \n",
       "3      157205\n",
       "1        4545\n",
       "2       42019"
      ]
     },
     "execution_count": 5,
     "metadata": {},
     "output_type": "execute_result"
    }
   ],
   "source": [
    "df_classes.groupby(['class']).count()"
   ]
  },
  {
   "cell_type": "code",
   "execution_count": 8,
   "id": "5e9c6181",
   "metadata": {},
   "outputs": [
    {
     "data": {
      "text/plain": [
       "(203769, 2)"
      ]
     },
     "execution_count": 8,
     "metadata": {},
     "output_type": "execute_result"
    }
   ],
   "source": [
    "df_features.shape\n",
    "df_classes.shape"
   ]
  },
  {
   "cell_type": "code",
   "execution_count": 10,
   "id": "f378e045",
   "metadata": {},
   "outputs": [
    {
     "data": {
      "text/html": [
       "<div>\n",
       "<style scoped>\n",
       "    .dataframe tbody tr th:only-of-type {\n",
       "        vertical-align: middle;\n",
       "    }\n",
       "\n",
       "    .dataframe tbody tr th {\n",
       "        vertical-align: top;\n",
       "    }\n",
       "\n",
       "    .dataframe thead th {\n",
       "        text-align: right;\n",
       "    }\n",
       "</style>\n",
       "<table border=\"1\" class=\"dataframe\">\n",
       "  <thead>\n",
       "    <tr style=\"text-align: right;\">\n",
       "      <th></th>\n",
       "      <th>txId</th>\n",
       "      <th>Time step</th>\n",
       "      <th>Local_feature_1</th>\n",
       "      <th>Local_feature_2</th>\n",
       "      <th>Local_feature_3</th>\n",
       "      <th>Local_feature_4</th>\n",
       "      <th>Local_feature_5</th>\n",
       "      <th>Local_feature_6</th>\n",
       "      <th>Local_feature_7</th>\n",
       "      <th>Local_feature_8</th>\n",
       "      <th>...</th>\n",
       "      <th>Aggregate_feature_64</th>\n",
       "      <th>Aggregate_feature_65</th>\n",
       "      <th>Aggregate_feature_66</th>\n",
       "      <th>Aggregate_feature_67</th>\n",
       "      <th>Aggregate_feature_68</th>\n",
       "      <th>Aggregate_feature_69</th>\n",
       "      <th>Aggregate_feature_70</th>\n",
       "      <th>Aggregate_feature_71</th>\n",
       "      <th>Aggregate_feature_72</th>\n",
       "      <th>class</th>\n",
       "    </tr>\n",
       "  </thead>\n",
       "  <tbody>\n",
       "    <tr>\n",
       "      <th>0</th>\n",
       "      <td>230425980</td>\n",
       "      <td>1</td>\n",
       "      <td>-0.171469</td>\n",
       "      <td>-0.184668</td>\n",
       "      <td>-1.201369</td>\n",
       "      <td>-0.121970</td>\n",
       "      <td>-0.043875</td>\n",
       "      <td>-0.113002</td>\n",
       "      <td>-0.061584</td>\n",
       "      <td>-0.162097</td>\n",
       "      <td>...</td>\n",
       "      <td>-0.600999</td>\n",
       "      <td>1.461330</td>\n",
       "      <td>1.461369</td>\n",
       "      <td>0.018279</td>\n",
       "      <td>-0.087490</td>\n",
       "      <td>-0.131155</td>\n",
       "      <td>-0.097524</td>\n",
       "      <td>-0.120613</td>\n",
       "      <td>-0.119792</td>\n",
       "      <td>3</td>\n",
       "    </tr>\n",
       "    <tr>\n",
       "      <th>1</th>\n",
       "      <td>5530458</td>\n",
       "      <td>1</td>\n",
       "      <td>-0.171484</td>\n",
       "      <td>-0.184668</td>\n",
       "      <td>-1.201369</td>\n",
       "      <td>-0.121970</td>\n",
       "      <td>-0.043875</td>\n",
       "      <td>-0.113002</td>\n",
       "      <td>-0.061584</td>\n",
       "      <td>-0.162112</td>\n",
       "      <td>...</td>\n",
       "      <td>0.673103</td>\n",
       "      <td>-0.979074</td>\n",
       "      <td>-0.978556</td>\n",
       "      <td>0.018279</td>\n",
       "      <td>-0.087490</td>\n",
       "      <td>-0.131155</td>\n",
       "      <td>-0.097524</td>\n",
       "      <td>-0.120613</td>\n",
       "      <td>-0.119792</td>\n",
       "      <td>3</td>\n",
       "    </tr>\n",
       "    <tr>\n",
       "      <th>2</th>\n",
       "      <td>232022460</td>\n",
       "      <td>1</td>\n",
       "      <td>-0.172107</td>\n",
       "      <td>-0.184668</td>\n",
       "      <td>-1.201369</td>\n",
       "      <td>-0.121970</td>\n",
       "      <td>-0.043875</td>\n",
       "      <td>-0.113002</td>\n",
       "      <td>-0.061584</td>\n",
       "      <td>-0.162749</td>\n",
       "      <td>...</td>\n",
       "      <td>0.439728</td>\n",
       "      <td>-0.979074</td>\n",
       "      <td>-0.978556</td>\n",
       "      <td>-0.098889</td>\n",
       "      <td>-0.106715</td>\n",
       "      <td>-0.131155</td>\n",
       "      <td>-0.183671</td>\n",
       "      <td>-0.120613</td>\n",
       "      <td>-0.119792</td>\n",
       "      <td>3</td>\n",
       "    </tr>\n",
       "    <tr>\n",
       "      <th>3</th>\n",
       "      <td>232438397</td>\n",
       "      <td>1</td>\n",
       "      <td>0.163054</td>\n",
       "      <td>1.963790</td>\n",
       "      <td>-0.646376</td>\n",
       "      <td>12.409294</td>\n",
       "      <td>-0.063725</td>\n",
       "      <td>9.782742</td>\n",
       "      <td>12.414558</td>\n",
       "      <td>-0.163645</td>\n",
       "      <td>...</td>\n",
       "      <td>-0.613614</td>\n",
       "      <td>0.241128</td>\n",
       "      <td>0.241406</td>\n",
       "      <td>1.072793</td>\n",
       "      <td>0.085530</td>\n",
       "      <td>-0.131155</td>\n",
       "      <td>0.677799</td>\n",
       "      <td>-0.120613</td>\n",
       "      <td>-0.119792</td>\n",
       "      <td>2</td>\n",
       "    </tr>\n",
       "    <tr>\n",
       "      <th>4</th>\n",
       "      <td>230460314</td>\n",
       "      <td>1</td>\n",
       "      <td>1.011523</td>\n",
       "      <td>-0.081127</td>\n",
       "      <td>-1.201369</td>\n",
       "      <td>1.153668</td>\n",
       "      <td>0.333276</td>\n",
       "      <td>1.312656</td>\n",
       "      <td>-0.061584</td>\n",
       "      <td>-0.163523</td>\n",
       "      <td>...</td>\n",
       "      <td>-0.400422</td>\n",
       "      <td>0.517257</td>\n",
       "      <td>0.579382</td>\n",
       "      <td>0.018279</td>\n",
       "      <td>0.277775</td>\n",
       "      <td>0.326394</td>\n",
       "      <td>1.293750</td>\n",
       "      <td>0.178136</td>\n",
       "      <td>0.179117</td>\n",
       "      <td>3</td>\n",
       "    </tr>\n",
       "  </tbody>\n",
       "</table>\n",
       "<p>5 rows × 168 columns</p>\n",
       "</div>"
      ],
      "text/plain": [
       "        txId  Time step  Local_feature_1  Local_feature_2  Local_feature_3  \\\n",
       "0  230425980          1        -0.171469        -0.184668        -1.201369   \n",
       "1    5530458          1        -0.171484        -0.184668        -1.201369   \n",
       "2  232022460          1        -0.172107        -0.184668        -1.201369   \n",
       "3  232438397          1         0.163054         1.963790        -0.646376   \n",
       "4  230460314          1         1.011523        -0.081127        -1.201369   \n",
       "\n",
       "   Local_feature_4  Local_feature_5  Local_feature_6  Local_feature_7  \\\n",
       "0        -0.121970        -0.043875        -0.113002        -0.061584   \n",
       "1        -0.121970        -0.043875        -0.113002        -0.061584   \n",
       "2        -0.121970        -0.043875        -0.113002        -0.061584   \n",
       "3        12.409294        -0.063725         9.782742        12.414558   \n",
       "4         1.153668         0.333276         1.312656        -0.061584   \n",
       "\n",
       "   Local_feature_8  ...  Aggregate_feature_64  Aggregate_feature_65  \\\n",
       "0        -0.162097  ...             -0.600999              1.461330   \n",
       "1        -0.162112  ...              0.673103             -0.979074   \n",
       "2        -0.162749  ...              0.439728             -0.979074   \n",
       "3        -0.163645  ...             -0.613614              0.241128   \n",
       "4        -0.163523  ...             -0.400422              0.517257   \n",
       "\n",
       "   Aggregate_feature_66  Aggregate_feature_67  Aggregate_feature_68  \\\n",
       "0              1.461369              0.018279             -0.087490   \n",
       "1             -0.978556              0.018279             -0.087490   \n",
       "2             -0.978556             -0.098889             -0.106715   \n",
       "3              0.241406              1.072793              0.085530   \n",
       "4              0.579382              0.018279              0.277775   \n",
       "\n",
       "   Aggregate_feature_69  Aggregate_feature_70  Aggregate_feature_71  \\\n",
       "0             -0.131155             -0.097524             -0.120613   \n",
       "1             -0.131155             -0.097524             -0.120613   \n",
       "2             -0.131155             -0.183671             -0.120613   \n",
       "3             -0.131155              0.677799             -0.120613   \n",
       "4              0.326394              1.293750              0.178136   \n",
       "\n",
       "   Aggregate_feature_72  class  \n",
       "0             -0.119792      3  \n",
       "1             -0.119792      3  \n",
       "2             -0.119792      3  \n",
       "3             -0.119792      2  \n",
       "4              0.179117      3  \n",
       "\n",
       "[5 rows x 168 columns]"
      ]
     },
     "execution_count": 10,
     "metadata": {},
     "output_type": "execute_result"
    }
   ],
   "source": [
    "# Merge the DataFrames on the column 'source', assuming it's the same name in both DataFrames\n",
    "df_merged = pd.merge(df_features, df_classes, on='txId', how='left')\n",
    "df_merged.head()"
   ]
  },
  {
   "cell_type": "code",
   "execution_count": 11,
   "id": "2e6a6b3a",
   "metadata": {},
   "outputs": [],
   "source": [
    "generate_graph = False\n",
    "if generate_graph:\n",
    "    # Create an empty graph\n",
    "    G = nx.Graph()\n",
    "\n",
    "    for _, row in df_features.iterrows():\n",
    "        # Extract node ID and attributes\n",
    "        node_id = row['txId']\n",
    "        node_attributes = row.drop('txId').to_dict()\n",
    "        # Add node to the graph with its attributes\n",
    "        G.add_node(node_id, **node_attributes)\n",
    "\n",
    "    # Add edges to the graph\n",
    "    for _, row in df_edges.iterrows():\n",
    "        G.add_edge(row['txId1'], row['txId2'])"
   ]
  },
  {
   "cell_type": "code",
   "execution_count": 14,
   "id": "2d087d58",
   "metadata": {},
   "outputs": [],
   "source": [
    "\n",
    "# # Save the graph as a pickle file\n",
    "# with open(\"elipticData_graph.pkl\", \"wb\") as f:\n",
    "#     pkl.dump(G, f)"
   ]
  },
  {
   "cell_type": "code",
   "execution_count": 12,
   "id": "4cb18ac7",
   "metadata": {},
   "outputs": [
    {
     "name": "stdout",
     "output_type": "stream",
     "text": [
      "Number of nodes: 203769\n",
      "Number of edges: 234355\n"
     ]
    }
   ],
   "source": [
    "# Get the number of nodes\n",
    "num_nodes = nx.number_of_nodes(G)\n",
    "\n",
    "# Get the number of edges\n",
    "num_edges = nx.number_of_edges(G)\n",
    "\n",
    "print(\"Number of nodes:\", num_nodes)\n",
    "print(\"Number of edges:\", num_edges)"
   ]
  }
 ],
 "metadata": {
  "kernelspec": {
   "display_name": "Python 3 (ipykernel)",
   "language": "python",
   "name": "python3"
  },
  "language_info": {
   "codemirror_mode": {
    "name": "ipython",
    "version": 3
   },
   "file_extension": ".py",
   "mimetype": "text/x-python",
   "name": "python",
   "nbconvert_exporter": "python",
   "pygments_lexer": "ipython3",
   "version": "3.10.11"
  }
 },
 "nbformat": 4,
 "nbformat_minor": 5
}
