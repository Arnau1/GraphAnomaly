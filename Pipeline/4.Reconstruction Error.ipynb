{
 "cells": [
  {
   "cell_type": "markdown",
   "metadata": {},
   "source": [
    "# Node identifier: Autoencoder, reconstruction error approach"
   ]
  },
  {
   "cell_type": "markdown",
   "metadata": {},
   "source": [
    "## Preparation"
   ]
  },
  {
   "cell_type": "markdown",
   "metadata": {},
   "source": [
    "### Load data"
   ]
  },
  {
   "cell_type": "code",
   "execution_count": 1,
   "metadata": {},
   "outputs": [],
   "source": [
    "# Import packages\n",
    "import matplotlib.pyplot as plt\n",
    "import pickle\n",
    "from sklearn.metrics import *\n",
    "import torch\n",
    "from torch.utils.data import Dataset, DataLoader\n",
    "#import torch.nn.functional as F\n",
    "import torch.nn as nn"
   ]
  },
  {
   "cell_type": "code",
   "execution_count": 2,
   "metadata": {},
   "outputs": [],
   "source": [
    "# Load train and test set\n",
    "path = 'C:/Users/User/Desktop/Assignatures/Synthesis project/GraphAnomaly/dades_arnau/'"
   ]
  },
  {
   "cell_type": "code",
   "execution_count": 3,
   "metadata": {},
   "outputs": [],
   "source": [
    "# Use sequential split\n",
    "with open(path + 'sequential_train.pkl', 'rb') as f:\n",
    "    train_seq = pickle.load(f)\n",
    "with open(path + 'sequential_test.pkl', 'rb') as f:\n",
    "    test_seq = pickle.load(f)"
   ]
  },
  {
   "cell_type": "code",
   "execution_count": 4,
   "metadata": {},
   "outputs": [],
   "source": [
    "from Helper import split_labels_classes\n",
    "\n",
    "# Separate data by classes and labels\n",
    "X_ilicit, y_ilicit, X_licit, y_licit, test_ilicit_X, test_ilicit_y, test_licit_X, test_licit_y = split_labels_classes(train_seq, test_seq)"
   ]
  },
  {
   "cell_type": "markdown",
   "metadata": {},
   "source": [
    "### Preparate data for the model"
   ]
  },
  {
   "cell_type": "code",
   "execution_count": 5,
   "metadata": {},
   "outputs": [],
   "source": [
    "class CustomDataset(Dataset):\n",
    "    def __init__(self, X):\n",
    "        self.X = X        \n",
    "\n",
    "    def __len__(self):\n",
    "        return len(self.X)\n",
    "\n",
    "    def __getitem__(self, idx):        \n",
    "        return self.X[idx]"
   ]
  },
  {
   "cell_type": "code",
   "execution_count": 6,
   "metadata": {},
   "outputs": [],
   "source": [
    "# Create dataloaders for each data set\n",
    "licit_train = CustomDataset(torch.tensor(X_licit.values, dtype=torch.float32))\n",
    "ilicit_train = CustomDataset(torch.tensor(X_ilicit.values, dtype=torch.float32))\n",
    "licit_test = CustomDataset(torch.tensor(test_licit_X.values, dtype=torch.float32))\n",
    "ilicit_test = CustomDataset(torch.tensor(test_ilicit_X.values, dtype=torch.float32)) \n",
    "\n",
    "licit_train_loader = DataLoader(licit_train, batch_size=128, shuffle=True)\n",
    "licit_test_loader = DataLoader(licit_test, batch_size=128, shuffle=False)\n",
    "ilicit_train_loader = DataLoader(ilicit_train, batch_size=128, shuffle=False)\n",
    "ilicit_test_loader = DataLoader(ilicit_test, batch_size=128, shuffle=False)"
   ]
  },
  {
   "cell_type": "markdown",
   "metadata": {},
   "source": [
    "## Autoencoder"
   ]
  },
  {
   "cell_type": "markdown",
   "metadata": {},
   "source": [
    "### Model definition"
   ]
  },
  {
   "cell_type": "code",
   "execution_count": 17,
   "metadata": {},
   "outputs": [],
   "source": [
    "class Autoencoder(nn.Module):\n",
    "    def __init__(self, input_dim, encoding_dim):\n",
    "        super(Autoencoder, self).__init__()\n",
    "        self.encoder = nn.Sequential(\n",
    "            nn.Linear(input_dim, 200),\n",
    "            nn.Tanh(),\n",
    "            nn.Linear(200, encoding_dim),\n",
    "            nn.Tanh(),\n",
    "            nn.Linear(encoding_dim, encoding_dim),\n",
    "            nn.ReLU()\n",
    "        )\n",
    "        self.decoder = nn.Sequential(\n",
    "            nn.Linear(encoding_dim, encoding_dim),\n",
    "            nn.Tanh(),\n",
    "            nn.Linear(encoding_dim, 200),\n",
    "            nn.Tanh(),\n",
    "            nn.Linear(200, input_dim),\n",
    "            nn.ReLU()\n",
    "        )\n",
    "        \n",
    "    def forward(self, x):\n",
    "        encoded = self.encoder(x)\n",
    "        decoded = self.decoder(encoded)\n",
    "        return decoded"
   ]
  },
  {
   "cell_type": "code",
   "execution_count": 8,
   "metadata": {},
   "outputs": [],
   "source": [
    "def train_ae(autoencoder, train_loader, val_loader, criterion, optimizer, num_epochs=10): \n",
    "    total_train_loss = [] \n",
    "    total_validation_loss = []\n",
    "\n",
    "    for epoch in range(num_epochs):\n",
    "        autoencoder.train()\n",
    "        running_loss = 0.0\n",
    "        for inputs in train_loader:\n",
    "            optimizer.zero_grad()\n",
    "            \n",
    "            # Forward pass\n",
    "            outputs = autoencoder(inputs)\n",
    "            \n",
    "            # Compute the loss\n",
    "            loss = criterion(outputs, inputs)\n",
    "            loss = loss / 1_000\n",
    "            \n",
    "            # Backward pass and optimization\n",
    "            loss.backward()\n",
    "            optimizer.step()\n",
    "            \n",
    "            running_loss += loss.item()\n",
    "        \n",
    "        train_loss = running_loss / len(train_loader.dataset)\n",
    "        print(f\"Epoch [{epoch+1}/{num_epochs}], Training Loss: {train_loss:.4f}\")\n",
    "        total_train_loss.append(train_loss)\n",
    "        \n",
    "        #validació dins del mateix train loop\n",
    "        validation_loss = val_ae(autoencoder=autoencoder, data_loader=val_loader, criterion=criterion)\n",
    "        print(f\"Validation Loss: {validation_loss:.4f}\")\n",
    "        total_validation_loss.append(validation_loss)\n",
    "    return total_train_loss, total_validation_loss\n",
    "\n",
    "def val_ae(autoencoder, data_loader, criterion):\n",
    "    autoencoder.eval()\n",
    "    val_loss = 0.0\n",
    "    with torch.no_grad():\n",
    "        for inputs in data_loader:\n",
    "            outputs = autoencoder(inputs)\n",
    "            loss = criterion(outputs, inputs)\n",
    "            loss = loss / 1_000\n",
    "            val_loss += loss.item()\n",
    "    epoch_loss = val_loss / len(data_loader.dataset)\n",
    "    return epoch_loss\n"
   ]
  },
  {
   "cell_type": "markdown",
   "metadata": {},
   "source": [
    "### Training "
   ]
  },
  {
   "cell_type": "code",
   "execution_count": 46,
   "metadata": {},
   "outputs": [
    {
     "name": "stdout",
     "output_type": "stream",
     "text": [
      "Epoch [1/20], Training Loss: 143.5699\n",
      "Validation Loss: 0.8007\n",
      "Epoch [2/20], Training Loss: 0.9837\n",
      "Validation Loss: 0.3174\n",
      "Epoch [3/20], Training Loss: 0.4595\n",
      "Validation Loss: 0.1793\n",
      "Epoch [4/20], Training Loss: 0.2741\n",
      "Validation Loss: 0.1177\n",
      "Epoch [5/20], Training Loss: 0.1847\n",
      "Validation Loss: 0.0849\n",
      "Epoch [6/20], Training Loss: 0.1340\n",
      "Validation Loss: 0.0637\n",
      "Epoch [7/20], Training Loss: 0.1016\n",
      "Validation Loss: 0.0523\n",
      "Epoch [8/20], Training Loss: 0.0798\n",
      "Validation Loss: 0.0424\n",
      "Epoch [9/20], Training Loss: 0.0653\n",
      "Validation Loss: 0.0371\n",
      "Epoch [10/20], Training Loss: 0.0538\n",
      "Validation Loss: 0.0306\n",
      "Epoch [11/20], Training Loss: 0.0441\n",
      "Validation Loss: 0.0273\n",
      "Epoch [12/20], Training Loss: 0.0383\n",
      "Validation Loss: 0.0254\n",
      "Epoch [13/20], Training Loss: 0.0337\n",
      "Validation Loss: 0.0228\n",
      "Epoch [14/20], Training Loss: 0.0298\n",
      "Validation Loss: 0.0215\n",
      "Epoch [15/20], Training Loss: 0.0267\n",
      "Validation Loss: 0.0202\n",
      "Epoch [16/20], Training Loss: 0.0241\n",
      "Validation Loss: 0.0189\n",
      "Epoch [17/20], Training Loss: 0.0189\n",
      "Validation Loss: 0.0158\n",
      "Epoch [18/20], Training Loss: 0.0166\n",
      "Validation Loss: 0.0152\n",
      "Epoch [19/20], Training Loss: 0.0154\n",
      "Validation Loss: 0.0146\n",
      "Epoch [20/20], Training Loss: 0.0141\n",
      "Validation Loss: 0.0146\n"
     ]
    }
   ],
   "source": [
    "# Hyperparameters\n",
    "lr = 0.001\n",
    "EPOCHS = 20\n",
    "\n",
    "input_dim = X_licit.shape[1]\n",
    "model = Autoencoder(input_dim=input_dim,encoding_dim=300)\n",
    "criterion = nn.CrossEntropyLoss()  # Cross Entropy Loss\n",
    "optimizer = torch.optim.Adam(model.parameters(), lr=lr)\n",
    "\n",
    "training_loss, validation_loss = train_ae(autoencoder=model, train_loader=licit_train_loader, criterion=criterion, \n",
    "                                          optimizer=optimizer, val_loader=licit_test_loader, num_epochs=EPOCHS)\n",
    "torch.save(model.state_dict(), path + 'ae_rloss.pth')"
   ]
  },
  {
   "cell_type": "code",
   "execution_count": 47,
   "metadata": {},
   "outputs": [
    {
     "data": {
      "image/png": "[encoded data removed]",
      "text/plain": [
       "<Figure size 640x480 with 1 Axes>"
      ]
     },
     "metadata": {},
     "output_type": "display_data"
    }
   ],
   "source": [
    "# Sample data: evolution of two lists over time\n",
    "list1 = training_loss[3:]\n",
    "list2 = validation_loss[3:]\n",
    "time_points = range(len(list1))  # Assuming both lists have the same length\n",
    "\n",
    "# Create a figure and axis\n",
    "fig, ax = plt.subplots()\n",
    "\n",
    "# Plot both lists\n",
    "ax.plot(time_points, list1, label='Training loss', marker='o')\n",
    "ax.plot(time_points, list2, label='Validation loss', marker='x')\n",
    "\n",
    "# Add titles and labels\n",
    "ax.set_title('Evolution of training and validation loss')\n",
    "ax.set_xlabel('Epochs')\n",
    "ax.set_ylabel('Loss')\n",
    "\n",
    "# Add a legend\n",
    "ax.legend()\n",
    "\n",
    "# Show the plot\n",
    "plt.show()"
   ]
  },
  {
   "cell_type": "markdown",
   "metadata": {},
   "source": [
    "### Test results"
   ]
  },
  {
   "cell_type": "code",
   "execution_count": 37,
   "metadata": {},
   "outputs": [],
   "source": [
    "def infer_ae(loader, autoencoder, criterion, msg):\n",
    "    autoencoder.eval() \n",
    "    loss_history = []\n",
    "    total_loss = 0     \n",
    "\n",
    "    with torch.no_grad():\n",
    "        for inputs in loader:\n",
    "            outputs = autoencoder(inputs)\n",
    "            loss = criterion(outputs, inputs)\n",
    "            loss = loss / 1_000\n",
    "            total_loss += loss.item()\n",
    "            loss_history.append(float(loss))\n",
    "    total_loss /= len(loader.dataset)    \n",
    "    print(msg + str(round(total_loss,4)))    \n",
    "    return total_loss, loss_history"
   ]
  },
  {
   "cell_type": "code",
   "execution_count": 49,
   "metadata": {},
   "outputs": [
    {
     "name": "stdout",
     "output_type": "stream",
     "text": [
      "Train Licit Loss: 0.014\n",
      "Test Licit Loss: 0.0146\n",
      "Train Ilicit Loss: 0.0111\n",
      "Test Ilicit Loss: 0.0114\n"
     ]
    }
   ],
   "source": [
    "# Define the path to the saved model\n",
    "model_path = path + 'ae_rloss.pth'\n",
    "# Create an instance of your model\n",
    "model = Autoencoder(input_dim, encoding_dim=300)\n",
    "# Load the state_dict into the model\n",
    "model.load_state_dict(torch.load(model_path))\n",
    "\n",
    "criterion = nn.CrossEntropyLoss()\n",
    "\n",
    "licit_train, _ = infer_ae(licit_train_loader, model, criterion, 'Train Licit Loss: ')\n",
    "licit_test, licit_loss = infer_ae(licit_test_loader, model, criterion, 'Test Licit Loss: ')\n",
    "ilicit_train = infer_ae(ilicit_train_loader, model, criterion, 'Train Ilicit Loss: ')\n",
    "ilicit_test, ilicit_loss = infer_ae(ilicit_test_loader, model, criterion, 'Test Ilicit Loss: ')"
   ]
  },
  {
   "cell_type": "code",
   "execution_count": 50,
   "metadata": {},
   "outputs": [
    {
     "data": {
      "image/png": "[encoded data removed]",
      "text/plain": [
       "<Figure size 640x480 with 1 Axes>"
      ]
     },
     "metadata": {},
     "output_type": "display_data"
    }
   ],
   "source": [
    "# Determine the range of values in both lists\n",
    "min_value = min(min(licit_loss), min(ilicit_loss))\n",
    "max_value = max(max(licit_loss), max(ilicit_loss))\n",
    "\n",
    "# Plot histograms for both lists with 10 bins\n",
    "plt.hist(licit_loss, bins=len(licit_loss), alpha=0.5, label='Licit nodes', range=(min_value, max_value))\n",
    "plt.hist(ilicit_loss, bins=len(ilicit_loss), alpha=0.5, label='Ilicit nodes', range=(min_value, max_value))\n",
    "\n",
    "# Add labels and title\n",
    "plt.xlabel('Values')\n",
    "plt.ylabel('Frequency')\n",
    "plt.title('Reconstruction Error plot')\n",
    "\n",
    "# Add legend\n",
    "plt.legend()\n",
    "\n",
    "# Show the plot\n",
    "plt.show()"
   ]
  }
 ],
 "metadata": {
  "kernelspec": {
   "display_name": "base",
   "language": "python",
   "name": "python3"
  },
  "language_info": {
   "codemirror_mode": {
    "name": "ipython",
    "version": 3
   },
   "file_extension": ".py",
   "mimetype": "text/x-python",
   "name": "python",
   "nbconvert_exporter": "python",
   "pygments_lexer": "ipython3",
   "version": "3.11.9"
  }
 },
 "nbformat": 4,
 "nbformat_minor": 2
}
