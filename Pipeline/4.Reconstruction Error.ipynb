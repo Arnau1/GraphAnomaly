{
 "cells": [
  {
   "cell_type": "markdown",
   "metadata": {},
   "source": [
    "# Node identifier: Autoencoder, reconstruction error approach"
   ]
  },
  {
   "cell_type": "markdown",
   "metadata": {},
   "source": [
    "## Preparation"
   ]
  },
  {
   "cell_type": "markdown",
   "metadata": {},
   "source": [
    "### Load data"
   ]
  },
  {
   "cell_type": "code",
   "execution_count": 1,
   "metadata": {},
   "outputs": [],
   "source": [
    "# Import packages\n",
    "#import numpy as np\n",
    "#import pandas as pd\n",
    "import matplotlib.pyplot as plt\n",
    "#import seaborn as sns\n",
    "#import networkx as nx\n",
    "import pickle\n",
    "#import sys\n",
    "from sklearn.metrics import *\n",
    "#import torch.utils.data as data \n",
    "import torch\n",
    "from torch.utils.data import Dataset, DataLoader\n",
    "# import os\n",
    "import torch.nn.functional as F\n",
    "# from tqdm import tqdm\n",
    "#from torch.optim.lr_scheduler import ReduceLROnPlateau\n",
    "#from IPython.display import clear_output\n",
    "#from sklearn import preprocessing\n",
    "import torch.nn as nn"
   ]
  },
  {
   "cell_type": "code",
   "execution_count": 2,
   "metadata": {},
   "outputs": [],
   "source": [
    "# Load train and test set\n",
    "path = 'C:/Users/User/Desktop/Assignatures/Synthesis project/GraphAnomaly/dades_arnau/'"
   ]
  },
  {
   "cell_type": "code",
   "execution_count": 4,
   "metadata": {},
   "outputs": [],
   "source": [
    "# Use sequential split\n",
    "with open(path + 'sequential_train.pkl', 'rb') as f:\n",
    "    train_seq = pickle.load(f)\n",
    "with open(path + 'sequential_test.pkl', 'rb') as f:\n",
    "    test_seq = pickle.load(f)"
   ]
  },
  {
   "cell_type": "code",
   "execution_count": 5,
   "metadata": {},
   "outputs": [],
   "source": [
    "from Helper import split_labels_classes\n",
    "\n",
    "# Separate data by classes and labels\n",
    "X_ilicit, y_ilicit, X_licit, y_licit, test_ilicit_X, test_ilicit_y, test_licit_X, test_licit_y = split_labels_classes(train_seq, test_seq)"
   ]
  },
  {
   "cell_type": "markdown",
   "metadata": {},
   "source": [
    "### Preparate data for the model"
   ]
  },
  {
   "cell_type": "code",
   "execution_count": 6,
   "metadata": {},
   "outputs": [],
   "source": [
    "class CustomDataset(Dataset):\n",
    "    def __init__(self, X):\n",
    "        self.X = X        \n",
    "\n",
    "    def __len__(self):\n",
    "        return len(self.X)\n",
    "\n",
    "    def __getitem__(self, idx):        \n",
    "        return self.X[idx]"
   ]
  },
  {
   "cell_type": "code",
   "execution_count": 7,
   "metadata": {},
   "outputs": [],
   "source": [
    "# Create dataloaders for each data set\n",
    "licit_train = CustomDataset(torch.tensor(X_licit.values, dtype=torch.float32))\n",
    "ilicit_train = CustomDataset(torch.tensor(X_ilicit.values, dtype=torch.float32))\n",
    "licit_test = CustomDataset(torch.tensor(test_licit_X.values, dtype=torch.float32))\n",
    "ilicit_test = CustomDataset(torch.tensor(test_ilicit_X.values, dtype=torch.float32)) \n",
    "\n",
    "licit_train_loader = DataLoader(licit_train, batch_size=128, shuffle=True)\n",
    "licit_test_loader = DataLoader(licit_test, batch_size=128, shuffle=False)\n",
    "ilicit_train_loader = DataLoader(ilicit_train, batch_size=128, shuffle=False)\n",
    "ilicit_test_loader = DataLoader(ilicit_test, batch_size=128, shuffle=False)"
   ]
  },
  {
   "cell_type": "markdown",
   "metadata": {},
   "source": [
    "## Autoencoder"
   ]
  },
  {
   "cell_type": "markdown",
   "metadata": {},
   "source": [
    "### Model definition"
   ]
  },
  {
   "cell_type": "code",
   "execution_count": 18,
   "metadata": {},
   "outputs": [],
   "source": [
    "class Autoencoder(nn.Module):\n",
    "    def __init__(self, input_dim, encoding_dim):\n",
    "        super(Autoencoder, self).__init__()\n",
    "        self.encoder = nn.Sequential(\n",
    "            nn.Linear(input_dim, 100),\n",
    "            nn.Tanh(),\n",
    "            nn.Linear(100, encoding_dim),\n",
    "            nn.Tanh(),\n",
    "            nn.Linear(encoding_dim, encoding_dim),\n",
    "            nn.ReLU()\n",
    "        )\n",
    "        self.decoder = nn.Sequential(\n",
    "            nn.Linear(encoding_dim, encoding_dim),\n",
    "            nn.Tanh(),\n",
    "            nn.Linear(encoding_dim, 100),\n",
    "            nn.Tanh(),\n",
    "            nn.Linear(100, input_dim),\n",
    "            nn.ReLU()\n",
    "        )\n",
    "        \n",
    "    def forward(self, x):\n",
    "        encoded = self.encoder(x)\n",
    "        decoded = self.decoder(encoded)\n",
    "        return decoded"
   ]
  },
  {
   "cell_type": "code",
   "execution_count": 19,
   "metadata": {},
   "outputs": [],
   "source": [
    "def train_ae(autoencoder, train_loader, val_loader, criterion, optimizer, num_epochs=10): \n",
    "    total_train_loss = [] \n",
    "    total_validation_loss = []\n",
    "\n",
    "    for epoch in range(num_epochs):\n",
    "        autoencoder.train()\n",
    "        running_loss = 0.0\n",
    "        for inputs in train_loader:\n",
    "            optimizer.zero_grad()\n",
    "            \n",
    "            # Forward pass\n",
    "            outputs = autoencoder(inputs)\n",
    "            \n",
    "            # Compute the loss\n",
    "            loss = criterion(outputs, inputs)\n",
    "            loss = loss / 1_000\n",
    "            \n",
    "            # Backward pass and optimization\n",
    "            loss.backward()\n",
    "            optimizer.step()\n",
    "            \n",
    "            running_loss += loss.item()\n",
    "        \n",
    "        train_loss = running_loss / len(train_loader.dataset)\n",
    "        print(f\"Epoch [{epoch+1}/{num_epochs}], Training Loss: {train_loss:.4f}\")\n",
    "        total_train_loss.append(train_loss)\n",
    "        \n",
    "        #validació dins del mateix train loop\n",
    "        validation_loss = val_ae(autoencoder=autoencoder, data_loader=val_loader, criterion=criterion)\n",
    "        print(f\"Validation Loss: {validation_loss:.4f}\")\n",
    "        total_validation_loss.append(validation_loss)\n",
    "    return total_train_loss, total_validation_loss\n",
    "\n",
    "def val_ae(autoencoder, data_loader, criterion):\n",
    "    autoencoder.eval()\n",
    "    val_loss = 0.0\n",
    "    with torch.no_grad():\n",
    "        for inputs in data_loader:\n",
    "            outputs = autoencoder(inputs)\n",
    "            loss = criterion(outputs, inputs)\n",
    "            loss = loss / 1_000\n",
    "            val_loss += loss.item()\n",
    "    epoch_loss = val_loss / len(data_loader.dataset)\n",
    "    return epoch_loss\n"
   ]
  },
  {
   "cell_type": "markdown",
   "metadata": {},
   "source": [
    "### Training "
   ]
  },
  {
   "cell_type": "code",
   "execution_count": 21,
   "metadata": {},
   "outputs": [
    {
     "name": "stdout",
     "output_type": "stream",
     "text": [
      "Epoch [1/60], Training Loss: 679.7160\n",
      "Validation Loss: 5.6093\n",
      "Epoch [2/60], Training Loss: 6.7308\n",
      "Validation Loss: 2.0831\n",
      "Epoch [3/60], Training Loss: 3.0289\n",
      "Validation Loss: 1.1290\n",
      "Epoch [4/60], Training Loss: 1.7781\n",
      "Validation Loss: 0.7189\n",
      "Epoch [5/60], Training Loss: 1.1834\n",
      "Validation Loss: 0.5033\n",
      "Epoch [6/60], Training Loss: 0.8476\n",
      "Validation Loss: 0.3725\n",
      "Epoch [7/60], Training Loss: 0.6377\n",
      "Validation Loss: 0.2860\n",
      "Epoch [8/60], Training Loss: 0.4964\n",
      "Validation Loss: 0.2283\n",
      "Epoch [9/60], Training Loss: 0.3962\n",
      "Validation Loss: 0.1854\n",
      "Epoch [10/60], Training Loss: 0.3227\n",
      "Validation Loss: 0.1532\n",
      "Epoch [11/60], Training Loss: 0.2673\n",
      "Validation Loss: 0.1278\n",
      "Epoch [12/60], Training Loss: 0.2235\n",
      "Validation Loss: 0.1091\n",
      "Epoch [13/60], Training Loss: 0.1895\n",
      "Validation Loss: 0.0936\n",
      "Epoch [14/60], Training Loss: 0.1621\n",
      "Validation Loss: 0.0823\n",
      "Epoch [15/60], Training Loss: 0.1385\n",
      "Validation Loss: 0.0716\n",
      "Epoch [16/60], Training Loss: 0.1210\n",
      "Validation Loss: 0.0624\n",
      "Epoch [17/60], Training Loss: 0.1045\n",
      "Validation Loss: 0.0563\n",
      "Epoch [18/60], Training Loss: 0.0929\n",
      "Validation Loss: 0.0510\n",
      "Epoch [19/60], Training Loss: 0.0799\n",
      "Validation Loss: 0.0444\n",
      "Epoch [20/60], Training Loss: 0.0711\n",
      "Validation Loss: 0.0404\n",
      "Epoch [21/60], Training Loss: 0.0639\n",
      "Validation Loss: 0.0372\n",
      "Epoch [22/60], Training Loss: 0.0576\n",
      "Validation Loss: 0.0345\n",
      "Epoch [23/60], Training Loss: 0.0488\n",
      "Validation Loss: 0.0300\n",
      "Epoch [24/60], Training Loss: 0.0439\n",
      "Validation Loss: 0.0280\n",
      "Epoch [25/60], Training Loss: 0.0400\n",
      "Validation Loss: 0.0260\n",
      "Epoch [26/60], Training Loss: 0.0364\n",
      "Validation Loss: 0.0247\n",
      "Epoch [27/60], Training Loss: 0.0333\n",
      "Validation Loss: 0.0234\n",
      "Epoch [28/60], Training Loss: 0.0305\n",
      "Validation Loss: 0.0221\n",
      "Epoch [29/60], Training Loss: 0.0280\n",
      "Validation Loss: 0.0208\n",
      "Epoch [30/60], Training Loss: 0.0258\n",
      "Validation Loss: 0.0196\n",
      "Epoch [31/60], Training Loss: 0.0238\n",
      "Validation Loss: 0.0189\n",
      "Epoch [32/60], Training Loss: 0.0192\n",
      "Validation Loss: 0.0164\n",
      "Epoch [33/60], Training Loss: 0.0170\n",
      "Validation Loss: 0.0158\n",
      "Epoch [34/60], Training Loss: 0.0159\n",
      "Validation Loss: 0.0152\n",
      "Epoch [35/60], Training Loss: 0.0149\n",
      "Validation Loss: 0.0146\n",
      "Epoch [36/60], Training Loss: 0.0141\n",
      "Validation Loss: 0.0146\n",
      "Epoch [37/60], Training Loss: 0.0129\n",
      "Validation Loss: 0.0140\n",
      "Epoch [38/60], Training Loss: 0.0124\n",
      "Validation Loss: 0.0134\n",
      "Epoch [39/60], Training Loss: 0.0115\n",
      "Validation Loss: 0.0135\n",
      "Epoch [40/60], Training Loss: 0.0111\n",
      "Validation Loss: 0.0128\n",
      "Epoch [41/60], Training Loss: 0.0102\n",
      "Validation Loss: 0.0129\n",
      "Epoch [42/60], Training Loss: 0.0102\n",
      "Validation Loss: 0.0129\n",
      "Epoch [43/60], Training Loss: 0.0092\n",
      "Validation Loss: 0.0123\n",
      "Epoch [44/60], Training Loss: 0.0090\n",
      "Validation Loss: 0.0124\n",
      "Epoch [45/60], Training Loss: 0.0090\n",
      "Validation Loss: 0.0125\n",
      "Epoch [46/60], Training Loss: 0.0082\n",
      "Validation Loss: 0.0118\n",
      "Epoch [47/60], Training Loss: 0.0077\n",
      "Validation Loss: 0.0119\n",
      "Epoch [48/60], Training Loss: 0.0077\n",
      "Validation Loss: 0.0119\n",
      "Epoch [49/60], Training Loss: 0.0078\n",
      "Validation Loss: 0.0120\n",
      "Epoch [50/60], Training Loss: 0.0078\n",
      "Validation Loss: 0.0120\n",
      "Epoch [51/60], Training Loss: 0.0069\n",
      "Validation Loss: 0.0115\n",
      "Epoch [52/60], Training Loss: 0.0065\n",
      "Validation Loss: 0.0115\n",
      "Epoch [53/60], Training Loss: 0.0065\n",
      "Validation Loss: 0.0115\n",
      "Epoch [54/60], Training Loss: 0.0065\n",
      "Validation Loss: 0.0116\n",
      "Epoch [55/60], Training Loss: 0.0066\n",
      "Validation Loss: 0.0116\n",
      "Epoch [56/60], Training Loss: 0.0066\n",
      "Validation Loss: 0.0117\n",
      "Epoch [57/60], Training Loss: 0.0066\n",
      "Validation Loss: 0.0118\n",
      "Epoch [58/60], Training Loss: 0.0066\n",
      "Validation Loss: 0.0118\n",
      "Epoch [59/60], Training Loss: 0.0067\n",
      "Validation Loss: 0.0119\n",
      "Epoch [60/60], Training Loss: 0.0067\n",
      "Validation Loss: 0.0120\n"
     ]
    }
   ],
   "source": [
    "# Hyperparameters\n",
    "lr = 0.001\n",
    "EPOCHS = 60\n",
    "\n",
    "input_dim = X_licit.shape[1]\n",
    "model = Autoencoder(input_dim=input_dim,encoding_dim=50)\n",
    "criterion = nn.CrossEntropyLoss()  # Cross Entropy Loss\n",
    "optimizer = torch.optim.Adam(model.parameters(), lr=lr)\n",
    "\n",
    "training_loss, validation_loss = train_ae(autoencoder=model, train_loader=licit_train_loader, criterion=criterion, \n",
    "                                          optimizer=optimizer, val_loader=licit_test_loader, num_epochs=EPOCHS)\n",
    "torch.save(model.state_dict(), path + 'ae_rloss.pth')"
   ]
  },
  {
   "cell_type": "code",
   "execution_count": 23,
   "metadata": {},
   "outputs": [
    {
     "data": {
      "image/png": "[encoded data removed]",
      "text/plain": [
       "<Figure size 640x480 with 1 Axes>"
      ]
     },
     "metadata": {},
     "output_type": "display_data"
    }
   ],
   "source": [
    "# Sample data: evolution of two lists over time\n",
    "list1 = training_loss[3:]\n",
    "list2 = validation_loss[3:]\n",
    "time_points = range(len(list1))  # Assuming both lists have the same length\n",
    "\n",
    "# Create a figure and axis\n",
    "fig, ax = plt.subplots()\n",
    "\n",
    "# Plot both lists\n",
    "ax.plot(time_points, list1, label='Training loss', marker='o')\n",
    "ax.plot(time_points, list2, label='Validation loss', marker='x')\n",
    "\n",
    "# Add titles and labels\n",
    "ax.set_title('Evolution of training and validation loss')\n",
    "ax.set_xlabel('Epochs')\n",
    "ax.set_ylabel('Loss')\n",
    "\n",
    "# Add a legend\n",
    "ax.legend()\n",
    "\n",
    "# Show the plot\n",
    "plt.show()"
   ]
  },
  {
   "cell_type": "markdown",
   "metadata": {},
   "source": [
    "### Test results"
   ]
  },
  {
   "cell_type": "code",
   "execution_count": 33,
   "metadata": {},
   "outputs": [],
   "source": [
    "def infer_ae(loader, autoencoder, criterion, msg):\n",
    "    autoencoder.eval() \n",
    "    loss_history = []\n",
    "    total_loss = 0     \n",
    "\n",
    "    with torch.no_grad():\n",
    "        for inputs in loader:\n",
    "            outputs = autoencoder(inputs)\n",
    "            loss = criterion(outputs, inputs)\n",
    "            loss = loss / 1_000\n",
    "            total_loss += loss.item()\n",
    "            loss_history.append(float(loss))\n",
    "    total_loss /= len(loader.dataset)    \n",
    "    print(msg + str(round(total_loss,4)))    \n",
    "    return total_loss, loss_history"
   ]
  },
  {
   "cell_type": "code",
   "execution_count": 34,
   "metadata": {},
   "outputs": [
    {
     "name": "stdout",
     "output_type": "stream",
     "text": [
      "Train Licit Loss: 0.0067\n",
      "Test Licit Loss: 0.012\n",
      "Train Ilicit Loss: 0.0023\n",
      "Test Ilicit Loss: 0.0083\n"
     ]
    }
   ],
   "source": [
    "# Define the path to the saved model\n",
    "model_path = path + 'ae_rloss.pth'\n",
    "# Create an instance of your model\n",
    "model = Autoencoder(input_dim, encoding_dim=50)\n",
    "# Load the state_dict into the model\n",
    "model.load_state_dict(torch.load(model_path))\n",
    "\n",
    "criterion = nn.CrossEntropyLoss()\n",
    "\n",
    "licit_train, _ = infer_ae(licit_train_loader, model, criterion, 'Train Licit Loss: ')\n",
    "licit_test, licit_loss = infer_ae(licit_test_loader, model, criterion, 'Test Licit Loss: ')\n",
    "ilicit_train = infer_ae(ilicit_train_loader, model, criterion, 'Train Ilicit Loss: ')\n",
    "ilicit_test, ilicit_loss = infer_ae(ilicit_test_loader, model, criterion, 'Test Ilicit Loss: ')"
   ]
  },
  {
   "cell_type": "code",
   "execution_count": 35,
   "metadata": {},
   "outputs": [
    {
     "data": {
      "image/png": "[encoded data removed]",
      "text/plain": [
       "<Figure size 640x480 with 1 Axes>"
      ]
     },
     "metadata": {},
     "output_type": "display_data"
    }
   ],
   "source": [
    "# Determine the range of values in both lists\n",
    "min_value = min(min(licit_loss), min(ilicit_loss))\n",
    "max_value = max(max(licit_loss), max(ilicit_loss))\n",
    "\n",
    "# Plot histograms for both lists with 10 bins\n",
    "plt.hist(licit_loss, bins=len(licit_loss), alpha=0.5, label='Licit nodes', range=(min_value, max_value))\n",
    "plt.hist(ilicit_loss, bins=len(ilicit_loss), alpha=0.5, label='Ilicit nodes', range=(min_value, max_value))\n",
    "\n",
    "# Add labels and title\n",
    "plt.xlabel('Values')\n",
    "plt.ylabel('Frequency')\n",
    "plt.title('Reconstruction Error plot')\n",
    "\n",
    "# Add legend\n",
    "plt.legend()\n",
    "\n",
    "# Show the plot\n",
    "plt.show()"
   ]
  }
 ],
 "metadata": {
  "kernelspec": {
   "display_name": "base",
   "language": "python",
   "name": "python3"
  },
  "language_info": {
   "codemirror_mode": {
    "name": "ipython",
    "version": 3
   },
   "file_extension": ".py",
   "mimetype": "text/x-python",
   "name": "python",
   "nbconvert_exporter": "python",
   "pygments_lexer": "ipython3",
   "version": "3.11.9"
  }
 },
 "nbformat": 4,
 "nbformat_minor": 2
}
