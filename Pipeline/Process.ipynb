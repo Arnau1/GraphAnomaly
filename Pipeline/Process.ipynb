{
 "cells": [
  {
   "cell_type": "markdown",
   "metadata": {},
   "source": [
    "# Data Processing\n"
   ]
  },
  {
   "cell_type": "markdown",
   "metadata": {},
   "source": [
    "## Common Operations"
   ]
  },
  {
   "cell_type": "code",
   "execution_count": 224,
   "metadata": {},
   "outputs": [],
   "source": [
    "# Import packages\n",
    "import pandas as pd\n",
    "import networkx as nx\n",
    "import pickle"
   ]
  },
  {
   "cell_type": "markdown",
   "metadata": {},
   "source": [
    "### Load data"
   ]
  },
  {
   "cell_type": "code",
   "execution_count": 225,
   "metadata": {},
   "outputs": [],
   "source": [
    "# Read files\n",
    "path = 'C:/Users/User/Desktop/Assignatures/Synthesis project/GraphAnomaly/dades_arnau/'"
   ]
  },
  {
   "cell_type": "code",
   "execution_count": 226,
   "metadata": {},
   "outputs": [
    {
     "name": "stdout",
     "output_type": "stream",
     "text": [
      "Shape of classes (203769, 2)\n"
     ]
    }
   ],
   "source": [
    "# Data labels\n",
    "df_classes = pd.read_csv(path + 'elliptic_txs_classes.csv') \n",
    "\n",
    "# Set classes' values \n",
    "df_classes = df_classes.rename(columns={'txId': 'node'})\n",
    "df_classes.loc[df_classes['class'] == '1', 'class'] = 0 # Ilicit\n",
    "df_classes.loc[df_classes['class'] == '2', 'class'] = 1 # Licit\n",
    "df_classes.loc[df_classes['class'] == 'unknown', 'class'] = 2 # Unknown\n",
    "\n",
    "# Show information\n",
    "print('Shape of classes', df_classes.shape)"
   ]
  },
  {
   "cell_type": "code",
   "execution_count": 227,
   "metadata": {},
   "outputs": [
    {
     "name": "stdout",
     "output_type": "stream",
     "text": [
      "Shape of edges (234355, 2)\n"
     ]
    }
   ],
   "source": [
    "# Edges\n",
    "df_edges = pd.read_csv(path + 'elliptic_txs_edgelist.csv') # Edges\n",
    "df_edges = df_edges.rename(columns={'txId1':'node1', 'txId2':'node2'})\n",
    "\n",
    "# Show information\n",
    "print('Shape of edges', df_edges.shape)"
   ]
  },
  {
   "cell_type": "code",
   "execution_count": 228,
   "metadata": {},
   "outputs": [
    {
     "name": "stdout",
     "output_type": "stream",
     "text": [
      "Shape of features (203769, 167)\n"
     ]
    }
   ],
   "source": [
    "# Data features\n",
    "df_features = pd.read_csv(path + 'elliptic_txs_features.csv', header=None)\n",
    "\n",
    "# Set the names of the features\n",
    "colNames1 = {'0': 'node', 1: 'time step'}\n",
    "colNames2 = {str(ii+2): 'local_feature_' + str(ii+1) for ii in range(93)}\n",
    "colNames3 = {str(ii+95): 'aggregate_feature_' + str(ii+1) for ii in range(72)}\n",
    "colNames = dict(colNames1, **colNames2, **colNames3 )\n",
    "colNames = {int(jj): item_kk for jj,item_kk in colNames.items()}\n",
    "df_features = df_features.rename(columns=colNames)\n",
    "\n",
    "# Show information\n",
    "print('Shape of features', df_features.shape)"
   ]
  },
  {
   "cell_type": "code",
   "execution_count": 229,
   "metadata": {},
   "outputs": [],
   "source": [
    "# Merge class and features\n",
    "df_class_feature = pd.merge(df_classes, df_features)"
   ]
  },
  {
   "cell_type": "markdown",
   "metadata": {},
   "source": [
    "### Visualize"
   ]
  },
  {
   "cell_type": "code",
   "execution_count": 230,
   "metadata": {},
   "outputs": [
    {
     "data": {
      "text/html": [
       "<div>\n",
       "<style scoped>\n",
       "    .dataframe tbody tr th:only-of-type {\n",
       "        vertical-align: middle;\n",
       "    }\n",
       "\n",
       "    .dataframe tbody tr th {\n",
       "        vertical-align: top;\n",
       "    }\n",
       "\n",
       "    .dataframe thead th {\n",
       "        text-align: right;\n",
       "    }\n",
       "</style>\n",
       "<table border=\"1\" class=\"dataframe\">\n",
       "  <thead>\n",
       "    <tr style=\"text-align: right;\">\n",
       "      <th></th>\n",
       "      <th>node</th>\n",
       "      <th>class</th>\n",
       "      <th>time step</th>\n",
       "      <th>local_feature_1</th>\n",
       "      <th>local_feature_2</th>\n",
       "      <th>local_feature_3</th>\n",
       "      <th>local_feature_4</th>\n",
       "      <th>local_feature_5</th>\n",
       "      <th>local_feature_6</th>\n",
       "      <th>local_feature_7</th>\n",
       "      <th>...</th>\n",
       "      <th>aggregate_feature_63</th>\n",
       "      <th>aggregate_feature_64</th>\n",
       "      <th>aggregate_feature_65</th>\n",
       "      <th>aggregate_feature_66</th>\n",
       "      <th>aggregate_feature_67</th>\n",
       "      <th>aggregate_feature_68</th>\n",
       "      <th>aggregate_feature_69</th>\n",
       "      <th>aggregate_feature_70</th>\n",
       "      <th>aggregate_feature_71</th>\n",
       "      <th>aggregate_feature_72</th>\n",
       "    </tr>\n",
       "  </thead>\n",
       "  <tbody>\n",
       "    <tr>\n",
       "      <th>0</th>\n",
       "      <td>230425980</td>\n",
       "      <td>2</td>\n",
       "      <td>1</td>\n",
       "      <td>-0.171469</td>\n",
       "      <td>-0.184668</td>\n",
       "      <td>-1.201369</td>\n",
       "      <td>-0.121970</td>\n",
       "      <td>-0.043875</td>\n",
       "      <td>-0.113002</td>\n",
       "      <td>-0.061584</td>\n",
       "      <td>...</td>\n",
       "      <td>-0.562153</td>\n",
       "      <td>-0.600999</td>\n",
       "      <td>1.461330</td>\n",
       "      <td>1.461369</td>\n",
       "      <td>0.018279</td>\n",
       "      <td>-0.087490</td>\n",
       "      <td>-0.131155</td>\n",
       "      <td>-0.097524</td>\n",
       "      <td>-0.120613</td>\n",
       "      <td>-0.119792</td>\n",
       "    </tr>\n",
       "    <tr>\n",
       "      <th>1</th>\n",
       "      <td>5530458</td>\n",
       "      <td>2</td>\n",
       "      <td>1</td>\n",
       "      <td>-0.171484</td>\n",
       "      <td>-0.184668</td>\n",
       "      <td>-1.201369</td>\n",
       "      <td>-0.121970</td>\n",
       "      <td>-0.043875</td>\n",
       "      <td>-0.113002</td>\n",
       "      <td>-0.061584</td>\n",
       "      <td>...</td>\n",
       "      <td>0.947382</td>\n",
       "      <td>0.673103</td>\n",
       "      <td>-0.979074</td>\n",
       "      <td>-0.978556</td>\n",
       "      <td>0.018279</td>\n",
       "      <td>-0.087490</td>\n",
       "      <td>-0.131155</td>\n",
       "      <td>-0.097524</td>\n",
       "      <td>-0.120613</td>\n",
       "      <td>-0.119792</td>\n",
       "    </tr>\n",
       "    <tr>\n",
       "      <th>2</th>\n",
       "      <td>232022460</td>\n",
       "      <td>2</td>\n",
       "      <td>1</td>\n",
       "      <td>-0.172107</td>\n",
       "      <td>-0.184668</td>\n",
       "      <td>-1.201369</td>\n",
       "      <td>-0.121970</td>\n",
       "      <td>-0.043875</td>\n",
       "      <td>-0.113002</td>\n",
       "      <td>-0.061584</td>\n",
       "      <td>...</td>\n",
       "      <td>0.670883</td>\n",
       "      <td>0.439728</td>\n",
       "      <td>-0.979074</td>\n",
       "      <td>-0.978556</td>\n",
       "      <td>-0.098889</td>\n",
       "      <td>-0.106715</td>\n",
       "      <td>-0.131155</td>\n",
       "      <td>-0.183671</td>\n",
       "      <td>-0.120613</td>\n",
       "      <td>-0.119792</td>\n",
       "    </tr>\n",
       "    <tr>\n",
       "      <th>3</th>\n",
       "      <td>232438397</td>\n",
       "      <td>1</td>\n",
       "      <td>1</td>\n",
       "      <td>0.163054</td>\n",
       "      <td>1.963790</td>\n",
       "      <td>-0.646376</td>\n",
       "      <td>12.409294</td>\n",
       "      <td>-0.063725</td>\n",
       "      <td>9.782742</td>\n",
       "      <td>12.414558</td>\n",
       "      <td>...</td>\n",
       "      <td>-0.577099</td>\n",
       "      <td>-0.613614</td>\n",
       "      <td>0.241128</td>\n",
       "      <td>0.241406</td>\n",
       "      <td>1.072793</td>\n",
       "      <td>0.085530</td>\n",
       "      <td>-0.131155</td>\n",
       "      <td>0.677799</td>\n",
       "      <td>-0.120613</td>\n",
       "      <td>-0.119792</td>\n",
       "    </tr>\n",
       "    <tr>\n",
       "      <th>4</th>\n",
       "      <td>230460314</td>\n",
       "      <td>2</td>\n",
       "      <td>1</td>\n",
       "      <td>1.011523</td>\n",
       "      <td>-0.081127</td>\n",
       "      <td>-1.201369</td>\n",
       "      <td>1.153668</td>\n",
       "      <td>0.333276</td>\n",
       "      <td>1.312656</td>\n",
       "      <td>-0.061584</td>\n",
       "      <td>...</td>\n",
       "      <td>-0.511871</td>\n",
       "      <td>-0.400422</td>\n",
       "      <td>0.517257</td>\n",
       "      <td>0.579382</td>\n",
       "      <td>0.018279</td>\n",
       "      <td>0.277775</td>\n",
       "      <td>0.326394</td>\n",
       "      <td>1.293750</td>\n",
       "      <td>0.178136</td>\n",
       "      <td>0.179117</td>\n",
       "    </tr>\n",
       "    <tr>\n",
       "      <th>...</th>\n",
       "      <td>...</td>\n",
       "      <td>...</td>\n",
       "      <td>...</td>\n",
       "      <td>...</td>\n",
       "      <td>...</td>\n",
       "      <td>...</td>\n",
       "      <td>...</td>\n",
       "      <td>...</td>\n",
       "      <td>...</td>\n",
       "      <td>...</td>\n",
       "      <td>...</td>\n",
       "      <td>...</td>\n",
       "      <td>...</td>\n",
       "      <td>...</td>\n",
       "      <td>...</td>\n",
       "      <td>...</td>\n",
       "      <td>...</td>\n",
       "      <td>...</td>\n",
       "      <td>...</td>\n",
       "      <td>...</td>\n",
       "      <td>...</td>\n",
       "    </tr>\n",
       "    <tr>\n",
       "      <th>203764</th>\n",
       "      <td>173077460</td>\n",
       "      <td>2</td>\n",
       "      <td>49</td>\n",
       "      <td>-0.145771</td>\n",
       "      <td>-0.163752</td>\n",
       "      <td>0.463609</td>\n",
       "      <td>-0.121970</td>\n",
       "      <td>-0.043875</td>\n",
       "      <td>-0.113002</td>\n",
       "      <td>-0.061584</td>\n",
       "      <td>...</td>\n",
       "      <td>-0.577099</td>\n",
       "      <td>-0.613614</td>\n",
       "      <td>0.241128</td>\n",
       "      <td>0.241406</td>\n",
       "      <td>0.018279</td>\n",
       "      <td>-0.087490</td>\n",
       "      <td>-0.131155</td>\n",
       "      <td>-0.097524</td>\n",
       "      <td>-0.120613</td>\n",
       "      <td>-0.119792</td>\n",
       "    </tr>\n",
       "    <tr>\n",
       "      <th>203765</th>\n",
       "      <td>158577750</td>\n",
       "      <td>2</td>\n",
       "      <td>49</td>\n",
       "      <td>-0.165920</td>\n",
       "      <td>-0.123607</td>\n",
       "      <td>1.018602</td>\n",
       "      <td>-0.121970</td>\n",
       "      <td>-0.043875</td>\n",
       "      <td>-0.113002</td>\n",
       "      <td>-0.061584</td>\n",
       "      <td>...</td>\n",
       "      <td>0.162722</td>\n",
       "      <td>0.010822</td>\n",
       "      <td>1.461330</td>\n",
       "      <td>1.461369</td>\n",
       "      <td>-0.098889</td>\n",
       "      <td>-0.087490</td>\n",
       "      <td>-0.084674</td>\n",
       "      <td>-0.140597</td>\n",
       "      <td>-1.760926</td>\n",
       "      <td>-1.760984</td>\n",
       "    </tr>\n",
       "    <tr>\n",
       "      <th>203766</th>\n",
       "      <td>158375402</td>\n",
       "      <td>0</td>\n",
       "      <td>49</td>\n",
       "      <td>-0.172014</td>\n",
       "      <td>-0.078182</td>\n",
       "      <td>1.018602</td>\n",
       "      <td>0.028105</td>\n",
       "      <td>-0.043875</td>\n",
       "      <td>0.054722</td>\n",
       "      <td>-0.061584</td>\n",
       "      <td>...</td>\n",
       "      <td>1.261246</td>\n",
       "      <td>1.985050</td>\n",
       "      <td>1.461330</td>\n",
       "      <td>1.461369</td>\n",
       "      <td>0.018279</td>\n",
       "      <td>-0.087490</td>\n",
       "      <td>-0.131155</td>\n",
       "      <td>-0.097524</td>\n",
       "      <td>-0.120613</td>\n",
       "      <td>-0.119792</td>\n",
       "    </tr>\n",
       "    <tr>\n",
       "      <th>203767</th>\n",
       "      <td>158654197</td>\n",
       "      <td>2</td>\n",
       "      <td>49</td>\n",
       "      <td>-0.172842</td>\n",
       "      <td>-0.176622</td>\n",
       "      <td>1.018602</td>\n",
       "      <td>-0.121970</td>\n",
       "      <td>-0.043875</td>\n",
       "      <td>-0.113002</td>\n",
       "      <td>-0.061584</td>\n",
       "      <td>...</td>\n",
       "      <td>-0.397749</td>\n",
       "      <td>-0.411776</td>\n",
       "      <td>1.461330</td>\n",
       "      <td>1.461369</td>\n",
       "      <td>-0.098889</td>\n",
       "      <td>-0.087490</td>\n",
       "      <td>-0.084674</td>\n",
       "      <td>-0.140597</td>\n",
       "      <td>1.519700</td>\n",
       "      <td>1.521399</td>\n",
       "    </tr>\n",
       "    <tr>\n",
       "      <th>203768</th>\n",
       "      <td>157597225</td>\n",
       "      <td>2</td>\n",
       "      <td>49</td>\n",
       "      <td>-0.012037</td>\n",
       "      <td>-0.132276</td>\n",
       "      <td>0.463609</td>\n",
       "      <td>-0.121970</td>\n",
       "      <td>-0.043875</td>\n",
       "      <td>-0.113002</td>\n",
       "      <td>-0.061584</td>\n",
       "      <td>...</td>\n",
       "      <td>-0.577099</td>\n",
       "      <td>-0.613614</td>\n",
       "      <td>0.241128</td>\n",
       "      <td>0.241406</td>\n",
       "      <td>-0.098889</td>\n",
       "      <td>-0.087490</td>\n",
       "      <td>-0.084674</td>\n",
       "      <td>-0.140597</td>\n",
       "      <td>1.519700</td>\n",
       "      <td>1.521399</td>\n",
       "    </tr>\n",
       "  </tbody>\n",
       "</table>\n",
       "<p>203769 rows × 168 columns</p>\n",
       "</div>"
      ],
      "text/plain": [
       "             node class  time step  local_feature_1  local_feature_2  \\\n",
       "0       230425980     2          1        -0.171469        -0.184668   \n",
       "1         5530458     2          1        -0.171484        -0.184668   \n",
       "2       232022460     2          1        -0.172107        -0.184668   \n",
       "3       232438397     1          1         0.163054         1.963790   \n",
       "4       230460314     2          1         1.011523        -0.081127   \n",
       "...           ...   ...        ...              ...              ...   \n",
       "203764  173077460     2         49        -0.145771        -0.163752   \n",
       "203765  158577750     2         49        -0.165920        -0.123607   \n",
       "203766  158375402     0         49        -0.172014        -0.078182   \n",
       "203767  158654197     2         49        -0.172842        -0.176622   \n",
       "203768  157597225     2         49        -0.012037        -0.132276   \n",
       "\n",
       "        local_feature_3  local_feature_4  local_feature_5  local_feature_6  \\\n",
       "0             -1.201369        -0.121970        -0.043875        -0.113002   \n",
       "1             -1.201369        -0.121970        -0.043875        -0.113002   \n",
       "2             -1.201369        -0.121970        -0.043875        -0.113002   \n",
       "3             -0.646376        12.409294        -0.063725         9.782742   \n",
       "4             -1.201369         1.153668         0.333276         1.312656   \n",
       "...                 ...              ...              ...              ...   \n",
       "203764         0.463609        -0.121970        -0.043875        -0.113002   \n",
       "203765         1.018602        -0.121970        -0.043875        -0.113002   \n",
       "203766         1.018602         0.028105        -0.043875         0.054722   \n",
       "203767         1.018602        -0.121970        -0.043875        -0.113002   \n",
       "203768         0.463609        -0.121970        -0.043875        -0.113002   \n",
       "\n",
       "        local_feature_7  ...  aggregate_feature_63  aggregate_feature_64  \\\n",
       "0             -0.061584  ...             -0.562153             -0.600999   \n",
       "1             -0.061584  ...              0.947382              0.673103   \n",
       "2             -0.061584  ...              0.670883              0.439728   \n",
       "3             12.414558  ...             -0.577099             -0.613614   \n",
       "4             -0.061584  ...             -0.511871             -0.400422   \n",
       "...                 ...  ...                   ...                   ...   \n",
       "203764        -0.061584  ...             -0.577099             -0.613614   \n",
       "203765        -0.061584  ...              0.162722              0.010822   \n",
       "203766        -0.061584  ...              1.261246              1.985050   \n",
       "203767        -0.061584  ...             -0.397749             -0.411776   \n",
       "203768        -0.061584  ...             -0.577099             -0.613614   \n",
       "\n",
       "        aggregate_feature_65  aggregate_feature_66  aggregate_feature_67  \\\n",
       "0                   1.461330              1.461369              0.018279   \n",
       "1                  -0.979074             -0.978556              0.018279   \n",
       "2                  -0.979074             -0.978556             -0.098889   \n",
       "3                   0.241128              0.241406              1.072793   \n",
       "4                   0.517257              0.579382              0.018279   \n",
       "...                      ...                   ...                   ...   \n",
       "203764              0.241128              0.241406              0.018279   \n",
       "203765              1.461330              1.461369             -0.098889   \n",
       "203766              1.461330              1.461369              0.018279   \n",
       "203767              1.461330              1.461369             -0.098889   \n",
       "203768              0.241128              0.241406             -0.098889   \n",
       "\n",
       "        aggregate_feature_68  aggregate_feature_69  aggregate_feature_70  \\\n",
       "0                  -0.087490             -0.131155             -0.097524   \n",
       "1                  -0.087490             -0.131155             -0.097524   \n",
       "2                  -0.106715             -0.131155             -0.183671   \n",
       "3                   0.085530             -0.131155              0.677799   \n",
       "4                   0.277775              0.326394              1.293750   \n",
       "...                      ...                   ...                   ...   \n",
       "203764             -0.087490             -0.131155             -0.097524   \n",
       "203765             -0.087490             -0.084674             -0.140597   \n",
       "203766             -0.087490             -0.131155             -0.097524   \n",
       "203767             -0.087490             -0.084674             -0.140597   \n",
       "203768             -0.087490             -0.084674             -0.140597   \n",
       "\n",
       "        aggregate_feature_71  aggregate_feature_72  \n",
       "0                  -0.120613             -0.119792  \n",
       "1                  -0.120613             -0.119792  \n",
       "2                  -0.120613             -0.119792  \n",
       "3                  -0.120613             -0.119792  \n",
       "4                   0.178136              0.179117  \n",
       "...                      ...                   ...  \n",
       "203764             -0.120613             -0.119792  \n",
       "203765             -1.760926             -1.760984  \n",
       "203766             -0.120613             -0.119792  \n",
       "203767              1.519700              1.521399  \n",
       "203768              1.519700              1.521399  \n",
       "\n",
       "[203769 rows x 168 columns]"
      ]
     },
     "execution_count": 230,
     "metadata": {},
     "output_type": "execute_result"
    }
   ],
   "source": [
    "df_class_feature"
   ]
  },
  {
   "cell_type": "code",
   "execution_count": 231,
   "metadata": {},
   "outputs": [
    {
     "data": {
      "text/html": [
       "<div>\n",
       "<style scoped>\n",
       "    .dataframe tbody tr th:only-of-type {\n",
       "        vertical-align: middle;\n",
       "    }\n",
       "\n",
       "    .dataframe tbody tr th {\n",
       "        vertical-align: top;\n",
       "    }\n",
       "\n",
       "    .dataframe thead th {\n",
       "        text-align: right;\n",
       "    }\n",
       "</style>\n",
       "<table border=\"1\" class=\"dataframe\">\n",
       "  <thead>\n",
       "    <tr style=\"text-align: right;\">\n",
       "      <th></th>\n",
       "      <th>node1</th>\n",
       "      <th>node2</th>\n",
       "    </tr>\n",
       "  </thead>\n",
       "  <tbody>\n",
       "    <tr>\n",
       "      <th>0</th>\n",
       "      <td>230425980</td>\n",
       "      <td>5530458</td>\n",
       "    </tr>\n",
       "    <tr>\n",
       "      <th>1</th>\n",
       "      <td>232022460</td>\n",
       "      <td>232438397</td>\n",
       "    </tr>\n",
       "    <tr>\n",
       "      <th>2</th>\n",
       "      <td>230460314</td>\n",
       "      <td>230459870</td>\n",
       "    </tr>\n",
       "    <tr>\n",
       "      <th>3</th>\n",
       "      <td>230333930</td>\n",
       "      <td>230595899</td>\n",
       "    </tr>\n",
       "    <tr>\n",
       "      <th>4</th>\n",
       "      <td>232013274</td>\n",
       "      <td>232029206</td>\n",
       "    </tr>\n",
       "    <tr>\n",
       "      <th>...</th>\n",
       "      <td>...</td>\n",
       "      <td>...</td>\n",
       "    </tr>\n",
       "    <tr>\n",
       "      <th>234350</th>\n",
       "      <td>158365409</td>\n",
       "      <td>157930723</td>\n",
       "    </tr>\n",
       "    <tr>\n",
       "      <th>234351</th>\n",
       "      <td>188708874</td>\n",
       "      <td>188708879</td>\n",
       "    </tr>\n",
       "    <tr>\n",
       "      <th>234352</th>\n",
       "      <td>157659064</td>\n",
       "      <td>157659046</td>\n",
       "    </tr>\n",
       "    <tr>\n",
       "      <th>234353</th>\n",
       "      <td>87414554</td>\n",
       "      <td>106877725</td>\n",
       "    </tr>\n",
       "    <tr>\n",
       "      <th>234354</th>\n",
       "      <td>158589452</td>\n",
       "      <td>158589457</td>\n",
       "    </tr>\n",
       "  </tbody>\n",
       "</table>\n",
       "<p>234355 rows × 2 columns</p>\n",
       "</div>"
      ],
      "text/plain": [
       "            node1      node2\n",
       "0       230425980    5530458\n",
       "1       232022460  232438397\n",
       "2       230460314  230459870\n",
       "3       230333930  230595899\n",
       "4       232013274  232029206\n",
       "...           ...        ...\n",
       "234350  158365409  157930723\n",
       "234351  188708874  188708879\n",
       "234352  157659064  157659046\n",
       "234353   87414554  106877725\n",
       "234354  158589452  158589457\n",
       "\n",
       "[234355 rows x 2 columns]"
      ]
     },
     "execution_count": 231,
     "metadata": {},
     "output_type": "execute_result"
    }
   ],
   "source": [
    "df_edges"
   ]
  },
  {
   "cell_type": "markdown",
   "metadata": {},
   "source": [
    "## Splits Management"
   ]
  },
  {
   "cell_type": "code",
   "execution_count": 232,
   "metadata": {},
   "outputs": [],
   "source": [
    "# Separate dataframe by time steps into a dictionary\n",
    "df_dict = {int(sale_v): df_class_feature[df_class_feature['time step'] == sale_v] for sale_v in df_class_feature['time step'].unique()}"
   ]
  },
  {
   "cell_type": "markdown",
   "metadata": {},
   "source": [
    "### Balanced split"
   ]
  },
  {
   "cell_type": "code",
   "execution_count": 233,
   "metadata": {},
   "outputs": [],
   "source": [
    "# Function to split the dataset for a given size\n",
    "def balanced_split(df_dict, TSIZE):\n",
    "    # Initialize variables\n",
    "    ilicit_count = []\n",
    "    length = 0\n",
    "    ts = 0    \n",
    "    train_df = pd.DataFrame()      \n",
    "    test_df = pd.DataFrame()    \n",
    "\n",
    "    # Count the amount of ilicit nodes of each time step\n",
    "    for key in df_dict.keys():\n",
    "        temp = df_dict[key].groupby('class').count()    \n",
    "        temp = temp['node'].reset_index()\n",
    "        ilicit_count.append([key, temp[temp['class'] == 0]['node'][0]])\n",
    "    ilicit_count.sort(key = lambda row: row[1], reverse=True)         \n",
    "\n",
    "    # Perform split\n",
    "    while length < (TSIZE):\n",
    "        if (ts % 2) == 0:            \n",
    "            test_df = pd.concat([test_df, df_dict[ilicit_count[ts][0]]], ignore_index=True)            \n",
    "            length+=df_dict[ilicit_count[ts][0]].shape[0]\n",
    "            ts+=1\n",
    "        \n",
    "        else:\n",
    "            train_df = pd.concat([train_df, df_dict[ilicit_count[ts][0]]], ignore_index=True)                  \n",
    "            ts+=1\n",
    "\n",
    "    while ts < 49:\n",
    "        train_df = pd.concat([train_df, df_dict[ilicit_count[ts][0]]], ignore_index=True)                \n",
    "        ts+=1\n",
    "    \n",
    "    return train_df, test_df"
   ]
  },
  {
   "cell_type": "code",
   "execution_count": 234,
   "metadata": {},
   "outputs": [],
   "source": [
    "TEST_SIZE = 0.2\n",
    "balanced_train, balanced_test = balanced_split(df_dict, df_class_feature.shape[0] * TEST_SIZE)"
   ]
  },
  {
   "cell_type": "markdown",
   "metadata": {},
   "source": [
    "#### Visualize"
   ]
  },
  {
   "cell_type": "code",
   "execution_count": 235,
   "metadata": {},
   "outputs": [
    {
     "data": {
      "text/plain": [
       "array([29, 20, 42, 22, 24, 16, 41, 38,  7, 17, 28, 30, 39, 19,  8, 49, 23,\n",
       "       18, 14, 37, 34, 48, 36,  4, 27, 43, 44, 33, 47,  2, 10,  1, 12,  3,\n",
       "        5,  6, 45, 46], dtype=int64)"
      ]
     },
     "execution_count": 235,
     "metadata": {},
     "output_type": "execute_result"
    }
   ],
   "source": [
    "balanced_train['time step'].unique()"
   ]
  },
  {
   "cell_type": "code",
   "execution_count": 236,
   "metadata": {},
   "outputs": [
    {
     "data": {
      "text/html": [
       "<div>\n",
       "<style scoped>\n",
       "    .dataframe tbody tr th:only-of-type {\n",
       "        vertical-align: middle;\n",
       "    }\n",
       "\n",
       "    .dataframe tbody tr th {\n",
       "        vertical-align: top;\n",
       "    }\n",
       "\n",
       "    .dataframe thead th {\n",
       "        text-align: right;\n",
       "    }\n",
       "</style>\n",
       "<table border=\"1\" class=\"dataframe\">\n",
       "  <thead>\n",
       "    <tr style=\"text-align: right;\">\n",
       "      <th></th>\n",
       "      <th>class</th>\n",
       "      <th>count</th>\n",
       "    </tr>\n",
       "  </thead>\n",
       "  <tbody>\n",
       "    <tr>\n",
       "      <th>0</th>\n",
       "      <td>0</td>\n",
       "      <td>2672</td>\n",
       "    </tr>\n",
       "    <tr>\n",
       "      <th>1</th>\n",
       "      <td>1</td>\n",
       "      <td>34654</td>\n",
       "    </tr>\n",
       "    <tr>\n",
       "      <th>2</th>\n",
       "      <td>2</td>\n",
       "      <td>123281</td>\n",
       "    </tr>\n",
       "  </tbody>\n",
       "</table>\n",
       "</div>"
      ],
      "text/plain": [
       "   class   count\n",
       "0      0    2672\n",
       "1      1   34654\n",
       "2      2  123281"
      ]
     },
     "execution_count": 236,
     "metadata": {},
     "output_type": "execute_result"
    }
   ],
   "source": [
    "temp = balanced_train.groupby('class').count()\n",
    "temp = temp['node'].reset_index().rename(columns={'node': 'count'})\n",
    "temp"
   ]
  },
  {
   "cell_type": "code",
   "execution_count": 237,
   "metadata": {},
   "outputs": [
    {
     "data": {
      "text/plain": [
       "array([32, 13,  9, 35, 15, 11, 25, 40, 31, 21, 26], dtype=int64)"
      ]
     },
     "execution_count": 237,
     "metadata": {},
     "output_type": "execute_result"
    }
   ],
   "source": [
    "balanced_test['time step'].unique()"
   ]
  },
  {
   "cell_type": "code",
   "execution_count": 238,
   "metadata": {},
   "outputs": [
    {
     "data": {
      "text/html": [
       "<div>\n",
       "<style scoped>\n",
       "    .dataframe tbody tr th:only-of-type {\n",
       "        vertical-align: middle;\n",
       "    }\n",
       "\n",
       "    .dataframe tbody tr th {\n",
       "        vertical-align: top;\n",
       "    }\n",
       "\n",
       "    .dataframe thead th {\n",
       "        text-align: right;\n",
       "    }\n",
       "</style>\n",
       "<table border=\"1\" class=\"dataframe\">\n",
       "  <thead>\n",
       "    <tr style=\"text-align: right;\">\n",
       "      <th></th>\n",
       "      <th>class</th>\n",
       "      <th>count</th>\n",
       "    </tr>\n",
       "  </thead>\n",
       "  <tbody>\n",
       "    <tr>\n",
       "      <th>0</th>\n",
       "      <td>0</td>\n",
       "      <td>1873</td>\n",
       "    </tr>\n",
       "    <tr>\n",
       "      <th>1</th>\n",
       "      <td>1</td>\n",
       "      <td>7365</td>\n",
       "    </tr>\n",
       "    <tr>\n",
       "      <th>2</th>\n",
       "      <td>2</td>\n",
       "      <td>33924</td>\n",
       "    </tr>\n",
       "  </tbody>\n",
       "</table>\n",
       "</div>"
      ],
      "text/plain": [
       "   class  count\n",
       "0      0   1873\n",
       "1      1   7365\n",
       "2      2  33924"
      ]
     },
     "execution_count": 238,
     "metadata": {},
     "output_type": "execute_result"
    }
   ],
   "source": [
    "temp = balanced_test.groupby('class').count()\n",
    "temp = temp['node'].reset_index().rename(columns={'node': 'count'})\n",
    "temp"
   ]
  },
  {
   "cell_type": "markdown",
   "metadata": {},
   "source": [
    "### Sequential split"
   ]
  },
  {
   "cell_type": "code",
   "execution_count": 239,
   "metadata": {},
   "outputs": [],
   "source": [
    "def sequential_split(df_dict, VSIZE, TSIZE):\n",
    "    # Initialize variables    \n",
    "    length = 0\n",
    "    ts = 49    \n",
    "    train_df = pd.DataFrame() \n",
    "    validation_df = pd.DataFrame()     \n",
    "    test_df = pd.DataFrame()     \n",
    "\n",
    "    # Perform split\n",
    "    while length < (TSIZE):\n",
    "        test_df = pd.concat([test_df, df_dict[ts]], ignore_index=True)            \n",
    "        length+=df_dict[ts].shape[0]\n",
    "        ts-=1    \n",
    "    \n",
    "    while length < (VSIZE + TSIZE):\n",
    "        validation_df = pd.concat([validation_df, df_dict[ts]], ignore_index=True)            \n",
    "        length+=df_dict[ts].shape[0]\n",
    "        ts-=1\n",
    "    \n",
    "    while ts != 0:\n",
    "        train_df = pd.concat([train_df, df_dict[ts]], ignore_index=True)        \n",
    "        ts-=1    \n",
    "    \n",
    "    return train_df[::-1].reset_index(drop=True), validation_df[::-1].reset_index(drop=True), test_df[::-1].reset_index(drop=True)"
   ]
  },
  {
   "cell_type": "code",
   "execution_count": 240,
   "metadata": {},
   "outputs": [],
   "source": [
    "VALIDATION_SIZE = 0.2\n",
    "TEST_SIZE = 0.2\n",
    "sequential_train, sequential_validation, sequential_test = sequential_split(df_dict, df_class_feature.shape[0] * VALIDATION_SIZE, df_class_feature.shape[0] * TEST_SIZE)"
   ]
  },
  {
   "cell_type": "markdown",
   "metadata": {},
   "source": [
    "#### Visualize"
   ]
  },
  {
   "cell_type": "code",
   "execution_count": 241,
   "metadata": {},
   "outputs": [
    {
     "data": {
      "text/plain": [
       "array([ 1,  2,  3,  4,  5,  6,  7,  8,  9, 10, 11, 12, 13, 14, 15, 16, 17,\n",
       "       18, 19, 20, 21, 22, 23, 24, 25, 26, 27, 28, 29], dtype=int64)"
      ]
     },
     "execution_count": 241,
     "metadata": {},
     "output_type": "execute_result"
    }
   ],
   "source": [
    "sequential_train['time step'].unique()"
   ]
  },
  {
   "cell_type": "code",
   "execution_count": 242,
   "metadata": {},
   "outputs": [
    {
     "data": {
      "text/html": [
       "<div>\n",
       "<style scoped>\n",
       "    .dataframe tbody tr th:only-of-type {\n",
       "        vertical-align: middle;\n",
       "    }\n",
       "\n",
       "    .dataframe tbody tr th {\n",
       "        vertical-align: top;\n",
       "    }\n",
       "\n",
       "    .dataframe thead th {\n",
       "        text-align: right;\n",
       "    }\n",
       "</style>\n",
       "<table border=\"1\" class=\"dataframe\">\n",
       "  <thead>\n",
       "    <tr style=\"text-align: right;\">\n",
       "      <th></th>\n",
       "      <th>class</th>\n",
       "      <th>count</th>\n",
       "    </tr>\n",
       "  </thead>\n",
       "  <tbody>\n",
       "    <tr>\n",
       "      <th>0</th>\n",
       "      <td>0</td>\n",
       "      <td>2871</td>\n",
       "    </tr>\n",
       "    <tr>\n",
       "      <th>1</th>\n",
       "      <td>1</td>\n",
       "      <td>23510</td>\n",
       "    </tr>\n",
       "    <tr>\n",
       "      <th>2</th>\n",
       "      <td>2</td>\n",
       "      <td>94423</td>\n",
       "    </tr>\n",
       "  </tbody>\n",
       "</table>\n",
       "</div>"
      ],
      "text/plain": [
       "   class  count\n",
       "0      0   2871\n",
       "1      1  23510\n",
       "2      2  94423"
      ]
     },
     "execution_count": 242,
     "metadata": {},
     "output_type": "execute_result"
    }
   ],
   "source": [
    "temp = sequential_train.groupby('class').count()\n",
    "temp = temp['node'].reset_index().rename(columns={'node': 'count'})\n",
    "temp"
   ]
  },
  {
   "cell_type": "code",
   "execution_count": 243,
   "metadata": {},
   "outputs": [
    {
     "data": {
      "text/plain": [
       "array([30, 31, 32, 33, 34, 35, 36, 37, 38, 39, 40], dtype=int64)"
      ]
     },
     "execution_count": 243,
     "metadata": {},
     "output_type": "execute_result"
    }
   ],
   "source": [
    "sequential_validation['time step'].unique()"
   ]
  },
  {
   "cell_type": "code",
   "execution_count": 244,
   "metadata": {},
   "outputs": [
    {
     "data": {
      "text/html": [
       "<div>\n",
       "<style scoped>\n",
       "    .dataframe tbody tr th:only-of-type {\n",
       "        vertical-align: middle;\n",
       "    }\n",
       "\n",
       "    .dataframe tbody tr th {\n",
       "        vertical-align: top;\n",
       "    }\n",
       "\n",
       "    .dataframe thead th {\n",
       "        text-align: right;\n",
       "    }\n",
       "</style>\n",
       "<table border=\"1\" class=\"dataframe\">\n",
       "  <thead>\n",
       "    <tr style=\"text-align: right;\">\n",
       "      <th></th>\n",
       "      <th>class</th>\n",
       "      <th>count</th>\n",
       "    </tr>\n",
       "  </thead>\n",
       "  <tbody>\n",
       "    <tr>\n",
       "      <th>0</th>\n",
       "      <td>0</td>\n",
       "      <td>1150</td>\n",
       "    </tr>\n",
       "    <tr>\n",
       "      <th>1</th>\n",
       "      <td>1</td>\n",
       "      <td>9060</td>\n",
       "    </tr>\n",
       "    <tr>\n",
       "      <th>2</th>\n",
       "      <td>2</td>\n",
       "      <td>30589</td>\n",
       "    </tr>\n",
       "  </tbody>\n",
       "</table>\n",
       "</div>"
      ],
      "text/plain": [
       "   class  count\n",
       "0      0   1150\n",
       "1      1   9060\n",
       "2      2  30589"
      ]
     },
     "execution_count": 244,
     "metadata": {},
     "output_type": "execute_result"
    }
   ],
   "source": [
    "temp = sequential_validation.groupby('class').count()\n",
    "temp = temp['node'].reset_index().rename(columns={'node': 'count'})\n",
    "temp"
   ]
  },
  {
   "cell_type": "code",
   "execution_count": 245,
   "metadata": {},
   "outputs": [
    {
     "data": {
      "text/plain": [
       "array([41, 42, 43, 44, 45, 46, 47, 48, 49], dtype=int64)"
      ]
     },
     "execution_count": 245,
     "metadata": {},
     "output_type": "execute_result"
    }
   ],
   "source": [
    "sequential_test['time step'].unique()"
   ]
  },
  {
   "cell_type": "code",
   "execution_count": 246,
   "metadata": {},
   "outputs": [
    {
     "data": {
      "text/html": [
       "<div>\n",
       "<style scoped>\n",
       "    .dataframe tbody tr th:only-of-type {\n",
       "        vertical-align: middle;\n",
       "    }\n",
       "\n",
       "    .dataframe tbody tr th {\n",
       "        vertical-align: top;\n",
       "    }\n",
       "\n",
       "    .dataframe thead th {\n",
       "        text-align: right;\n",
       "    }\n",
       "</style>\n",
       "<table border=\"1\" class=\"dataframe\">\n",
       "  <thead>\n",
       "    <tr style=\"text-align: right;\">\n",
       "      <th></th>\n",
       "      <th>class</th>\n",
       "      <th>count</th>\n",
       "    </tr>\n",
       "  </thead>\n",
       "  <tbody>\n",
       "    <tr>\n",
       "      <th>0</th>\n",
       "      <td>0</td>\n",
       "      <td>524</td>\n",
       "    </tr>\n",
       "    <tr>\n",
       "      <th>1</th>\n",
       "      <td>1</td>\n",
       "      <td>9449</td>\n",
       "    </tr>\n",
       "    <tr>\n",
       "      <th>2</th>\n",
       "      <td>2</td>\n",
       "      <td>32193</td>\n",
       "    </tr>\n",
       "  </tbody>\n",
       "</table>\n",
       "</div>"
      ],
      "text/plain": [
       "   class  count\n",
       "0      0    524\n",
       "1      1   9449\n",
       "2      2  32193"
      ]
     },
     "execution_count": 246,
     "metadata": {},
     "output_type": "execute_result"
    }
   ],
   "source": [
    "temp = sequential_test.groupby('class').count()\n",
    "temp = temp['node'].reset_index().rename(columns={'node': 'count'})\n",
    "temp"
   ]
  },
  {
   "cell_type": "markdown",
   "metadata": {},
   "source": [
    "## Save and Load"
   ]
  },
  {
   "cell_type": "code",
   "execution_count": 247,
   "metadata": {},
   "outputs": [],
   "source": [
    "# Save files\n",
    "path = 'C:/Users/User/Desktop/Assignatures/Synthesis project/GraphAnomaly/dades_arnau/'"
   ]
  },
  {
   "cell_type": "markdown",
   "metadata": {},
   "source": [
    "### Dataframes"
   ]
  },
  {
   "cell_type": "code",
   "execution_count": 248,
   "metadata": {},
   "outputs": [],
   "source": [
    "# Save the whole dataset\n",
    "with open(path + 'nodes.pkl', 'wb') as f:\n",
    "    pickle.dump(df_class_feature, f)\n",
    "with open(path + 'edges.pkl', 'wb') as f:\n",
    "    pickle.dump(df_edges, f)"
   ]
  },
  {
   "cell_type": "code",
   "execution_count": 249,
   "metadata": {},
   "outputs": [],
   "source": [
    "# Save the dictionary of timesteps\n",
    "with open(path + 'timesteps.pkl', 'wb') as f:\n",
    "    pickle.dump(df_dict, f)"
   ]
  },
  {
   "cell_type": "code",
   "execution_count": 251,
   "metadata": {},
   "outputs": [],
   "source": [
    "# Save the balanced split\n",
    "with open(path + 'balanced_train.pkl', 'wb') as f:\n",
    "    pickle.dump(balanced_train, f)\n",
    "with open(path + 'balanced_test.pkl', 'wb') as f:\n",
    "    pickle.dump(balanced_test, f)"
   ]
  },
  {
   "cell_type": "code",
   "execution_count": 252,
   "metadata": {},
   "outputs": [],
   "source": [
    "# Save the sequential split\n",
    "with open(path + 'sequential_train.pkl', 'wb') as f:\n",
    "    pickle.dump(sequential_train, f)\n",
    "with open(path + 'sequential_validation.pkl', 'wb') as f:\n",
    "    pickle.dump(sequential_validation, f)\n",
    "with open(path + 'sequential_test.pkl', 'wb') as f:\n",
    "    pickle.dump(sequential_test, f)"
   ]
  },
  {
   "cell_type": "markdown",
   "metadata": {},
   "source": [
    "### Graphs"
   ]
  },
  {
   "cell_type": "code",
   "execution_count": 253,
   "metadata": {},
   "outputs": [],
   "source": [
    "def create_graph(nodes, name='sample.graphml'):\n",
    "    # Initialize variables\n",
    "    G = nx.Graph()        \n",
    "\n",
    "    # Add nodes\n",
    "    for _, row in nodes.iterrows(): # Use any of the previous dataframes        \n",
    "        node_id = row['node']\n",
    "        node_attributes = row.drop('node').to_dict()        \n",
    "        G.add_node(node_id, **node_attributes)\n",
    "\n",
    "    # Add edges\n",
    "    for _, row in df_edges.iterrows():\n",
    "        if row['node1'] in nodes['node'].unique():\n",
    "            G.add_edge(row['node1'], row['node2'])\n",
    "\n",
    "    # Save the graph as a graphml file    \n",
    "    nx.write_graphml_lxml(G, path + name)   "
   ]
  }
 ],
 "metadata": {
  "kernelspec": {
   "display_name": "base",
   "language": "python",
   "name": "python3"
  },
  "language_info": {
   "codemirror_mode": {
    "name": "ipython",
    "version": 3
   },
   "file_extension": ".py",
   "mimetype": "text/x-python",
   "name": "python",
   "nbconvert_exporter": "python",
   "pygments_lexer": "ipython3",
   "version": "3.11.9"
  }
 },
 "nbformat": 4,
 "nbformat_minor": 2
}
