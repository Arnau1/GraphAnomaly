{
 "cells": [
  {
   "cell_type": "markdown",
   "metadata": {},
   "source": [
    "# Eploring data splits\n"
   ]
  },
  {
   "cell_type": "markdown",
   "metadata": {},
   "source": [
    "## Load different data splits"
   ]
  },
  {
   "cell_type": "code",
   "execution_count": 18,
   "metadata": {},
   "outputs": [],
   "source": [
    "# Set path\n",
    "path = 'C:/Users/User/Desktop/Assignatures/Synthesis project/GraphAnomaly/dades_arnau/'"
   ]
  },
  {
   "cell_type": "code",
   "execution_count": 19,
   "metadata": {},
   "outputs": [],
   "source": [
    "import pickle\n",
    "\n",
    "# Load datasets. Both train and test sets are on the same file, stored as a tuple\n",
    "with open(path + 'originals.pkl', 'rb') as f:\n",
    "    originals = pickle.load(f)\n",
    "with open(path + 'originalb.pkl', 'rb') as f:\n",
    "    originalb = pickle.load(f)"
   ]
  },
  {
   "cell_type": "markdown",
   "metadata": {},
   "source": [
    "## Testing"
   ]
  },
  {
   "cell_type": "code",
   "execution_count": 20,
   "metadata": {},
   "outputs": [],
   "source": [
    "from sklearn.metrics import *\n",
    "\n",
    "def metrics(name, y_test, y_pred, df_results):    \n",
    "    # Except for the accuracy, the others compute the metric for the ilicit class    \n",
    "    accuracy = round(accuracy_score(y_test, y_pred) * 100, 4)    \n",
    "    precision = round(precision_score(y_test, y_pred, pos_label=0) * 100, 4)    \n",
    "    recall = round(recall_score(y_test, y_pred, pos_label=0) * 100, 4)    \n",
    "    f1 = round(f1_score(y_test, y_pred, pos_label=0) * 100,4)\n",
    "\n",
    "    df_results.loc[len(df_results)] = [name, accuracy, precision, recall, f1] \n",
    "    return df_results   \n",
    "    "
   ]
  },
  {
   "cell_type": "code",
   "execution_count": 21,
   "metadata": {},
   "outputs": [],
   "source": [
    "from Helper import separate_labels\n",
    "\n",
    "def test_split(name, split, model, df_results):\n",
    "    # Split labels\n",
    "    X_train, y_train, X_test, y_test = separate_labels(split[0], split[1])\n",
    "    # Feed data into model\n",
    "    model.fit(X_train, y_train)\n",
    "    y_pred = model.predict(X_test)    \n",
    "    df_results = metrics(name, y_test, y_pred, df_results)\n",
    "    return df_results"
   ]
  },
  {
   "cell_type": "code",
   "execution_count": 22,
   "metadata": {},
   "outputs": [
    {
     "data": {
      "text/html": [
       "<div>\n",
       "<style scoped>\n",
       "    .dataframe tbody tr th:only-of-type {\n",
       "        vertical-align: middle;\n",
       "    }\n",
       "\n",
       "    .dataframe tbody tr th {\n",
       "        vertical-align: top;\n",
       "    }\n",
       "\n",
       "    .dataframe thead th {\n",
       "        text-align: right;\n",
       "    }\n",
       "</style>\n",
       "<table border=\"1\" class=\"dataframe\">\n",
       "  <thead>\n",
       "    <tr style=\"text-align: right;\">\n",
       "      <th></th>\n",
       "      <th>Split</th>\n",
       "      <th>Accuracy</th>\n",
       "      <th>Precision</th>\n",
       "      <th>Recall</th>\n",
       "      <th>F1 score</th>\n",
       "    </tr>\n",
       "  </thead>\n",
       "  <tbody>\n",
       "    <tr>\n",
       "      <th>0</th>\n",
       "      <td>Originals</td>\n",
       "      <td>97.9973</td>\n",
       "      <td>98.0583</td>\n",
       "      <td>67.2586</td>\n",
       "      <td>79.7893</td>\n",
       "    </tr>\n",
       "    <tr>\n",
       "      <th>1</th>\n",
       "      <td>Originalb</td>\n",
       "      <td>98.2626</td>\n",
       "      <td>99.3605</td>\n",
       "      <td>86.9720</td>\n",
       "      <td>92.7544</td>\n",
       "    </tr>\n",
       "  </tbody>\n",
       "</table>\n",
       "</div>"
      ],
      "text/plain": [
       "       Split  Accuracy  Precision   Recall  F1 score\n",
       "0  Originals   97.9973    98.0583  67.2586   79.7893\n",
       "1  Originalb   98.2626    99.3605  86.9720   92.7544"
      ]
     },
     "execution_count": 22,
     "metadata": {},
     "output_type": "execute_result"
    }
   ],
   "source": [
    "import pandas as pd\n",
    "from sklearn.ensemble import RandomForestClassifier\n",
    "\n",
    "df_results = pd.DataFrame(columns=[\"Split\", \"Accuracy\", \"Precision\", \"Recall\", \"F1 score\"])\n",
    "splits = [originals, originalb]\n",
    "names = ['Originals', 'Originalb']\n",
    "\n",
    "# We use random forest since it is the best performing ML method\n",
    "for name, split in zip(names, splits):\n",
    "    df_results = test_split(name, split, RandomForestClassifier(), df_results)\n",
    "\n",
    "df_results"
   ]
  },
  {
   "cell_type": "markdown",
   "metadata": {},
   "source": [
    "We can see that using the sequential, time-wise order, or not does have a high impact on the results"
   ]
  }
 ],
 "metadata": {
  "kernelspec": {
   "display_name": "base",
   "language": "python",
   "name": "python3"
  },
  "language_info": {
   "codemirror_mode": {
    "name": "ipython",
    "version": 3
   },
   "file_extension": ".py",
   "mimetype": "text/x-python",
   "name": "python",
   "nbconvert_exporter": "python",
   "pygments_lexer": "ipython3",
   "version": "3.11.9"
  }
 },
 "nbformat": 4,
 "nbformat_minor": 2
}
