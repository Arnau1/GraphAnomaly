{
 "cells": [
  {
   "cell_type": "markdown",
   "metadata": {},
   "source": [
    "# Graph Anomaly Detection\n"
   ]
  },
  {
   "cell_type": "markdown",
   "metadata": {},
   "source": [
    "### Processing and analyzing training data"
   ]
  },
  {
   "cell_type": "markdown",
   "metadata": {},
   "source": [
    "## Load data"
   ]
  },
  {
   "cell_type": "code",
   "execution_count": 40,
   "metadata": {},
   "outputs": [],
   "source": [
    "# Import packages\n",
    "import numpy as np\n",
    "import pandas as pd\n",
    "import matplotlib.pyplot as plt\n",
    "import seaborn as sns\n",
    "import networkx as nx\n",
    "import pickle as pkl\n",
    "import sys, os"
   ]
  },
  {
   "cell_type": "code",
   "execution_count": 43,
   "metadata": {},
   "outputs": [],
   "source": [
    "def get_twitter_graph(que_vols='nomes graf'):\n",
    "    path = \"./twitter.graphml\"\n",
    "    if os.path.exists(path):\n",
    "        return nx.read_graphml(path)\n",
    "    else:\n",
    "        # Create dataframe from file\n",
    "        df = pd.read_csv(\"Twitter_May_Aug_2014.txt\", header=None, sep=' ')\n",
    "        # Dataframe to networkX graph\n",
    "        graf = nx.Graph()\n",
    "        dups = 0\n",
    "        for i, r in df.iterrows():\n",
    "            if ((r[1], r[2]) in graf.edges) and (r[0] == graf.edges[r[1], r[2]]['time']):\n",
    "                dups += 1\n",
    "            else:\n",
    "                graf.add_edge(r[1], r[2], time=r[0])\n",
    "        # Save .graphml\n",
    "        nx.write_graphml(graf, path)\n",
    "        if que_vols == 'tot':\n",
    "            return df, graf, dups\n",
    "        elif que_vols == 'nomes graf':\n",
    "            return graf\n"
   ]
  },
  {
   "cell_type": "code",
   "execution_count": 44,
   "metadata": {},
   "outputs": [],
   "source": [
    "plt.histogram(df)"
   ]
  }
 ],
 "metadata": {
  "kernelspec": {
   "display_name": "graphanomaly",
   "language": "python",
   "name": "python3"
  },
  "language_info": {
   "codemirror_mode": {
    "name": "ipython",
    "version": 3
   },
   "file_extension": ".py",
   "mimetype": "text/x-python",
   "name": "python",
   "nbconvert_exporter": "python",
   "pygments_lexer": "ipython3",
   "version": "3.12.2"
  }
 },
 "nbformat": 4,
 "nbformat_minor": 2
}
