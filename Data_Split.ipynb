{
 "cells": [
  {
   "cell_type": "markdown",
   "id": "6d0195ef-52db-415d-8c27-1d73052baa49",
   "metadata": {
    "tags": []
   },
   "source": [
    "# Graph Anomaly Detection\n"
   ]
  },
  {
   "cell_type": "markdown",
   "id": "5f8d260f-cfe2-4bff-8371-f04ece167377",
   "metadata": {
    "jp-MarkdownHeadingCollapsed": true,
    "tags": []
   },
   "source": [
    "## Creating train and test sets"
   ]
  },
  {
   "cell_type": "code",
   "execution_count": 1,
   "id": "62935a85-ffc1-477d-9997-c6d4c0e34c90",
   "metadata": {
    "tags": []
   },
   "outputs": [],
   "source": [
    "# Import packages\n",
    "import numpy as np \n",
    "import pandas as pd\n",
    "import matplotlib.pyplot as plt\n",
    "import seaborn as sns\n",
    "import networkx as nx\n",
    "import pickle as pkl"
   ]
  },
  {
   "cell_type": "markdown",
   "id": "bb6611c5-9d2b-4804-be59-390630832b45",
   "metadata": {
    "jp-MarkdownHeadingCollapsed": true,
    "tags": []
   },
   "source": [
    "### Load data"
   ]
  },
  {
   "cell_type": "code",
   "execution_count": 21,
   "id": "41f0c835-44bb-4cde-8ad1-a8c0eec58f74",
   "metadata": {
    "tags": []
   },
   "outputs": [],
   "source": [
    "# Read files\n",
    "path = \"dades_arnau/\"\n",
    "df_classes = pd.read_csv(path + \"elliptic_txs_classes.csv\") # Nodes' labels\n",
    "df_edges = pd.read_csv(path + \"elliptic_txs_edgelist.csv\") # Edges\n",
    "df_features = pd.read_csv(path + \"elliptic_txs_features.csv\", header=None) # Nodes' features"
   ]
  },
  {
   "cell_type": "code",
   "execution_count": 22,
   "id": "ce855918-d964-42f4-b9f7-c32d9189f415",
   "metadata": {
    "tags": []
   },
   "outputs": [],
   "source": [
    "# Change column names of df_features\n",
    "colNames1 = {'0': 'txId', 1: \"Time Step\"}\n",
    "colNames2 = {str(ii+2): \"Local_feature_\" + str(ii+1) for ii in range(93)}\n",
    "colNames3 = {str(ii+95): \"Aggregate_feature_\" + str(ii+1) for ii in range(72)}\n",
    "\n",
    "colNames = dict(colNames1, **colNames2, **colNames3 )\n",
    "colNames = {int(jj): item_kk for jj,item_kk in colNames.items()}\n",
    "\n",
    "df_features = df_features.rename(columns=colNames)"
   ]
  },
  {
   "cell_type": "code",
   "execution_count": 23,
   "id": "664158be-741a-4a8f-baf1-1b7e9dd5dcf1",
   "metadata": {
    "tags": []
   },
   "outputs": [
    {
     "name": "stdout",
     "output_type": "stream",
     "text": [
      "Shape of classes (203769, 2)\n",
      "Shape of edges (234355, 2)\n",
      "Shape of features (203769, 167)\n"
     ]
    }
   ],
   "source": [
    "# Define classes\n",
    "df_classes.loc[df_classes['class'] == '1', 'class'] = 0 # 0 Ilicit\n",
    "df_classes.loc[df_classes['class'] == '2', 'class'] = 1 # 1 Licit\n",
    "df_classes.loc[df_classes['class'] == 'unknown', 'class'] = 2 # 2 Unknown\n",
    "print('Shape of classes', df_classes.shape)\n",
    "print('Shape of edges', df_edges.shape)\n",
    "print('Shape of features', df_features.shape)"
   ]
  },
  {
   "cell_type": "markdown",
   "id": "436f12c7-602b-4f8c-b02c-5440f50ad329",
   "metadata": {
    "jp-MarkdownHeadingCollapsed": true,
    "tags": []
   },
   "source": [
    "### Data visualization"
   ]
  },
  {
   "cell_type": "code",
   "execution_count": 26,
   "id": "f378e045",
   "metadata": {
    "tags": []
   },
   "outputs": [
    {
     "data": {
      "text/html": [
       "<div>\n",
       "<style scoped>\n",
       "    .dataframe tbody tr th:only-of-type {\n",
       "        vertical-align: middle;\n",
       "    }\n",
       "\n",
       "    .dataframe tbody tr th {\n",
       "        vertical-align: top;\n",
       "    }\n",
       "\n",
       "    .dataframe thead th {\n",
       "        text-align: right;\n",
       "    }\n",
       "</style>\n",
       "<table border=\"1\" class=\"dataframe\">\n",
       "  <thead>\n",
       "    <tr style=\"text-align: right;\">\n",
       "      <th></th>\n",
       "      <th>txId</th>\n",
       "      <th>class</th>\n",
       "      <th>Time Step</th>\n",
       "      <th>Local_feature_1</th>\n",
       "      <th>Local_feature_2</th>\n",
       "      <th>Local_feature_3</th>\n",
       "      <th>Local_feature_4</th>\n",
       "      <th>Local_feature_5</th>\n",
       "      <th>Local_feature_6</th>\n",
       "      <th>Local_feature_7</th>\n",
       "      <th>...</th>\n",
       "      <th>Aggregate_feature_63</th>\n",
       "      <th>Aggregate_feature_64</th>\n",
       "      <th>Aggregate_feature_65</th>\n",
       "      <th>Aggregate_feature_66</th>\n",
       "      <th>Aggregate_feature_67</th>\n",
       "      <th>Aggregate_feature_68</th>\n",
       "      <th>Aggregate_feature_69</th>\n",
       "      <th>Aggregate_feature_70</th>\n",
       "      <th>Aggregate_feature_71</th>\n",
       "      <th>Aggregate_feature_72</th>\n",
       "    </tr>\n",
       "  </thead>\n",
       "  <tbody>\n",
       "    <tr>\n",
       "      <th>0</th>\n",
       "      <td>230425980</td>\n",
       "      <td>2</td>\n",
       "      <td>1</td>\n",
       "      <td>-0.171469</td>\n",
       "      <td>-0.184668</td>\n",
       "      <td>-1.201369</td>\n",
       "      <td>-0.121970</td>\n",
       "      <td>-0.043875</td>\n",
       "      <td>-0.113002</td>\n",
       "      <td>-0.061584</td>\n",
       "      <td>...</td>\n",
       "      <td>-0.562153</td>\n",
       "      <td>-0.600999</td>\n",
       "      <td>1.461330</td>\n",
       "      <td>1.461369</td>\n",
       "      <td>0.018279</td>\n",
       "      <td>-0.087490</td>\n",
       "      <td>-0.131155</td>\n",
       "      <td>-0.097524</td>\n",
       "      <td>-0.120613</td>\n",
       "      <td>-0.119792</td>\n",
       "    </tr>\n",
       "    <tr>\n",
       "      <th>1</th>\n",
       "      <td>5530458</td>\n",
       "      <td>2</td>\n",
       "      <td>1</td>\n",
       "      <td>-0.171484</td>\n",
       "      <td>-0.184668</td>\n",
       "      <td>-1.201369</td>\n",
       "      <td>-0.121970</td>\n",
       "      <td>-0.043875</td>\n",
       "      <td>-0.113002</td>\n",
       "      <td>-0.061584</td>\n",
       "      <td>...</td>\n",
       "      <td>0.947382</td>\n",
       "      <td>0.673103</td>\n",
       "      <td>-0.979074</td>\n",
       "      <td>-0.978556</td>\n",
       "      <td>0.018279</td>\n",
       "      <td>-0.087490</td>\n",
       "      <td>-0.131155</td>\n",
       "      <td>-0.097524</td>\n",
       "      <td>-0.120613</td>\n",
       "      <td>-0.119792</td>\n",
       "    </tr>\n",
       "    <tr>\n",
       "      <th>2</th>\n",
       "      <td>232022460</td>\n",
       "      <td>2</td>\n",
       "      <td>1</td>\n",
       "      <td>-0.172107</td>\n",
       "      <td>-0.184668</td>\n",
       "      <td>-1.201369</td>\n",
       "      <td>-0.121970</td>\n",
       "      <td>-0.043875</td>\n",
       "      <td>-0.113002</td>\n",
       "      <td>-0.061584</td>\n",
       "      <td>...</td>\n",
       "      <td>0.670883</td>\n",
       "      <td>0.439728</td>\n",
       "      <td>-0.979074</td>\n",
       "      <td>-0.978556</td>\n",
       "      <td>-0.098889</td>\n",
       "      <td>-0.106715</td>\n",
       "      <td>-0.131155</td>\n",
       "      <td>-0.183671</td>\n",
       "      <td>-0.120613</td>\n",
       "      <td>-0.119792</td>\n",
       "    </tr>\n",
       "    <tr>\n",
       "      <th>3</th>\n",
       "      <td>232438397</td>\n",
       "      <td>1</td>\n",
       "      <td>1</td>\n",
       "      <td>0.163054</td>\n",
       "      <td>1.963790</td>\n",
       "      <td>-0.646376</td>\n",
       "      <td>12.409294</td>\n",
       "      <td>-0.063725</td>\n",
       "      <td>9.782742</td>\n",
       "      <td>12.414558</td>\n",
       "      <td>...</td>\n",
       "      <td>-0.577099</td>\n",
       "      <td>-0.613614</td>\n",
       "      <td>0.241128</td>\n",
       "      <td>0.241406</td>\n",
       "      <td>1.072793</td>\n",
       "      <td>0.085530</td>\n",
       "      <td>-0.131155</td>\n",
       "      <td>0.677799</td>\n",
       "      <td>-0.120613</td>\n",
       "      <td>-0.119792</td>\n",
       "    </tr>\n",
       "    <tr>\n",
       "      <th>4</th>\n",
       "      <td>230460314</td>\n",
       "      <td>2</td>\n",
       "      <td>1</td>\n",
       "      <td>1.011523</td>\n",
       "      <td>-0.081127</td>\n",
       "      <td>-1.201369</td>\n",
       "      <td>1.153668</td>\n",
       "      <td>0.333276</td>\n",
       "      <td>1.312656</td>\n",
       "      <td>-0.061584</td>\n",
       "      <td>...</td>\n",
       "      <td>-0.511871</td>\n",
       "      <td>-0.400422</td>\n",
       "      <td>0.517257</td>\n",
       "      <td>0.579382</td>\n",
       "      <td>0.018279</td>\n",
       "      <td>0.277775</td>\n",
       "      <td>0.326394</td>\n",
       "      <td>1.293750</td>\n",
       "      <td>0.178136</td>\n",
       "      <td>0.179117</td>\n",
       "    </tr>\n",
       "  </tbody>\n",
       "</table>\n",
       "<p>5 rows × 168 columns</p>\n",
       "</div>"
      ],
      "text/plain": [
       "        txId class  Time Step  Local_feature_1  Local_feature_2  \\\n",
       "0  230425980     2          1        -0.171469        -0.184668   \n",
       "1    5530458     2          1        -0.171484        -0.184668   \n",
       "2  232022460     2          1        -0.172107        -0.184668   \n",
       "3  232438397     1          1         0.163054         1.963790   \n",
       "4  230460314     2          1         1.011523        -0.081127   \n",
       "\n",
       "   Local_feature_3  Local_feature_4  Local_feature_5  Local_feature_6  \\\n",
       "0        -1.201369        -0.121970        -0.043875        -0.113002   \n",
       "1        -1.201369        -0.121970        -0.043875        -0.113002   \n",
       "2        -1.201369        -0.121970        -0.043875        -0.113002   \n",
       "3        -0.646376        12.409294        -0.063725         9.782742   \n",
       "4        -1.201369         1.153668         0.333276         1.312656   \n",
       "\n",
       "   Local_feature_7  ...  Aggregate_feature_63  Aggregate_feature_64  \\\n",
       "0        -0.061584  ...             -0.562153             -0.600999   \n",
       "1        -0.061584  ...              0.947382              0.673103   \n",
       "2        -0.061584  ...              0.670883              0.439728   \n",
       "3        12.414558  ...             -0.577099             -0.613614   \n",
       "4        -0.061584  ...             -0.511871             -0.400422   \n",
       "\n",
       "   Aggregate_feature_65  Aggregate_feature_66  Aggregate_feature_67  \\\n",
       "0              1.461330              1.461369              0.018279   \n",
       "1             -0.979074             -0.978556              0.018279   \n",
       "2             -0.979074             -0.978556             -0.098889   \n",
       "3              0.241128              0.241406              1.072793   \n",
       "4              0.517257              0.579382              0.018279   \n",
       "\n",
       "   Aggregate_feature_68  Aggregate_feature_69  Aggregate_feature_70  \\\n",
       "0             -0.087490             -0.131155             -0.097524   \n",
       "1             -0.087490             -0.131155             -0.097524   \n",
       "2             -0.106715             -0.131155             -0.183671   \n",
       "3              0.085530             -0.131155              0.677799   \n",
       "4              0.277775              0.326394              1.293750   \n",
       "\n",
       "   Aggregate_feature_71  Aggregate_feature_72  \n",
       "0             -0.120613             -0.119792  \n",
       "1             -0.120613             -0.119792  \n",
       "2             -0.120613             -0.119792  \n",
       "3             -0.120613             -0.119792  \n",
       "4              0.178136              0.179117  \n",
       "\n",
       "[5 rows x 168 columns]"
      ]
     },
     "execution_count": 26,
     "metadata": {},
     "output_type": "execute_result"
    }
   ],
   "source": [
    "# Merge Class and features\n",
    "df_class_feature = pd.merge(df_classes, df_features)\n",
    "df_class_feature.head()"
   ]
  },
  {
   "cell_type": "code",
   "execution_count": 27,
   "id": "25a5f7cd-7c72-4926-b60b-84f0fe530d77",
   "metadata": {
    "tags": []
   },
   "outputs": [
    {
     "data": {
      "image/png": "[encoded data removed]",
      "text/plain": [
       "<Figure size 640x480 with 1 Axes>"
      ]
     },
     "metadata": {},
     "output_type": "display_data"
    }
   ],
   "source": [
    "group_class_feature = df_class_feature.groupby(['Time Step', 'class']).count()\n",
    "group_class_feature = group_class_feature['txId'].reset_index().rename(columns={'txId': 'count'})#unstack()\n",
    "\n",
    "class1 = group_class_feature[group_class_feature['class'] == 0]\n",
    "class2 = group_class_feature[group_class_feature['class'] == 1]\n",
    "class3 = group_class_feature[group_class_feature['class'] == 2]\n",
    "\n",
    "p1 = plt.bar(class3['Time Step'], class3['count'], color = 'orange')\n",
    "\n",
    "p2 = plt.bar(class2['Time Step'], class2['count'], color='g',\n",
    "             bottom=class3['count'])\n",
    "\n",
    "p3 = plt.bar(class1['Time Step'], class1['count'], color='r',\n",
    "             bottom=np.array(class3['count'])+np.array(class2['count']))\n",
    "\n",
    "plt.title('Number and type of transactions by time step')\n",
    "plt.xlabel('Time step')\n",
    "plt.ylabel('Instances')\n",
    "plt.legend(['Unknown', 'Licit', 'Ilicit'])\n",
    "plt.show()"
   ]
  },
  {
   "cell_type": "markdown",
   "id": "c5add091",
   "metadata": {},
   "source": [
    "### Splitting data"
   ]
  },
  {
   "cell_type": "code",
   "execution_count": 69,
   "id": "56b986a8",
   "metadata": {},
   "outputs": [],
   "source": [
    "# Separate dataframes by time step into a dictionary\n",
    "df_dict = {sale_v: df_class_feature[df_class_feature['Time Step'] == sale_v] for sale_v in df_class_feature['Time Step'].unique()}"
   ]
  },
  {
   "cell_type": "code",
   "execution_count": 28,
   "id": "8d2e9106",
   "metadata": {},
   "outputs": [],
   "source": [
    "# Count the amount of illicit nodes of each time step\n",
    "ilicit_count = []\n",
    "\n",
    "for i in range(1,50):\n",
    "    temp = df_class_feature[df_class_feature['Time Step'] == i].groupby('class').count()\n",
    "    temp = temp['txId'].reset_index().rename(columns={'txId': 'count'})#unstack()\n",
    "    ilicit_count.append([i, temp[temp['class'] == 0]['count'][0]])\n",
    "\n",
    "ilicit_count.sort(key = lambda row: row[1], reverse=True)\n"
   ]
  },
  {
   "cell_type": "code",
   "execution_count": 29,
   "id": "3683cc20",
   "metadata": {},
   "outputs": [],
   "source": [
    "TEST_SIZE = 0.2\n",
    "test_length = 0\n",
    "i_group = 0\n",
    "assigned_train = []\n",
    "assigned_test = []\n",
    "test_df = pd.DataFrame()\n",
    "train_df = pd.DataFrame()\n",
    "\n",
    "while test_length < (df_class_feature.shape[0] * TEST_SIZE):\n",
    "    if len(assigned_test) == len(assigned_train):\n",
    "        assigned_test.append(ilicit_count[i_group][0])\n",
    "        test_df = pd.concat([test_df, df_class_feature[:][df_class_feature['Time Step'] == ilicit_count[i_group][0]]], ignore_index=True)\n",
    "        test_length+=df_class_feature[df_class_feature['Time Step'] == ilicit_count[i_group][0]].shape[0]\n",
    "        i_group+=1\n",
    "    \n",
    "    else:\n",
    "        train_df = pd.concat([train_df, df_class_feature[:][df_class_feature['Time Step'] == ilicit_count[i_group][0]]], ignore_index=True)\n",
    "        assigned_train.append(ilicit_count[i_group][0])        \n",
    "        i_group+=1\n",
    "\n",
    "while i_group < 49:\n",
    "    train_df = pd.concat([train_df, df_class_feature[:][df_class_feature['Time Step'] == ilicit_count[i_group][0]]], ignore_index=True)\n",
    "    assigned_train.append(ilicit_count[i_group][0])        \n",
    "    i_group+=1    "
   ]
  },
  {
   "cell_type": "code",
   "execution_count": 56,
   "id": "a164b2da",
   "metadata": {},
   "outputs": [],
   "source": [
    "# Split edges\n",
    "train_edges = df_edges.loc[(df_edges['txId1'].isin(train_df['txId']))]\n",
    "test_edges = df_edges.loc[(df_edges['txId1'].isin(test_df['txId']))]\n",
    "\n",
    "train_edges = train_edges.reset_index(drop=True)\n",
    "test_edges = test_edges.reset_index(drop=True)"
   ]
  },
  {
   "cell_type": "markdown",
   "id": "211feaca",
   "metadata": {},
   "source": [
    "### Visualizing split"
   ]
  },
  {
   "cell_type": "code",
   "execution_count": 35,
   "id": "6c7b6cc1",
   "metadata": {},
   "outputs": [
    {
     "data": {
      "text/plain": [
       "array([29, 20, 42, 22, 24, 16, 41, 38,  7, 17, 28, 30, 39, 19,  8, 49, 23,\n",
       "       18, 14, 37, 34, 48, 36,  4, 27, 43, 44, 33, 47,  2, 10,  1, 12,  3,\n",
       "        5,  6, 45, 46], dtype=int64)"
      ]
     },
     "execution_count": 35,
     "metadata": {},
     "output_type": "execute_result"
    }
   ],
   "source": [
    "train_df['Time Step'].unique()"
   ]
  },
  {
   "cell_type": "code",
   "execution_count": 37,
   "id": "bffb5d0b",
   "metadata": {},
   "outputs": [
    {
     "data": {
      "text/plain": [
       "array([32, 13,  9, 35, 15, 11, 25, 40, 31, 21, 26], dtype=int64)"
      ]
     },
     "execution_count": 37,
     "metadata": {},
     "output_type": "execute_result"
    }
   ],
   "source": [
    "test_df['Time Step'].unique()"
   ]
  },
  {
   "cell_type": "markdown",
   "id": "90f68722",
   "metadata": {},
   "source": [
    "We can see that both datasets contain a different set of subgraphs and that have an acceptable balance of licit and ilicit nodes"
   ]
  },
  {
   "cell_type": "code",
   "execution_count": 38,
   "id": "6a3110b7",
   "metadata": {},
   "outputs": [
    {
     "data": {
      "text/html": [
       "<div>\n",
       "<style scoped>\n",
       "    .dataframe tbody tr th:only-of-type {\n",
       "        vertical-align: middle;\n",
       "    }\n",
       "\n",
       "    .dataframe tbody tr th {\n",
       "        vertical-align: top;\n",
       "    }\n",
       "\n",
       "    .dataframe thead th {\n",
       "        text-align: right;\n",
       "    }\n",
       "</style>\n",
       "<table border=\"1\" class=\"dataframe\">\n",
       "  <thead>\n",
       "    <tr style=\"text-align: right;\">\n",
       "      <th></th>\n",
       "      <th>class</th>\n",
       "      <th>count</th>\n",
       "    </tr>\n",
       "  </thead>\n",
       "  <tbody>\n",
       "    <tr>\n",
       "      <th>0</th>\n",
       "      <td>0</td>\n",
       "      <td>2672</td>\n",
       "    </tr>\n",
       "    <tr>\n",
       "      <th>1</th>\n",
       "      <td>1</td>\n",
       "      <td>34654</td>\n",
       "    </tr>\n",
       "    <tr>\n",
       "      <th>2</th>\n",
       "      <td>2</td>\n",
       "      <td>123281</td>\n",
       "    </tr>\n",
       "  </tbody>\n",
       "</table>\n",
       "</div>"
      ],
      "text/plain": [
       "   class   count\n",
       "0      0    2672\n",
       "1      1   34654\n",
       "2      2  123281"
      ]
     },
     "execution_count": 38,
     "metadata": {},
     "output_type": "execute_result"
    }
   ],
   "source": [
    "temp = train_df.groupby('class').count()\n",
    "temp = temp['txId'].reset_index().rename(columns={'txId': 'count'})#unstack()\n",
    "temp.head()"
   ]
  },
  {
   "cell_type": "code",
   "execution_count": 39,
   "id": "d2aa3e06",
   "metadata": {},
   "outputs": [
    {
     "data": {
      "text/html": [
       "<div>\n",
       "<style scoped>\n",
       "    .dataframe tbody tr th:only-of-type {\n",
       "        vertical-align: middle;\n",
       "    }\n",
       "\n",
       "    .dataframe tbody tr th {\n",
       "        vertical-align: top;\n",
       "    }\n",
       "\n",
       "    .dataframe thead th {\n",
       "        text-align: right;\n",
       "    }\n",
       "</style>\n",
       "<table border=\"1\" class=\"dataframe\">\n",
       "  <thead>\n",
       "    <tr style=\"text-align: right;\">\n",
       "      <th></th>\n",
       "      <th>class</th>\n",
       "      <th>count</th>\n",
       "    </tr>\n",
       "  </thead>\n",
       "  <tbody>\n",
       "    <tr>\n",
       "      <th>0</th>\n",
       "      <td>0</td>\n",
       "      <td>1873</td>\n",
       "    </tr>\n",
       "    <tr>\n",
       "      <th>1</th>\n",
       "      <td>1</td>\n",
       "      <td>7365</td>\n",
       "    </tr>\n",
       "    <tr>\n",
       "      <th>2</th>\n",
       "      <td>2</td>\n",
       "      <td>33924</td>\n",
       "    </tr>\n",
       "  </tbody>\n",
       "</table>\n",
       "</div>"
      ],
      "text/plain": [
       "   class  count\n",
       "0      0   1873\n",
       "1      1   7365\n",
       "2      2  33924"
      ]
     },
     "execution_count": 39,
     "metadata": {},
     "output_type": "execute_result"
    }
   ],
   "source": [
    "temp = test_df.groupby('class').count()\n",
    "temp = temp['txId'].reset_index().rename(columns={'txId': 'count'})#unstack()\n",
    "temp.head()"
   ]
  },
  {
   "cell_type": "markdown",
   "id": "596a6931",
   "metadata": {},
   "source": [
    "### Saving results"
   ]
  },
  {
   "cell_type": "markdown",
   "id": "7f33a372",
   "metadata": {},
   "source": [
    "#### Saving and loading dataframes"
   ]
  },
  {
   "cell_type": "code",
   "execution_count": 59,
   "id": "361883be",
   "metadata": {},
   "outputs": [],
   "source": [
    "# Save files\n",
    "path = \"dades_arnau/\"\n",
    "train_df.to_csv(path + 'train_set.csv', index=False)\n",
    "test_df.to_csv(path + 'test_set.csv', index=False)\n",
    "train_edges.to_csv(path + 'train_edges.csv', index=False)\n",
    "test_edges.to_csv(path + 'test_edges.csv', index=False)"
   ]
  },
  {
   "cell_type": "code",
   "execution_count": 22,
   "id": "9a9b78bc",
   "metadata": {},
   "outputs": [],
   "source": [
    "# Read files\n",
    "path = \"\"\n",
    "train_df = pd.read_csv(path + \"train_set.csv\") \n",
    "test_df = pd.read_csv(path + \"test_set.csv\")\n",
    "train_edges = pd.read_csv(path + 'train_edges.csv')\n",
    "test_edges = pd.read_csv(path + 'test_edges.csv')"
   ]
  },
  {
   "cell_type": "markdown",
   "id": "0a478657-e8b8-4ea6-9aa4-3fa26b236017",
   "metadata": {
    "jp-MarkdownHeadingCollapsed": true,
    "tags": []
   },
   "source": [
    "#### Graph creation, saving and loading"
   ]
  },
  {
   "cell_type": "code",
   "execution_count": 67,
   "id": "70857eac",
   "metadata": {},
   "outputs": [],
   "source": [
    "def create_graph(nodes, edges, path=\"Sample.pkl\", format=\"pkl\"):\n",
    "    # Create an empty graph\n",
    "    G = nx.Graph()        \n",
    "\n",
    "    for _, row in nodes.iterrows():\n",
    "        # Extract node ID and attributes\n",
    "        node_id = row['txId']\n",
    "        node_attributes = row.drop('txId').to_dict()\n",
    "        # Add node to the graph with its attributes\n",
    "        G.add_node(node_id, **node_attributes)\n",
    "\n",
    "    # Add edges to the graph\n",
    "    for _, row in edges.iterrows():\n",
    "        if row['txId1'] in nodes['txId'].unique():\n",
    "            G.add_edge(row['txId1'], row['txId2'])\n",
    "\n",
    "    # Save the graph as a pickle file\n",
    "    if format == \"pkl\":\n",
    "        with open(path, \"wb\") as f:\n",
    "            pkl.dump(G, f)\n",
    "    elif format == \"graphml\":\n",
    "        nx.write_graphml_lxml(G, path)\n",
    "    else:\n",
    "        print(\"Unknown format\")"
   ]
  },
  {
   "cell_type": "code",
   "execution_count": 80,
   "id": "9babc6dc",
   "metadata": {},
   "outputs": [],
   "source": [
    "# Generating time step graphs. LONG RUN\n",
    "for key in df_dict.keys():\n",
    "    create_graph(df_dict[key], df_edges, \"dades_arnau/TimeSteps/\"+str(key)+\".graphml\", \"graphml\")"
   ]
  },
  {
   "cell_type": "code",
   "execution_count": 23,
   "id": "2e6a6b3a",
   "metadata": {},
   "outputs": [],
   "source": [
    "generate_graph = True\n",
    "\n",
    "if generate_graph:\n",
    "    # Create an empty graph\n",
    "    G_train = nx.Graph()\n",
    "    G_test = nx.Graph()    \n",
    "\n",
    "    for _, row in train_df.iterrows():\n",
    "        # Extract node ID and attributes\n",
    "        node_id = row['txId']\n",
    "        node_attributes = row.drop('txId').to_dict()\n",
    "        # Add node to the graph with its attributes\n",
    "        G_train.add_node(node_id, **node_attributes)\n",
    "    \n",
    "    for _, row in test_df.iterrows():\n",
    "        # Extract node ID and attributes\n",
    "        node_id = row['txId']\n",
    "        node_attributes = row.drop('txId').to_dict()\n",
    "        # Add node to the graph with its attributes\n",
    "        G_test.add_node(node_id, **node_attributes)\n",
    "\n",
    "    # Add edges to the graph\n",
    "    for _, row in df_edges.iterrows():\n",
    "        if row['txId1'] in train_df['txId'].unique():\n",
    "            G_train.add_edge(row['txId1'], row['txId2'])\n",
    "        else:\n",
    "            G_test.add_edge(row['txId1'], row['txId2'])\n",
    "    \n",
    "    # Save the graph as a pickle file\n",
    "    with open(\"TrainSet_Graph.pkl\", \"wb\") as f:\n",
    "        pkl.dump(G_train, f)\n",
    "    with open(\"TestSet_Graph.pkl\", \"wb\") as f:\n",
    "        pkl.dump(G_test, f)"
   ]
  },
  {
   "cell_type": "code",
   "execution_count": 24,
   "id": "e346e764-dc61-4e4a-ae3a-abea3321ebb2",
   "metadata": {
    "tags": []
   },
   "outputs": [],
   "source": [
    "# Specify the path to your pickle file\n",
    "pickle_train_path = \"TrainSet_Graph.pkl\"\n",
    "pickle_test_path = \"TestSet_Graph.pkl\"\n",
    "# Open the pickle file in binary mode\n",
    "with open(pickle_train_path, 'rb') as f:\n",
    "    # Load the data from the pickle file\n",
    "    G_train = pkl.load(f)\n",
    "with open(pickle_test_path, 'rb') as f:\n",
    "    # Load the data from the pickle file\n",
    "    G_test = pkl.load(f)"
   ]
  }
 ],
 "metadata": {
  "kernelspec": {
   "display_name": "Python 3 (ipykernel)",
   "language": "python",
   "name": "python3"
  },
  "language_info": {
   "codemirror_mode": {
    "name": "ipython",
    "version": 3
   },
   "file_extension": ".py",
   "mimetype": "text/x-python",
   "name": "python",
   "nbconvert_exporter": "python",
   "pygments_lexer": "ipython3",
   "version": "3.11.9"
  }
 },
 "nbformat": 4,
 "nbformat_minor": 5
}
